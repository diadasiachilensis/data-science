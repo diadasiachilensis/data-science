{
  "cells": [
    {
      "cell_type": "markdown",
      "metadata": {},
      "source": [
        "# Reduccion de dimensionalidad: caso de Estudio Penguins Palmer"
      ]
    },
    {
      "cell_type": "markdown",
      "metadata": {},
      "source": [
        "![penguin-palmer.png](penguin-palmer.png)"
      ]
    },
    {
      "cell_type": "markdown",
      "metadata": {},
      "source": [
        "\n",
        "### 🌟 **¿Qué es la reducción de dimensionalidad?**\n",
        "\n",
        "Es una técnica que nos permite **resumir muchas variables en pocas** sin perder demasiada información.\n",
        "Por ejemplo, si para estudiar un pingüino mides:\n",
        "\n",
        "* Longitud del pico\n",
        "* Profundidad del pico\n",
        "* Longitud de la aleta\n",
        "* Masa corporal\n",
        "* Altura\n",
        "\n",
        "… puede que todas estas medidas estén relacionadas entre sí. Entonces, en lugar de trabajar con 5 variables, puedes transformarlas y resumirlas en 2 nuevas variables (componentes principales) que explican casi toda la variación.\n",
        "\n",
        "✅ **Beneficios según el texto:**\n",
        "\n",
        "* Aumenta la eficiencia (menos columnas → menos cálculo).\n",
        "* Menos almacenamiento.\n",
        "* Elimina datos redundantes.\n",
        "* Mejora la visualización y reduce ruido.\n",
        "\n",
        "---\n",
        "\n",
        "### 🐧 **Ejemplo con pingüinos**\n",
        "\n",
        "En el dataset de Palmer Archipelago, cada pingüino tiene 7 variables numéricas.\n",
        "\n",
        "#### **Pregunta:** \n",
        "¿Necesitamos las 7 para distinguir sus especies?\n",
        "\n",
        "#### **Respuesta:** \n",
        "¡No! Usando PCA podemos proyectarlos en 2 dimensiones y, según el texto, esas dos nuevas variables explican un **92 % de la variabilidad total**.\n",
        "\n",
        "---\n",
        "\n",
        "### 🔎 **¿Qué es el PCA?**\n",
        "\n",
        "El **Análisis de Componentes Principales (PCA)**:\n",
        "\n",
        "* Busca **correlaciones** entre variables.\n",
        "* Calcula **nuevos ejes (componentes)** que capturan la máxima variabilidad de los datos.\n",
        "* Cada eje nuevo es una **combinación lineal de las variables originales** y no están correlacionados entre sí.\n",
        "\n",
        "---\n",
        "\n",
        "### 📌 **¿Qué pruebas estadísticas antes de PCA?**\n",
        "\n",
        "Según el texto, debes asegurarte de que:\n",
        "\n",
        "1. Los datos sean numéricos.\n",
        "2. No haya valores faltantes (o imputarlos).\n",
        "3. Estandarizar los datos (media 0 y varianza 1).\n",
        "\n",
        "También es buena práctica:\n",
        "\n",
        "* **Comprobar normalidad** de cada variable (ejemplo: Shapiro–Wilk o Kolmogórov-Smirnov).\n",
        "* **Verificar valores atípicos** y tratarlos (boxplots, scatterplots).\n",
        "\n",
        "---\n",
        "\n",
        "### 📈 **¿Qué es la covarianza?**\n",
        "\n",
        "Es una medida que nos dice cómo varían dos variables juntas:\n",
        "\n",
        "* Positiva → aumentan juntas.\n",
        "* Negativa → una sube mientras la otra baja.\n",
        "* Cero → no hay relación.\n",
        "\n",
        "👉 El PCA usa la **matriz de covarianza** para ver qué variables se mueven juntas y encontrar ejes nuevos.\n",
        "\n",
        "---\n",
        "\n",
        "### 🧭 **¿Qué son los autovalores y autovectores?**\n",
        "\n",
        "* **Autovectores:** indican la **dirección** de los nuevos ejes (componentes principales).\n",
        "* **Autovalores:** indican la **importancia** de cada eje (cuánta varianza explica cada uno).\n",
        "\n",
        "En PCA:\n",
        "\n",
        "1. Se calcula la matriz de covarianza.\n",
        "2. Se obtienen sus autovectores y autovalores.\n",
        "3. Se ordenan los autovalores de mayor a menor.\n",
        "4. Se eligen los primeros `k` autovectores como nuevas dimensiones.\n"
      ]
    },
    {
      "cell_type": "markdown",
      "metadata": {
        "id": "9Ju7_zzcQboG"
      },
      "source": [
        "\n",
        "# 📚 Cargar librerías y datos  \n",
        "# 🔄 Aplicar PCA (todas las componentes)  \n",
        "# 📊 Mostrar cargas (loadings) y coordenadas (scores)  \n",
        "# 📈 Scree plot + PVE acumulado  \n",
        "# 🐧 Scatter PC1 vs PC2 diferenciando especie y sexo  "
      ]
    },
    {
      "cell_type": "markdown",
      "metadata": {},
      "source": [
        "# 📦 Instalar librerías  "
      ]
    },
    {
      "cell_type": "code",
      "execution_count": 39,
      "metadata": {},
      "outputs": [],
      "source": [
        "import pandas as pd\n",
        "import numpy as np\n",
        "import matplotlib.pyplot as plt\n",
        "import seaborn as sns\n",
        "from sklearn.preprocessing import StandardScaler, LabelEncoder\n",
        "from sklearn.decomposition import PCA\n",
        "from kneed import KneeLocator\n",
        "import plotly.express as px\n"
      ]
    },
    {
      "cell_type": "markdown",
      "metadata": {},
      "source": [
        "# 📚 Cargar librerías y datos  "
      ]
    },
    {
      "cell_type": "markdown",
      "metadata": {},
      "source": [
        "Intentaremos utilizar la librería oficial **`palmerpenguins`** para cargar el conjunto de datos.\n",
        "En caso de que esta librería no se encuentre instalada en el entorno, realizaremos un respaldo cargando el dataset desde el CSV incluido en **Seaborn**.\n",
        "\n",
        "Para instalar la librería oficial, puedes ejecutar:\n",
        "\n",
        "```bash\n",
        "pip install palmerpenguins\n",
        "```\n",
        "\n",
        "De este modo aseguramos que, si la instalación está disponible, trabajaremos con la versión más completa y actualizada del dataset; y si no, tendremos un plan alternativo sin interrumpir el flujo de trabajo.\n",
        "\n"
      ]
    },
    {
      "cell_type": "code",
      "execution_count": 2,
      "metadata": {
        "id": "NRDIs1YOQXdr"
      },
      "outputs": [],
      "source": [
        "# Intentamos usar la librería *palmerpenguins* (oficial).\n",
        "# Si no está instalada, hacemos fallback al CSV que aloja Seaborn.\n",
        "try:\n",
        "    from palmerpenguins import load_penguins  # => pip install palmerpenguins\n",
        "    penguins = load_penguins()\n",
        "except ModuleNotFoundError:\n",
        "    import seaborn as sns                     # seaborn suele estar en Colab\n",
        "    penguins = sns.load_dataset(\"penguins\")"
      ]
    },
    {
      "cell_type": "markdown",
      "metadata": {},
      "source": [
        "# 📐 Normalizar variables numéricas  "
      ]
    },
    {
      "cell_type": "markdown",
      "metadata": {},
      "source": [
        "Requisitos previos antes de aplicar el PCA: \n",
        "- los datos deben ser valores numéricos;\n",
        "- cualquier valor que falte en los datos debe eliminarse o imputarse; y\n",
        "- los datos numéricos deben estar estandarizados para que las características sean comparables."
      ]
    },
    {
      "cell_type": "markdown",
      "metadata": {},
      "source": [
        "## 🚫 Manejo de datos nulos"
      ]
    },
    {
      "cell_type": "code",
      "execution_count": 3,
      "metadata": {},
      "outputs": [],
      "source": [
        "# Eliminamos filas con valores NA para evitar errores de PCA.\n",
        "penguins = penguins.dropna()"
      ]
    },
    {
      "cell_type": "markdown",
      "metadata": {},
      "source": [
        "## 🔎 Revisar filas del DataFrame"
      ]
    },
    {
      "cell_type": "markdown",
      "metadata": {},
      "source": [
        "### 🤯 Revisar primeras filas del DataFrame\n"
      ]
    },
    {
      "cell_type": "code",
      "execution_count": 4,
      "metadata": {
        "colab": {
          "base_uri": "https://localhost:8080/",
          "height": 206
        },
        "id": "-f1NFqHzR2AH",
        "outputId": "3493fd85-9eff-4529-dcf3-3134cf6304cb"
      },
      "outputs": [
        {
          "data": {
            "text/html": [
              "<div>\n",
              "<style scoped>\n",
              "    .dataframe tbody tr th:only-of-type {\n",
              "        vertical-align: middle;\n",
              "    }\n",
              "\n",
              "    .dataframe tbody tr th {\n",
              "        vertical-align: top;\n",
              "    }\n",
              "\n",
              "    .dataframe thead th {\n",
              "        text-align: right;\n",
              "    }\n",
              "</style>\n",
              "<table border=\"1\" class=\"dataframe\">\n",
              "  <thead>\n",
              "    <tr style=\"text-align: right;\">\n",
              "      <th></th>\n",
              "      <th>species</th>\n",
              "      <th>island</th>\n",
              "      <th>bill_length_mm</th>\n",
              "      <th>bill_depth_mm</th>\n",
              "      <th>flipper_length_mm</th>\n",
              "      <th>body_mass_g</th>\n",
              "      <th>sex</th>\n",
              "    </tr>\n",
              "  </thead>\n",
              "  <tbody>\n",
              "    <tr>\n",
              "      <th>0</th>\n",
              "      <td>Adelie</td>\n",
              "      <td>Torgersen</td>\n",
              "      <td>39.1</td>\n",
              "      <td>18.7</td>\n",
              "      <td>181.0</td>\n",
              "      <td>3750.0</td>\n",
              "      <td>Male</td>\n",
              "    </tr>\n",
              "    <tr>\n",
              "      <th>1</th>\n",
              "      <td>Adelie</td>\n",
              "      <td>Torgersen</td>\n",
              "      <td>39.5</td>\n",
              "      <td>17.4</td>\n",
              "      <td>186.0</td>\n",
              "      <td>3800.0</td>\n",
              "      <td>Female</td>\n",
              "    </tr>\n",
              "    <tr>\n",
              "      <th>2</th>\n",
              "      <td>Adelie</td>\n",
              "      <td>Torgersen</td>\n",
              "      <td>40.3</td>\n",
              "      <td>18.0</td>\n",
              "      <td>195.0</td>\n",
              "      <td>3250.0</td>\n",
              "      <td>Female</td>\n",
              "    </tr>\n",
              "    <tr>\n",
              "      <th>4</th>\n",
              "      <td>Adelie</td>\n",
              "      <td>Torgersen</td>\n",
              "      <td>36.7</td>\n",
              "      <td>19.3</td>\n",
              "      <td>193.0</td>\n",
              "      <td>3450.0</td>\n",
              "      <td>Female</td>\n",
              "    </tr>\n",
              "    <tr>\n",
              "      <th>5</th>\n",
              "      <td>Adelie</td>\n",
              "      <td>Torgersen</td>\n",
              "      <td>39.3</td>\n",
              "      <td>20.6</td>\n",
              "      <td>190.0</td>\n",
              "      <td>3650.0</td>\n",
              "      <td>Male</td>\n",
              "    </tr>\n",
              "  </tbody>\n",
              "</table>\n",
              "</div>"
            ],
            "text/plain": [
              "  species     island  bill_length_mm  bill_depth_mm  flipper_length_mm  \\\n",
              "0  Adelie  Torgersen            39.1           18.7              181.0   \n",
              "1  Adelie  Torgersen            39.5           17.4              186.0   \n",
              "2  Adelie  Torgersen            40.3           18.0              195.0   \n",
              "4  Adelie  Torgersen            36.7           19.3              193.0   \n",
              "5  Adelie  Torgersen            39.3           20.6              190.0   \n",
              "\n",
              "   body_mass_g     sex  \n",
              "0       3750.0    Male  \n",
              "1       3800.0  Female  \n",
              "2       3250.0  Female  \n",
              "4       3450.0  Female  \n",
              "5       3650.0    Male  "
            ]
          },
          "execution_count": 4,
          "metadata": {},
          "output_type": "execute_result"
        }
      ],
      "source": [
        "penguins.head()"
      ]
    },
    {
      "cell_type": "markdown",
      "metadata": {},
      "source": [
        "### 📋 Revisar tipos de datos del DataFrame\n"
      ]
    },
    {
      "cell_type": "code",
      "execution_count": 5,
      "metadata": {},
      "outputs": [
        {
          "name": "stdout",
          "output_type": "stream",
          "text": [
            "<class 'pandas.core.frame.DataFrame'>\n",
            "Index: 333 entries, 0 to 343\n",
            "Data columns (total 7 columns):\n",
            " #   Column             Non-Null Count  Dtype  \n",
            "---  ------             --------------  -----  \n",
            " 0   species            333 non-null    object \n",
            " 1   island             333 non-null    object \n",
            " 2   bill_length_mm     333 non-null    float64\n",
            " 3   bill_depth_mm      333 non-null    float64\n",
            " 4   flipper_length_mm  333 non-null    float64\n",
            " 5   body_mass_g        333 non-null    float64\n",
            " 6   sex                333 non-null    object \n",
            "dtypes: float64(4), object(3)\n",
            "memory usage: 20.8+ KB\n"
          ]
        }
      ],
      "source": [
        "penguins.info()"
      ]
    },
    {
      "cell_type": "markdown",
      "metadata": {},
      "source": [
        "## 🔢 Transformar datos categóricos a numéricos"
      ]
    },
    {
      "cell_type": "markdown",
      "metadata": {},
      "source": [
        "Al inspeccionar el DataFrame observamos que contiene 7 columnas:\n",
        "\n",
        "* **Variables numéricas:**\n",
        "  `bill_length_mm`, `bill_depth_mm`, `flipper_length_mm`, `body_mass_g`\n",
        "* **Variables categóricas (tipo `object`):**\n",
        "  `species`, `island`, `sex`\n",
        "\n",
        "El método **PCA** únicamente acepta valores numéricos, por lo que debemos transformar las variables categóricas relevantes en valores numéricos antes de aplicarlo.\n",
        "En este caso, decidimos incluir también la información de especie y sexo, manteniendo un total de **6 variables** (4 numéricas originales + 2 columnas codificadas):\n",
        "\n",
        "* `species_num`:\n",
        "\n",
        "  * 0 = Adelie\n",
        "  * 1 = Chinstrap\n",
        "  * 2 = Gentoo\n",
        "\n",
        "* `sex_num`:\n",
        "\n",
        "  * 0 = Female\n",
        "  * 1 = Male\n",
        "\n",
        "Usamos **`LabelEncoder`** para estas transformaciones, ya que convierte cada variable categórica en **una sola columna numérica**, evitando el aumento de dimensiones que produciría un *one-hot encoding*.\n",
        "La columna `island` se mantiene fuera de este análisis porque no la consideraremos como predictor en el PCA.\n"
      ]
    },
    {
      "cell_type": "code",
      "execution_count": 7,
      "metadata": {
        "colab": {
          "base_uri": "https://localhost:8080/"
        },
        "id": "0HoMTrkxS8qv",
        "outputId": "45af429b-4770-4b49-8744-84256c0ba54d"
      },
      "outputs": [
        {
          "name": "stdout",
          "output_type": "stream",
          "text": [
            "\n",
            "=== Preview con variables codificadas ===\n",
            "  species  species_num     sex  sex_num     island  island_num\n",
            "0  Adelie            0    Male        1  Torgersen           2\n",
            "1  Adelie            0  Female        0  Torgersen           2\n",
            "2  Adelie            0  Female        0  Torgersen           2\n",
            "4  Adelie            0  Female        0  Torgersen           2\n",
            "5  Adelie            0    Male        1  Torgersen           2\n"
          ]
        }
      ],
      "source": [
        "# --- Codificar species ---\n",
        "le_species = LabelEncoder()\n",
        "penguins[\"species_num\"] = le_species.fit_transform(penguins[\"species\"])\n",
        "# --- Codificar sex (con cuidado: algunos registros pueden usar minúsculas) ---\n",
        "le_sex = LabelEncoder()\n",
        "penguins[\"sex_num\"] = le_sex.fit_transform(penguins[\"sex\"].str.title())\n",
        "# --- Codificar Island ---\n",
        "le_island = LabelEncoder()\n",
        "penguins[\"island_num\"] = le_island.fit_transform(penguins[\"island\"].str.title())\n",
        "\n",
        "# Verificamos resultado\n",
        "print(\"\\n=== Preview con variables codificadas ===\")\n",
        "print(penguins[[\"species\", \"species_num\", \"sex\", \"sex_num\", \"island\", \"island_num\"]].head())"
      ]
    },
    {
      "cell_type": "markdown",
      "metadata": {},
      "source": [
        "## 📏 Normalizar datos (escalado Z‑score)"
      ]
    },
    {
      "cell_type": "markdown",
      "metadata": {},
      "source": [
        "### 🔹 1. Definir las columnas numéricas que se usarán en el PCA"
      ]
    },
    {
      "cell_type": "code",
      "execution_count": null,
      "metadata": {},
      "outputs": [],
      "source": [
        "\n",
        "numeric_cols = [\n",
        "    \"bill_length_mm\",\n",
        "    \"bill_depth_mm\",\n",
        "    \"flipper_length_mm\",\n",
        "    \"body_mass_g\",\n",
        "    \"species_num\",\n",
        "    \"sex_num\",\n",
        "    \"island_num\"\n",
        "]"
      ]
    },
    {
      "cell_type": "markdown",
      "metadata": {},
      "source": [
        "Aquí se seleccionan las **columnas numéricas** del dataset que serán usadas como entrada para el PCA.\n",
        "Incluye tanto variables cuantitativas originales (longitudes y masa), como las **variables categóricas que fueron transformadas a números** (`species_num`, `sex_num`, `island_num`).\n",
        "\n",
        "✅ Esto es importante porque el PCA solo trabaja con datos **numéricos y continuos**."
      ]
    },
    {
      "cell_type": "markdown",
      "metadata": {},
      "source": [
        "### 🔹 2. Crear el objeto StandardScaler"
      ]
    },
    {
      "cell_type": "code",
      "execution_count": null,
      "metadata": {},
      "outputs": [],
      "source": [
        "\n",
        "scaler = StandardScaler()"
      ]
    },
    {
      "cell_type": "markdown",
      "metadata": {},
      "source": [
        "Se crea un objeto del tipo `StandardScaler`, que pertenece a `sklearn.preprocessing`.\n",
        "Este objeto servirá para **normalizar cada columna individualmente**, aplicando la fórmula del **Z‑score**:\n",
        "\n",
        "$$\n",
        "Z = \\frac{X - \\mu}{\\sigma}\n",
        "$$\n",
        "\n",
        "Esto transforma cada columna para que tenga:\n",
        "\n",
        "* **Media = 0**\n",
        "* **Desviación estándar = 1**\n",
        "\n",
        "⚠️ Esto es fundamental en PCA porque:\n",
        "\n",
        "* PCA calcula la **varianza** y las **covarianzas** entre variables.\n",
        "* Si las variables tienen escalas distintas (por ejemplo, gramos vs. milímetros), las de mayor escala **dominarán** la rotación de los ejes principales y sesgarán los resultados."
      ]
    },
    {
      "cell_type": "markdown",
      "metadata": {},
      "source": [
        "###  🔹 3. Ajustar y transformar los datos"
      ]
    },
    {
      "cell_type": "code",
      "execution_count": 10,
      "metadata": {},
      "outputs": [],
      "source": [
        "X_scaled = scaler.fit_transform(penguins[numeric_cols])"
      ]
    },
    {
      "cell_type": "markdown",
      "metadata": {},
      "source": [
        "Este paso tiene dos acciones:\n",
        "\n",
        "* `.fit(...)`: calcula la **media** y la **desviación estándar** de cada columna.\n",
        "* `.transform(...)`: aplica la transformación Z‑score a cada valor de cada columna.\n",
        "\n",
        "📌 **Resultado**:\n",
        "\n",
        "* `X_scaled` es un **nuevo arreglo NumPy**, donde todos los valores han sido estandarizados.\n",
        "* Este array se utilizará como **entrada directa del PCA** en el siguiente paso."
      ]
    },
    {
      "cell_type": "markdown",
      "metadata": {},
      "source": [
        "### 🎯 **Objetivo de este bloque: Aplicar el Análisis de Componentes Principales (PCA)**\n",
        "\n",
        "###  🔹 4. Crear el modelo PCA"
      ]
    },
    {
      "cell_type": "code",
      "execution_count": 12,
      "metadata": {},
      "outputs": [],
      "source": [
        "pca = PCA()"
      ]
    },
    {
      "cell_type": "markdown",
      "metadata": {},
      "source": [
        "Aquí estás creando un objeto del tipo `PCA()` desde la librería `sklearn.decomposition`.\n",
        "\n",
        "* **No estás especificando `n_components`**, lo cual significa que el modelo calculará **todos los componentes principales posibles**, es decir:\n",
        "\n",
        "$$\n",
        "n_{\\text{componentes}} = \\min(n_{\\text{muestras}}, n_{\\text{variables}})\n",
        "$$\n",
        "\n",
        "✅ Esto es útil cuando quieres analizar **toda la estructura del espacio de varianza** antes de decidir con cuántas dimensiones quedarte."
      ]
    },
    {
      "cell_type": "markdown",
      "metadata": {},
      "source": [
        "### 🔹 5. Ajustar el modelo y transformar los datos"
      ]
    },
    {
      "cell_type": "code",
      "execution_count": 14,
      "metadata": {},
      "outputs": [],
      "source": [
        "X_pca = pca.fit_transform(X_scaled)"
      ]
    },
    {
      "cell_type": "markdown",
      "metadata": {},
      "source": [
        "Este paso realiza dos cosas:\n",
        "\n",
        "1. **`fit(X_scaled)`**:\n",
        "   Calcula los **autovectores y autovalores** de la **matriz de covarianza** de los datos normalizados.\n",
        "\n",
        "   * Los **autovectores** determinan las **direcciones** (componentes principales).\n",
        "   * Los **autovalores** determinan cuánta **varianza** explica cada componente.\n",
        "\n",
        "2. **`transform(X_scaled)`**:\n",
        "   Proyecta cada punto del conjunto de datos original en el nuevo espacio definido por los componentes principales.\n",
        "\n",
        "📌 El resultado es `X_pca`, una **nueva matriz de características**, donde:\n",
        "\n",
        "* Cada fila representa un pingüino.\n",
        "* Cada columna representa un componente principal (PC1, PC2, PC3, etc.).\n",
        "* Estas nuevas variables **no están correlacionadas entre sí** (son ortogonales) y capturan la **mayor variabilidad posible** de los datos."
      ]
    },
    {
      "cell_type": "markdown",
      "metadata": {},
      "source": [
        "### ✅ **¿Por qué se hace esto?**\n",
        "\n",
        "Este paso es el corazón del PCA:\n",
        "\n",
        "* Has transformado un conjunto de datos multivariable en un nuevo sistema de coordenadas rotado, donde **las primeras columnas (PC1, PC2...) explican la mayor parte de la información**.\n",
        "* Más adelante, puedes decidir cuántas de esas columnas conservar (por ejemplo, las 2 primeras si explican más del 80% de la varianza).\n"
      ]
    },
    {
      "cell_type": "markdown",
      "metadata": {},
      "source": [
        "### 🔹 6. Crear el DataFrame con las cargas"
      ]
    },
    {
      "cell_type": "code",
      "execution_count": 15,
      "metadata": {},
      "outputs": [],
      "source": [
        "loadings = pd.DataFrame(\n",
        "    pca.components_.T,\n",
        "    columns=[f\"PC{i+1}\" for i in range(len(numeric_cols))],\n",
        "    index=numeric_cols,\n",
        ")"
      ]
    },
    {
      "cell_type": "markdown",
      "metadata": {
        "id": "LKKGiP94RscX"
      },
      "source": [
        "Este bloque:\n",
        "\n",
        "* Construye un DataFrame llamado `loadings`.\n",
        "* Usa como datos la matriz transpuesta `pca.components_.T`.\n",
        "* Asigna como columnas `PC1`, `PC2`, ..., hasta tantas PCs como variables hayas usado.\n",
        "* Asigna como índices los nombres de las variables originales (`numeric_cols`).\n",
        "\n",
        "✅ Este formato es ideal para interpretar:\n",
        "\n",
        "* Qué variables están **fuertemente asociadas** a cada componente.\n",
        "* Qué componente podría estar interpretado como, por ejemplo, \"tamaño corporal\", \"forma del pico\", etc."
      ]
    },
    {
      "cell_type": "code",
      "execution_count": 17,
      "metadata": {
        "colab": {
          "base_uri": "https://localhost:8080/"
        },
        "id": "LMED9f8uVVOH",
        "outputId": "ee9517e4-08ac-4c82-8471-99a83574092f"
      },
      "outputs": [
        {
          "name": "stdout",
          "output_type": "stream",
          "text": [
            "\n",
            "=== Cargas (loadings) ===\n",
            "                     PC1    PC2    PC3    PC4    PC5    PC6    PC7\n",
            "bill_length_mm     0.361  0.287  0.607 -0.492 -0.091  0.129 -0.390\n",
            "bill_depth_mm     -0.340  0.514  0.016 -0.306  0.648  0.005  0.324\n",
            "flipper_length_mm  0.459  0.080  0.035  0.323  0.431 -0.674 -0.192\n",
            "body_mass_g        0.437  0.203 -0.218  0.373  0.289  0.699 -0.091\n",
            "species_num        0.466 -0.124  0.266 -0.041 -0.097 -0.002  0.828\n",
            "sex_num            0.099  0.742 -0.317  0.088 -0.535 -0.189  0.098\n",
            "island_num        -0.354  0.198  0.642  0.642 -0.079  0.060  0.045\n"
          ]
        }
      ],
      "source": [
        "print(\"\\n=== Cargas (loadings) ===\")\n",
        "print(loadings.round(3))"
      ]
    },
    {
      "cell_type": "markdown",
      "metadata": {},
      "source": [
        "* Si `flipper_length_mm` tiene una **carga alta en PC1**, quiere decir que **PC1 está fuertemente influido por esa variable**.\n",
        "* Si `bill_depth_mm` tiene carga alta en PC2, PC2 puede interpretarse como una **dimensión relacionada con la profundidad del pico**."
      ]
    },
    {
      "cell_type": "markdown",
      "metadata": {},
      "source": [
        "### 🔹 7. Contribución de las variables a los componentes principales\n",
        "\n",
        "Este código calcula la **tabla de contribuciones porcentuales** de cada variable original a cada componente principal (PC) del PCA, lo cual es muy útil para interpretar el **significado de cada componente**.\n",
        "\n",
        "Obtener una tabla que indique **cuánto aporta cada variable original a cada componente principal**, expresado en **porcentaje**.\n"
      ]
    },
    {
      "cell_type": "code",
      "execution_count": 18,
      "metadata": {},
      "outputs": [],
      "source": [
        "# %% ------------------------------------------------------------------\n",
        "# 4b) Tabla de contribuciones\n",
        "# ---------------------------------------------------------------------\n",
        "\n",
        "# Calculamos la contribución relativa de cada variable a cada componente\n",
        "# Fórmula:\n",
        "# contrib_ij = (loading_ij)^2 / suma_total(loadings_j^2) * 100\n",
        "# Esto nos dice qué porcentaje del componente PCj está \"explicado\" por la variable i"
      ]
    },
    {
      "cell_type": "markdown",
      "metadata": {},
      "source": [
        "\n",
        "Este comentario es **muy claro y correcto**. Resume:\n",
        "\n",
        "* Se usan los **loadings** (coeficientes de cada variable para cada PC).\n",
        "* Se elevan al cuadrado para convertirlos en **proporciones de varianza**.\n",
        "* Se normalizan dividiendo por la **suma total** de varianzas explicadas en cada componente.\n",
        "* Finalmente, se multiplican por 100 para obtener un porcentaje."
      ]
    },
    {
      "cell_type": "markdown",
      "metadata": {},
      "source": [
        "#### 🔹 Elevar al cuadrado los loadings"
      ]
    },
    {
      "cell_type": "markdown",
      "metadata": {},
      "source": [
        "Esto transforma cada valor de la matriz de cargas (`loadings`) en su cuadrado.\n",
        "¿Para qué?\n",
        "Porque cuando hablamos de **contribución**, nos interesa saber **cuánto varía una PC por una variable**, y eso se expresa como la **varianza explicada** → que se calcula como el **cuadrado del coeficiente**.\n"
      ]
    },
    {
      "cell_type": "code",
      "execution_count": 20,
      "metadata": {
        "colab": {
          "base_uri": "https://localhost:8080/"
        },
        "id": "cr0qESTRV46o",
        "outputId": "e662c1a9-a3ff-4222-e841-951f01715024"
      },
      "outputs": [],
      "source": [
        "loadings_sq = loadings ** 2  # Elevamos al cuadrado los loadings"
      ]
    },
    {
      "cell_type": "markdown",
      "metadata": {},
      "source": [
        "#### 🔹 Calcular la contribución porcentual"
      ]
    },
    {
      "cell_type": "code",
      "execution_count": 21,
      "metadata": {},
      "outputs": [],
      "source": [
        "contrib = loadings_sq.div(loadings_sq.sum(axis=0), axis=1) * 100"
      ]
    },
    {
      "cell_type": "markdown",
      "metadata": {},
      "source": [
        "Este paso:\n",
        "\n",
        "1. Suma los cuadrados de los loadings **por columna** (`axis=0` → suma por componente).\n",
        "2. Divide cada valor cuadrado por esa suma.\n",
        "3. Multiplica por 100 para expresarlo como porcentaje.\n",
        "\n",
        "🔍 Resultado:\n",
        "Un **DataFrame** con el mismo tamaño que `loadings`, donde cada celda indica el **porcentaje del componente PCj que está explicado por la variable i**."
      ]
    },
    {
      "cell_type": "markdown",
      "metadata": {},
      "source": [
        "#### 🔹 Mostrar la tabla resultante"
      ]
    },
    {
      "cell_type": "code",
      "execution_count": 22,
      "metadata": {},
      "outputs": [
        {
          "name": "stdout",
          "output_type": "stream",
          "text": [
            "\n",
            "Contribuciones (%):\n",
            "                         PC1        PC2        PC3        PC4        PC5  \\\n",
            "bill_length_mm     13.066284   8.261427  36.789423  24.178380   0.827327   \n",
            "bill_depth_mm      11.586810  26.462194   0.024258   9.363484  42.054912   \n",
            "flipper_length_mm  21.032775   0.635486   0.122505  10.447180  18.578431   \n",
            "body_mass_g        19.080674   4.135333   4.766226  13.912054   8.355212   \n",
            "species_num        21.722875   1.530054   7.071659   0.169315   0.938693   \n",
            "sex_num             0.983564  55.051191  10.031179   0.766021  28.623976   \n",
            "island_num         12.527018   3.924316  41.194749  41.163565   0.621451   \n",
            "\n",
            "                         PC6        PC7  \n",
            "bill_length_mm      1.659090  15.218068  \n",
            "bill_depth_mm       0.002970  10.505372  \n",
            "flipper_length_mm  45.479199   3.704424  \n",
            "body_mass_g        48.913801   0.836701  \n",
            "species_num         0.000337  68.567067  \n",
            "sex_num             3.582530   0.961539  \n",
            "island_num          0.362073   0.206828  \n"
          ]
        }
      ],
      "source": [
        "print(\"\\nContribuciones (%):\")\n",
        "print(contrib)"
      ]
    },
    {
      "cell_type": "markdown",
      "metadata": {},
      "source": [
        "✅ Así puedes ver claramente **qué variables dominan cada componente**, lo cual es clave para interpretar el análisis.\n",
        "\n",
        "### 📌 ¿Por qué es útil esta tabla?\n",
        "\n",
        "* Te permite **identificar rápidamente** qué variables influyen más en cada componente.\n",
        "* Facilita la **interpretación semántica** de los ejes (ej.: “PC1 representa tamaño general”, “PC2 representa forma del pico”, etc.).\n",
        "* Ayuda a decidir **qué componentes conservar** según su claridad interpretativa."
      ]
    },
    {
      "cell_type": "markdown",
      "metadata": {},
      "source": [
        "#### 🎯 ¿Qué representa esta tabla?\n",
        "\n",
        "Cada celda indica **cuánto (en porcentaje)** aporta una **variable original** a la **construcción del componente principal correspondiente**.\n",
        "\n",
        "* **Filas** = variables originales del dataset.\n",
        "* **Columnas** = componentes principales PC1, PC2, ..., PC7.\n",
        "* **Celdas** = porcentaje de participación de la variable en ese componente.\n",
        "\n",
        "💡 Por ejemplo:\n",
        "`sex_num` contribuye un **55.05%** a PC2 → eso nos dice que **PC2 está fuertemente influenciado por el sexo** del pingüino.\n",
        "\n",
        "---\n",
        "\n",
        "#### 🔎 **Interpretación por componente (ejemplos clave):**\n",
        "\n",
        "##### ✅ **PC1 (Componente Principal 1)**\n",
        "\n",
        "* flipper\\_length\\_mm (21.03%)\n",
        "* species\\_num (21.72%)\n",
        "* body\\_mass\\_g (19.08%)\n",
        "* island\\_num (12.53%)\n",
        "  → **PC1 parece estar relacionado con el tamaño físico general del pingüino**.\n",
        "\n",
        "##### ✅ **PC2 (Componente Principal 2)**\n",
        "\n",
        "* sex\\_num (55.05%)\n",
        "* bill\\_depth\\_mm (26.46%)\n",
        "  → **PC2 parece capturar diferencias asociadas al sexo y la profundidad del pico.**\n",
        "\n",
        "##### ✅ **PC3**\n",
        "\n",
        "* bill\\_length\\_mm (36.78%)\n",
        "* island\\_num (41.19%)\n",
        "  → **PC3 parece representar diferencias por isla o hábitat y forma del pico.**\n",
        "\n",
        "##### ✅ **PC4**\n",
        "\n",
        "* island\\_num (41.16%)\n",
        "* bill\\_length\\_mm (24.17%)\n",
        "  → **PC4 también recoge información geográfica (isla), pero con influencia de forma corporal.**\n",
        "\n",
        "##### ✅ **PC5**\n",
        "\n",
        "* bill\\_depth\\_mm (42.05%)\n",
        "* sex\\_num (28.62%)\n",
        "  → **PC5 también refleja diferencias morfológicas y de sexo.**\n",
        "\n",
        "##### ✅ **PC6 y PC7**\n",
        "\n",
        "* PC6: mayor influencia de `body_mass_g` (48.91%) y `flipper_length_mm` (45.47%)\n",
        "* PC7: fuertemente dominado por `species_num` (68.57%)\n",
        "  → Estos componentes explican **varianza más residual**, pero aún tienen variables dominantes.\n",
        "\n",
        "---\n",
        "\n",
        "#### 🧠 **¿Qué nos permite hacer esta tabla?**\n",
        "\n",
        "* **Interpretar el significado de cada componente** (PC1, PC2, etc.)\n",
        "* **Identificar las variables más importantes** para cada componente.\n",
        "* **Relacionar los componentes con atributos reales del pingüino** (como sexo, especie, tamaño o isla).\n",
        "* Decidir si **algunos componentes tienen sentido práctico o no** para conservar en un análisis reducido.\n",
        "\n",
        "---\n",
        "\n",
        "#### 📝 En resumen:\n",
        "\n",
        "Esta tabla nos dice **qué tanto cada variable original influye en la construcción de cada eje del PCA**, y nos permite **interpretar el contenido semántico de esos componentes**. Es una herramienta muy poderosa para **darle sentido biológico, ecológico o técnico** a los resultados del análisis."
      ]
    },
    {
      "cell_type": "code",
      "execution_count": 24,
      "metadata": {},
      "outputs": [
        {
          "name": "stderr",
          "output_type": "stream",
          "text": [
            "C:\\Users\\guill\\AppData\\Local\\Temp\\ipykernel_26032\\3883608124.py:15: UserWarning: Glyph 128269 (\\N{LEFT-POINTING MAGNIFYING GLASS}) missing from font(s) DejaVu Sans.\n",
            "  plt.tight_layout()\n",
            "c:\\Users\\guill\\Escritorio\\INFORMATICA\\data-science\\env\\Lib\\site-packages\\IPython\\core\\pylabtools.py:152: UserWarning: Glyph 128269 (\\N{LEFT-POINTING MAGNIFYING GLASS}) missing from font(s) DejaVu Sans.\n",
            "  fig.canvas.print_figure(bytes_io, **kw)\n"
          ]
        },
        {
          "data": {
            "image/png": "[encoded data removed]",
            "text/plain": [
              "<Figure size 1200x600 with 2 Axes>"
            ]
          },
          "metadata": {},
          "output_type": "display_data"
        }
      ],
      "source": [
        "# Estilo de gráfico\n",
        "plt.figure(figsize=(12, 6))\n",
        "sns.heatmap(\n",
        "    contrib,                      # la tabla de contribuciones\n",
        "    annot=True,                   # mostrar valores en las celdas\n",
        "    fmt=\".1f\",                    # formato de números: 1 decimal\n",
        "    cmap=\"YlGnBu\",                # paleta de colores\n",
        "    cbar_kws={\"label\": \"Contribución (%)\"}  # etiqueta del color bar\n",
        ")\n",
        "\n",
        "# Títulos y ajustes\n",
        "plt.title(\"🔍 Contribución de cada variable a los componentes principales\", fontsize=14, weight=\"bold\")\n",
        "plt.xlabel(\"Componentes Principales\")\n",
        "plt.ylabel(\"Variables Originales\")\n",
        "plt.tight_layout()\n",
        "plt.show()"
      ]
    },
    {
      "cell_type": "markdown",
      "metadata": {},
      "source": [
        "### 🔹 8. Coordenadas proyectadas de los individuos (Scores)"
      ]
    },
    {
      "cell_type": "markdown",
      "metadata": {},
      "source": [
        "En esta etapa estamos **proyectando cada observación (pingüino)** sobre el **nuevo sistema de ejes** definido por el PCA, es decir, calculando sus **puntajes** o **scores**.\n",
        "\n",
        "`X_pca = pca.transform(X_scaled)`\n",
        "\n",
        "Esta línea aplica la transformación PCA ya entrenada sobre los datos normalizados (`X_scaled`), y produce una **nueva matriz de datos** donde:\n",
        "\n",
        "* Cada **fila** representa un individuo (una muestra o pingüino).\n",
        "* Cada **columna** representa un **componente principal** (PC1, PC2, ..., PCn).\n",
        "* Cada valor representa la **coordenada** del individuo en ese nuevo eje.\n",
        "\n",
        "Matemáticamente se interpreta como:\n",
        "\n",
        "$$\n",
        "\\textbf{X}_{\\text{pca}} = \\textbf{X}_{\\text{estandarizado}} \\times \\textbf{W}\n",
        "$$\n",
        "\n",
        "donde `W` es la matriz de **vectores propios** (autovectores) o **componentes**.\n",
        "\n",
        "---\n",
        "\n",
        "### 🔎 ¿Para qué sirven los scores?\n",
        "\n",
        "Los **puntajes (scores)** permiten:\n",
        "\n",
        "* **Visualizar** a los individuos en un espacio 2D o 3D usando los ejes más importantes (PC1, PC2, PC3).\n",
        "* **Detectar agrupamientos** naturales (por ejemplo, si las especies de pingüinos se separan visualmente).\n",
        "* **Identificar outliers**.\n",
        "* **Reducir dimensiones** y usar las variables proyectadas como entrada para otros modelos (clustering, clasificación, etc.).\n",
        "\n",
        "---\n",
        "\n",
        "### ✅ ¿Qué hace el `print(pd.DataFrame(X_pca).head())`?\n",
        "\n",
        "Muestra las **primeras filas** del nuevo conjunto de datos proyectado.\n",
        "Verás algo así como:\n",
        "\n",
        "| PC1   | PC2  | PC3  | ... |\n",
        "| ----- | ---- | ---- | --- |\n",
        "| -2.31 | 1.22 | 0.78 | ... |\n",
        "| -1.87 | 0.96 | 0.62 | ... |\n",
        "| ...   | ...  | ...  | ... |\n",
        "\n",
        "Esto te permite **verificar** que el PCA ha generado correctamente las nuevas variables.\n"
      ]
    },
    {
      "cell_type": "markdown",
      "metadata": {},
      "source": [
        "**Qué hace este código:**\n",
        "\n",
        "* **Proyecta** las observaciones en el nuevo espacio (usa `X_pca` ya calculado).\n",
        "* **Diferencia especie** por **color** (automático de Matplotlib) y **sexo** por **marcador** (`o` para Female, `^` para Male).\n",
        "* **Muestra la importancia** de PC1 y PC2 en los ejes mediante el **% de varianza explicada**.\n",
        "* Añade **leyenda** clara y **rejilla** para facilitar la lectura.\n",
        "\n",
        "> **Requisitos previos**: haber ejecutado los pasos de **escalado Z-score** (`X_scaled`), **ajuste de PCA** (`pca.fit_transform` o `pca.fit` + `pca.transform`) y disponer del DataFrame `penguins` sincronizado con `X_pca` (mismo orden de filas).\n",
        "\n",
        "Si prefieres una versión **solo por especie** (sin separar por sexo), dímelo y te dejo un snippet más compacto. También puedo añadir **centróides por grupo** o **elipses de dispersión** si te interesa.\n"
      ]
    },
    {
      "cell_type": "code",
      "execution_count": 28,
      "metadata": {
        "colab": {
          "base_uri": "https://localhost:8080/"
        },
        "id": "W4DZ6CrAXgpe",
        "outputId": "b00735d2-ae6c-4d52-bf94-9113f28f568d"
      },
      "outputs": [
        {
          "name": "stdout",
          "output_type": "stream",
          "text": [
            "Primeras filas de los puntajes (X_pca):\n",
            "          0         1         2         3         4         5         6\n",
            "0 -2.544836  1.152278  0.166567  0.870016 -0.770427  0.381443  0.255793\n",
            "1 -2.300645 -0.609633  0.833096  0.999929  0.036200  0.568394 -0.257652\n",
            "2 -2.355434 -0.498396  1.098566  0.787226  0.300219 -0.323199 -0.277105\n",
            "3 -2.775681 -0.308595  0.649669  0.955688  0.799244 -0.134164  0.199128\n",
            "4 -2.619911  1.685854  0.253495  0.717794  0.094122 -0.129257  0.442300\n"
          ]
        }
      ],
      "source": [
        "# %% ------------------------------------------------------------------\n",
        "# 4c) PUNTAJES DE LOS INDIVIDUOS (también llamados \"scores\" o \"coordenadas de las observaciones\")\n",
        "# ---------------------------------------------------------------------\n",
        "\n",
        "\n",
        "# Obtener los puntajes (observaciones proyectadas en el nuevo espacio)\n",
        "X_pca = pca.transform(X_scaled)\n",
        "\n",
        "\n",
        "# Aquí se muestran las primeras filas de la matriz de datos proyectada en el nuevo sistema\n",
        "# de ejes creado por el PCA (los componentes principales).\n",
        "#\n",
        "# Cada fila representa una observación (individuo, muestra, fila del dataset original).\n",
        "# Cada columna representa un componente principal (PC1, PC2, ...).\n",
        "#\n",
        "# Estos valores son el resultado de aplicar la transformación PCA:\n",
        "#     X_pca = X_estandarizado × vectores propios (componentes)\n",
        "#\n",
        "# Se interpretan como las \"coordenadas\" de cada individuo en el nuevo espacio reducido,\n",
        "# y son útiles para:\n",
        "# - visualizar la dispersión de los datos en 2D o 3D (scatterplot)\n",
        "# - detectar patrones, agrupamientos, outliers\n",
        "# - alimentar modelos de machine learning con menos dimensiones\n",
        "\n",
        "\n",
        "print(\"Primeras filas de los puntajes (X_pca):\")\n",
        "print(pd.DataFrame(X_pca).head())"
      ]
    },
    {
      "cell_type": "markdown",
      "metadata": {},
      "source": [
        "#### 🐧 Scatter PC1 vs PC2 por especie y sexo (Matplotlib puro)"
      ]
    },
    {
      "cell_type": "code",
      "execution_count": 29,
      "metadata": {},
      "outputs": [
        {
          "data": {
            "image/png": "[encoded data removed]",
            "text/plain": [
              "<Figure size 800x600 with 1 Axes>"
            ]
          },
          "metadata": {},
          "output_type": "display_data"
        }
      ],
      "source": [
        "# 1) Construir un DataFrame de scores con metadatos\n",
        "scores = pd.DataFrame(X_pca, columns=[f\"PC{i+1}\" for i in range(X_pca.shape[1])])\n",
        "scores[\"species\"] = penguins[\"species\"].values\n",
        "scores[\"sex\"] = penguins[\"sex\"].astype(str).str.title().values  # normaliza 'male'/'female' a 'Male'/'Female'\n",
        "scores = scores.dropna(subset=[\"species\", \"sex\"])  # asegura que no haya nulos en las dos variables\n",
        "\n",
        "# 2) Mapeo de marcadores por sexo (sin fijar colores; Matplotlib asigna colores automáticamente por especie)\n",
        "markers = {\"Female\": \"o\", \"Male\": \"^\"}\n",
        "species_list = scores[\"species\"].unique()\n",
        "\n",
        "# 3) Graficar\n",
        "plt.figure(figsize=(8, 6))\n",
        "for sp in species_list:\n",
        "    for sx, mk in markers.items():\n",
        "        mask = (scores[\"species\"] == sp) & (scores[\"sex\"] == sx)\n",
        "        if mask.any():\n",
        "            plt.scatter(\n",
        "                scores.loc[mask, \"PC1\"],\n",
        "                scores.loc[mask, \"PC2\"],\n",
        "                marker=mk,\n",
        "                label=f\"{sp} - {sx}\",\n",
        "                alpha=0.85,\n",
        "                edgecolors=\"none\"\n",
        "            )\n",
        "\n",
        "# 4) Etiquetas con % de varianza explicada\n",
        "pc1_var = pca.explained_variance_ratio_[0] * 100\n",
        "pc2_var = pca.explained_variance_ratio_[1] * 100\n",
        "plt.xlabel(f\"PC1 ({pc1_var:.1f}% var.)\")\n",
        "plt.ylabel(f\"PC2 ({pc2_var:.1f}% var.)\")\n",
        "plt.title(\"PC1 vs PC2 por especie y sexo\")\n",
        "\n",
        "# 5) Leyenda y estilo\n",
        "plt.legend(ncol=2, fontsize=9, frameon=True, title=\"Especie - Sexo\")\n",
        "plt.grid(True, linewidth=0.3, linestyle=\"--\", alpha=0.5)\n",
        "plt.tight_layout()\n",
        "plt.show()\n"
      ]
    },
    {
      "cell_type": "markdown",
      "metadata": {},
      "source": [
        "### 🔹 10. 📉 Scree Plot y Varianza Explicada Acumulada\n",
        "\n",
        "Visualizar cuánta **información (varianza)** explica cada componente principal (PC), y con ello, **decidir cuántos componentes conservar** sin perder detalles relevantes del dataset original.\n"
      ]
    },
    {
      "cell_type": "markdown",
      "metadata": {},
      "source": [
        "#### 1️⃣ Obtener la varianza explicada por cada componente\n"
      ]
    },
    {
      "cell_type": "code",
      "execution_count": 30,
      "metadata": {},
      "outputs": [],
      "source": [
        "explained_var = pca.explained_variance_ratio_\n",
        "cum_explained_var = np.cumsum(explained_var)"
      ]
    },
    {
      "cell_type": "markdown",
      "metadata": {},
      "source": [
        "\n",
        "* `explained_var` contiene el **porcentaje de varianza explicado por cada componente** (PC1, PC2, ...).\n",
        "* `cum_explained_var` es la **suma acumulada**: nos dice cuánto se acumula al sumar PC1 + PC2 + PC3 + ...\n",
        "\n",
        "Por ejemplo:\n",
        "Si `explained_var = [0.45, 0.35, 0.10, 0.05]`, entonces:\n",
        "`cum_explained_var = [0.45, 0.80, 0.90, 0.95]`."
      ]
    },
    {
      "cell_type": "markdown",
      "metadata": {},
      "source": [
        "#### 2️⃣ Crear el gráfico"
      ]
    },
    {
      "cell_type": "code",
      "execution_count": 31,
      "metadata": {
        "colab": {
          "base_uri": "https://localhost:8080/",
          "height": 407
        },
        "id": "g1N-Tt6SRpkg",
        "outputId": "0b5d4f86-5226-485a-e5ed-0a55ff0ac9f3"
      },
      "outputs": [
        {
          "data": {
            "image/png": "[encoded data removed]",
            "text/plain": [
              "<Figure size 600x400 with 2 Axes>"
            ]
          },
          "metadata": {},
          "output_type": "display_data"
        }
      ],
      "source": [
        "# %% ------------------------------------------------------------------\n",
        "# 5) Scree Plot + % Varianza Explicada Acumulada (PVE)\n",
        "# ---------------------------------------------------------------------\n",
        "\n",
        "fig, ax1 = plt.subplots(figsize=(6, 4))\n",
        "\n",
        "# --- Scree plot (barras azules) ---\n",
        "# SCREE PLOT (Gráfico de sedimentación o de codo)\n",
        "# -------------------------------------------------\n",
        "# Este gráfico permite visualizar cuánta varianza explica cada componente principal.\n",
        "# En el eje X se representan los componentes principales (PC1, PC2, ...).\n",
        "# En el eje Y, la proporción de varianza explicada por cada uno (PVE).\n",
        "#\n",
        "# ¿Para qué sirve?\n",
        "# - Para decidir cuántos componentes retener sin perder demasiada información.\n",
        "# - Se busca el \"punto de codo\", es decir, el lugar donde la ganancia de información\n",
        "#   adicional se vuelve marginal. Desde ahí se justifica cortar.\n",
        "#\n",
        "# Esto se conoce como la \"regla del codo\" y es útil para reducir dimensiones de forma informada.\n",
        "ax1.bar(\n",
        "    range(1, len(explained_var) + 1),\n",
        "    explained_var * 100,\n",
        "    label=\"Varianza explicada (%)\",\n",
        ")\n",
        "ax1.set_xlabel(\"Componente principal\")\n",
        "ax1.set_ylabel(\"% Varianza explicada\")\n",
        "ax1.set_title(\"Scree plot y PVE acumulado\")\n",
        "\n",
        "# --- PVE acumulado (línea roja) ---\n",
        "# PROPORCIÓN DE VARIANZA EXPLICADA (PVE)\n",
        "# ---------------------------------------\n",
        "# Después de aplicar PCA, es importante saber cuánto aporta cada componente principal\n",
        "# a la explicación de la variabilidad total de los datos originales.\n",
        "#\n",
        "# 1. pca.explained_variance_:\n",
        "#    → contiene la **varianza** que explica cada componente principal (autovalores).\n",
        "#\n",
        "# 2. pca.explained_variance_ratio_:\n",
        "#    → contiene la **proporción** de la varianza total explicada por cada componente,\n",
        "#       es decir, el porcentaje de información del dataset original que retiene cada PC.\n",
        "#\n",
        "#    Por ejemplo, si PC1 tiene un PVE = 0.45, significa que PC1 explica el 45% de la variabilidad total.\n",
        "#\n",
        "# Esto es clave para decidir:\n",
        "# - cuántos componentes conservar\n",
        "# - cuánta información se pierde si se reducen dimensiones\n",
        "# - si el PCA es útil para visualizar, resumir o clasificar\n",
        "#\n",
        "# Ambos gráficos ayudan a decidir cuántos componentes conservar para alcanzar un umbral deseado\n",
        "# de varianza retenida, por ejemplo: 80% o 90%.\n",
        "\n",
        "ax2 = ax1.twinx()\n",
        "ax2.plot(\n",
        "    range(1, len(cum_explained_var) + 1),\n",
        "    cum_explained_var * 100,\n",
        "    marker=\"o\",\n",
        "    color=\"tab:red\",\n",
        "    label=\"PVE acumulado (%)\",\n",
        ")\n",
        "ax2.set_ylabel(\"% Varianza acumulada\")\n",
        "\n",
        "# Leyenda combinada\n",
        "handles1, labels1 = ax1.get_legend_handles_labels()\n",
        "handles2, labels2 = ax2.get_legend_handles_labels()\n",
        "ax1.legend(handles1 + handles2, labels1 + labels2, loc=\"upper right\")\n",
        "plt.tight_layout()\n",
        "plt.show()"
      ]
    },
    {
      "cell_type": "markdown",
      "metadata": {},
      "source": [
        "### 🔹 11. 📉 Código del Scree Plot con punto de codo resaltado"
      ]
    },
    {
      "cell_type": "code",
      "execution_count": 33,
      "metadata": {},
      "outputs": [
        {
          "data": {
            "image/png": "[encoded data removed]",
            "text/plain": [
              "<Figure size 800x500 with 2 Axes>"
            ]
          },
          "metadata": {},
          "output_type": "display_data"
        }
      ],
      "source": [
        "# 1. Obtener varianza explicada y acumulada\n",
        "explained_var = pca.explained_variance_ratio_\n",
        "cum_explained_var = np.cumsum(explained_var)\n",
        "\n",
        "# 2. Detectar el punto de codo (Knee) usando la curva acumulada\n",
        "x = range(1, len(cum_explained_var) + 1)\n",
        "knee = KneeLocator(x, cum_explained_var, curve=\"convex\", direction=\"increasing\")\n",
        "codo = knee.knee\n",
        "\n",
        "# 3. Gráfico\n",
        "fig, ax1 = plt.subplots(figsize=(8, 5))\n",
        "\n",
        "# Barras del Scree Plot\n",
        "ax1.bar(x, explained_var * 100, label=\"Varianza explicada (%)\")\n",
        "ax1.set_xlabel(\"Componente principal\")\n",
        "ax1.set_ylabel(\"% Varianza explicada\", color=\"blue\")\n",
        "ax1.tick_params(axis='y', labelcolor=\"blue\")\n",
        "\n",
        "# Título\n",
        "plt.title(\"Scree Plot con punto de codo\")\n",
        "\n",
        "# Línea acumulada\n",
        "ax2 = ax1.twinx()\n",
        "ax2.plot(x, cum_explained_var * 100, color=\"red\", marker='o', label=\"PVE acumulado (%)\")\n",
        "ax2.set_ylabel(\"% Varianza acumulada\", color=\"red\")\n",
        "ax2.tick_params(axis='y', labelcolor=\"red\")\n",
        "\n",
        "# 4. Marcar el punto de codo\n",
        "if codo is not None:\n",
        "    ax1.axvline(x=codo, color=\"green\", linestyle=\"--\", label=f\"Punto de codo: PC{codo}\")\n",
        "    ax2.plot(codo, cum_explained_var[codo - 1] * 100, 'go', markersize=10)\n",
        "\n",
        "# Leyenda combinada\n",
        "h1, l1 = ax1.get_legend_handles_labels()\n",
        "h2, l2 = ax2.get_legend_handles_labels()\n",
        "plt.legend(h1 + h2, l1 + l2, loc=\"lower right\")\n",
        "\n",
        "plt.tight_layout()\n",
        "plt.show()"
      ]
    },
    {
      "cell_type": "markdown",
      "metadata": {},
      "source": [
        "#### ✅ ¿Qué hace esta versión?\n",
        "\n",
        "* Muestra la **varianza explicada por cada componente (barras)** y la **varianza acumulada (línea roja)**.\n",
        "* Calcula automáticamente el **punto de codo** con `KneeLocator`.\n",
        "* Añade una línea vertical verde que **marca el componente óptimo** a partir del cual **la ganancia de varianza disminuye significativamente**.\n"
      ]
    },
    {
      "cell_type": "markdown",
      "metadata": {},
      "source": [
        "### 🐧 Visualización PCA: Discriminación por especie y sexo"
      ]
    },
    {
      "cell_type": "markdown",
      "metadata": {},
      "source": [
        "Este bloque resume muy bien el contexto:\n",
        "\n",
        "* Se grafican los individuos (pingüinos) proyectados en el espacio 2D del PCA: **PC1 vs PC2**.\n",
        "* Se usa el **color para distinguir la especie** y el **marcador para el sexo**.\n",
        "* Se interpreta el contenido de cada eje:\n",
        "\n",
        "  * **PC1 (\\~80%)**: relacionado con tamaño corporal.\n",
        "  * **PC2 (\\~17%)**: morfología del pico (largo/profundidad).\n",
        "  * **PC3 (\\~2%)**: sutil separación por sexo.\n",
        "* Se destaca que con solo 3 componentes se conserva \\~99% de la varianza → gran éxito de reducción dimensional."
      ]
    },
    {
      "cell_type": "code",
      "execution_count": 34,
      "metadata": {
        "colab": {
          "base_uri": "https://localhost:8080/",
          "height": 507
        },
        "id": "SY7KVzpQRm0z",
        "outputId": "9b584db4-7186-499e-89af-e107e5773b15"
      },
      "outputs": [
        {
          "data": {
            "image/png": "[encoded data removed]",
            "text/plain": [
              "<Figure size 600x500 with 1 Axes>"
            ]
          },
          "metadata": {},
          "output_type": "display_data"
        }
      ],
      "source": [
        "# %% ------------------------------------------------------------------\n",
        "# 6) APLICACION DE PCA : Scatter PC1 vs PC2  (color = especie, marker = sexo)\n",
        "# ---------------------------------------------------------------------\n",
        "# Cada punto es un pingüino proyectado en los ejes PC1, PC2, PC3.\n",
        "# Colores → especie (Adelie azul, Gentoo naranja, Chinstrap verde).\n",
        "# Marcadores → sexo (● = macho, ✕ = hembra).\n",
        "# Interpretación de los ejes\n",
        "#   PC1 (80 %) concentra casi toda la información de tamaño: masa corporal y longitud de aleta.\n",
        "#   PC2 (17 %) refleja la morfología del pico (largo vs. profundidad).\n",
        "#   PC3 (~2 %) añade un pequeño ajuste que permite separar sutilmente machos y hembras dentro de cada especie.\n",
        "#\n",
        "# Con sólo 3 de 6 variables transformadas (80 % + 17 % + 2 % ≈ 99 %), conservamos prácticamente toda la variabilidad original.\n",
        "# Las especies forman clusters definidos, lo que confirma que las medidas morfométricas bastan para identificarlas.\n",
        "# El eje extra (PC3) es útil si quisiéramos modelar diferencias de sexo sin añadir más dimensiones.\n",
        "\n",
        "species_palette = {\n",
        "    \"Adelie\": \"tab:blue\",\n",
        "    \"Gentoo\": \"tab:orange\",\n",
        "    \"Chinstrap\": \"tab:green\",\n",
        "}\n",
        "\n",
        "markers = {\"Male\": \"o\", \"Female\": \"x\"}\n",
        "\n",
        "fig, ax = plt.subplots(figsize=(6, 5))\n",
        "\n",
        "for spec, group in scores.groupby(\"species\"):\n",
        "    for sex, sub in group.groupby(\"sex\"):\n",
        "        ax.scatter(\n",
        "            sub[\"PC1\"],\n",
        "            sub[\"PC2\"],\n",
        "            label=f\"{spec} / {sex}\",\n",
        "            color=species_palette.get(spec, \"grey\"),\n",
        "            marker=markers.get(str(sex).title(), \".\"),\n",
        "            alpha=0.75,\n",
        "        )\n",
        "\n",
        "ax.set_title(\"PCA con 6 variables (Palmer Penguins)\")\n",
        "ax.set_xlabel(f\"PC1: {explained_var[0] * 100:.1f}%\")\n",
        "ax.set_ylabel(f\"PC2: {explained_var[1] * 100:.1f}%\")\n",
        "ax.legend(bbox_to_anchor=(1.05, 1), loc=\"upper left\")\n",
        "plt.tight_layout()\n",
        "plt.show()"
      ]
    },
    {
      "cell_type": "markdown",
      "metadata": {},
      "source": [
        "### ✅ ¿Qué logras con este gráfico?\n",
        "\n",
        "* Confirmas que **las especies se agrupan de forma clara**: el PCA captura la separación entre grupos biológicos.\n",
        "* Puedes observar **diferencias sutiles de sexo** dentro de las especies.\n",
        "* Validas que el PCA, incluso con solo 2 ejes, retiene una parte muy significativa de la variabilidad (casi 97-99%).\n"
      ]
    },
    {
      "cell_type": "markdown",
      "metadata": {},
      "source": [
        "### 🧊 **Visualización interactiva 3D con Plotly**\n",
        "\n",
        "Usamos `plotly` para hacer un gráfico 3D dinámico en el que puedes **rotar y explorar interactivamente** la nube de puntos en el espacio PC1‑PC2‑PC3.\n",
        "\n",
        "### 📦 Requisitos\n",
        "\n",
        "Si no tienes `plotly`, instálalo:\n",
        "\n",
        "```bash\n",
        "pip install plotly\n",
        "```"
      ]
    },
    {
      "cell_type": "code",
      "execution_count": 37,
      "metadata": {},
      "outputs": [
        {
          "data": {
            "application/vnd.plotly.v1+json": {
              "config": {
                "plotlyServerURL": "https://plot.ly"
              },
              "data": [
                {
                  "customdata": [
                    [
                      "Adelie",
                      "Male"
                    ],
                    [
                      "Adelie",
                      "Male"
                    ],
                    [
                      "Adelie",
                      "Male"
                    ],
                    [
                      "Adelie",
                      "Male"
                    ],
                    [
                      "Adelie",
                      "Male"
                    ],
                    [
                      "Adelie",
                      "Male"
                    ],
                    [
                      "Adelie",
                      "Male"
                    ],
                    [
                      "Adelie",
                      "Male"
                    ],
                    [
                      "Adelie",
                      "Male"
                    ],
                    [
                      "Adelie",
                      "Male"
                    ],
                    [
                      "Adelie",
                      "Male"
                    ],
                    [
                      "Adelie",
                      "Male"
                    ],
                    [
                      "Adelie",
                      "Male"
                    ],
                    [
                      "Adelie",
                      "Male"
                    ],
                    [
                      "Adelie",
                      "Male"
                    ],
                    [
                      "Adelie",
                      "Male"
                    ],
                    [
                      "Adelie",
                      "Male"
                    ],
                    [
                      "Adelie",
                      "Male"
                    ],
                    [
                      "Adelie",
                      "Male"
                    ],
                    [
                      "Adelie",
                      "Male"
                    ],
                    [
                      "Adelie",
                      "Male"
                    ],
                    [
                      "Adelie",
                      "Male"
                    ],
                    [
                      "Adelie",
                      "Male"
                    ],
                    [
                      "Adelie",
                      "Male"
                    ],
                    [
                      "Adelie",
                      "Male"
                    ],
                    [
                      "Adelie",
                      "Male"
                    ],
                    [
                      "Adelie",
                      "Male"
                    ],
                    [
                      "Adelie",
                      "Male"
                    ],
                    [
                      "Adelie",
                      "Male"
                    ],
                    [
                      "Adelie",
                      "Male"
                    ],
                    [
                      "Adelie",
                      "Male"
                    ],
                    [
                      "Adelie",
                      "Male"
                    ],
                    [
                      "Adelie",
                      "Male"
                    ],
                    [
                      "Adelie",
                      "Male"
                    ],
                    [
                      "Adelie",
                      "Male"
                    ],
                    [
                      "Adelie",
                      "Male"
                    ],
                    [
                      "Adelie",
                      "Male"
                    ],
                    [
                      "Adelie",
                      "Male"
                    ],
                    [
                      "Adelie",
                      "Male"
                    ],
                    [
                      "Adelie",
                      "Male"
                    ],
                    [
                      "Adelie",
                      "Male"
                    ],
                    [
                      "Adelie",
                      "Male"
                    ],
                    [
                      "Adelie",
                      "Male"
                    ],
                    [
                      "Adelie",
                      "Male"
                    ],
                    [
                      "Adelie",
                      "Male"
                    ],
                    [
                      "Adelie",
                      "Male"
                    ],
                    [
                      "Adelie",
                      "Male"
                    ],
                    [
                      "Adelie",
                      "Male"
                    ],
                    [
                      "Adelie",
                      "Male"
                    ],
                    [
                      "Adelie",
                      "Male"
                    ],
                    [
                      "Adelie",
                      "Male"
                    ],
                    [
                      "Adelie",
                      "Male"
                    ],
                    [
                      "Adelie",
                      "Male"
                    ],
                    [
                      "Adelie",
                      "Male"
                    ],
                    [
                      "Adelie",
                      "Male"
                    ],
                    [
                      "Adelie",
                      "Male"
                    ],
                    [
                      "Adelie",
                      "Male"
                    ],
                    [
                      "Adelie",
                      "Male"
                    ],
                    [
                      "Adelie",
                      "Male"
                    ],
                    [
                      "Adelie",
                      "Male"
                    ],
                    [
                      "Adelie",
                      "Male"
                    ],
                    [
                      "Adelie",
                      "Male"
                    ],
                    [
                      "Adelie",
                      "Male"
                    ],
                    [
                      "Adelie",
                      "Male"
                    ],
                    [
                      "Adelie",
                      "Male"
                    ],
                    [
                      "Adelie",
                      "Male"
                    ],
                    [
                      "Adelie",
                      "Male"
                    ],
                    [
                      "Adelie",
                      "Male"
                    ],
                    [
                      "Adelie",
                      "Male"
                    ],
                    [
                      "Adelie",
                      "Male"
                    ],
                    [
                      "Adelie",
                      "Male"
                    ],
                    [
                      "Adelie",
                      "Male"
                    ],
                    [
                      "Adelie",
                      "Male"
                    ]
                  ],
                  "hovertemplate": "species=%{customdata[0]}<br>sex=%{customdata[1]}<br>PC1=%{x}<br>PC2=%{y}<br>PC3=%{z}<extra></extra>",
                  "legendgroup": "Adelie, Male",
                  "marker": {
                    "color": "#636efa",
                    "opacity": 0.8,
                    "symbol": "circle"
                  },
                  "mode": "markers",
                  "name": "Adelie, Male",
                  "scene": "scene",
                  "showlegend": true,
                  "type": "scatter3d",
                  "x": {
                    "bdata": "zgygwtJbBMA4aty5k/UEwDXcAEcQufu/E78+XjA/BcA8EHX3oMgCwLmyyVE+v/u/0tvIZ8dv/r/guEFFaCj8v9M1zJ9eTfS/OMEHDHMZ9b/AIzf1v6v3vzYP9vIitPa/M/JmZ2mzAMDpqtQzeI38vxVCywFU+/u/VDArVDw+/r+IlxZFisD3vz4VFrCHgfW/KhYYdKW98L+RdBIM8Wv0vybrFn3S5QDAO0zOVdGY+7/68eZ6y8fvv57QwVeF1+a/mX2/mTNT8b/byrAa8s7wvzqwgtknuvS/xdmkcV4s8L9s87tcoO/pv+wriOLpgem/70KLeaIf8b9C+F8oR8z4v+qkRfIvnQDAKyrETPlO9r9qVg5vtY74v6qfWKFZ5QTAOttfpUwi/b9bEqbZyIXxv118lfQ5WALAW9tAU1DO/b9lVdEMr2cAwCigso3FFP2/hi0lShNG579UIjeATOL1v9Nvh27tMem/w78G5WDg8b9G8xYuTBPzv/EEWJ+gstm/JkXKclfC9L9tXBq+R+74vxKJ9NfAYPe/pSzHLpkk0L9tPWnBA4bjv6WwKrIGp+W/SwHSMKx44r8fdtrVKPoCwIY/iFsx6QLAz9z0ktlAA8DhY7QEOaH5v0CQykszWfy/27g0Nh7y+L9gGKt7lRrwv/RU9npGpv+/F1Mgwr0u8r9scO4IJ1H1v+6i5zGek/e/ib2XadZK87/j24SOdUj6v1iVH36B4PW/11tsh/Go/7+RLfKedFX3vzz8nYOCNPq/syorqLoG8b8=",
                    "dtype": "f8"
                  },
                  "y": {
                    "bdata": "LGmd9Lpv8j9+60scQvn6P0tWpJioTvs/Jn3LxwSY/T/F8E5mW9/8PxXYomIiFQFAgZ3dsq58A0B2LSLGlLTeP8wtvXAA1d0/pyUktAARyT8DGSXI34rjP8JX/ByCk+g/Tup5mQ1v5D8qPCcZhzrxPzj5Y6V5HPs/7PWfuUvQ9D87XhpWrCz0P8WuFrLSDfA/yiOlg7Zj+j8F50ZaRBjzP9pigLQYbO8/o3ihvFmv/T+e5UYKhzHsP1OvGPJZSvI/q68U/fKP5z9PQTNvJBDpP9XBb6+HTOY/k6v8cehb+T/+3KYULLnmPzJ1g4PxFOU/Yni8Fvru7T9Nu6K/zwX8PzAe93wAHfM/3kgm3k7++z8cbNjoygP4PzYv8laWpfQ/flofJ9Ps+D8NZn1fcz72P7jyrL+Z6fQ/zDNwW7fr9j8ULoYFFwLwPxtqEN7j8/A/2yU8Ir6U8T+Ojbxr22LuP7B0f/tT8/Q/EUMzCrX28T/AwdsAowfzP2DLQY7Ui/Y/pF+I+3u+8D9raaP3ZrjkP9phSE5CVO8/73Twd2He8z/uCDj3mxP6Pyav/iOTGPM/DneXbuEv6z9mVOnuXzL6P8+N9uIjtvI/rTb8ZkZm9j/GA26axfT1PxK+UvGVm/c/hMEw3fxI9j/z/1PCQ1/3P9pWpsxBWPg/qQnT5oFi8D8GzmaD1CroP130kSWFbPc/9Uw2j5eJ7D9cFsUrsNPgPyneGv0o5OE/ReTb7cm96z+Qz+Y9HIHwP29phP/v9uY/gkYU5n4D8j8=",
                    "dtype": "f8"
                  },
                  "z": {
                    "bdata": "BcZJ5g9SxT8zA/XgRDnQP00YaPePDaC/tek/y601wj9J7FhsTrDcv5HgVwxPX9k/wsBjU0uy6z8OTz39zv37v1SfNuLWf/y/xkuGmXAY+78RE3UpRIP2v+Dzwfqlgvi/Jo0+kifm779awgT6dBDiv+Qmitjhwui/eBO+Cko06b/wx3iUwXDsv/bZeTqHquG/p3MnYQy+0780TwKrEFDsv8NMOfGyuNq/a2nKcOg73L/DGI5s9mv6v/X7SdcMZ/W/LApdPCls9b/YhDrIYyz3v4Ym+Va+Nfy/gWm2qB4q+L/FEOPsqXz3v7bQnuxwMPa/bOER4gzA97+hTtJ/EcTUP32JDvQEN8s/Z69CM0YA6z+z0THmB2reP8aWixaAebK/X2NLfyoW3j8JqkfKNgLXP53dkN0UUte/g/jGRWTk2L/ra8uZ/HTwvwA7jX6rQ+u/px6YT+VZ478MewTUxoHrv07D7v6B+eO/gBXvCoY/578ZjmG49izWv8p6KOzR7fm/gUgBP6ES/r/1VT5zxQj4v/TYQu1c1/u/mmvi82Ga9r9z/cjtE6fxv4KRf8MIJfa/KaXefEeU9L9n6EW8BJKTP6Obn1E8v+A/BaxVTGqpwD/H0jYPSxncP5cfhJs1A9Q/O6mQn7sz1D8xsGz98hLnP/RHQgi5IOc/xvBKhQAG8b9hQhipYTrhv6GIkV+VnuO/XniWxHTn6L9hzzsh00Hfv6qOnEuJQeG/Cg8JQsSd5r8YMZx2er7qvxxLRwMxQ+u/Mc/I+CgV378=",
                    "dtype": "f8"
                  }
                },
                {
                  "customdata": [
                    [
                      "Adelie",
                      "Female"
                    ],
                    [
                      "Adelie",
                      "Female"
                    ],
                    [
                      "Adelie",
                      "Female"
                    ],
                    [
                      "Adelie",
                      "Female"
                    ],
                    [
                      "Adelie",
                      "Female"
                    ],
                    [
                      "Adelie",
                      "Female"
                    ],
                    [
                      "Adelie",
                      "Female"
                    ],
                    [
                      "Adelie",
                      "Female"
                    ],
                    [
                      "Adelie",
                      "Female"
                    ],
                    [
                      "Adelie",
                      "Female"
                    ],
                    [
                      "Adelie",
                      "Female"
                    ],
                    [
                      "Adelie",
                      "Female"
                    ],
                    [
                      "Adelie",
                      "Female"
                    ],
                    [
                      "Adelie",
                      "Female"
                    ],
                    [
                      "Adelie",
                      "Female"
                    ],
                    [
                      "Adelie",
                      "Female"
                    ],
                    [
                      "Adelie",
                      "Female"
                    ],
                    [
                      "Adelie",
                      "Female"
                    ],
                    [
                      "Adelie",
                      "Female"
                    ],
                    [
                      "Adelie",
                      "Female"
                    ],
                    [
                      "Adelie",
                      "Female"
                    ],
                    [
                      "Adelie",
                      "Female"
                    ],
                    [
                      "Adelie",
                      "Female"
                    ],
                    [
                      "Adelie",
                      "Female"
                    ],
                    [
                      "Adelie",
                      "Female"
                    ],
                    [
                      "Adelie",
                      "Female"
                    ],
                    [
                      "Adelie",
                      "Female"
                    ],
                    [
                      "Adelie",
                      "Female"
                    ],
                    [
                      "Adelie",
                      "Female"
                    ],
                    [
                      "Adelie",
                      "Female"
                    ],
                    [
                      "Adelie",
                      "Female"
                    ],
                    [
                      "Adelie",
                      "Female"
                    ],
                    [
                      "Adelie",
                      "Female"
                    ],
                    [
                      "Adelie",
                      "Female"
                    ],
                    [
                      "Adelie",
                      "Female"
                    ],
                    [
                      "Adelie",
                      "Female"
                    ],
                    [
                      "Adelie",
                      "Female"
                    ],
                    [
                      "Adelie",
                      "Female"
                    ],
                    [
                      "Adelie",
                      "Female"
                    ],
                    [
                      "Adelie",
                      "Female"
                    ],
                    [
                      "Adelie",
                      "Female"
                    ],
                    [
                      "Adelie",
                      "Female"
                    ],
                    [
                      "Adelie",
                      "Female"
                    ],
                    [
                      "Adelie",
                      "Female"
                    ],
                    [
                      "Adelie",
                      "Female"
                    ],
                    [
                      "Adelie",
                      "Female"
                    ],
                    [
                      "Adelie",
                      "Female"
                    ],
                    [
                      "Adelie",
                      "Female"
                    ],
                    [
                      "Adelie",
                      "Female"
                    ],
                    [
                      "Adelie",
                      "Female"
                    ],
                    [
                      "Adelie",
                      "Female"
                    ],
                    [
                      "Adelie",
                      "Female"
                    ],
                    [
                      "Adelie",
                      "Female"
                    ],
                    [
                      "Adelie",
                      "Female"
                    ],
                    [
                      "Adelie",
                      "Female"
                    ],
                    [
                      "Adelie",
                      "Female"
                    ],
                    [
                      "Adelie",
                      "Female"
                    ],
                    [
                      "Adelie",
                      "Female"
                    ],
                    [
                      "Adelie",
                      "Female"
                    ],
                    [
                      "Adelie",
                      "Female"
                    ],
                    [
                      "Adelie",
                      "Female"
                    ],
                    [
                      "Adelie",
                      "Female"
                    ],
                    [
                      "Adelie",
                      "Female"
                    ],
                    [
                      "Adelie",
                      "Female"
                    ],
                    [
                      "Adelie",
                      "Female"
                    ],
                    [
                      "Adelie",
                      "Female"
                    ],
                    [
                      "Adelie",
                      "Female"
                    ],
                    [
                      "Adelie",
                      "Female"
                    ],
                    [
                      "Adelie",
                      "Female"
                    ],
                    [
                      "Adelie",
                      "Female"
                    ],
                    [
                      "Adelie",
                      "Female"
                    ],
                    [
                      "Adelie",
                      "Female"
                    ],
                    [
                      "Adelie",
                      "Female"
                    ]
                  ],
                  "hovertemplate": "species=%{customdata[0]}<br>sex=%{customdata[1]}<br>PC1=%{x}<br>PC2=%{y}<br>PC3=%{z}<extra></extra>",
                  "legendgroup": "Adelie, Female",
                  "marker": {
                    "color": "#636efa",
                    "opacity": 0.8,
                    "symbol": "diamond"
                  },
                  "mode": "markers",
                  "name": "Adelie, Female",
                  "scene": "scene",
                  "showlegend": true,
                  "type": "scatter3d",
                  "x": {
                    "bdata": "FtfTkrhnAsBN3knI7dcCwHNG1y+YNAbADYU6zytZBcD0OslmxX0FwOJSCbQVMQXA2wh32No0BMBEnhWicBQJwK9c2SpJgAHAnnGHRF0q/L+iuVINyQT9v1BMWMHv9Pm/PfKS0nx5A8AwPHzNtPQBwAcx0iXtowDAl/z6DOp1/r9kJuXdzDABwHGvnDAhjwXAs7VL2iS7BMCEzv33YNsEwFukLVPrzgLA3CU55sJ0AcDEQ3E6x0X4vyS9soE7Cfy/i1lQ5J+8AcBa1cIpYuv3v7LQCHb7YwDA6Ik4SBfB/b8NTsg3aRv4vziolMl3WQDAVrqk2psL9b/PCWYGNGoFwHrlSfOCngfAUbKrB0iKAMCg5jhxSAwEwMa7W7rG6f+/FjuvIkQtA8AI58BcY4sGwFsd0MSSkAXAMKhFrzbNAMCuZc53Z/4BwLvvokXIgwDAZnIH+H9Y/L+dyhw6e+8CwAdv0j8q9QHAKnAN7hA6AMAK1Rm0FwkGwANpMy7OmPi/lP0A8fnX+r/oETeT4eT9v4riZ4Qo6u2/lj3NwoVe/b9gRD++Ptfqv6qDyxKrGve/xBYydL97+r9a5IU8GbcFwNLlLXJyCAXA0Gg1zlRwBsD2PJB5lJ8FwPdxugZi3QXAE298Gh0GBMCBoF9UFDQEwJF60wmhpATAVO8u8wzcAMAqppMn2tIAwGe5wpYLDALAeItThwiEAMDfv191Axz7vzOp9RjmdQLAMfWJR/6sAMC3NHBXjksDwAZAl3C8AQDAFMP+ZE0MAMA=",
                    "dtype": "f8"
                  },
                  "y": {
                    "bdata": "CZAooB2C47+6I2z2tuXfv+gcHbUGwNO/JIyZYHx/4794UYpHY7nkvzA1cjc3Cea/2kj7FHBO0b8C2sW/oO/nv6Re3tKKA/O/zXzkaMa467+f/q0xyJvvv7BoQ6ntCfK/40v6nSre8r9RR8axnxT0vw1TVO+Duey/7D62lC6V87+1pn1fVsDhv+a1BnKxpOS/YrFQEqU08b/GEZP0P77uvwFWNVD+uPW/u720dica8L+jpC5I04LyvzS0gE/DYvW/yjlOyAl497+YXFXmtKbzv15PYaAA0Py/g825k+Km+r8u009v4c/2v1v4FdjFh/q/6DMVDZoH/L/ekBRXLM7yv8NJzWcIHOG/gh46If025b9ocN2JLn3pv6gJiEo1Eua/zCZ8TUnl8r+Jp0qEcN/wv+Sd0BfIpNi/cjEkY5Z677+RsnEbD5vov9jR2yUkkuK/OO8z3TDg7L9VW+AqGMv1v1Bnjn1hU/O/MWNb+YvI5L/dANvpC2b9v/kVy6MzF/S/0i3d2nc4/b94tBaoS93xvzevUMPpP/O/rRUmnrN5+L8dcKPpdWP2v0R/jje9APO/AfvzpwQIz7/EAjC07krvvwKpIHExLfC/LO9/jN7R77+e3uviXlXqv6fzo1uJsPa/QpyRk8xZ5r+o586XVwXsv1zzrPZFH+S/2iAH0dfh6L/03pDcgu3vv9X/PvWYIvO/MaGDkTvH9b9wl+RYYK/vv3NHoU7jO/+/imK52CVA9b+aTsX/LObrv3PB21+nEPC/iW10XGy28r8=",
                    "dtype": "f8"
                  },
                  "z": {
                    "bdata": "VllyTbio6j90nLCzuZPxPzSoDdYVyuQ/CZkSbIi/6T+VyoFpK6XyP+cyohi+PeE/CXLga4T76z8xNhHc3YDZP2eFMrehGfG/slYtXB6A9b+JX08gVK/2v8XW3qwX7eW/Ci2miKvB779O/a3PUXKtP1+aKPN44bM/65uaT5rJ0L8dqxcv++TSPwVjp5RMy8G/M4e8kfI3zb8PVnyEsmbQvyVMFsYGDcG/V2pBIMIl1r+X8vwH2tzrv1sk38hCtPW/PBhU90ZM9L+Jc5IaB3vuv0MuIUzW9PC/EBuRmcZ787/tlxthkAzyvwF+YmZh8/C/tL+ENXxl9L9WcJtDOH/kPxH4U3t0Ls8/WZAc7bnv7T/hmaWYhE/bP7xzvsFOYPA/4vAk6hXa4D9xHUGPGkrdPy1LSYYpJOE/rSQDWvMdxr+bPPuxZmzQv2KRjVwSdK2/XwENNO0L2L/Pr3Xf7lniv3VUxRw+59K/5UqylZNqxr8ztPb1/QTiv5xnpJ+h0fa/52q/lCyY77+d9bA77B7svxwRrluCVvC/uwLf/7fy7r9Bjsz8Xq7xv8InCkwcV+i/r8+8DoMt7r8Jzu1EwlbvP0nWHw1eM+E/tsgrJjyb5D9leU2QZ0nvPza8ChHfguE/UwyCV/0u7T+BcZtrCLnvPwIaBzrCres/LTPWUneL0L9ZYq3dP6q9v8McP3g6QdS/u1Kkru5bz7891HrS7U7BP+SKumqrOua/sexug7hKtb/1Ttl//gXTvzF/W8zaZdW/hzGsYrlg278=",
                    "dtype": "f8"
                  }
                },
                {
                  "customdata": [
                    [
                      "Chinstrap",
                      "Male"
                    ],
                    [
                      "Chinstrap",
                      "Male"
                    ],
                    [
                      "Chinstrap",
                      "Male"
                    ],
                    [
                      "Chinstrap",
                      "Male"
                    ],
                    [
                      "Chinstrap",
                      "Male"
                    ],
                    [
                      "Chinstrap",
                      "Male"
                    ],
                    [
                      "Chinstrap",
                      "Male"
                    ],
                    [
                      "Chinstrap",
                      "Male"
                    ],
                    [
                      "Chinstrap",
                      "Male"
                    ],
                    [
                      "Chinstrap",
                      "Male"
                    ],
                    [
                      "Chinstrap",
                      "Male"
                    ],
                    [
                      "Chinstrap",
                      "Male"
                    ],
                    [
                      "Chinstrap",
                      "Male"
                    ],
                    [
                      "Chinstrap",
                      "Male"
                    ],
                    [
                      "Chinstrap",
                      "Male"
                    ],
                    [
                      "Chinstrap",
                      "Male"
                    ],
                    [
                      "Chinstrap",
                      "Male"
                    ],
                    [
                      "Chinstrap",
                      "Male"
                    ],
                    [
                      "Chinstrap",
                      "Male"
                    ],
                    [
                      "Chinstrap",
                      "Male"
                    ],
                    [
                      "Chinstrap",
                      "Male"
                    ],
                    [
                      "Chinstrap",
                      "Male"
                    ],
                    [
                      "Chinstrap",
                      "Male"
                    ],
                    [
                      "Chinstrap",
                      "Male"
                    ],
                    [
                      "Chinstrap",
                      "Male"
                    ],
                    [
                      "Chinstrap",
                      "Male"
                    ],
                    [
                      "Chinstrap",
                      "Male"
                    ],
                    [
                      "Chinstrap",
                      "Male"
                    ],
                    [
                      "Chinstrap",
                      "Male"
                    ],
                    [
                      "Chinstrap",
                      "Male"
                    ],
                    [
                      "Chinstrap",
                      "Male"
                    ],
                    [
                      "Chinstrap",
                      "Male"
                    ],
                    [
                      "Chinstrap",
                      "Male"
                    ],
                    [
                      "Chinstrap",
                      "Male"
                    ]
                  ],
                  "hovertemplate": "species=%{customdata[0]}<br>sex=%{customdata[1]}<br>PC1=%{x}<br>PC2=%{y}<br>PC3=%{z}<extra></extra>",
                  "legendgroup": "Chinstrap, Male",
                  "marker": {
                    "color": "#EF553B",
                    "opacity": 0.8,
                    "symbol": "circle"
                  },
                  "mode": "markers",
                  "name": "Chinstrap, Male",
                  "scene": "scene",
                  "showlegend": true,
                  "type": "scatter3d",
                  "x": {
                    "bdata": "SzoBqj6P17/D6PN3dbbdv3WmKVuRbtO/0aYm51MRu79d2bYyQT7Zvw0t+SaA4eC/tBHyhJYg0D/F2T3iN2O7vz/xEqb5S+e/iDeANbzwpT83sYJ/XdDhv+M0afK7rd2//lPdH/Hlkz8lP7bOt3POvzcuqbaTPdg/H/sdScTnsD/B00Kl6SLEP4Vlo4ZAY9u/gqTX8TAj4D9B6m2AW5PaPyyTBRkscKo/SShcjg9827+/71dDGIXUP4n+jEOzj9I/PcwcYbTo6L92xnMfBn9hPxz81mSITae/6nhbjmkI1L+1UEwnyB7Gv5sfK70xZre/ZbmR/sPOvD9R+TeRsTzYP0tZ9ltDfdW/ayKjo6qv1T8=",
                    "dtype": "f8"
                  },
                  "y": {
                    "bdata": "AKrK5idF+j8TLVPw+NL4P7PngLrMLv0/n9wSTk9o9T9F0Mcqi2n8PzBpARDLXP4/twjZ+DIo9z/9DefaLCz8PxQ8i4ZeR/o/EI+GAUUW9j9D1zud1E/sP0DQS+3Drfk/beYBqeb2+j/YxRZ+Sbf3P0R/VkADFgFAO8+6yWipAkAOn+FwK6H5P+Urrjzq8fQ/bK9exqfyAkAjF0DI/hEBQKIARwz/5/o/uoHxyvfv9z/ij71LgXD5P8dpOW1q7Pw/Gn2aT+m79D8k0ITNqgP6P6cnvmwe8fw/A8H0soJ29z8VqNvulpn8P9KYCHeOpvc/ec+Fbuz7/D/rDEcbsugAQB7CbIFatvM/NdlCgbDv+j8=",
                    "dtype": "f8"
                  },
                  "z": {
                    "bdata": "XLS73yf56D85+0TWR3PvPzuQlfejH/I/yT/Tmeal7j9mstBH7JfvP37ieRaKEvA/AszdagLT7j9XW8b4Zt/pP0k8Hai7de8/OZAU7CBg4T+9kgXfNBTnP2pCriiftes/Xq452APd7T8JGlweIELoP+Vf4DQCIO4/v/PRlwKU8j9UHY3cOSzrP3dLXzSbNOo/QzQz8suv6T/oA/Nf24LwP3GPXq/OGuY/Z0s817Yc7z8OHuvDPS/nPyw2ZjO5P+M/zNG0s9WD8T86te5K4MntP8wkgxvcxOo/+TNyWpBN8j+mzQRW5NflPzCDGMMY2+o/GDheCt8L8D+Bi86lqdb2P9D1Gz1nEeg/EjOl+6AS6z8=",
                    "dtype": "f8"
                  }
                },
                {
                  "customdata": [
                    [
                      "Chinstrap",
                      "Female"
                    ],
                    [
                      "Chinstrap",
                      "Female"
                    ],
                    [
                      "Chinstrap",
                      "Female"
                    ],
                    [
                      "Chinstrap",
                      "Female"
                    ],
                    [
                      "Chinstrap",
                      "Female"
                    ],
                    [
                      "Chinstrap",
                      "Female"
                    ],
                    [
                      "Chinstrap",
                      "Female"
                    ],
                    [
                      "Chinstrap",
                      "Female"
                    ],
                    [
                      "Chinstrap",
                      "Female"
                    ],
                    [
                      "Chinstrap",
                      "Female"
                    ],
                    [
                      "Chinstrap",
                      "Female"
                    ],
                    [
                      "Chinstrap",
                      "Female"
                    ],
                    [
                      "Chinstrap",
                      "Female"
                    ],
                    [
                      "Chinstrap",
                      "Female"
                    ],
                    [
                      "Chinstrap",
                      "Female"
                    ],
                    [
                      "Chinstrap",
                      "Female"
                    ],
                    [
                      "Chinstrap",
                      "Female"
                    ],
                    [
                      "Chinstrap",
                      "Female"
                    ],
                    [
                      "Chinstrap",
                      "Female"
                    ],
                    [
                      "Chinstrap",
                      "Female"
                    ],
                    [
                      "Chinstrap",
                      "Female"
                    ],
                    [
                      "Chinstrap",
                      "Female"
                    ],
                    [
                      "Chinstrap",
                      "Female"
                    ],
                    [
                      "Chinstrap",
                      "Female"
                    ],
                    [
                      "Chinstrap",
                      "Female"
                    ],
                    [
                      "Chinstrap",
                      "Female"
                    ],
                    [
                      "Chinstrap",
                      "Female"
                    ],
                    [
                      "Chinstrap",
                      "Female"
                    ],
                    [
                      "Chinstrap",
                      "Female"
                    ],
                    [
                      "Chinstrap",
                      "Female"
                    ],
                    [
                      "Chinstrap",
                      "Female"
                    ],
                    [
                      "Chinstrap",
                      "Female"
                    ],
                    [
                      "Chinstrap",
                      "Female"
                    ],
                    [
                      "Chinstrap",
                      "Female"
                    ]
                  ],
                  "hovertemplate": "species=%{customdata[0]}<br>sex=%{customdata[1]}<br>PC1=%{x}<br>PC2=%{y}<br>PC3=%{z}<extra></extra>",
                  "legendgroup": "Chinstrap, Female",
                  "marker": {
                    "color": "#EF553B",
                    "opacity": 0.8,
                    "symbol": "diamond"
                  },
                  "mode": "markers",
                  "name": "Chinstrap, Female",
                  "scene": "scene",
                  "showlegend": true,
                  "type": "scatter3d",
                  "x": {
                    "bdata": "9tFNZqXT67+n2jskoizzv49UV86G0t+/Abf/woqu+L9k4WMXpPrjv1Iq6GLvy+S/Vx8NI6hO679MwRVSmnXpv5A2YeaX8NW/DDb/PAVx8b/4ZHeFD371v2mFMbQnpfW/QxKmXfS7679FIZO36PHev6aOvKRgDum/yEQCdTF59b+Z4yAzdsDyv5S0V7CPR8W/f+HU2EV74r+wfJ8E1dfwv3YWkbu/4ey/OWmXEsTD5L+1lwWmrYnWv4MR98lbCei/NI5v2xpb0L9e1iBgyajXvzX9fMsOaee/DnVsaelp9L9VT95OJcbsvzkdXjdkwfG/LBCzPkr5479oziTQKMjiv0Yn8hmsiuq/w78R4/6x2r8=",
                    "dtype": "f8"
                  },
                  "y": {
                    "bdata": "ENRBgk004r99LZCk5MXbv60eL9fRfuC/+ZrQ5B7x5L9aLnQHzXfDv5ISscY9Q+C/vPxrrtoK5r9gIk4PgKvpvxuRCsCIN12/ybHzQECQ2r/ONw0aRlTvvzMLDML3NPS/pUATTHfw4r/GI/fvC4fKv1IguEkCxuG/saOR6g/u9L+0uu5YiY7yv5MAoWkmN+W/c0Qg9Qc/0787vt+axHHxv0jLAVd1weW/6JZC8bex6r/RVGn9c0vRvz0KNJzxoNq/39FdREZR3r+0Q4e5FTXsvz62ruFQlee/hYmQQZUL8L9Rx/Fb1b3wv2CjcXb9Ycq/53PQSJXA7L9BO7DJV1Ppv9RiTtDbkeS/R1opMhZIr78=",
                    "dtype": "f8"
                  },
                  "z": {
                    "bdata": "XSGFP9LG8T/La4mgCE/vP40jbRckeus/zXR/3DKh8T/eYE+bI5/sP+vw46ynrfA/nhsKh7Fw8T/sdzgK+TPwP/O6vQZdcgJA34hrOyjT8T+q+LwQDhTjP6PQvuWgTuw/ONRwBv4e8z9vB4HqI7T5P2b8yVpkrfA/VPAevWOG4T8ORoUYJ+/lP7MNaZHv9PE/tF+mT7xh8j8VXpvbZ8z1P3NblvdLV/A/61yd1J0L8D81BZg9E//4P2Wq1Bp8h/g/nZp7Hp4L9z+zIzIEeHj1P8t8c//IxO8/grRsLBYW5j9XiMgt+ljwPyz3j1uwVvA/8wHTEFRc8T+PbjK9EmvvP+y7uJMPnOo/3DDgvM9/9z8=",
                    "dtype": "f8"
                  }
                },
                {
                  "customdata": [
                    [
                      "Gentoo",
                      "Male"
                    ],
                    [
                      "Gentoo",
                      "Male"
                    ],
                    [
                      "Gentoo",
                      "Male"
                    ],
                    [
                      "Gentoo",
                      "Male"
                    ],
                    [
                      "Gentoo",
                      "Male"
                    ],
                    [
                      "Gentoo",
                      "Male"
                    ],
                    [
                      "Gentoo",
                      "Male"
                    ],
                    [
                      "Gentoo",
                      "Male"
                    ],
                    [
                      "Gentoo",
                      "Male"
                    ],
                    [
                      "Gentoo",
                      "Male"
                    ],
                    [
                      "Gentoo",
                      "Male"
                    ],
                    [
                      "Gentoo",
                      "Male"
                    ],
                    [
                      "Gentoo",
                      "Male"
                    ],
                    [
                      "Gentoo",
                      "Male"
                    ],
                    [
                      "Gentoo",
                      "Male"
                    ],
                    [
                      "Gentoo",
                      "Male"
                    ],
                    [
                      "Gentoo",
                      "Male"
                    ],
                    [
                      "Gentoo",
                      "Male"
                    ],
                    [
                      "Gentoo",
                      "Male"
                    ],
                    [
                      "Gentoo",
                      "Male"
                    ],
                    [
                      "Gentoo",
                      "Male"
                    ],
                    [
                      "Gentoo",
                      "Male"
                    ],
                    [
                      "Gentoo",
                      "Male"
                    ],
                    [
                      "Gentoo",
                      "Male"
                    ],
                    [
                      "Gentoo",
                      "Male"
                    ],
                    [
                      "Gentoo",
                      "Male"
                    ],
                    [
                      "Gentoo",
                      "Male"
                    ],
                    [
                      "Gentoo",
                      "Male"
                    ],
                    [
                      "Gentoo",
                      "Male"
                    ],
                    [
                      "Gentoo",
                      "Male"
                    ],
                    [
                      "Gentoo",
                      "Male"
                    ],
                    [
                      "Gentoo",
                      "Male"
                    ],
                    [
                      "Gentoo",
                      "Male"
                    ],
                    [
                      "Gentoo",
                      "Male"
                    ],
                    [
                      "Gentoo",
                      "Male"
                    ],
                    [
                      "Gentoo",
                      "Male"
                    ],
                    [
                      "Gentoo",
                      "Male"
                    ],
                    [
                      "Gentoo",
                      "Male"
                    ],
                    [
                      "Gentoo",
                      "Male"
                    ],
                    [
                      "Gentoo",
                      "Male"
                    ],
                    [
                      "Gentoo",
                      "Male"
                    ],
                    [
                      "Gentoo",
                      "Male"
                    ],
                    [
                      "Gentoo",
                      "Male"
                    ],
                    [
                      "Gentoo",
                      "Male"
                    ],
                    [
                      "Gentoo",
                      "Male"
                    ],
                    [
                      "Gentoo",
                      "Male"
                    ],
                    [
                      "Gentoo",
                      "Male"
                    ],
                    [
                      "Gentoo",
                      "Male"
                    ],
                    [
                      "Gentoo",
                      "Male"
                    ],
                    [
                      "Gentoo",
                      "Male"
                    ],
                    [
                      "Gentoo",
                      "Male"
                    ],
                    [
                      "Gentoo",
                      "Male"
                    ],
                    [
                      "Gentoo",
                      "Male"
                    ],
                    [
                      "Gentoo",
                      "Male"
                    ],
                    [
                      "Gentoo",
                      "Male"
                    ],
                    [
                      "Gentoo",
                      "Male"
                    ],
                    [
                      "Gentoo",
                      "Male"
                    ],
                    [
                      "Gentoo",
                      "Male"
                    ],
                    [
                      "Gentoo",
                      "Male"
                    ],
                    [
                      "Gentoo",
                      "Male"
                    ],
                    [
                      "Gentoo",
                      "Male"
                    ]
                  ],
                  "hovertemplate": "species=%{customdata[0]}<br>sex=%{customdata[1]}<br>PC1=%{x}<br>PC2=%{y}<br>PC3=%{z}<extra></extra>",
                  "legendgroup": "Gentoo, Male",
                  "marker": {
                    "color": "#00cc96",
                    "opacity": 0.8,
                    "symbol": "circle"
                  },
                  "mode": "markers",
                  "name": "Gentoo, Male",
                  "scene": "scene",
                  "showlegend": true,
                  "type": "scatter3d",
                  "x": {
                    "bdata": "m3sQ0H9jCkA3g5PlH8QIQP5hKOPHXwZARmRHgg34BEDf0G/GEJ4DQDZNRlVV0AVA0WN3tUIXCEAwcKwLvRcIQHkcXpOcvAtACzLPd1q+B0D/BEa2Ux4KQIzS9cExXQJAwi/gcORxA0BVS5sIy98GQDrqb3X/fwhA1Y59qF9KBkC5ieJ4IgMQQFD0ueKinQVA64BIM8gyAUBPIVyGBz4DQN0clJwPSAlA0j93C4ktBECGv0XYSXUIQM73rem6lwhA/VEwGjveAkA3L9EL60cIQBoTssiE4wdAPrZS4VWKA0BpXSRATiQEQDCoeTmvwglAaUXr+JM3BkBaCX+srIoNQE8qdxEdlwlA8+gQwlFvCkB0xv3lmhIKQPRW6DW2DARATgshTANwBUA2yT40U38KQEsICHVKpwlAEiwQNaj1BkCXMyUKazwJQODBf/Ex2QdAyZA92ut3CECHeun81xkJQOdIew4g4QlAsYU+XhmeCEAzRNMvTZwIQAdg1u7jawhA1m+PQIG5A0ADVs3gcm0HQNwkM4O2lQtAkJ0SoJ9RCkBhh0xpUisEQDzrKZLuIAlAP0hCzGyrBECB40JRQakLQJ3CAX9TUApA1GauHjEoDkC3UOAHJxkJQJ/hNYosjQlAwaNxTBvaBEA=",
                    "dtype": "f8"
                  },
                  "y": {
                    "bdata": "xCnC5tGW8D/lq2fmLcjlP1d+jtTtztE/RrxFWFpk2j+mWPgGuSLaP5YLhnW0Deo/yn44OKG73D9e3SYPDtLpP8v4MDVk1uk/IdSX3L+m4D/Os3YrHyvdP6a+26uoh90/m+u/Zezx0T88O/4QlebeP4w98/kGxeU/xCm1SPxQ3j9Doth4VgX9P4TKBtd4O+o/Uv9eSll46j+5YXBTXR/jPw5BeEDiFO0/NuBq47LC1j/Ez2Pf3f/rP7xBYH4PVes/tC54zvze3T/JtEtSnLHMP2BVELfYxd8/w/npYZtG1D/BpjsPJ+jMP8bYEIcqLOc/Zd9Uv6Zb1D/PS+8igJbxP1KH2VR+g/I/DKJcLyAQ8D/Rw0d36fvkP8JxF1dl5ds/mkbkCBPK4T/ol5q8MB7tP9hflNl20fE/8kqIo3+t6j+Cp0u5eN3rP9k3AFIx5+k/SUNvXKHc9D/ktzIZkLnYP6G12OdNrvQ/uoLZHfZk9D/qHxRc0SntP1ae5iMOuug/nswULz8o4z83hFm5chPwP/Pt/Um95vc/8PVq+LHL4j/b1Pyix8LlP7gtFtF3GO8/MsJbj2L43D9g1TRSdVXvP0xfp4IHC/E/hQSr4VM89D+u9LWgJ0rvP9BjXqOBxus/BgCRcQHP6T8=",
                    "dtype": "f8"
                  },
                  "z": {
                    "bdata": "4fRP3XrVz7+spPuhNmXSv/uVGYUlFN+/vCAk50l64L9LUuDcEfffv7AVXoT1wta/GXblW5W94L86zTrZkuLZv9bfdF/EA+G/AKNYSBb31L9GdyLUB27Rv3Ho5vEdyuC/VHfY4MAc4r+X9Tkhvt/gvw1B1ejo1c6/+F87MiMU3b+LRBXWIU3nP6xhkTe5rde/iHi1LqSU6L+q0ClA4+bWvwIVjEWGttO/UiwYSrmatL89loWpWHrGv0niYCbVTcC/JOKRVS7f5r+ciPt4XFjWv4Kid3aVALK/gvL58JQc5b82vq/0VQDjv30zzkIp3se/+umaC7EQ479b1Tfv9MDOP8plYKzVFdG/dI6Zc4pr1b/B8OAtBzrEv9jakablI9+/co2g8esU1L9xp5Vmc8LbvzVXOPp80s2/ui5aDTi667+OJ0Wglp6xP0mXBpXS/sW/6aso3y2cwL/TSuu4a6ylv7v8gLJWlJ8/DuxwdncWtD+MLsiNEqrTvyOY3lQw4aO/odyILMhqwr/K/4ehiziPv6LCTvCUzNs/DosB45DR079KOXpGqdjiv8OJDrVGbsM/gNxUhg/r3b/OsdBq0wvWv+XiAExecZy/IjSUf5qU0T8KnRNnF/7ev0kSXKfIDc+/qfg5b0J5zL8=",
                    "dtype": "f8"
                  }
                },
                {
                  "customdata": [
                    [
                      "Gentoo",
                      "Female"
                    ],
                    [
                      "Gentoo",
                      "Female"
                    ],
                    [
                      "Gentoo",
                      "Female"
                    ],
                    [
                      "Gentoo",
                      "Female"
                    ],
                    [
                      "Gentoo",
                      "Female"
                    ],
                    [
                      "Gentoo",
                      "Female"
                    ],
                    [
                      "Gentoo",
                      "Female"
                    ],
                    [
                      "Gentoo",
                      "Female"
                    ],
                    [
                      "Gentoo",
                      "Female"
                    ],
                    [
                      "Gentoo",
                      "Female"
                    ],
                    [
                      "Gentoo",
                      "Female"
                    ],
                    [
                      "Gentoo",
                      "Female"
                    ],
                    [
                      "Gentoo",
                      "Female"
                    ],
                    [
                      "Gentoo",
                      "Female"
                    ],
                    [
                      "Gentoo",
                      "Female"
                    ],
                    [
                      "Gentoo",
                      "Female"
                    ],
                    [
                      "Gentoo",
                      "Female"
                    ],
                    [
                      "Gentoo",
                      "Female"
                    ],
                    [
                      "Gentoo",
                      "Female"
                    ],
                    [
                      "Gentoo",
                      "Female"
                    ],
                    [
                      "Gentoo",
                      "Female"
                    ],
                    [
                      "Gentoo",
                      "Female"
                    ],
                    [
                      "Gentoo",
                      "Female"
                    ],
                    [
                      "Gentoo",
                      "Female"
                    ],
                    [
                      "Gentoo",
                      "Female"
                    ],
                    [
                      "Gentoo",
                      "Female"
                    ],
                    [
                      "Gentoo",
                      "Female"
                    ],
                    [
                      "Gentoo",
                      "Female"
                    ],
                    [
                      "Gentoo",
                      "Female"
                    ],
                    [
                      "Gentoo",
                      "Female"
                    ],
                    [
                      "Gentoo",
                      "Female"
                    ],
                    [
                      "Gentoo",
                      "Female"
                    ],
                    [
                      "Gentoo",
                      "Female"
                    ],
                    [
                      "Gentoo",
                      "Female"
                    ],
                    [
                      "Gentoo",
                      "Female"
                    ],
                    [
                      "Gentoo",
                      "Female"
                    ],
                    [
                      "Gentoo",
                      "Female"
                    ],
                    [
                      "Gentoo",
                      "Female"
                    ],
                    [
                      "Gentoo",
                      "Female"
                    ],
                    [
                      "Gentoo",
                      "Female"
                    ],
                    [
                      "Gentoo",
                      "Female"
                    ],
                    [
                      "Gentoo",
                      "Female"
                    ],
                    [
                      "Gentoo",
                      "Female"
                    ],
                    [
                      "Gentoo",
                      "Female"
                    ],
                    [
                      "Gentoo",
                      "Female"
                    ],
                    [
                      "Gentoo",
                      "Female"
                    ],
                    [
                      "Gentoo",
                      "Female"
                    ],
                    [
                      "Gentoo",
                      "Female"
                    ],
                    [
                      "Gentoo",
                      "Female"
                    ],
                    [
                      "Gentoo",
                      "Female"
                    ],
                    [
                      "Gentoo",
                      "Female"
                    ],
                    [
                      "Gentoo",
                      "Female"
                    ],
                    [
                      "Gentoo",
                      "Female"
                    ],
                    [
                      "Gentoo",
                      "Female"
                    ],
                    [
                      "Gentoo",
                      "Female"
                    ],
                    [
                      "Gentoo",
                      "Female"
                    ],
                    [
                      "Gentoo",
                      "Female"
                    ],
                    [
                      "Gentoo",
                      "Female"
                    ]
                  ],
                  "hovertemplate": "species=%{customdata[0]}<br>sex=%{customdata[1]}<br>PC1=%{x}<br>PC2=%{y}<br>PC3=%{z}<extra></extra>",
                  "legendgroup": "Gentoo, Female",
                  "marker": {
                    "color": "#00cc96",
                    "opacity": 0.8,
                    "symbol": "diamond"
                  },
                  "mode": "markers",
                  "name": "Gentoo, Female",
                  "scene": "scene",
                  "showlegend": true,
                  "type": "scatter3d",
                  "x": {
                    "bdata": "3FzTeDnVAECc2ozj4XsAQMu5ZnWclQBAFvLCMYin/z8EvUOvbDr8P5JZGt9rpv0/wkj/RtpCAUBdgVwqjlb6P4k/YTDq7Pg/UBuIBue6/z/mjmcSirkBQLzxH7MFq/4/85QDWqJ/AkDIBTh8FpgAQDkwn/UvF/w/mgXnwoSw/z9LOR078mMFQNnlo/FfxABAAxmEjOp0+z/x4kVIYFP2P0QozdCwK/0/mmxWLd3ZAUD5LMexkfX7P3d7HtXpMANAmj0Ilcr4AEBkyWEeo+P7PxF8XTrCsQJAy2z6srH6+T99jSRYW/z4Pz8HynbK+fo/9fPTEeQAAED3Qap0dUECQB+59oXATAFANtNkLLWVAUDj+ZRzvnEDQKbPVNHTrQBAVGTOl4YZAEDW/PeRG6kBQHrDttw9bQFAjiHVEpTSAEBdrvC+F7cAQCTycWDKAgBAxyugB8NbAkACfVYbW98CQJoXMhdCEABAR5y/bkU3AEBoGMSW1dQDQMDxQSCIq/0/hu/M8cY6A0B1wEsN41cBQKsdr0qcEPo/o+x1gS6Q+z/zbRpnk+ADQLj9seyNufs/XHAsqEurAEBxeH9qUFsDQORfl+kFQAJAp3mhHu1xAUA=",
                    "dtype": "f8"
                  },
                  "y": {
                    "bdata": "oDQeM+IA/r8bdCr4Alf4v4XtKneyTPy/Af8O+siE97/Mf2fpQg4AwMRwtlbXaP+/Z39C0A6J+7/ooFEueLP5v2LnmXyo2gDA5XRSph9y97/ClhiTGQT3v+q3D9aCcvi/I8fS5Ke6/r8rsHoAGVH3v2PaZrZB+Pu/8J47hvSK97/WD1geJVTxvy6dNd3Y2vy/R9qUq2n6/r9K/s3p96IAwH6c7GUafP2/mheAeGUD+78SNlJsQ+L8v9k/4EYx/Pu/6hgtGToS+L8juXk8g1H6v1g+UtxYeva/evK6SdsX/r948ycV3nr7v75PKf40p/2/FEkC5J2K+7/MkNp6H4j4v3NmzMmuYPq/w5tL5mWn87+zEl8H6pbzv7UAEPN78/S/tXjTEINq+L+SOkFHpt/6v/voA/srcPW/eqxMQfEL9r/KVCycU2b7vzf31DAwNvq/LB31ze/d979XNvo7qNTyv30OGebZ9ve/bObAJ+Bh97//7+obB/P0v7rJna09RPe/mo9awFFN8r85yofQoynxvzJtP7xLtvq/VLnPSpr7/L+kNiTPxuTuvwtvRlU3CPe/Z7DPjmYc+r/PkAi6of34vymWfapJB/e/vRZuKtwj9b8=",
                    "dtype": "f8"
                  },
                  "z": {
                    "bdata": "t8YOpRBIyj/jUY21DGXgP5tKD3IIN84//QuGqvpIrT/Sxefocvu0v6ZM7/sSs9m/BjLSf0cCvD+sNRI/bcXQP0VkWTMw3cO/wxRJf0L0wT8lB9l0KbuVvyAaSJKNs9I/cxkFCDi10b/eqnwZxLraP+vuX6tPN8u/w50dPZsPrL+OHQb6emzZP6DD8n3W/NK/du/09y9QgT9FSFXg/S2bvzeWtpSOC8Y/63WICzmJxL9fqOhZNZHMPxL8G8YFybW/H3SQvGXrxT/nGvFGgm/AP4dSZqEbNMU/1upKUu3yYT/ShYcvELa5v4+C9c5g+8g/K/9oaHK9yT/7IecywKPCP/LYFJLhe7u/WJ+MMy7i1T/GTBJ1PV22P0MO6otyBcs/bI8VrN2K1T8d16LjS72qP8HbDhqxjuA/SBO4nZtX0z82uDbGM1iHP+Kz1sBLQLi/xAgKiWck0T+OjrvHYE7RP5Yxm/o4ZrU/Y7j00r+aqL9b4cvnKZDNP3Jx7Uaspdo/8gCciClQ2j8j9RIaSAbNP8TcdE60A9W/b0CjOApJwL+z/klv2sXiPwqgaDBUdrq/vLg8fMpw0T9jbmHsAZ7MP8t5WucVd8o/CuH2QuLNsb8=",
                    "dtype": "f8"
                  }
                }
              ],
              "layout": {
                "legend": {
                  "title": {
                    "text": "species, sex"
                  },
                  "tracegroupgap": 0
                },
                "margin": {
                  "t": 60
                },
                "scene": {
                  "domain": {
                    "x": [
                      0,
                      1
                    ],
                    "y": [
                      0,
                      1
                    ]
                  },
                  "xaxis": {
                    "title": {
                      "text": "PC1 (58.9%)"
                    }
                  },
                  "yaxis": {
                    "title": {
                      "text": "PC2 (21.9%)"
                    }
                  },
                  "zaxis": {
                    "title": {
                      "text": "PC3 (8.6%)"
                    }
                  }
                },
                "template": {
                  "data": {
                    "bar": [
                      {
                        "error_x": {
                          "color": "#2a3f5f"
                        },
                        "error_y": {
                          "color": "#2a3f5f"
                        },
                        "marker": {
                          "line": {
                            "color": "#E5ECF6",
                            "width": 0.5
                          },
                          "pattern": {
                            "fillmode": "overlay",
                            "size": 10,
                            "solidity": 0.2
                          }
                        },
                        "type": "bar"
                      }
                    ],
                    "barpolar": [
                      {
                        "marker": {
                          "line": {
                            "color": "#E5ECF6",
                            "width": 0.5
                          },
                          "pattern": {
                            "fillmode": "overlay",
                            "size": 10,
                            "solidity": 0.2
                          }
                        },
                        "type": "barpolar"
                      }
                    ],
                    "carpet": [
                      {
                        "aaxis": {
                          "endlinecolor": "#2a3f5f",
                          "gridcolor": "white",
                          "linecolor": "white",
                          "minorgridcolor": "white",
                          "startlinecolor": "#2a3f5f"
                        },
                        "baxis": {
                          "endlinecolor": "#2a3f5f",
                          "gridcolor": "white",
                          "linecolor": "white",
                          "minorgridcolor": "white",
                          "startlinecolor": "#2a3f5f"
                        },
                        "type": "carpet"
                      }
                    ],
                    "choropleth": [
                      {
                        "colorbar": {
                          "outlinewidth": 0,
                          "ticks": ""
                        },
                        "type": "choropleth"
                      }
                    ],
                    "contour": [
                      {
                        "colorbar": {
                          "outlinewidth": 0,
                          "ticks": ""
                        },
                        "colorscale": [
                          [
                            0,
                            "#0d0887"
                          ],
                          [
                            0.1111111111111111,
                            "#46039f"
                          ],
                          [
                            0.2222222222222222,
                            "#7201a8"
                          ],
                          [
                            0.3333333333333333,
                            "#9c179e"
                          ],
                          [
                            0.4444444444444444,
                            "#bd3786"
                          ],
                          [
                            0.5555555555555556,
                            "#d8576b"
                          ],
                          [
                            0.6666666666666666,
                            "#ed7953"
                          ],
                          [
                            0.7777777777777778,
                            "#fb9f3a"
                          ],
                          [
                            0.8888888888888888,
                            "#fdca26"
                          ],
                          [
                            1,
                            "#f0f921"
                          ]
                        ],
                        "type": "contour"
                      }
                    ],
                    "contourcarpet": [
                      {
                        "colorbar": {
                          "outlinewidth": 0,
                          "ticks": ""
                        },
                        "type": "contourcarpet"
                      }
                    ],
                    "heatmap": [
                      {
                        "colorbar": {
                          "outlinewidth": 0,
                          "ticks": ""
                        },
                        "colorscale": [
                          [
                            0,
                            "#0d0887"
                          ],
                          [
                            0.1111111111111111,
                            "#46039f"
                          ],
                          [
                            0.2222222222222222,
                            "#7201a8"
                          ],
                          [
                            0.3333333333333333,
                            "#9c179e"
                          ],
                          [
                            0.4444444444444444,
                            "#bd3786"
                          ],
                          [
                            0.5555555555555556,
                            "#d8576b"
                          ],
                          [
                            0.6666666666666666,
                            "#ed7953"
                          ],
                          [
                            0.7777777777777778,
                            "#fb9f3a"
                          ],
                          [
                            0.8888888888888888,
                            "#fdca26"
                          ],
                          [
                            1,
                            "#f0f921"
                          ]
                        ],
                        "type": "heatmap"
                      }
                    ],
                    "histogram": [
                      {
                        "marker": {
                          "pattern": {
                            "fillmode": "overlay",
                            "size": 10,
                            "solidity": 0.2
                          }
                        },
                        "type": "histogram"
                      }
                    ],
                    "histogram2d": [
                      {
                        "colorbar": {
                          "outlinewidth": 0,
                          "ticks": ""
                        },
                        "colorscale": [
                          [
                            0,
                            "#0d0887"
                          ],
                          [
                            0.1111111111111111,
                            "#46039f"
                          ],
                          [
                            0.2222222222222222,
                            "#7201a8"
                          ],
                          [
                            0.3333333333333333,
                            "#9c179e"
                          ],
                          [
                            0.4444444444444444,
                            "#bd3786"
                          ],
                          [
                            0.5555555555555556,
                            "#d8576b"
                          ],
                          [
                            0.6666666666666666,
                            "#ed7953"
                          ],
                          [
                            0.7777777777777778,
                            "#fb9f3a"
                          ],
                          [
                            0.8888888888888888,
                            "#fdca26"
                          ],
                          [
                            1,
                            "#f0f921"
                          ]
                        ],
                        "type": "histogram2d"
                      }
                    ],
                    "histogram2dcontour": [
                      {
                        "colorbar": {
                          "outlinewidth": 0,
                          "ticks": ""
                        },
                        "colorscale": [
                          [
                            0,
                            "#0d0887"
                          ],
                          [
                            0.1111111111111111,
                            "#46039f"
                          ],
                          [
                            0.2222222222222222,
                            "#7201a8"
                          ],
                          [
                            0.3333333333333333,
                            "#9c179e"
                          ],
                          [
                            0.4444444444444444,
                            "#bd3786"
                          ],
                          [
                            0.5555555555555556,
                            "#d8576b"
                          ],
                          [
                            0.6666666666666666,
                            "#ed7953"
                          ],
                          [
                            0.7777777777777778,
                            "#fb9f3a"
                          ],
                          [
                            0.8888888888888888,
                            "#fdca26"
                          ],
                          [
                            1,
                            "#f0f921"
                          ]
                        ],
                        "type": "histogram2dcontour"
                      }
                    ],
                    "mesh3d": [
                      {
                        "colorbar": {
                          "outlinewidth": 0,
                          "ticks": ""
                        },
                        "type": "mesh3d"
                      }
                    ],
                    "parcoords": [
                      {
                        "line": {
                          "colorbar": {
                            "outlinewidth": 0,
                            "ticks": ""
                          }
                        },
                        "type": "parcoords"
                      }
                    ],
                    "pie": [
                      {
                        "automargin": true,
                        "type": "pie"
                      }
                    ],
                    "scatter": [
                      {
                        "fillpattern": {
                          "fillmode": "overlay",
                          "size": 10,
                          "solidity": 0.2
                        },
                        "type": "scatter"
                      }
                    ],
                    "scatter3d": [
                      {
                        "line": {
                          "colorbar": {
                            "outlinewidth": 0,
                            "ticks": ""
                          }
                        },
                        "marker": {
                          "colorbar": {
                            "outlinewidth": 0,
                            "ticks": ""
                          }
                        },
                        "type": "scatter3d"
                      }
                    ],
                    "scattercarpet": [
                      {
                        "marker": {
                          "colorbar": {
                            "outlinewidth": 0,
                            "ticks": ""
                          }
                        },
                        "type": "scattercarpet"
                      }
                    ],
                    "scattergeo": [
                      {
                        "marker": {
                          "colorbar": {
                            "outlinewidth": 0,
                            "ticks": ""
                          }
                        },
                        "type": "scattergeo"
                      }
                    ],
                    "scattergl": [
                      {
                        "marker": {
                          "colorbar": {
                            "outlinewidth": 0,
                            "ticks": ""
                          }
                        },
                        "type": "scattergl"
                      }
                    ],
                    "scattermap": [
                      {
                        "marker": {
                          "colorbar": {
                            "outlinewidth": 0,
                            "ticks": ""
                          }
                        },
                        "type": "scattermap"
                      }
                    ],
                    "scattermapbox": [
                      {
                        "marker": {
                          "colorbar": {
                            "outlinewidth": 0,
                            "ticks": ""
                          }
                        },
                        "type": "scattermapbox"
                      }
                    ],
                    "scatterpolar": [
                      {
                        "marker": {
                          "colorbar": {
                            "outlinewidth": 0,
                            "ticks": ""
                          }
                        },
                        "type": "scatterpolar"
                      }
                    ],
                    "scatterpolargl": [
                      {
                        "marker": {
                          "colorbar": {
                            "outlinewidth": 0,
                            "ticks": ""
                          }
                        },
                        "type": "scatterpolargl"
                      }
                    ],
                    "scatterternary": [
                      {
                        "marker": {
                          "colorbar": {
                            "outlinewidth": 0,
                            "ticks": ""
                          }
                        },
                        "type": "scatterternary"
                      }
                    ],
                    "surface": [
                      {
                        "colorbar": {
                          "outlinewidth": 0,
                          "ticks": ""
                        },
                        "colorscale": [
                          [
                            0,
                            "#0d0887"
                          ],
                          [
                            0.1111111111111111,
                            "#46039f"
                          ],
                          [
                            0.2222222222222222,
                            "#7201a8"
                          ],
                          [
                            0.3333333333333333,
                            "#9c179e"
                          ],
                          [
                            0.4444444444444444,
                            "#bd3786"
                          ],
                          [
                            0.5555555555555556,
                            "#d8576b"
                          ],
                          [
                            0.6666666666666666,
                            "#ed7953"
                          ],
                          [
                            0.7777777777777778,
                            "#fb9f3a"
                          ],
                          [
                            0.8888888888888888,
                            "#fdca26"
                          ],
                          [
                            1,
                            "#f0f921"
                          ]
                        ],
                        "type": "surface"
                      }
                    ],
                    "table": [
                      {
                        "cells": {
                          "fill": {
                            "color": "#EBF0F8"
                          },
                          "line": {
                            "color": "white"
                          }
                        },
                        "header": {
                          "fill": {
                            "color": "#C8D4E3"
                          },
                          "line": {
                            "color": "white"
                          }
                        },
                        "type": "table"
                      }
                    ]
                  },
                  "layout": {
                    "annotationdefaults": {
                      "arrowcolor": "#2a3f5f",
                      "arrowhead": 0,
                      "arrowwidth": 1
                    },
                    "autotypenumbers": "strict",
                    "coloraxis": {
                      "colorbar": {
                        "outlinewidth": 0,
                        "ticks": ""
                      }
                    },
                    "colorscale": {
                      "diverging": [
                        [
                          0,
                          "#8e0152"
                        ],
                        [
                          0.1,
                          "#c51b7d"
                        ],
                        [
                          0.2,
                          "#de77ae"
                        ],
                        [
                          0.3,
                          "#f1b6da"
                        ],
                        [
                          0.4,
                          "#fde0ef"
                        ],
                        [
                          0.5,
                          "#f7f7f7"
                        ],
                        [
                          0.6,
                          "#e6f5d0"
                        ],
                        [
                          0.7,
                          "#b8e186"
                        ],
                        [
                          0.8,
                          "#7fbc41"
                        ],
                        [
                          0.9,
                          "#4d9221"
                        ],
                        [
                          1,
                          "#276419"
                        ]
                      ],
                      "sequential": [
                        [
                          0,
                          "#0d0887"
                        ],
                        [
                          0.1111111111111111,
                          "#46039f"
                        ],
                        [
                          0.2222222222222222,
                          "#7201a8"
                        ],
                        [
                          0.3333333333333333,
                          "#9c179e"
                        ],
                        [
                          0.4444444444444444,
                          "#bd3786"
                        ],
                        [
                          0.5555555555555556,
                          "#d8576b"
                        ],
                        [
                          0.6666666666666666,
                          "#ed7953"
                        ],
                        [
                          0.7777777777777778,
                          "#fb9f3a"
                        ],
                        [
                          0.8888888888888888,
                          "#fdca26"
                        ],
                        [
                          1,
                          "#f0f921"
                        ]
                      ],
                      "sequentialminus": [
                        [
                          0,
                          "#0d0887"
                        ],
                        [
                          0.1111111111111111,
                          "#46039f"
                        ],
                        [
                          0.2222222222222222,
                          "#7201a8"
                        ],
                        [
                          0.3333333333333333,
                          "#9c179e"
                        ],
                        [
                          0.4444444444444444,
                          "#bd3786"
                        ],
                        [
                          0.5555555555555556,
                          "#d8576b"
                        ],
                        [
                          0.6666666666666666,
                          "#ed7953"
                        ],
                        [
                          0.7777777777777778,
                          "#fb9f3a"
                        ],
                        [
                          0.8888888888888888,
                          "#fdca26"
                        ],
                        [
                          1,
                          "#f0f921"
                        ]
                      ]
                    },
                    "colorway": [
                      "#636efa",
                      "#EF553B",
                      "#00cc96",
                      "#ab63fa",
                      "#FFA15A",
                      "#19d3f3",
                      "#FF6692",
                      "#B6E880",
                      "#FF97FF",
                      "#FECB52"
                    ],
                    "font": {
                      "color": "#2a3f5f"
                    },
                    "geo": {
                      "bgcolor": "white",
                      "lakecolor": "white",
                      "landcolor": "#E5ECF6",
                      "showlakes": true,
                      "showland": true,
                      "subunitcolor": "white"
                    },
                    "hoverlabel": {
                      "align": "left"
                    },
                    "hovermode": "closest",
                    "mapbox": {
                      "style": "light"
                    },
                    "paper_bgcolor": "white",
                    "plot_bgcolor": "#E5ECF6",
                    "polar": {
                      "angularaxis": {
                        "gridcolor": "white",
                        "linecolor": "white",
                        "ticks": ""
                      },
                      "bgcolor": "#E5ECF6",
                      "radialaxis": {
                        "gridcolor": "white",
                        "linecolor": "white",
                        "ticks": ""
                      }
                    },
                    "scene": {
                      "xaxis": {
                        "backgroundcolor": "#E5ECF6",
                        "gridcolor": "white",
                        "gridwidth": 2,
                        "linecolor": "white",
                        "showbackground": true,
                        "ticks": "",
                        "zerolinecolor": "white"
                      },
                      "yaxis": {
                        "backgroundcolor": "#E5ECF6",
                        "gridcolor": "white",
                        "gridwidth": 2,
                        "linecolor": "white",
                        "showbackground": true,
                        "ticks": "",
                        "zerolinecolor": "white"
                      },
                      "zaxis": {
                        "backgroundcolor": "#E5ECF6",
                        "gridcolor": "white",
                        "gridwidth": 2,
                        "linecolor": "white",
                        "showbackground": true,
                        "ticks": "",
                        "zerolinecolor": "white"
                      }
                    },
                    "shapedefaults": {
                      "line": {
                        "color": "#2a3f5f"
                      }
                    },
                    "ternary": {
                      "aaxis": {
                        "gridcolor": "white",
                        "linecolor": "white",
                        "ticks": ""
                      },
                      "baxis": {
                        "gridcolor": "white",
                        "linecolor": "white",
                        "ticks": ""
                      },
                      "bgcolor": "#E5ECF6",
                      "caxis": {
                        "gridcolor": "white",
                        "linecolor": "white",
                        "ticks": ""
                      }
                    },
                    "title": {
                      "x": 0.05
                    },
                    "xaxis": {
                      "automargin": true,
                      "gridcolor": "white",
                      "linecolor": "white",
                      "ticks": "",
                      "title": {
                        "standoff": 15
                      },
                      "zerolinecolor": "white",
                      "zerolinewidth": 2
                    },
                    "yaxis": {
                      "automargin": true,
                      "gridcolor": "white",
                      "linecolor": "white",
                      "ticks": "",
                      "title": {
                        "standoff": 15
                      },
                      "zerolinecolor": "white",
                      "zerolinewidth": 2
                    }
                  }
                },
                "title": {
                  "text": "PCA 3D: Separación por especie y sexo"
                }
              }
            }
          },
          "metadata": {},
          "output_type": "display_data"
        }
      ],
      "source": [
        "# Crear un nuevo DataFrame para usar con plotly\n",
        "df_3d = scores.copy()\n",
        "df_3d[\"species_sex\"] = df_3d[\"species\"] + \" / \" + df_3d[\"sex\"]\n",
        "\n",
        "# Crear gráfico 3D\n",
        "fig = px.scatter_3d(\n",
        "    df_3d,\n",
        "    x=\"PC1\",\n",
        "    y=\"PC2\",\n",
        "    z=\"PC3\",\n",
        "    color=\"species\",\n",
        "    symbol=\"sex\",\n",
        "    opacity=0.8,\n",
        "    hover_data=[\"species\", \"sex\"]\n",
        ")\n",
        "\n",
        "# Personalización\n",
        "fig.update_layout(\n",
        "    title=\"PCA 3D: Separación por especie y sexo\",\n",
        "    scene=dict(\n",
        "        xaxis_title=f\"PC1 ({explained_var[0]*100:.1f}%)\",\n",
        "        yaxis_title=f\"PC2 ({explained_var[1]*100:.1f}%)\",\n",
        "        zaxis_title=f\"PC3 ({explained_var[2]*100:.1f}%)\"\n",
        "    )\n",
        ")\n",
        "\n",
        "fig.show()"
      ]
    },
    {
      "cell_type": "markdown",
      "metadata": {},
      "source": [
        "✅ Ideal para:\n",
        "\n",
        "* Observar **interactivamente agrupamientos**.\n",
        "* Ver cómo **PC3 separa sexos o islas**.\n",
        "* Usar en presentaciones o dashboards.\n"
      ]
    },
    {
      "cell_type": "markdown",
      "metadata": {},
      "source": [
        "## 🎯 Agregar Centroides y Elipses de Dispersión con Seaborn\n",
        "\n",
        "Agregar **centroides** y **elipses de dispersión** es una excelente práctica para enriquecer el análisis visual en PCA. Esto permite evaluar:\n",
        "\n",
        "* La **distribución interna** de cada grupo (especie o sexo).\n",
        "* El **grado de superposición** entre grupos.\n",
        "* La **homogeneidad** o dispersión de las observaciones.\n"
      ]
    },
    {
      "cell_type": "markdown",
      "metadata": {},
      "source": [
        "### 📍 Centroides y puntos\n",
        "\n",
        "Puedes calcular los **centroides** (medias de PC1 y PC2 por grupo) con `groupby` y luego graficarlos encima del scatterplot:"
      ]
    },
    {
      "cell_type": "code",
      "execution_count": 44,
      "metadata": {},
      "outputs": [
        {
          "data": {
            "image/png": "[encoded data removed]",
            "text/plain": [
              "<Figure size 800x600 with 1 Axes>"
            ]
          },
          "metadata": {},
          "output_type": "display_data"
        }
      ],
      "source": [
        "import matplotlib.pyplot as plt\n",
        "import seaborn as sns\n",
        "\n",
        "# Definir paletas y marcadores (solo rellenos)\n",
        "species_palette = {\n",
        "    \"Adelie\": \"tab:blue\",\n",
        "    \"Gentoo\": \"tab:orange\",\n",
        "    \"Chinstrap\": \"tab:green\",\n",
        "}\n",
        "\n",
        "# Evitamos mezcla de rellenos y contornos\n",
        "markers = {\"Male\": \"o\", \"Female\": \"s\"}  # Ambos son rellenos\n",
        "\n",
        "# Calcular centroides por especie y sexo\n",
        "centroids = scores.groupby([\"species\", \"sex\"])[[\"PC1\", \"PC2\"]].mean().reset_index()\n",
        "\n",
        "# Graficar puntos + centroides\n",
        "plt.figure(figsize=(8, 6))\n",
        "\n",
        "# Graficar puntos individuales\n",
        "sns.scatterplot(\n",
        "    data=scores,\n",
        "    x=\"PC1\", y=\"PC2\",\n",
        "    hue=\"species\",\n",
        "    style=\"sex\",\n",
        "    palette=species_palette,\n",
        "    markers=markers,\n",
        "    alpha=0.6,\n",
        "    s=60,\n",
        ")\n",
        "\n",
        "# Graficar centroides\n",
        "sns.scatterplot(\n",
        "    data=centroids,\n",
        "    x=\"PC1\", y=\"PC2\",\n",
        "    hue=\"species\",\n",
        "    style=\"sex\",\n",
        "    palette=species_palette,\n",
        "    markers=markers,\n",
        "    s=200,  # mayor tamaño\n",
        "    edgecolor=\"black\",\n",
        "    legend=False  # para evitar duplicar leyenda\n",
        ")\n",
        "\n",
        "plt.title(\"PCA con centroides por especie y sexo\")\n",
        "plt.tight_layout()\n",
        "plt.show()\n"
      ]
    },
    {
      "cell_type": "markdown",
      "metadata": {},
      "source": [
        "### ⭕ Elipses de dispersión (kdeplot)\n",
        "\n",
        "Una manera de visualizar la forma de cada grupo es usar `sns.kdeplot` para generar **curvas de densidad bidimensionales** (una especie de \"elipses\"):\n",
        "\n",
        "> 💡 También se puede usar `matplotlib.patches.Ellipse` para agregar **elipses formales de confianza (95%)**, pero eso requiere estimar la covarianza de cada grupo (si quieres lo desarrollamos también).\n"
      ]
    },
    {
      "cell_type": "code",
      "execution_count": 45,
      "metadata": {},
      "outputs": [
        {
          "name": "stderr",
          "output_type": "stream",
          "text": [
            "c:\\Users\\guill\\Escritorio\\INFORMATICA\\data-science\\env\\Lib\\site-packages\\seaborn\\distributions.py:1176: UserWarning:\n",
            "\n",
            "The following kwargs were not used by contour: 'linewidth'\n",
            "\n",
            "c:\\Users\\guill\\Escritorio\\INFORMATICA\\data-science\\env\\Lib\\site-packages\\seaborn\\distributions.py:1176: UserWarning:\n",
            "\n",
            "The following kwargs were not used by contour: 'linewidth'\n",
            "\n",
            "c:\\Users\\guill\\Escritorio\\INFORMATICA\\data-science\\env\\Lib\\site-packages\\seaborn\\distributions.py:1176: UserWarning:\n",
            "\n",
            "The following kwargs were not used by contour: 'linewidth'\n",
            "\n",
            "C:\\Users\\guill\\AppData\\Local\\Temp\\ipykernel_26032\\2104912482.py:23: UserWarning:\n",
            "\n",
            "No artists with labels found to put in legend.  Note that artists whose label start with an underscore are ignored when legend() is called with no argument.\n",
            "\n"
          ]
        },
        {
          "data": {
            "image/png": "[encoded data removed]",
            "text/plain": [
              "<Figure size 800x600 with 1 Axes>"
            ]
          },
          "metadata": {},
          "output_type": "display_data"
        }
      ],
      "source": [
        "plt.figure(figsize=(8, 6))\n",
        "\n",
        "for spec, group in scores.groupby(\"species\"):\n",
        "    sns.kdeplot(\n",
        "        data=group,\n",
        "        x=\"PC1\", y=\"PC2\",\n",
        "        fill=True, alpha=0.2,\n",
        "        label=spec,\n",
        "        linewidth=1,\n",
        "        color=species_palette.get(spec)\n",
        "    )\n",
        "    sns.scatterplot(\n",
        "        data=group,\n",
        "        x=\"PC1\", y=\"PC2\",\n",
        "        hue=\"sex\",\n",
        "        style=\"sex\",\n",
        "        palette=\"dark\",\n",
        "        legend=False,\n",
        "        alpha=0.4\n",
        "    )\n",
        "\n",
        "plt.title(\"Elipses de dispersión por especie (kdeplot)\")\n",
        "plt.legend(title=\"Especie\")\n",
        "plt.tight_layout()\n",
        "plt.show()"
      ]
    },
    {
      "cell_type": "markdown",
      "metadata": {},
      "source": [
        "# 📌 Conclusiones del Análisis PCA sobre Pingüinos de Palmer"
      ]
    },
    {
      "cell_type": "markdown",
      "metadata": {},
      "source": [
        "#### 1. **Importancia de las variables en los componentes principales**\n",
        "\n",
        "* **PC1 (58.9% de la varianza):**\n",
        "\n",
        "  * Está fuertemente influido por `body_mass_g`, `flipper_length_mm`, y `species_num`. Estas variables explican la mayor parte de la varianza total del conjunto.\n",
        "  * **Interpretación:** PC1 resume esencialmente el tamaño corporal del pingüino.\n",
        "\n",
        "* **PC2 (21.9% de la varianza):**\n",
        "\n",
        "  * Dominado por `sex_num` y `bill_depth_mm`, lo que sugiere que estas variables aportan diferencias más sutiles entre sexos y características del pico.\n",
        "  * **Interpretación:** PC2 representa variaciones relacionadas con el dimorfismo sexual y la forma del pico.\n",
        "\n",
        "* **PC3 (\\~9%):**\n",
        "\n",
        "  * Tiene un peso importante de `bill_length_mm` y `island_num`, posiblemente aportando discriminación fina entre subpoblaciones o hábitats.\n",
        "\n",
        "---\n",
        "\n",
        "#### 2. **Visualización de individuos (scores): patrones y agrupamientos**\n",
        "\n",
        "* El gráfico PC1 vs PC2 muestra:\n",
        "\n",
        "  * **Clusters bien definidos por especie**, lo que indica que las medidas morfométricas seleccionadas permiten **distinguir claramente entre Adelie, Chinstrap y Gentoo**.\n",
        "  * **Separación parcial por sexo**: los machos y hembras aparecen en posiciones ligeramente distintas, especialmente en ciertas especies como Adelie y Gentoo.\n",
        "  * Esta separación mejora cuando se observa PC1 vs PC3, donde el eje PC3 mejora la diferenciación por sexo.\n",
        "\n",
        "---\n",
        "\n",
        "#### 3. **Scree Plot y PVE acumulado**\n",
        "\n",
        "* El **punto de codo** se encuentra en el componente **PC2 o PC3**. Es decir, **con solo 2 o 3 componentes principales ya se conserva más del 90% de la varianza total.**\n",
        "* Esto es útil para **reducir la dimensionalidad** sin perder información esencial del dataset.\n",
        "\n",
        "---\n",
        "\n",
        "### 🧪 Implicancias para análisis e investigaciones\n",
        "\n",
        "1. **Variables prioritarias para estudios científicos:**\n",
        "\n",
        "   * **Masa corporal** y **longitud de la aleta** → para estudios de biomasa, salud, crecimiento.\n",
        "   * **Profundidad del pico** y **sexo** → para estudios sobre dimorfismo sexual.\n",
        "   * **Especie** y **isla** → importantes para estudios ecológicos, migración y adaptación.\n",
        "\n",
        "2. **Aplicaciones potenciales:**\n",
        "\n",
        "   * Clasificación automática de especie a partir de medidas físicas.\n",
        "   * Análisis ecológico comparativo entre islas.\n",
        "   * Estudios de diferenciación sexual a partir de morfología.\n",
        "   * Modelos predictivos con variables reducidas, conservando la mayoría de la información.\n",
        "\n",
        "3. **Ventaja del PCA:**\n",
        "\n",
        "   * Permite visualizar y comprender la estructura interna del conjunto de datos, facilitando la toma de decisiones sobre qué variables conservar, explorar o incluso eliminar.\n",
        "\n",
        "---\n",
        "\n",
        "Si lo deseas, puedo ayudarte a redactar un informe formal o presentarlo como una guía docente o de investigación. También puedo generar la animación 3D que mencionaste antes, para reforzar visualmente las diferencias. ¿Te gustaría avanzar en alguna de esas direcciones?\n"
      ]
    },
    {
      "cell_type": "markdown",
      "metadata": {},
      "source": [
        "Por supuesto, aquí tienes un **resumen estructurado** con títulos claros para cada etapa del análisis PCA aplicado al conjunto de datos de los pingüinos:\n",
        "\n",
        "---\n",
        "\n",
        "## 📦 1. Instalación de librerías necesarias\n",
        "\n",
        "## 📚 2. Carga de librerías y del dataset\n",
        "\n",
        "## 🧼 3. Limpieza de datos y manejo de nulos\n",
        "\n",
        "## 🔍 4. Exploración inicial del dataset (head y tipos de datos)\n",
        "\n",
        "## 🧾 5. Codificación de variables categóricas a numéricas\n",
        "\n",
        "## 📊 6. Normalización de las variables numéricas (Z-score)\n",
        "\n",
        "## 🔁 7. Ajuste del modelo PCA (todas las componentes)\n",
        "\n",
        "## 🧮 8. Cálculo de cargas o pesos (\"loadings\")\n",
        "\n",
        "## 💯 9. Cálculo de contribuciones porcentuales por variable\n",
        "\n",
        "## 🔥 10. Visualización de contribuciones con Heatmap\n",
        "\n",
        "## 📈 11. Scree plot y proporción de varianza explicada (PVE)\n",
        "\n",
        "## 📉 12. Identificación del punto de codo en el scree plot\n",
        "\n",
        "## 📌 13. Puntajes o coordenadas proyectadas (\"scores\")\n",
        "\n",
        "## 🐧 14. Scatterplot PC1 vs PC2 por especie y sexo\n",
        "\n",
        "## 🧭 15. Scatterplot PC1 vs PC3 o animación 3D\n",
        "\n",
        "## 🎯 16. Inclusión de centroides por especie y sexo\n",
        "\n"
      ]
    },
    {
      "cell_type": "markdown",
      "metadata": {},
      "source": []
    }
  ],
  "metadata": {
    "colab": {
      "provenance": []
    },
    "kernelspec": {
      "display_name": "env",
      "language": "python",
      "name": "python3"
    },
    "language_info": {
      "codemirror_mode": {
        "name": "ipython",
        "version": 3
      },
      "file_extension": ".py",
      "mimetype": "text/x-python",
      "name": "python",
      "nbconvert_exporter": "python",
      "pygments_lexer": "ipython3",
      "version": "3.12.2"
    }
  },
  "nbformat": 4,
  "nbformat_minor": 0
}
