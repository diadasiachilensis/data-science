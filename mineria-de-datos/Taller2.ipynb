{
  "nbformat": 4,
  "nbformat_minor": 0,
  "metadata": {
    "colab": {
      "provenance": []
    },
    "kernelspec": {
      "name": "python3",
      "display_name": "Python 3"
    },
    "language_info": {
      "name": "python"
    }
  },
  "cells": [
    {
      "cell_type": "code",
      "source": [
        "# Importar las librerías necesarias en Python para EDA\n",
        "import missingno as msno\n",
        "import pandas as pd  # Para manejar datos en tablas (DataFrames)\n",
        "import matplotlib.pyplot as plt  # Para crear gráficos\n",
        "import seaborn as sns  # Para gráficos avanzados\n",
        "import numpy as np  # Para cálculos numéricos\n",
        "from scipy.stats import skew, iqr  # Para cálculo de la asimetría y rango intercuartil"
      ],
      "metadata": {
        "id": "A7ZqOtF4qeHA"
      },
      "execution_count": null,
      "outputs": []
    },
    {
      "cell_type": "code",
      "source": [
        "# Leer los datos\n",
        "data_ej1 = pd.read_csv('sillaut.csv')  # Leer el archivo CSV y cargarlo en un DataFrame\n",
        "\n",
        "# Dimensiones del conjunto de datos\n",
        "print(data_ej1.shape)  # Imprimir la dimensión (filas, columnas)\n",
        "\n",
        "# Imprimir las primeras filas del dataset\n",
        "print(data_ej1.iloc[:, :5].head())  # Imprimir las primeras 5 columnas de las primeras filas\n",
        "\n",
        "# Imprimir las últimas filas del dataset\n",
        "print(data_ej1.tail())  # Imprimir las últimas filas del dataset\n",
        "\n",
        "# Obtener la estructura de los datos (tipo de variables, etc.)\n",
        "print(data_ej1.info())  # Información sobre el DataFrame\n"
      ],
      "metadata": {
        "collapsed": true,
        "id": "3HwBRx_NqnFB"
      },
      "execution_count": null,
      "outputs": []
    },
    {
      "cell_type": "code",
      "source": [
        "# Descripción de las variables\n",
        "# Ventas: ventas unitarias (miles).\n",
        "# PrecioComp: Precio cobrado por la competencia.\n",
        "# Ingresos: Nivel de ingresos de la comunidad (miles).\n",
        "# Presup.Publicidad: Presupuesto de publicidad local.\n",
        "# Poblacion: Tamaño de la población en la región.\n",
        "# PrecioVenta: Precio que cobra la empresa.\n",
        "# CalidadUbic: la calidad de la ubicación de las estanterías.\n",
        "# EdadM: edad promedio de la población local.\n",
        "# NEducacion: nivel de educación de la población local.\n",
        "# Ubicacion: si está en ubicación urbana o no.\n",
        "# US: si la tienda está en US."
      ],
      "metadata": {
        "id": "ZDSpQeQFt02j"
      },
      "execution_count": null,
      "outputs": []
    },
    {
      "cell_type": "code",
      "source": [
        "# Descripción estadística de las variables numéricas\n",
        "print(\"\\nDescripción estadística de las variables numéricas:\")\n",
        "print(data_ej1.describe())"
      ],
      "metadata": {
        "id": "C0mk7_7BxuHr"
      },
      "execution_count": null,
      "outputs": []
    },
    {
      "cell_type": "code",
      "source": [
        "# Verificar valores faltantes\n",
        "missing_data = data_ej1.isnull().sum()\n",
        "\n",
        "# Filtrar solo columnas con valores faltantes\n",
        "missing_data = missing_data[missing_data > 0]\n",
        "\n",
        "# Comprobar si hay columnas con valores faltantes\n",
        "if missing_data.empty:\n",
        "    print(\"No hay valores faltantes en las columnas.\")\n",
        "else:\n",
        "    # Gráfico de barras de valores faltantes\n",
        "    plt.figure(figsize=(10, 6))\n",
        "    missing_data.plot(kind='bar', color='skyblue')\n",
        "    plt.title('Cantidad de Valores Faltantes por Columna')\n",
        "    plt.xlabel('Columnas')\n",
        "    plt.ylabel('Cantidad de Valores Faltantes')\n",
        "    plt.xticks(rotation=45)\n",
        "    plt.show()\n",
        "\n"
      ],
      "metadata": {
        "id": "jwvDS7UIxyz2"
      },
      "execution_count": null,
      "outputs": []
    },
    {
      "cell_type": "code",
      "source": [
        "\n",
        "# Filtrar solo las columnas numéricas para evitar el error\n",
        "data_numerica = data_ej1.select_dtypes(include=[np.number])\n",
        "\n",
        "# Visualización de la correlación entre variables numéricas\n",
        "plt.figure(figsize=(10, 8))\n",
        "sns.heatmap(data_numerica.corr(), annot=True, cmap='coolwarm', fmt='.2f', linewidths=0.5)\n",
        "plt.title('Mapa de calor de correlación')\n",
        "plt.show()\n",
        "\n",
        "# Histograma de las variables numéricas\n",
        "data_numerica.hist(bins=30, figsize=(10, 8))\n",
        "plt.suptitle('Distribución de las variables numéricas')\n",
        "plt.show()"
      ],
      "metadata": {
        "id": "8Vg8CSxArdKw"
      },
      "execution_count": null,
      "outputs": []
    },
    {
      "cell_type": "code",
      "source": [
        "# Analizar variables categóricas\n",
        "# Función para crear una tabla de frecuencias\n",
        "def tb_freq(x):\n",
        "    f_i = x.value_counts()  # Frecuencia absoluta\n",
        "    F_i = f_i.cumsum()  # Frecuencia acumulada\n",
        "    h_i = f_i / len(x)  # Frecuencia relativa\n",
        "    H_i = F_i / len(x)  # Frecuencia relativa acumulada\n",
        "    freq_table = pd.DataFrame({\n",
        "        'Frecuencia Absoluta': f_i,\n",
        "        'Frecuencia Acumulada': F_i,\n",
        "        'Frecuencia Relativa': h_i,\n",
        "        'Frecuencia Relativa Acumulada': H_i\n",
        "    })\n",
        "    return freq_table\n",
        "# Aplicar la función a una variable\n",
        "print(tb_freq(data_ej1['CalidadUbic']))  # Tabla de frecuencias para la variable 'CalidadUbic'\n",
        "print(tb_freq(data_ej1['Ubicacion']))  # Tabla de frecuencias para la variable 'Ubicacion'"
      ],
      "metadata": {
        "id": "3c5t6yKPrkBU"
      },
      "execution_count": null,
      "outputs": []
    },
    {
      "cell_type": "code",
      "source": [
        "# Crear un gráfico de barras\n",
        "sns.countplot(x='Ubicacion', data=data_ej1, palette='Set2')  # Gráfico de barras para la variable 'Ubicacion'\n",
        "plt.show()\n",
        "\n",
        "# Gráfico de barras con 'ggplot' equivalente en Python\n",
        "sns.countplot(x='CalidadUbic', data=data_ej1, hue='CalidadUbic', palette='Set3')  # Gráfico similar a ggplot\n",
        "plt.xlabel('CalidadUbic')\n",
        "plt.ylabel('Frecuencia')\n",
        "plt.show()"
      ],
      "metadata": {
        "id": "uvzRLIVYruCo"
      },
      "execution_count": null,
      "outputs": []
    },
    {
      "cell_type": "code",
      "source": [
        "# Análisis de variables numéricas\n",
        "# Medidas estadísticas\n",
        "print(f\"Media de Ventas: {data_ej1['Ventas'].mean():.4f}\")  # Media\n",
        "print(f\"Mediana de Ventas: {data_ej1['Ventas'].median():.4f}\")  # Mediana"
      ],
      "metadata": {
        "id": "Cqt0K_wTsCCJ"
      },
      "execution_count": null,
      "outputs": []
    },
    {
      "cell_type": "code",
      "source": [
        "\n",
        "# Cuartiles\n",
        "Q1 = data_ej1['Ventas'].quantile(0.25)\n",
        "Q3 = data_ej1['Ventas'].quantile(0.75)\n",
        "print(f\"Q1: {Q1}, Q3: {Q3}\")\n"
      ],
      "metadata": {
        "id": "ywGvnGV3sEFh"
      },
      "execution_count": null,
      "outputs": []
    },
    {
      "cell_type": "code",
      "source": [
        "# Calcular IQR de Ventas\n",
        "Q1 = data_ej1['Ventas'].quantile(0.25)\n",
        "Q3 = data_ej1['Ventas'].quantile(0.75)\n",
        "IQR = Q3 - Q1\n",
        "\n",
        "# Varianza\n",
        "print(f\"Varianza de Ventas: {data_ej1['Ventas'].var():.4f}\")  # Varianza\n",
        "\n",
        "# Desviación estándar\n",
        "print(f\"Desviación estándar de Ventas: {data_ej1['Ventas'].std():.4f}\")  # Desviación estándar\n",
        "\n",
        "# Rango intercuartil (IQR)\n",
        "print(f\"IQR de Ventas: {IQR:.4f}\")  # IQR\n",
        "\n",
        "# Coeficiente de asimetría (skewness)\n",
        "from scipy.stats import skew\n",
        "print(f\"Coeficiente de asimetría de Ventas: {skew(data_ej1['Ventas']):.4f}\")\n",
        "\n",
        "# Coeficiente de variación\n",
        "CV = lambda x: x.std() / x.mean()  # Función para calcular el coeficiente de variación\n",
        "print(f\"Coeficiente de variación de Ventas: {CV(data_ej1['Ventas']):.4f}\")\n"
      ],
      "metadata": {
        "id": "ovmkYHB5sJhi"
      },
      "execution_count": null,
      "outputs": []
    },
    {
      "cell_type": "code",
      "source": [
        "# Resumen de medidas estadísticas\n",
        "summary_stats = data_ej1.describe().transpose()  # Resumen estadístico de las variables numéricas\n",
        "summary_stats['skew'] = data_ej1.apply(lambda x: skew(x) if x.dtype != 'O' else np.nan)  # Agregar skew\n",
        "summary_stats['CV'] = data_ej1.apply(lambda x: CV(x) if x.dtype != 'O' else np.nan)  # Agregar CV\n",
        "summary_stats.to_csv('sumdesc.csv')  # Guardar el resumen en un archivo CSV"
      ],
      "metadata": {
        "id": "BC5rNRU_sR59"
      },
      "execution_count": null,
      "outputs": []
    },
    {
      "cell_type": "code",
      "source": [
        "\n",
        "# Histograma y curva de densidad\n",
        "sns.histplot(data_ej1['Ventas'], kde=True, color='green', bins=20)  # Histograma con densidad\n",
        "plt.axvline(data_ej1['Ventas'].mean(), color='red', linestyle='--')  # Línea de la media\n",
        "plt.xlabel('Ventas')\n",
        "plt.ylabel('Densidad')\n",
        "plt.title('Histograma de Ventas')\n",
        "plt.show()"
      ],
      "metadata": {
        "id": "bBb-S4clsWht"
      },
      "execution_count": null,
      "outputs": []
    },
    {
      "cell_type": "code",
      "source": [
        "\n",
        "# Distribución empírica acumulada\n",
        "sns.ecdfplot(data_ej1['Ventas'], color='blue')  # Distribución acumulada empírica\n",
        "plt.xlabel('Ventas')\n",
        "plt.ylabel('F(X)')\n",
        "plt.title('Distribución Empírica Acumulada')\n",
        "plt.show()\n"
      ],
      "metadata": {
        "id": "Ml7pIKuFsbFY"
      },
      "execution_count": null,
      "outputs": []
    },
    {
      "cell_type": "code",
      "execution_count": null,
      "metadata": {
        "id": "h5h3N64qqbJa"
      },
      "outputs": [],
      "source": [
        "\n",
        "# Diagrama de Pareto\n",
        "# Frecuencias para las causas\n",
        "freq_caus = [6, 22, 13, 2, 5]\n",
        "causes = ['fluct.pot', 'contr.inest', 'error.oper', 'herramgast', 'otra']\n",
        "\n",
        "# Crear gráfico de Pareto\n",
        "fig, ax = plt.subplots(figsize=(10, 6))\n",
        "ax.bar(causes, freq_caus, color='skyblue')  # Barras\n",
        "ax.set_ylabel('Frecuencia')\n",
        "ax.set_title('Diagrama de Pareto')\n",
        "plt.xticks(rotation=45)\n",
        "plt.show()\n"
      ]
    }
  ]
}