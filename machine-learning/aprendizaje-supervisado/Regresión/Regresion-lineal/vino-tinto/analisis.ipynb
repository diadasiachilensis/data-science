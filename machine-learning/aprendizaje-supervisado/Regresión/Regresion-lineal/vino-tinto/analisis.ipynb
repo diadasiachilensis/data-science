{
 "cells": [
  {
   "cell_type": "markdown",
   "id": "f5965add",
   "metadata": {},
   "source": [
    "# 🍷🍇 Analisis de vino"
   ]
  },
  {
   "cell_type": "markdown",
   "id": "f978fae1",
   "metadata": {},
   "source": [
    "# 📚 Librerias"
   ]
  },
  {
   "cell_type": "code",
   "execution_count": 79,
   "id": "8eec4a81",
   "metadata": {},
   "outputs": [],
   "source": [
    "import pandas as pd\n",
    "import pandas as pd\n",
    "import scipy.stats as ss\n",
    "import numpy as np\n",
    "import matplotlib.pyplot as plt\n",
    "import seaborn as sns\n",
    "#Para prueba de Normalidad\n",
    "from scipy.stats import shapiro, kstest, norm, normaltest\n",
    "#Prueba no parametrica Mann-Witney U \n",
    "from scipy.stats import mannwhitneyu\n",
    "#Prueba t de student de una cola\n",
    "from scipy.stats import ttest_ind\n",
    "#Prueba de Levene\n",
    "from scipy.stats import levene\n",
    "#Prueba z de proporciones\n",
    "from statsmodels.stats.proportion import proportions_ztest\n",
    "#Regresion lineal multiple\n",
    "import statsmodels.api as sm\n",
    "#Test de Breushc-Pagan (Prueba de homocedasticidad)\n",
    "from statsmodels.stats.diagnostic import het_breuschpagan\n",
    "#test Durbin-Watson\n",
    "from statsmodels.stats.stattools import durbin_watson\n"
   ]
  },
  {
   "cell_type": "markdown",
   "id": "6a8f0844",
   "metadata": {},
   "source": [
    "# 📄📥 Cargar el archivo"
   ]
  },
  {
   "cell_type": "code",
   "execution_count": 80,
   "id": "e1db3bf3",
   "metadata": {},
   "outputs": [
    {
     "data": {
      "text/html": [
       "<div>\n",
       "<style scoped>\n",
       "    .dataframe tbody tr th:only-of-type {\n",
       "        vertical-align: middle;\n",
       "    }\n",
       "\n",
       "    .dataframe tbody tr th {\n",
       "        vertical-align: top;\n",
       "    }\n",
       "\n",
       "    .dataframe thead th {\n",
       "        text-align: right;\n",
       "    }\n",
       "</style>\n",
       "<table border=\"1\" class=\"dataframe\">\n",
       "  <thead>\n",
       "    <tr style=\"text-align: right;\">\n",
       "      <th></th>\n",
       "      <th>Unnamed: 0</th>\n",
       "      <th>fixed acidity</th>\n",
       "      <th>volatile acidity</th>\n",
       "      <th>citric acid</th>\n",
       "      <th>residual sugar</th>\n",
       "      <th>chlorides</th>\n",
       "      <th>free sulfur dioxide</th>\n",
       "      <th>total sulfur dioxide</th>\n",
       "      <th>density</th>\n",
       "      <th>pH</th>\n",
       "      <th>sulphates</th>\n",
       "      <th>alcohol</th>\n",
       "      <th>quality</th>\n",
       "      <th>wine strain</th>\n",
       "    </tr>\n",
       "  </thead>\n",
       "  <tbody>\n",
       "    <tr>\n",
       "      <th>0</th>\n",
       "      <td>0</td>\n",
       "      <td>7.4</td>\n",
       "      <td>0.70</td>\n",
       "      <td>0.00</td>\n",
       "      <td>1.9</td>\n",
       "      <td>0.076</td>\n",
       "      <td>11.0</td>\n",
       "      <td>34.0</td>\n",
       "      <td>0.9978</td>\n",
       "      <td>3.51</td>\n",
       "      <td>0.56</td>\n",
       "      <td>9.4</td>\n",
       "      <td>5</td>\n",
       "      <td>Syrah</td>\n",
       "    </tr>\n",
       "    <tr>\n",
       "      <th>1</th>\n",
       "      <td>1</td>\n",
       "      <td>7.8</td>\n",
       "      <td>0.88</td>\n",
       "      <td>0.00</td>\n",
       "      <td>2.6</td>\n",
       "      <td>0.098</td>\n",
       "      <td>25.0</td>\n",
       "      <td>67.0</td>\n",
       "      <td>0.9968</td>\n",
       "      <td>3.20</td>\n",
       "      <td>0.68</td>\n",
       "      <td>9.8</td>\n",
       "      <td>5</td>\n",
       "      <td>Cabernet Sauvignon</td>\n",
       "    </tr>\n",
       "    <tr>\n",
       "      <th>2</th>\n",
       "      <td>2</td>\n",
       "      <td>7.8</td>\n",
       "      <td>0.76</td>\n",
       "      <td>0.04</td>\n",
       "      <td>2.3</td>\n",
       "      <td>0.092</td>\n",
       "      <td>15.0</td>\n",
       "      <td>54.0</td>\n",
       "      <td>0.9970</td>\n",
       "      <td>3.26</td>\n",
       "      <td>0.65</td>\n",
       "      <td>9.8</td>\n",
       "      <td>5</td>\n",
       "      <td>Cabernet Sauvignon</td>\n",
       "    </tr>\n",
       "    <tr>\n",
       "      <th>3</th>\n",
       "      <td>3</td>\n",
       "      <td>11.2</td>\n",
       "      <td>0.28</td>\n",
       "      <td>0.56</td>\n",
       "      <td>1.9</td>\n",
       "      <td>0.075</td>\n",
       "      <td>17.0</td>\n",
       "      <td>60.0</td>\n",
       "      <td>0.9980</td>\n",
       "      <td>3.16</td>\n",
       "      <td>0.58</td>\n",
       "      <td>9.8</td>\n",
       "      <td>6</td>\n",
       "      <td>Cabernet Sauvignon</td>\n",
       "    </tr>\n",
       "    <tr>\n",
       "      <th>4</th>\n",
       "      <td>4</td>\n",
       "      <td>7.4</td>\n",
       "      <td>0.70</td>\n",
       "      <td>0.00</td>\n",
       "      <td>1.9</td>\n",
       "      <td>0.076</td>\n",
       "      <td>11.0</td>\n",
       "      <td>34.0</td>\n",
       "      <td>0.9978</td>\n",
       "      <td>3.51</td>\n",
       "      <td>0.56</td>\n",
       "      <td>9.4</td>\n",
       "      <td>5</td>\n",
       "      <td>Carmenere</td>\n",
       "    </tr>\n",
       "    <tr>\n",
       "      <th>5</th>\n",
       "      <td>5</td>\n",
       "      <td>7.4</td>\n",
       "      <td>0.66</td>\n",
       "      <td>0.00</td>\n",
       "      <td>1.8</td>\n",
       "      <td>0.075</td>\n",
       "      <td>13.0</td>\n",
       "      <td>40.0</td>\n",
       "      <td>0.9978</td>\n",
       "      <td>3.51</td>\n",
       "      <td>0.56</td>\n",
       "      <td>9.4</td>\n",
       "      <td>5</td>\n",
       "      <td>Cabernet Sauvignon</td>\n",
       "    </tr>\n",
       "  </tbody>\n",
       "</table>\n",
       "</div>"
      ],
      "text/plain": [
       "   Unnamed: 0  fixed acidity  volatile acidity  citric acid  residual sugar  \\\n",
       "0           0            7.4              0.70         0.00             1.9   \n",
       "1           1            7.8              0.88         0.00             2.6   \n",
       "2           2            7.8              0.76         0.04             2.3   \n",
       "3           3           11.2              0.28         0.56             1.9   \n",
       "4           4            7.4              0.70         0.00             1.9   \n",
       "5           5            7.4              0.66         0.00             1.8   \n",
       "\n",
       "   chlorides  free sulfur dioxide  total sulfur dioxide  density    pH  \\\n",
       "0      0.076                 11.0                  34.0   0.9978  3.51   \n",
       "1      0.098                 25.0                  67.0   0.9968  3.20   \n",
       "2      0.092                 15.0                  54.0   0.9970  3.26   \n",
       "3      0.075                 17.0                  60.0   0.9980  3.16   \n",
       "4      0.076                 11.0                  34.0   0.9978  3.51   \n",
       "5      0.075                 13.0                  40.0   0.9978  3.51   \n",
       "\n",
       "   sulphates  alcohol  quality         wine strain  \n",
       "0       0.56      9.4        5               Syrah  \n",
       "1       0.68      9.8        5  Cabernet Sauvignon  \n",
       "2       0.65      9.8        5  Cabernet Sauvignon  \n",
       "3       0.58      9.8        6  Cabernet Sauvignon  \n",
       "4       0.56      9.4        5           Carmenere  \n",
       "5       0.56      9.4        5  Cabernet Sauvignon  "
      ]
     },
     "execution_count": 80,
     "metadata": {},
     "output_type": "execute_result"
    }
   ],
   "source": [
    "wine_white = \"winequality-red.csv\"\n",
    "df = pd.read_csv(wine_white)\n",
    "df.head(6)"
   ]
  },
  {
   "cell_type": "code",
   "execution_count": 81,
   "id": "0f7746ec",
   "metadata": {},
   "outputs": [
    {
     "name": "stdout",
     "output_type": "stream",
     "text": [
      "<class 'pandas.core.frame.DataFrame'>\n",
      "RangeIndex: 1599 entries, 0 to 1598\n",
      "Data columns (total 14 columns):\n",
      " #   Column                Non-Null Count  Dtype  \n",
      "---  ------                --------------  -----  \n",
      " 0   Unnamed: 0            1599 non-null   int64  \n",
      " 1   fixed acidity         1599 non-null   float64\n",
      " 2   volatile acidity      1599 non-null   float64\n",
      " 3   citric acid           1599 non-null   float64\n",
      " 4   residual sugar        1599 non-null   float64\n",
      " 5   chlorides             1599 non-null   float64\n",
      " 6   free sulfur dioxide   1599 non-null   float64\n",
      " 7   total sulfur dioxide  1599 non-null   float64\n",
      " 8   density               1599 non-null   float64\n",
      " 9   pH                    1599 non-null   float64\n",
      " 10  sulphates             1599 non-null   float64\n",
      " 11  alcohol               1599 non-null   float64\n",
      " 12  quality               1599 non-null   int64  \n",
      " 13  wine strain           1599 non-null   object \n",
      "dtypes: float64(11), int64(2), object(1)\n",
      "memory usage: 175.0+ KB\n"
     ]
    }
   ],
   "source": [
    "df.info()"
   ]
  },
  {
   "cell_type": "markdown",
   "id": "a0acc8ba",
   "metadata": {},
   "source": [
    "## 🔍 Explorar datos Nulos NaN "
   ]
  },
  {
   "cell_type": "code",
   "execution_count": 82,
   "id": "986e4659",
   "metadata": {},
   "outputs": [
    {
     "data": {
      "text/plain": [
       "Unnamed: 0              0\n",
       "fixed acidity           0\n",
       "volatile acidity        0\n",
       "citric acid             0\n",
       "residual sugar          0\n",
       "chlorides               0\n",
       "free sulfur dioxide     0\n",
       "total sulfur dioxide    0\n",
       "density                 0\n",
       "pH                      0\n",
       "sulphates               0\n",
       "alcohol                 0\n",
       "quality                 0\n",
       "wine strain             0\n",
       "dtype: int64"
      ]
     },
     "execution_count": 82,
     "metadata": {},
     "output_type": "execute_result"
    }
   ],
   "source": [
    "df.isnull().sum()"
   ]
  },
  {
   "cell_type": "markdown",
   "id": "78944de5",
   "metadata": {},
   "source": [
    "# 🧪 Prueba de hipotesis"
   ]
  },
  {
   "cell_type": "markdown",
   "id": "5c6a9b2a",
   "metadata": {},
   "source": [
    "## 🎯 Resolver problema 1 \n",
    "\n",
    "Se desea comprobar si el promedio de acidez fija (fixed acidity) es **mayor** en los vinos Cabernet Sauvignon que en los vinos Carmenere. Formule una prueba de hipotesis y estudie esta afirmación."
   ]
  },
  {
   "cell_type": "markdown",
   "id": "2dc9d417",
   "metadata": {},
   "source": [
    "### **🔔 Analisis Distribución Normal**"
   ]
  },
  {
   "cell_type": "code",
   "execution_count": 83,
   "id": "38a3541b",
   "metadata": {},
   "outputs": [],
   "source": [
    "cabernet = df[df[\"wine strain\"] == \"Cabernet Sauvignon\"][\"fixed acidity\"]\n",
    "carmenere = df[df[\"wine strain\"] == \"Carmenere\"][\"fixed acidity\"]"
   ]
  },
  {
   "cell_type": "markdown",
   "id": "5a8fc9f9",
   "metadata": {},
   "source": [
    "#### **⚖️ Medidas de tendencia central**"
   ]
  },
  {
   "cell_type": "code",
   "execution_count": 84,
   "id": "12e3aa97",
   "metadata": {},
   "outputs": [
    {
     "data": {
      "text/plain": [
       "count    500.000000\n",
       "mean       8.331400\n",
       "std        1.737225\n",
       "min        4.700000\n",
       "25%        7.100000\n",
       "50%        7.900000\n",
       "75%        9.100000\n",
       "max       15.900000\n",
       "Name: fixed acidity, dtype: float64"
      ]
     },
     "execution_count": 84,
     "metadata": {},
     "output_type": "execute_result"
    }
   ],
   "source": [
    "cabernet.describe()"
   ]
  },
  {
   "cell_type": "code",
   "execution_count": 85,
   "id": "53404b16",
   "metadata": {},
   "outputs": [
    {
     "data": {
      "text/plain": [
       "count    570.000000\n",
       "mean       8.327895\n",
       "std        1.736462\n",
       "min        4.600000\n",
       "25%        7.100000\n",
       "50%        8.000000\n",
       "75%        9.200000\n",
       "max       15.500000\n",
       "Name: fixed acidity, dtype: float64"
      ]
     },
     "execution_count": 85,
     "metadata": {},
     "output_type": "execute_result"
    }
   ],
   "source": [
    "carmenere.describe()"
   ]
  },
  {
   "cell_type": "code",
   "execution_count": 86,
   "id": "5b98aded",
   "metadata": {},
   "outputs": [
    {
     "name": "stdout",
     "output_type": "stream",
     "text": [
      "La media de la acidez fija en ambos datos es de 8.33 g/L para la producción de Cabernet Sauvignon y 8.33 g/L para la producción de Carmenere\n"
     ]
    }
   ],
   "source": [
    "m_cs=cabernet.mean()\n",
    "m_ca=carmenere.mean()\n",
    "print(f\"La media de la acidez fija en ambos datos es de {round(m_cs,2)} g/L para la producción de Cabernet Sauvignon y {round(m_ca,2)} g/L para la producción de Carmenere\")"
   ]
  },
  {
   "cell_type": "markdown",
   "id": "f5f2b9ff",
   "metadata": {},
   "source": [
    "#### **🧮 Cantidad de datos**"
   ]
  },
  {
   "cell_type": "code",
   "execution_count": 87,
   "id": "f5f6eea2",
   "metadata": {},
   "outputs": [
    {
     "name": "stdout",
     "output_type": "stream",
     "text": [
      "<class 'pandas.core.series.Series'>\n",
      "Index: 500 entries, 1 to 1595\n",
      "Series name: fixed acidity\n",
      "Non-Null Count  Dtype  \n",
      "--------------  -----  \n",
      "500 non-null    float64\n",
      "dtypes: float64(1)\n",
      "memory usage: 7.8 KB\n",
      "<class 'pandas.core.series.Series'>\n",
      "Index: 570 entries, 4 to 1598\n",
      "Series name: fixed acidity\n",
      "Non-Null Count  Dtype  \n",
      "--------------  -----  \n",
      "570 non-null    float64\n",
      "dtypes: float64(1)\n",
      "memory usage: 8.9 KB\n"
     ]
    }
   ],
   "source": [
    "cabernet.info()\n",
    "carmenere.info()"
   ]
  },
  {
   "cell_type": "markdown",
   "id": "e4ebb52a",
   "metadata": {},
   "source": [
    "#### **📊 Gráfico de normalidad**"
   ]
  },
  {
   "cell_type": "code",
   "execution_count": 88,
   "id": "94b12e19",
   "metadata": {},
   "outputs": [],
   "source": [
    "def graf_normalidad(data,color,nombre,media,nombre_ejex,nombre_ejey):\n",
    "    sns.histplot(data,bins=30,kde=True,color=color)\n",
    "    plt.title(f\"Distribución Normal de la acidez Fija en la producción de {nombre}\")\n",
    "    plt.axvline(media,color='magenta',label=f'Media = {round(media,3)}') # plt.axhline= linea horizontal, plt.axvline= linea vertical\n",
    "    plt.xlabel(nombre_ejex)\n",
    "    plt.ylabel(nombre_ejey)\n",
    "    plt.grid(True)\n",
    "    plt.show()"
   ]
  },
  {
   "cell_type": "markdown",
   "id": "bcd239f0",
   "metadata": {},
   "source": [
    "**Cabernet Sauvignon**"
   ]
  },
  {
   "cell_type": "code",
   "execution_count": 89,
   "id": "fa7cf507",
   "metadata": {},
   "outputs": [
    {
     "data": {
      "image/png": "[encoded data removed]",
      "text/plain": [
       "<Figure size 640x480 with 1 Axes>"
      ]
     },
     "metadata": {},
     "output_type": "display_data"
    }
   ],
   "source": [
    "graf_normalidad(data=cabernet,color=\"darkred\",nombre=\"Cabernet Sauvignon\",media=m_cs,nombre_ejex=\"Valores de acidez fija [g/L]\",nombre_ejey=\"Frecuencia\")"
   ]
  },
  {
   "cell_type": "markdown",
   "id": "d3764d0d",
   "metadata": {},
   "source": [
    "#### **📊 Gráfico de normalidad**"
   ]
  },
  {
   "cell_type": "markdown",
   "id": "8a4a6621",
   "metadata": {},
   "source": [
    "**Carmenere**"
   ]
  },
  {
   "cell_type": "code",
   "execution_count": 90,
   "id": "6b83748c",
   "metadata": {},
   "outputs": [
    {
     "data": {
      "image/png": "[encoded data removed]",
      "text/plain": [
       "<Figure size 640x480 with 1 Axes>"
      ]
     },
     "metadata": {},
     "output_type": "display_data"
    }
   ],
   "source": [
    "graf_normalidad(data=carmenere,color=\"crimson\",nombre=\"Carmenere\",media=m_ca,nombre_ejex=\"Valores de acidez fija [g/L]\",nombre_ejey=\"Frecuencia\")"
   ]
  },
  {
   "cell_type": "markdown",
   "id": "754565ed",
   "metadata": {},
   "source": [
    "#### **🧪 Test de Normalidad: Shapiro-Wilk, Kolmogorov-Smirnov y D'Agostino-Pearson** "
   ]
  },
  {
   "cell_type": "code",
   "execution_count": 91,
   "id": "ad6df344",
   "metadata": {},
   "outputs": [],
   "source": [
    "def test_normal(data,nombre):\n",
    "    print(f\"Pruebas de Normalidad {nombre}\")\n",
    "    # 🧪 Test de Shapiro-Wilk\n",
    "    stat_shapiro, p_shapiro = shapiro(data)\n",
    "    print(f\"Shapiro-Wilk: Estadístico = {stat_shapiro:.4f}, p = {p_shapiro:.4f}\")\n",
    "    if p_shapiro > 0.05:\n",
    "        print(\"✅ Shapiro-Wilk: Normalidad NO rechazada.\")\n",
    "    else:\n",
    "        print(\"❌ Shapiro-Wilk: Se rechaza normalidad.\")\n",
    "\n",
    "    # 📈 Test de Kolmogorov-Smirnov (ajustado a N(μ, σ))\n",
    "    mu, sigma = np.mean(data), np.std(data)\n",
    "    stat_ks, p_kstest = kstest(data, 'norm', args=(mu, sigma))\n",
    "    print(f\"Kolmogorov-Smirnov: Estadístico = {stat_ks:.4f}, p = {p_kstest:.4f}\")\n",
    "    if p_kstest > 0.05:\n",
    "        print(\"✅ Kolmogorov-Smirnov: Normalidad NO rechazada.\")\n",
    "    else:\n",
    "        print(\"❌ Kolmogorov-Smirnov: Se rechaza normalidad.\")\n",
    "\n",
    "    # 📉 D’Agostino y Pearson (normaltest)\n",
    "    stat_nt, p_normaltest = normaltest(data)\n",
    "    print(f\"D’Agostino-Pearson: Estadístico = {stat_nt:.4f}, p = {p_normaltest:.4f}\")\n",
    "    if p_normaltest > 0.05:\n",
    "        print(\"✅ Normaltest: Normalidad NO rechazada.\")\n",
    "    else:\n",
    "        print(\"❌ Normaltest: Se rechaza normalidad.\")"
   ]
  },
  {
   "cell_type": "markdown",
   "id": "df7d6880",
   "metadata": {},
   "source": [
    "**Cabernet Sauvignon**"
   ]
  },
  {
   "cell_type": "code",
   "execution_count": 92,
   "id": "adda3edd",
   "metadata": {},
   "outputs": [
    {
     "name": "stdout",
     "output_type": "stream",
     "text": [
      "Pruebas de Normalidad Cabernet Sauvignon\n",
      "Shapiro-Wilk: Estadístico = 0.9322, p = 0.0000\n",
      "❌ Shapiro-Wilk: Se rechaza normalidad.\n",
      "Kolmogorov-Smirnov: Estadístico = 0.1177, p = 0.0000\n",
      "❌ Kolmogorov-Smirnov: Se rechaza normalidad.\n",
      "D’Agostino-Pearson: Estadístico = 87.0325, p = 0.0000\n",
      "❌ Normaltest: Se rechaza normalidad.\n"
     ]
    }
   ],
   "source": [
    "test_normal(cabernet,\"Cabernet Sauvignon\")\n"
   ]
  },
  {
   "cell_type": "markdown",
   "id": "3309494b",
   "metadata": {},
   "source": [
    "**Carmenere**"
   ]
  },
  {
   "cell_type": "code",
   "execution_count": 93,
   "id": "40b3cf52",
   "metadata": {},
   "outputs": [
    {
     "name": "stdout",
     "output_type": "stream",
     "text": [
      "Pruebas de Normalidad Carmenere\n",
      "Shapiro-Wilk: Estadístico = 0.9424, p = 0.0000\n",
      "❌ Shapiro-Wilk: Se rechaza normalidad.\n",
      "Kolmogorov-Smirnov: Estadístico = 0.1013, p = 0.0000\n",
      "❌ Kolmogorov-Smirnov: Se rechaza normalidad.\n",
      "D’Agostino-Pearson: Estadístico = 88.4434, p = 0.0000\n",
      "❌ Normaltest: Se rechaza normalidad.\n"
     ]
    }
   ],
   "source": [
    "test_normal(carmenere,\"Carmenere\")"
   ]
  },
  {
   "cell_type": "markdown",
   "id": "88e3872b",
   "metadata": {},
   "source": [
    "#### **Conclusión**\n",
    "A pesar de que la visualización mediante el gráfico KDE sugiere una distribución aproximadamente normal para los valores de acidez fija en ambas cepas de vino, los resultados obtenidos a partir de las pruebas formales de normalidad (Shapiro-Wilk, D’Agostino-Pearson, y Anderson-Darling) no permiten asumir que estas distribuciones sigan una distribución normal con un nivel de significancia del 5%. Esta discrepancia evidencia la importancia de complementar los análisis visuales con pruebas estadísticas. Por esta razón, se usara una prueba no paramétrica **Mann-Whitney U**."
   ]
  },
  {
   "cell_type": "markdown",
   "id": "512f7c02",
   "metadata": {},
   "source": [
    "#### **Prueba No paramétrica Mann-Whitney U**"
   ]
  },
  {
   "cell_type": "markdown",
   "id": "49987f9e",
   "metadata": {},
   "source": [
    "#### 📌 Formulación de la hipótesis\n",
    "\n",
    "Queremos saber si **Cabernet Sauvignon tiene mayor acidez fija** que Carmenere, así que planteamos una prueba **unilateral** (cola derecha):\n",
    "\n",
    "* **H₀ (hipótesis nula):**\n",
    "  $\\text{Mediana}_{\\text{Cabernet Sauvignon}} \\leq \\text{Mediana}_{\\text{Carmenere}}$\n",
    "\n",
    "* **H₁ (hipótesis alternativa):**\n",
    "  $\\text{Mediana}_{\\text{Cabernet Sauvignon}} > \\text{Mediana}_{\\text{Carmenere}}$\n"
   ]
  },
  {
   "cell_type": "markdown",
   "id": "49ec981d",
   "metadata": {},
   "source": [
    "#### 🧪 Código en Python con `scipy.stats.mannwhitneyu`\n"
   ]
  },
  {
   "cell_type": "code",
   "execution_count": 94,
   "id": "c1af3468",
   "metadata": {},
   "outputs": [
    {
     "name": "stdout",
     "output_type": "stream",
     "text": [
      "Estadístico U: 141897.0000\n",
      "Valor p: 0.5476\n",
      "❌ No se puede rechazar H₀: No hay evidencia suficiente para afirmar que Cabernet Sauvignon tiene mayor acidez fija.\n"
     ]
    }
   ],
   "source": [
    "stat, p_value = mannwhitneyu(cabernet, carmenere, alternative='greater')\n",
    "\n",
    "print(f\"Estadístico U: {stat:.4f}\")\n",
    "print(f\"Valor p: {p_value:.4f}\")\n",
    "\n",
    "if p_value < 0.05:\n",
    "    print(\"✅ Se rechaza H₀: Cabernet Sauvignon tiene mayor acidez fija.\")\n",
    "else:\n",
    "    print(\"❌ No se puede rechazar H₀: No hay evidencia suficiente para afirmar que Cabernet Sauvignon tiene mayor acidez fija.\")"
   ]
  },
  {
   "cell_type": "markdown",
   "id": "e5b192a9",
   "metadata": {},
   "source": [
    "#### ✅ Conclusión \n",
    "\n",
    "A partir de la prueba no paramétrica de Mann–Whitney U, se obtuvo un estadístico U = 141897 y un valor p = 0.5476. Dado que el valor p es considerablemente mayor al nivel de significancia habitual (α = 0.05), no se rechaza la hipótesis nula. Esto indica que **NO** existe evidencia estadísticamente significativa para afirmar que la acidez fija en los vinos Cabernet Sauvignon es mayor que en los vinos Carmenere. Por lo tanto, en base a los datos analizados y considerando la falta de normalidad, no se puede concluir que exista una diferencia en acidez fija favorable al Cabernet Sauvignon."
   ]
  },
  {
   "cell_type": "markdown",
   "id": "af1d8bb7",
   "metadata": {},
   "source": [
    "## 🎯 Resolver problema 2 \n",
    "\n",
    "Compare el promedio de alcohol entre vinos de calidad superior (calidad >= 7) y vinos de calidad media (calidad 5 􀀀 6). ¿Existe evidencia suficiente para afirmar que los vinos de calidad superior tienen mayor contenido de alcohol?"
   ]
  },
  {
   "cell_type": "code",
   "execution_count": 95,
   "id": "ed6e0db0",
   "metadata": {},
   "outputs": [],
   "source": [
    "grupo_media = df[(df['quality'] >= 5) & (df['quality'] <= 6)]['alcohol']\n",
    "grupo_superior = df[df['quality'] >= 7]['alcohol']"
   ]
  },
  {
   "cell_type": "code",
   "execution_count": 96,
   "id": "70ee1f5f",
   "metadata": {},
   "outputs": [
    {
     "data": {
      "text/html": [
       "<div>\n",
       "<style scoped>\n",
       "    .dataframe tbody tr th:only-of-type {\n",
       "        vertical-align: middle;\n",
       "    }\n",
       "\n",
       "    .dataframe tbody tr th {\n",
       "        vertical-align: top;\n",
       "    }\n",
       "\n",
       "    .dataframe thead th {\n",
       "        text-align: right;\n",
       "    }\n",
       "</style>\n",
       "<table border=\"1\" class=\"dataframe\">\n",
       "  <thead>\n",
       "    <tr style=\"text-align: right;\">\n",
       "      <th></th>\n",
       "      <th>Media</th>\n",
       "      <th>Mediana</th>\n",
       "      <th>Desviación estándar</th>\n",
       "      <th>Mínimo</th>\n",
       "      <th>Máximo</th>\n",
       "      <th>Cantidad</th>\n",
       "    </tr>\n",
       "    <tr>\n",
       "      <th>Calidad</th>\n",
       "      <th></th>\n",
       "      <th></th>\n",
       "      <th></th>\n",
       "      <th></th>\n",
       "      <th></th>\n",
       "      <th></th>\n",
       "    </tr>\n",
       "  </thead>\n",
       "  <tbody>\n",
       "    <tr>\n",
       "      <th>Media</th>\n",
       "      <td>10.253</td>\n",
       "      <td>10.0</td>\n",
       "      <td>0.972</td>\n",
       "      <td>8.4</td>\n",
       "      <td>14.9</td>\n",
       "      <td>1319</td>\n",
       "    </tr>\n",
       "    <tr>\n",
       "      <th>Superior</th>\n",
       "      <td>11.518</td>\n",
       "      <td>11.6</td>\n",
       "      <td>0.998</td>\n",
       "      <td>9.2</td>\n",
       "      <td>14.0</td>\n",
       "      <td>217</td>\n",
       "    </tr>\n",
       "  </tbody>\n",
       "</table>\n",
       "</div>"
      ],
      "text/plain": [
       "           Media  Mediana  Desviación estándar  Mínimo  Máximo  Cantidad\n",
       "Calidad                                                                 \n",
       "Media     10.253     10.0                0.972     8.4    14.9      1319\n",
       "Superior  11.518     11.6                0.998     9.2    14.0       217"
      ]
     },
     "metadata": {},
     "output_type": "display_data"
    }
   ],
   "source": [
    "# Crear copia del DataFrame con categoría de calidad\n",
    "df_temp = df[df['quality'] >= 5].copy()\n",
    "df_temp['Calidad'] = df_temp['quality'].apply(lambda x: 'Superior' if x >= 7 else 'Media')\n",
    "\n",
    "# Agrupar por tipo de calidad y calcular estadísticos\n",
    "tabla_estadisticos = df_temp.groupby('Calidad')['alcohol'].agg([\n",
    "    ('Media', 'mean'),\n",
    "    ('Mediana', 'median'),\n",
    "    ('Desviación estándar', 'std'),\n",
    "    ('Mínimo', 'min'),\n",
    "    ('Máximo', 'max'),\n",
    "    ('Cantidad', 'count')\n",
    "]).round(3)\n",
    "\n",
    "display(tabla_estadisticos)"
   ]
  },
  {
   "cell_type": "code",
   "execution_count": 97,
   "id": "b130aaba",
   "metadata": {},
   "outputs": [
    {
     "name": "stdout",
     "output_type": "stream",
     "text": [
      "Pruebas de Normalidad calidad superior (calidad >= 7)\n",
      "Shapiro-Wilk: Estadístico = 0.9914, p = 0.2322\n",
      "✅ Shapiro-Wilk: Normalidad NO rechazada.\n",
      "Kolmogorov-Smirnov: Estadístico = 0.0517, p = 0.5881\n",
      "✅ Kolmogorov-Smirnov: Normalidad NO rechazada.\n",
      "D’Agostino-Pearson: Estadístico = 1.9631, p = 0.3747\n",
      "✅ Normaltest: Normalidad NO rechazada.\n"
     ]
    }
   ],
   "source": [
    "test_normal(grupo_superior,\"calidad superior (calidad >= 7)\")"
   ]
  },
  {
   "cell_type": "code",
   "execution_count": 98,
   "id": "2aa3b522",
   "metadata": {},
   "outputs": [
    {
     "name": "stdout",
     "output_type": "stream",
     "text": [
      "Pruebas de Normalidad calidad media (calidad 5 - 6)\n",
      "Shapiro-Wilk: Estadístico = 0.9107, p = 0.0000\n",
      "❌ Shapiro-Wilk: Se rechaza normalidad.\n",
      "Kolmogorov-Smirnov: Estadístico = 0.1304, p = 0.0000\n",
      "❌ Kolmogorov-Smirnov: Se rechaza normalidad.\n",
      "D’Agostino-Pearson: Estadístico = 202.7493, p = 0.0000\n",
      "❌ Normaltest: Se rechaza normalidad.\n"
     ]
    }
   ],
   "source": [
    "test_normal(grupo_media,\"calidad media (calidad 5 - 6)\")"
   ]
  },
  {
   "cell_type": "markdown",
   "id": "289c5a6f",
   "metadata": {},
   "source": [
    "### **Prueba Levene**\n",
    "Prueba para evaluar homogeneidad de varianzas"
   ]
  },
  {
   "cell_type": "code",
   "execution_count": 99,
   "id": "17b50689",
   "metadata": {},
   "outputs": [
    {
     "name": "stdout",
     "output_type": "stream",
     "text": [
      "Levene test p-value: 0.2373\n",
      "✅ No hay evidencia de diferencia significativa en varianzas (varianzas iguales).\n"
     ]
    }
   ],
   "source": [
    "stat_levene, p_levene = levene(grupo_superior, grupo_media)\n",
    "print(f\"Levene test p-value: {p_levene:.4f}\")\n",
    "if p_levene < 0.05:\n",
    "    print(\"❌ Las varianzas son significativamente diferentes.\")\n",
    "else:\n",
    "    print(\"✅ No hay evidencia de diferencia significativa en varianzas (varianzas iguales).\")"
   ]
  },
  {
   "cell_type": "markdown",
   "id": "6a28791b",
   "metadata": {},
   "source": [
    "### **Prueba t de student de una cola**"
   ]
  },
  {
   "cell_type": "code",
   "execution_count": 100,
   "id": "c53b4194",
   "metadata": {},
   "outputs": [
    {
     "name": "stdout",
     "output_type": "stream",
     "text": [
      "Estadístico t = 17.3674\n",
      "p-valor (una cola) = 0.0000\n",
      "✅ Se rechaza H₀: Los vinos de calidad superior tienen mayor contenido de alcohol.\n"
     ]
    }
   ],
   "source": [
    "# Prueba t de Student (varianzas no asumidas iguales)\n",
    "stat, p = ttest_ind(grupo_superior, grupo_media, equal_var=False)\n",
    "\n",
    "# p-valor ajustado para una prueba unilateral (cola derecha)\n",
    "p_one_sided = p / 2\n",
    "\n",
    "# Resultados\n",
    "print(f\"Estadístico t = {stat:.4f}\")\n",
    "print(f\"p-valor (una cola) = {p_one_sided:.4f}\")\n",
    "\n",
    "if (stat > 0) and (p_one_sided < 0.05):\n",
    "    print(\"✅ Se rechaza H₀: Los vinos de calidad superior tienen mayor contenido de alcohol.\")\n",
    "else:\n",
    "    print(\"❌ No se puede rechazar H₀: No hay evidencia suficiente para afirmarlo.\")"
   ]
  },
  {
   "cell_type": "markdown",
   "id": "15c0ac61",
   "metadata": {},
   "source": [
    "A pesar de que el test de Levene no muestra diferencias significativas en las varianzas entre los grupos (p = 0.2373), este resultado no es suficiente para justificar una prueba t, ya que el grupo de calidad media no cumple el supuesto de normalidad. Por lo tanto, la opción adecuada sigue siendo aplicar la prueba de Mann–Whitney U para comparar el contenido de alcohol entre los vinos."
   ]
  },
  {
   "cell_type": "markdown",
   "id": "951af3cf",
   "metadata": {},
   "source": [
    "### **Prueba No Paramétrica Mann Whitney U de una cola**"
   ]
  },
  {
   "cell_type": "code",
   "execution_count": 101,
   "id": "a3030c12",
   "metadata": {},
   "outputs": [
    {
     "name": "stdout",
     "output_type": "stream",
     "text": [
      "Estadístico U = 235313.5000\n",
      "p-valor = 0.0000\n",
      "✅ Se rechaza H₀: Los vinos de calidad superior tienen mayor contenido de alcohol.\n"
     ]
    }
   ],
   "source": [
    "# Extraer grupos desde df_temp\n",
    "grupo_superior = df_temp[df_temp[\"Calidad\"] == \"Superior\"][\"alcohol\"]\n",
    "grupo_media = df_temp[df_temp[\"Calidad\"] == \"Media\"][\"alcohol\"]\n",
    "\n",
    "# Prueba no paramétrica unilateral: ¿Superior > Media?\n",
    "stat_u, p_u = mannwhitneyu(grupo_superior, grupo_media, alternative='greater')\n",
    "\n",
    "print(f\"Estadístico U = {stat_u:.4f}\")\n",
    "print(f\"p-valor = {p_u:.4f}\")\n",
    "\n",
    "if p_u < 0.05:\n",
    "    print(\"✅ Se rechaza H₀: Los vinos de calidad superior tienen mayor contenido de alcohol.\")\n",
    "else:\n",
    "    print(\"❌ No se puede rechazar H₀: No hay evidencia suficiente.\")\n"
   ]
  },
  {
   "cell_type": "code",
   "execution_count": 102,
   "id": "3eb04631",
   "metadata": {},
   "outputs": [
    {
     "name": "stderr",
     "output_type": "stream",
     "text": [
      "C:\\Users\\guill\\AppData\\Local\\Temp\\ipykernel_24712\\43379155.py:4: FutureWarning: \n",
      "\n",
      "Passing `palette` without assigning `hue` is deprecated and will be removed in v0.14.0. Assign the `x` variable to `hue` and set `legend=False` for the same effect.\n",
      "\n",
      "  sns.boxplot(x='Calidad', y='alcohol', data=df_temp, palette=['#E0C97F', '#80B1D3'])\n"
     ]
    },
    {
     "data": {
      "image/png": "[encoded data removed]",
      "text/plain": [
       "<Figure size 800x500 with 1 Axes>"
      ]
     },
     "metadata": {},
     "output_type": "display_data"
    }
   ],
   "source": [
    "df_temp['Calidad'] = df_temp['quality'].apply(lambda x: 'Superior' if x >= 7 else 'Media')\n",
    "\n",
    "plt.figure(figsize=(8, 5))\n",
    "sns.boxplot(x='Calidad', y='alcohol', data=df_temp, palette=['#E0C97F', '#80B1D3'])\n",
    "\n",
    "plt.title(\"Comparación del contenido de alcohol según calidad del vino\", fontsize=14)\n",
    "plt.xlabel(\"Categoría de calidad\")\n",
    "plt.ylabel(\"Alcohol [%]\")\n",
    "plt.grid(True, linestyle='--', alpha=0.6)\n",
    "plt.tight_layout()\n",
    "plt.show()\n"
   ]
  },
  {
   "cell_type": "markdown",
   "id": "78c65156",
   "metadata": {},
   "source": [
    "### **Conclusión**\n",
    "\n",
    "Se aplicó la prueba no paramétrica de **Mann–Whitney U** para comparar el contenido de alcohol entre vinos de **calidad media** (calificación 5–6) y vinos de **calidad superior** (calificación ≥ 7), dado que los datos del grupo de calidad media **no cumplían el supuesto de normalidad** requerido para aplicar una prueba t de Student.\n",
    "\n",
    "El resultado de la prueba fue:\n",
    "\n",
    "* **Estadístico U = 235,313.5**\n",
    "* **p-valor = 0.0000**\n",
    "\n",
    "Dado que el p-valor es **menor al nivel de significancia α = 0.05**, se **rechaza la hipótesis nula**, lo que indica que **existe evidencia estadísticamente significativa** para afirmar que:\n",
    "\n",
    "> **Los vinos de calidad superior tienen mayor contenido de alcohol que los vinos de calidad media.**\n",
    "\n",
    "Este resultado refuerza las observaciones descriptivas previas, donde la media y mediana del contenido de alcohol eran más altas en el grupo de vinos de calidad superior. La prueba de Mann–Whitney U, al no requerir normalidad, ofrece una conclusión robusta y adecuada a las características de los datos."
   ]
  },
  {
   "cell_type": "markdown",
   "id": "97ec40e1",
   "metadata": {},
   "source": [
    "## 🎯 Resolver problema 3 \n",
    "\n",
    "¿ La proporción de vinos Merlot con un pH mayor a 3.1 es significativamente distinta a 0.6? Comente que supuestos son necesarios para realizar está prueba de hipótesis."
   ]
  },
  {
   "cell_type": "markdown",
   "id": "ee4e5241",
   "metadata": {},
   "source": [
    "### **Prueba z para proporciones**"
   ]
  },
  {
   "cell_type": "markdown",
   "id": "d5869b23",
   "metadata": {},
   "source": [
    "#### 1. **Contexto del problema**\n",
    "\n",
    "Queremos evaluar si la proporción de vinos **Sauvignon Blanc** con **pH > 3.1** es **significativamente distinta de 0.6**.\n",
    "\n",
    "Esto implica realizar una **prueba de hipótesis para una proporción muestral**:\n",
    "\n",
    "#### 2. **Formulación de la hipótesis**\n",
    "\n",
    "Sea $p$ la proporción real de vinos Sauvignon Blanc con pH > 3.1.\n",
    "\n",
    "* **H₀ (Hipótesis nula):** $p = 0.6$\n",
    "* **H₁ (Hipótesis alternativa):** $p \\neq 0.6$\n",
    "\n",
    "Se trata de una **prueba bilateral (dos colas)**.\n",
    "\n",
    "#### 3. **Supuestos necesarios para aplicar la prueba z para proporciones**\n",
    "\n",
    "Para usar una prueba z (aproximación normal) se requiere:\n",
    "\n",
    "1. **Muestra aleatoria** de vinos Merlot.\n",
    "2. **Independencia** entre observaciones.\n",
    "3. **Tamaño muestral suficientemente grande** para que se cumpla la normalidad por el Teorema del Límite Central:\n",
    "\n",
    "   * $n \\cdot p_0 \\geq 5$\n",
    "   * $n \\cdot (1 - p_0) \\geq 5$"
   ]
  },
  {
   "cell_type": "code",
   "execution_count": 103,
   "id": "36444237",
   "metadata": {},
   "outputs": [
    {
     "name": "stdout",
     "output_type": "stream",
     "text": [
      "Estadístico z: 21.3844\n",
      "p-valor: 0.0000\n",
      "✅ Se rechaza H₀: La proporción es significativamente distinta de 0.6.\n"
     ]
    }
   ],
   "source": [
    "# Filtrar Merlot\n",
    "merlot = df[df[\"wine strain\"] == \"Merlot\"]\n",
    "\n",
    "# Conteo de vinos con pH > 3.1\n",
    "n = len(merlot)\n",
    "x = (merlot['pH'] > 3.1).sum()\n",
    "\n",
    "# Proporción esperada bajo H₀\n",
    "p0 = 0.6\n",
    "\n",
    "# Prueba z para proporciones (dos colas)\n",
    "stat, p_value = proportions_ztest(count=x, nobs=n, value=p0, alternative='two-sided')\n",
    "\n",
    "print(f\"Estadístico z: {stat:.4f}\")\n",
    "print(f\"p-valor: {p_value:.4f}\")\n",
    "\n",
    "if p_value < 0.05:\n",
    "    print(\"✅ Se rechaza H₀: La proporción es significativamente distinta de 0.6.\")\n",
    "else:\n",
    "    print(\"❌ No se puede rechazar H₀: No hay evidencia suficiente para afirmar que la proporción difiere de 0.6.\")"
   ]
  },
  {
   "cell_type": "markdown",
   "id": "ca0d277a",
   "metadata": {},
   "source": [
    "### **Conclusión**\n",
    "\n",
    "Existe evidencia estadísticamente significativa para afirmar que **la proporción de vinos Merlot con pH mayor a 3.1 es distinta de 0.6**. Este resultado es altamente significativo y sugiere que la acidez (en términos de pH) en este tipo de vino **no sigue la proporción poblacional asumida**, lo cual podría tener implicancias en su clasificación, tratamiento enológico o control de calidad."
   ]
  },
  {
   "cell_type": "markdown",
   "id": "f6f59bab",
   "metadata": {},
   "source": [
    "# 📈 Regresión Lineal"
   ]
  },
  {
   "cell_type": "markdown",
   "id": "5708bdee",
   "metadata": {},
   "source": [
    "El objetivo de esta parte de la evaluación es desarrollar un modelo de regresión lineal múltiple que permita predecir la calidad del vino tinto a partir de un conjunto de variables medibles en laboratorio. La calidad del vino se evalúa mediante una escala numérica, mientras que las propiedades físico-químicas se miden a partir de diferentes parámetros propios de la industria."
   ]
  },
  {
   "cell_type": "markdown",
   "id": "f1caf691",
   "metadata": {},
   "source": [
    "## 🎯 Resolver problema 1\n",
    "\n",
    "Elaborar un modelo de regresision lineal multiple, en donde la variable regresada sea la calidad del vino\n",
    "y las variables regresoras sean la acidez volatil, la densidad, la concentracion de azucar, el contenido\n",
    "del alcohol del vino, el pH y la cantidad de sulfitos que son agregadas al vino para su preservacion."
   ]
  },
  {
   "cell_type": "markdown",
   "id": "4eebdee3",
   "metadata": {},
   "source": [
    "### **Cargar los datos y seleccionar variables**"
   ]
  },
  {
   "cell_type": "code",
   "execution_count": 104,
   "id": "1192c2f5",
   "metadata": {},
   "outputs": [
    {
     "name": "stdout",
     "output_type": "stream",
     "text": [
      "<class 'pandas.core.frame.DataFrame'>\n",
      "RangeIndex: 1599 entries, 0 to 1598\n",
      "Data columns (total 14 columns):\n",
      " #   Column                Non-Null Count  Dtype  \n",
      "---  ------                --------------  -----  \n",
      " 0   Unnamed: 0            1599 non-null   int64  \n",
      " 1   fixed acidity         1599 non-null   float64\n",
      " 2   volatile acidity      1599 non-null   float64\n",
      " 3   citric acid           1599 non-null   float64\n",
      " 4   residual sugar        1599 non-null   float64\n",
      " 5   chlorides             1599 non-null   float64\n",
      " 6   free sulfur dioxide   1599 non-null   float64\n",
      " 7   total sulfur dioxide  1599 non-null   float64\n",
      " 8   density               1599 non-null   float64\n",
      " 9   pH                    1599 non-null   float64\n",
      " 10  sulphates             1599 non-null   float64\n",
      " 11  alcohol               1599 non-null   float64\n",
      " 12  quality               1599 non-null   int64  \n",
      " 13  wine strain           1599 non-null   object \n",
      "dtypes: float64(11), int64(2), object(1)\n",
      "memory usage: 175.0+ KB\n"
     ]
    }
   ],
   "source": [
    "# Cargar los datos desde el archivo CSV subido\n",
    "df_red = pd.read_csv(\"winequality-red.csv\")\n",
    "\n",
    "# Verificar columnas disponibles y tipos de datos\n",
    "df_red.info()"
   ]
  },
  {
   "cell_type": "code",
   "execution_count": 105,
   "id": "d5b31823",
   "metadata": {},
   "outputs": [],
   "source": [
    "# Variables independientes (regresoras)\n",
    "X_red = df_red[['volatile acidity', 'density', 'residual sugar', 'alcohol', 'pH', 'sulphates']]\n",
    "\n",
    "# Variable dependiente (calidad del vino)\n",
    "y_red = df_red['quality']\n",
    "\n",
    "# Agregar constante\n",
    "X_red = sm.add_constant(X_red)"
   ]
  },
  {
   "cell_type": "markdown",
   "id": "5d236e84",
   "metadata": {},
   "source": [
    "### **Ajustar el modelo de regresión**"
   ]
  },
  {
   "cell_type": "code",
   "execution_count": 106,
   "id": "fd5bfc7b",
   "metadata": {},
   "outputs": [
    {
     "name": "stdout",
     "output_type": "stream",
     "text": [
      "                            OLS Regression Results                            \n",
      "==============================================================================\n",
      "Dep. Variable:                quality   R-squared:                       0.339\n",
      "Model:                            OLS   Adj. R-squared:                  0.336\n",
      "Method:                 Least Squares   F-statistic:                     136.0\n",
      "Date:                Sun, 25 May 2025   Prob (F-statistic):          2.97e-139\n",
      "Time:                        15:25:53   Log-Likelihood:                -1595.7\n",
      "No. Observations:                1599   AIC:                             3205.\n",
      "Df Residuals:                    1592   BIC:                             3243.\n",
      "Df Model:                           6                                         \n",
      "Covariance Type:            nonrobust                                         \n",
      "====================================================================================\n",
      "                       coef    std err          t      P>|t|      [0.025      0.975]\n",
      "------------------------------------------------------------------------------------\n",
      "const               -0.1503     11.944     -0.013      0.990     -23.579      23.278\n",
      "volatile acidity    -1.1544      0.100    -11.538      0.000      -1.351      -0.958\n",
      "density              3.6304     11.812      0.307      0.759     -19.539      26.799\n",
      "residual sugar      -0.0072      0.013     -0.550      0.583      -0.033       0.018\n",
      "alcohol              0.3249      0.019     16.779      0.000       0.287       0.363\n",
      "pH                  -0.3034      0.119     -2.553      0.011      -0.536      -0.070\n",
      "sulphates            0.6283      0.104      6.035      0.000       0.424       0.832\n",
      "==============================================================================\n",
      "Omnibus:                       20.779   Durbin-Watson:                   1.739\n",
      "Prob(Omnibus):                  0.000   Jarque-Bera (JB):               31.315\n",
      "Skew:                          -0.113   Prob(JB):                     1.59e-07\n",
      "Kurtosis:                       3.647   Cond. No.                     1.16e+04\n",
      "==============================================================================\n",
      "\n",
      "Notes:\n",
      "[1] Standard Errors assume that the covariance matrix of the errors is correctly specified.\n",
      "[2] The condition number is large, 1.16e+04. This might indicate that there are\n",
      "strong multicollinearity or other numerical problems.\n"
     ]
    }
   ],
   "source": [
    "modelo = sm.OLS(y_red, X_red).fit()\n",
    "print(modelo.summary())"
   ]
  },
  {
   "cell_type": "markdown",
   "id": "563759c0",
   "metadata": {},
   "source": [
    "## 🎯 Resolver problema 2\n",
    "\n",
    "Determinar e interpretar el coeficiente de determinación $R^2$"
   ]
  },
  {
   "cell_type": "markdown",
   "id": "f20525de",
   "metadata": {},
   "source": [
    "### Coeficiente de determinación $R^2$\n",
    "\n",
    "El **coeficiente de determinación $R^2$** mide la **proporción de la variabilidad total** de la variable dependiente (en este caso, **calidad del vino tinto**) que es **explicada por el modelo de regresión** a través de las variables independientes (predictoras).\n",
    "\n",
    "### Fórmulas clave:\n",
    "\n",
    "$$\n",
    "R^2 = \\frac{\\text{Variabilidad explicada por el modelo}}{\\text{Variabilidad total}}\n",
    "$$\n",
    "\n",
    "$$\n",
    "R^2 = 1 - \\frac{SS_{\\text{res}}}{SS_{\\text{tot}}}\n",
    "$$\n",
    "\n",
    "* $SS_{\\text{res}}$: suma de cuadrados del residuo (errores no explicados)\n",
    "* $SS_{\\text{tot}}$: suma total de cuadrados (variabilidad total de la variable dependiente)\n",
    "\n",
    "### En el modelo:\n",
    "\n",
    "* **$R^2 = 0.339$**\n",
    "* **$R^2_{\\text{ajustado}} = 0.336$**\n",
    "\n",
    "> El valor de $R^2 = 0.339$ indica que **el 33% de la variabilidad en la calidad del vino tinto puede explicarse por el modelo**, considerando las variables:\n",
    ">\n",
    "> * Acidez volátil\n",
    "> * Densidad\n",
    "> * Azúcar residual\n",
    "> * Alcohol\n",
    "> * pH\n",
    "> * Sulfitos totales\n",
    "\n",
    "Este valor sugiere que el modelo **tiene capacidad explicativa moderada**, lo cual es razonable dado que la **calidad del vino es una variable sensorial subjetiva**, influenciada también por factores no considerados (aroma, cuerpo, fermentación, etc.).\n",
    "\n",
    "### Diferencia entre $R^2$ y $R^2$ ajustado:\n",
    "\n",
    "* $R^2$: mide la proporción explicada sin penalización por número de variables.\n",
    "* $R^2_{\\text{ajustado}}$: **ajusta por la cantidad de variables** y el tamaño de la muestra, penalizando el sobreajuste.\n",
    "\n",
    "Como **$R^2_{\\text{ajustado} = 0.336}$ ≈ $R^2 = 0.33$**, eso sugiere que **las variables elegidas aportan valor real al modelo**.\n",
    "\n",
    "## Conclusión\n",
    "\n",
    "> El modelo alcanzó un coeficiente de determinación $R^2 = 0.339$, lo que indica que **el 34% de la variación observada en la calidad del vino puede ser explicada por las variables físico-químicas seleccionadas**. Este valor es aceptable considerando la complejidad sensorial del fenómeno, y sugiere que el modelo tiene **una capacidad explicativa razonable**, aunque mejorable, en la predicción de la calidad del vino tinto."
   ]
  },
  {
   "cell_type": "markdown",
   "id": "59017bf9",
   "metadata": {},
   "source": [
    "## 🎯 Resolver problema 3\n",
    "\n",
    "Analisis de los supuestos:\n",
    "- Determinar si los residuos tiene varianza constante (test de homocedasticidad).\n",
    "- Determinar si los residuos siguen una distribución normal y complementar con un histograma\n",
    "de residuos.\n",
    "- Determinar si los residuos están correlacionados"
   ]
  },
  {
   "cell_type": "markdown",
   "id": "3b538365",
   "metadata": {},
   "source": [
    "### **Determinar si los residuos tiene varianza constante (test de homocedasticidad).**\n"
   ]
  },
  {
   "cell_type": "markdown",
   "id": "8e4ec287",
   "metadata": {},
   "source": [
    "Evalúa si la varianza de los residuos es constante o depende de los valores predichos (u otras variables independientes).\n",
    "\n",
    "📌 Hipótesis del test:\n",
    "\n",
    "H₀ (hipótesis nula): Los residuos tienen varianza constante → homocedasticidad\n",
    "\n",
    "H₁ (alternativa): La varianza de los residuos no es constante → heterocedasticidad"
   ]
  },
  {
   "cell_type": "code",
   "execution_count": 107,
   "id": "3a88a31c",
   "metadata": {},
   "outputs": [
    {
     "name": "stdout",
     "output_type": "stream",
     "text": [
      "Breusch-Pagan statistic: 53.3853\n",
      "p-valor: 0.0000\n",
      "❌ Se rechaza H₀: Existe heterocedasticidad (no hay varianza constante).\n"
     ]
    }
   ],
   "source": [
    "# Obtener residuos del modelo entrenado\n",
    "residuos = modelo.resid\n",
    "\n",
    "# Obtener las variables explicativas con constante incluidas\n",
    "X_ = modelo.model.exog\n",
    "\n",
    "# Aplicar el test de Breusch-Pagan\n",
    "bp_stat, bp_pvalue, _, _ = het_breuschpagan(residuos, X_)\n",
    "\n",
    "# Mostrar resultados\n",
    "print(f\"Breusch-Pagan statistic: {bp_stat:.4f}\")\n",
    "print(f\"p-valor: {bp_pvalue:.4f}\")\n",
    "\n",
    "# Interpretación según el valor p\n",
    "if bp_pvalue < 0.05:\n",
    "    print(\"❌ Se rechaza H₀: Existe heterocedasticidad (no hay varianza constante).\")\n",
    "else:\n",
    "    print(\"✅ No se rechaza H₀: Se cumple homocedasticidad (varianza constante).\")\n"
   ]
  },
  {
   "cell_type": "markdown",
   "id": "f78e12ae",
   "metadata": {},
   "source": [
    "#### **Conclusión sobre homocedasticidad**\n",
    "\n",
    "Se aplicó el test de Breusch–Pagan con el objetivo de evaluar el cumplimiento del supuesto de homocedasticidad, es decir, si los residuos del modelo tienen varianza constante a lo largo de los valores predichos.\n",
    "\n",
    "El resultado del test fue el siguiente:\n",
    "\n",
    "- Estadístico de Breusch–Pagan: 53.3853\n",
    "\n",
    "- p-valor: 0.0000"
   ]
  },
  {
   "cell_type": "markdown",
   "id": "49679ae9",
   "metadata": {},
   "source": [
    "### **Determinar si los residuos siguen una distribución normal y complementar con un histograma de residuos.** "
   ]
  },
  {
   "cell_type": "code",
   "execution_count": 108,
   "id": "58b2b5a4",
   "metadata": {},
   "outputs": [
    {
     "name": "stdout",
     "output_type": "stream",
     "text": [
      "🔍 Pruebas de Normalidad sobre los residuos\n",
      "Shapiro-Wilk: Estadístico = 0.9903, p = 0.0000\n",
      "❌ Se rechaza normalidad.\n",
      "D’Agostino-Pearson: Estadístico = 20.7790, p = 0.0000\n",
      "❌ Se rechaza normalidad.\n",
      "Kolmogorov-Smirnov: Estadístico = 0.0507, p = 0.0005\n",
      "❌ Se rechaza normalidad.\n"
     ]
    }
   ],
   "source": [
    "# Suponiendo que ya ajustaste tu modelo como `modelo`\n",
    "residuos = modelo.resid\n",
    "\n",
    "# --- Pruebas de normalidad ---\n",
    "print(\"🔍 Pruebas de Normalidad sobre los residuos\")\n",
    "\n",
    "# Shapiro-Wilk\n",
    "stat_sw, p_sw = shapiro(residuos)\n",
    "print(f\"Shapiro-Wilk: Estadístico = {stat_sw:.4f}, p = {p_sw:.4f}\")\n",
    "print(\"✅ Normalidad NO rechazada.\" if p_sw > 0.05 else \"❌ Se rechaza normalidad.\")\n",
    "\n",
    "# D’Agostino-Pearson\n",
    "stat_nt, p_nt = normaltest(residuos)\n",
    "print(f\"D’Agostino-Pearson: Estadístico = {stat_nt:.4f}, p = {p_nt:.4f}\")\n",
    "print(\"✅ Normalidad NO rechazada.\" if p_nt > 0.05 else \"❌ Se rechaza normalidad.\")\n",
    "\n",
    "# Kolmogorov-Smirnov (ajustado a N(μ, σ))\n",
    "mu, sigma = np.mean(residuos), np.std(residuos)\n",
    "stat_ks, p_ks = kstest(residuos, 'norm', args=(mu, sigma))\n",
    "print(f\"Kolmogorov-Smirnov: Estadístico = {stat_ks:.4f}, p = {p_ks:.4f}\")\n",
    "print(\"✅ Normalidad NO rechazada.\" if p_ks > 0.05 else \"❌ Se rechaza normalidad.\")\n"
   ]
  },
  {
   "cell_type": "code",
   "execution_count": 109,
   "id": "ff97d810",
   "metadata": {},
   "outputs": [
    {
     "data": {
      "image/png": "[encoded data removed]",
      "text/plain": [
       "<Figure size 800x500 with 1 Axes>"
      ]
     },
     "metadata": {},
     "output_type": "display_data"
    }
   ],
   "source": [
    "plt.figure(figsize=(8, 5))\n",
    "sns.histplot(residuos, kde=True, color='mediumpurple', bins=30)\n",
    "plt.axvline(x=0, color='black', linestyle='--', alpha=0.8)\n",
    "plt.title(\"Distribución de los residuos del modelo\")\n",
    "plt.xlabel(\"Residuos\")\n",
    "plt.ylabel(\"Frecuencia\")\n",
    "plt.grid(True, linestyle='--', alpha=0.4)\n",
    "plt.tight_layout()\n",
    "plt.show()\n"
   ]
  },
  {
   "cell_type": "markdown",
   "id": "5708f973",
   "metadata": {},
   "source": [
    "#### **Conclusión sobre normalidad de los residuos**\n",
    "\n",
    "Se evaluó el supuesto de **normalidad de los residuos** del modelo de regresión lineal múltiple utilizando tres pruebas estadísticas:\n",
    "\n",
    "* **Shapiro-Wilk:** p = 0.0000\n",
    "* **D’Agostino-Pearson:** p = 0.0000\n",
    "* **Kolmogorov-Smirnov:** p = 0.0012\n",
    "\n",
    "Dado que en las tres pruebas el **valor p fue inferior al nivel de significancia α = 0.05**, se **rechaza la hipótesis nula de normalidad**. Esto indica que los **residuos del modelo no siguen una distribución normal**.\n",
    "\n",
    "El **histograma de los residuos** respalda esta conclusión: si bien la forma general tiende a una campana, se evidencia **asimetría hacia la izquierda (negativa)** y una concentración levemente superior en los residuos cercanos a cero, lo que sugiere cierta desviación de la simetría esperada, con una leve acumulación de valores cercanos a cero.\n",
    "\n",
    "La falta de normalidad en los residuos **puede comprometer la validez de las pruebas de significancia** aplicadas a los coeficientes del modelo, especialmente en muestras pequeñas. Sin embargo, dado que se trata de una muestra relativamente grande (**n = 1599**), el impacto puede atenuarse por el **Teorema del Límite Central**. \n"
   ]
  },
  {
   "cell_type": "markdown",
   "id": "009df2f7",
   "metadata": {},
   "source": [
    "### **Determinar si los residuos están correlacionados** "
   ]
  },
  {
   "cell_type": "markdown",
   "id": "38235abe",
   "metadata": {},
   "source": [
    "Usamos el test de Durbin–Watson (DW), que detecta autocorrelación de primer orden en los residuos (especialmente importante en series temporales, pero también útil en conjuntos observacionales grandes)."
   ]
  },
  {
   "cell_type": "code",
   "execution_count": 110,
   "id": "158abd02",
   "metadata": {},
   "outputs": [
    {
     "name": "stdout",
     "output_type": "stream",
     "text": [
      "Estadístico de Durbin-Watson: 1.7386\n",
      "✅ No hay evidencia de autocorrelación en los residuos.\n"
     ]
    }
   ],
   "source": [
    "# Obtener residuos del modelo\n",
    "residuos = modelo.resid\n",
    "\n",
    "# Aplicar prueba Durbin-Watson\n",
    "dw_stat = durbin_watson(residuos)\n",
    "\n",
    "print(f\"Estadístico de Durbin-Watson: {dw_stat:.4f}\")\n",
    "\n",
    "# Interpretación general\n",
    "if 1.5 < dw_stat < 2.5:\n",
    "    print(\"✅ No hay evidencia de autocorrelación en los residuos.\")\n",
    "elif dw_stat <= 1.5:\n",
    "    print(\"❌ Posible autocorrelación positiva en los residuos.\")\n",
    "else:\n",
    "    print(\"❌ Posible autocorrelación negativa en los residuos.\")"
   ]
  },
  {
   "cell_type": "markdown",
   "id": "fd18cf94",
   "metadata": {},
   "source": [
    "#### **Conclusión sobre autocorrelación de los residuos**\n",
    "\n",
    "Se aplicó el **test de Durbin–Watson** con el propósito de verificar el cumplimiento del supuesto de **independencia de los residuos** en el modelo de regresión lineal múltiple.\n",
    "\n",
    "El resultado fue:\n",
    "\n",
    "* **Estadístico de Durbin–Watson = 1.786\n",
    "\n",
    "Este valor se encuentra dentro del rango aceptable (**1.5 < DW < 2.5**), lo que indica que **no existe evidencia estadística de autocorrelación entre los residuos** del modelo.\n",
    "\n",
    "> Se concluye que los residuos son independientes entre sí, por lo tanto, **se cumple el supuesto de independencia del error**, lo cual respalda la validez de las inferencias estadísticas sobre los coeficientes estimados del modelo."
   ]
  },
  {
   "cell_type": "markdown",
   "id": "65c54d58",
   "metadata": {},
   "source": [
    "## 🎯 Resolver problema 4\n",
    "\n",
    "Utilizando la ecuación del modelo, predecir la calidad del vino para las siguientes condiciones:\n",
    "\n",
    "- pH : 3.27, 4.0,2.8\n",
    "- volatile acidity: 0.45,0.37,0.5\n",
    "- residual sugar: 0.91,1.21,2.01\n",
    "- density : 0.995, 0.999, 0.912\n",
    "- alcohol: 9.4,11.01,10.9\n",
    "- sulphates: 0.5,0.54,0.59\n",
    "\n",
    "¿Qué se puede inferir con respecto a las estimaciones? ¿Son confiables?"
   ]
  },
  {
   "cell_type": "code",
   "execution_count": 111,
   "id": "f7857bd5",
   "metadata": {},
   "outputs": [
    {
     "name": "stdout",
     "output_type": "stream",
     "text": [
      "                            OLS Regression Results                            \n",
      "==============================================================================\n",
      "Dep. Variable:                quality   R-squared:                       0.339\n",
      "Model:                            OLS   Adj. R-squared:                  0.336\n",
      "Method:                 Least Squares   F-statistic:                     136.0\n",
      "Date:                Sun, 25 May 2025   Prob (F-statistic):          2.97e-139\n",
      "Time:                        15:25:53   Log-Likelihood:                -1595.7\n",
      "No. Observations:                1599   AIC:                             3205.\n",
      "Df Residuals:                    1592   BIC:                             3243.\n",
      "Df Model:                           6                                         \n",
      "Covariance Type:            nonrobust                                         \n",
      "====================================================================================\n",
      "                       coef    std err          t      P>|t|      [0.025      0.975]\n",
      "------------------------------------------------------------------------------------\n",
      "const               -0.1503     11.944     -0.013      0.990     -23.579      23.278\n",
      "volatile acidity    -1.1544      0.100    -11.538      0.000      -1.351      -0.958\n",
      "density              3.6304     11.812      0.307      0.759     -19.539      26.799\n",
      "residual sugar      -0.0072      0.013     -0.550      0.583      -0.033       0.018\n",
      "alcohol              0.3249      0.019     16.779      0.000       0.287       0.363\n",
      "pH                  -0.3034      0.119     -2.553      0.011      -0.536      -0.070\n",
      "sulphates            0.6283      0.104      6.035      0.000       0.424       0.832\n",
      "==============================================================================\n",
      "Omnibus:                       20.779   Durbin-Watson:                   1.739\n",
      "Prob(Omnibus):                  0.000   Jarque-Bera (JB):               31.315\n",
      "Skew:                          -0.113   Prob(JB):                     1.59e-07\n",
      "Kurtosis:                       3.647   Cond. No.                     1.16e+04\n",
      "==============================================================================\n",
      "\n",
      "Notes:\n",
      "[1] Standard Errors assume that the covariance matrix of the errors is correctly specified.\n",
      "[2] The condition number is large, 1.16e+04. This might indicate that there are\n",
      "strong multicollinearity or other numerical problems.\n",
      "\n",
      " Predicciones de calidad para nuevas condiciones:\n"
     ]
    },
    {
     "data": {
      "text/html": [
       "<div>\n",
       "<style scoped>\n",
       "    .dataframe tbody tr th:only-of-type {\n",
       "        vertical-align: middle;\n",
       "    }\n",
       "\n",
       "    .dataframe tbody tr th {\n",
       "        vertical-align: top;\n",
       "    }\n",
       "\n",
       "    .dataframe thead th {\n",
       "        text-align: right;\n",
       "    }\n",
       "</style>\n",
       "<table border=\"1\" class=\"dataframe\">\n",
       "  <thead>\n",
       "    <tr style=\"text-align: right;\">\n",
       "      <th></th>\n",
       "      <th>pH</th>\n",
       "      <th>volatile acidity</th>\n",
       "      <th>residual sugar</th>\n",
       "      <th>density</th>\n",
       "      <th>alcohol</th>\n",
       "      <th>sulphates</th>\n",
       "      <th>predicted_quality</th>\n",
       "    </tr>\n",
       "  </thead>\n",
       "  <tbody>\n",
       "    <tr>\n",
       "      <th>0</th>\n",
       "      <td>3.27</td>\n",
       "      <td>0.45</td>\n",
       "      <td>0.91</td>\n",
       "      <td>0.995</td>\n",
       "      <td>9.40</td>\n",
       "      <td>0.50</td>\n",
       "      <td>-4.512</td>\n",
       "    </tr>\n",
       "    <tr>\n",
       "      <th>1</th>\n",
       "      <td>4.00</td>\n",
       "      <td>0.37</td>\n",
       "      <td>1.21</td>\n",
       "      <td>0.999</td>\n",
       "      <td>11.01</td>\n",
       "      <td>0.54</td>\n",
       "      <td>-6.109</td>\n",
       "    </tr>\n",
       "    <tr>\n",
       "      <th>2</th>\n",
       "      <td>2.80</td>\n",
       "      <td>0.50</td>\n",
       "      <td>2.01</td>\n",
       "      <td>0.912</td>\n",
       "      <td>10.90</td>\n",
       "      <td>0.59</td>\n",
       "      <td>-4.221</td>\n",
       "    </tr>\n",
       "  </tbody>\n",
       "</table>\n",
       "</div>"
      ],
      "text/plain": [
       "     pH  volatile acidity  residual sugar  density  alcohol  sulphates  \\\n",
       "0  3.27              0.45            0.91    0.995     9.40       0.50   \n",
       "1  4.00              0.37            1.21    0.999    11.01       0.54   \n",
       "2  2.80              0.50            2.01    0.912    10.90       0.59   \n",
       "\n",
       "   predicted_quality  \n",
       "0             -4.512  \n",
       "1             -6.109  \n",
       "2             -4.221  "
      ]
     },
     "metadata": {},
     "output_type": "display_data"
    },
    {
     "name": "stdout",
     "output_type": "stream",
     "text": [
      "📊 Verificación de dominio (¿están dentro del rango de entrenamiento?):\n",
      "⚠️ Muestra 3: density = 0.912 está fuera del rango [0.990, 1.004]\n"
     ]
    }
   ],
   "source": [
    "from IPython.display import display\n",
    "\n",
    "df = pd.read_csv(\"winequality-red.csv\") \n",
    "\n",
    "X = df[['volatile acidity', 'density', 'residual sugar', 'alcohol', 'pH', 'sulphates']]\n",
    "y = df['quality']\n",
    "X = sm.add_constant(X)\n",
    "\n",
    "modelo = sm.OLS(y, X).fit()\n",
    "print(modelo.summary())\n",
    "\n",
    "nuevas_condiciones = pd.DataFrame({\n",
    "    'pH': [3.27, 4.0, 2.8],\n",
    "    'volatile acidity': [0.45, 0.37, 0.5],\n",
    "    'residual sugar': [0.91, 1.21, 2.01],\n",
    "    'density': [0.995, 0.999, 0.912],\n",
    "    'alcohol': [9.4, 11.01, 10.9],\n",
    "    'sulphates': [0.5, 0.54, 0.59]\n",
    "})\n",
    "\n",
    "X_nuevas = sm.add_constant(nuevas_condiciones)\n",
    "nuevas_condiciones['predicted_quality'] = modelo.predict(X_nuevas)\n",
    "\n",
    "print(\"\\n Predicciones de calidad para nuevas condiciones:\")\n",
    "display(nuevas_condiciones.round(3))\n",
    "\n",
    "print(\"📊 Verificación de dominio (¿están dentro del rango de entrenamiento?):\")\n",
    "rangos = df[['pH', 'volatile acidity', 'residual sugar', 'density', 'alcohol', 'sulphates']].describe().loc[['min', 'max']]\n",
    "\n",
    "for col in nuevas_condiciones.columns[:-1]:  # excluye predicted_quality\n",
    "    min_val = rangos.loc['min', col]\n",
    "    max_val = rangos.loc['max', col]\n",
    "    for i, valor in enumerate(nuevas_condiciones[col]):\n",
    "        if not (min_val <= valor <= max_val):\n",
    "            print(f\"⚠️ Muestra {i+1}: {col} = {valor} está fuera del rango [{min_val:.3f}, {max_val:.3f}]\")\n"
   ]
  },
  {
   "cell_type": "markdown",
   "id": "896ae24b",
   "metadata": {},
   "source": [
    "### **Conclusión**\n",
    "\n",
    "#### Predicciones obtenidas\n",
    "\n",
    "| Muestra | Calidad estimada |\n",
    "| ------- | ---------------- |\n",
    "| 1       | **-4.512**       |\n",
    "| 2       | **-6.109**       |\n",
    "| 3       | **-4.221**       |\n",
    "\n",
    "#### **Evaluación de confiabilidad**\n",
    "\n",
    "Las predicciones obtenidas **no son confiables**, por las siguientes razones:\n",
    "\n",
    "1. **Valores negativos de calidad**:\n",
    "   La calidad del vino se mide en una escala numérica discreta, normalmente entre 0 y 10. Obtener valores negativos indica que el modelo está **extrapolando fuera del dominio válido**.\n",
    "\n",
    "2. **Valor fuera del rango observado**:\n",
    "   En la muestra 3, el valor de `density = 0.912` **está fuera del rango de entrenamiento** del modelo (`[0.990, 1.004]`), lo cual genera una predicción inestable y alejada del comportamiento real.\n",
    "\n",
    "3. **Modelo lineal limitado**:\n",
    "   El modelo es lineal y no tiene restricciones internas para evitar predicciones incoherentes. Por lo tanto, combinaciones extremas o no representativas del set de entrenamiento pueden producir **resultados poco realistas**, como los observados.\n",
    "\n",
    "> Aunque el modelo ajustado explica un **33.9% de la variabilidad** en la calidad del vino tinto ($R^2 = 0.339$), las predicciones para estas nuevas condiciones no son confiables. Esto se debe a que:\n",
    ">\n",
    "> * Las entradas están **parcialmente fuera del dominio de entrenamiento**, y\n",
    "> * El modelo no contempla límites sobre la variable dependiente ni transformaciones para mitigar extrapolación."
   ]
  }
 ],
 "metadata": {
  "kernelspec": {
   "display_name": "Python 3",
   "language": "python",
   "name": "python3"
  },
  "language_info": {
   "codemirror_mode": {
    "name": "ipython",
    "version": 3
   },
   "file_extension": ".py",
   "mimetype": "text/x-python",
   "name": "python",
   "nbconvert_exporter": "python",
   "pygments_lexer": "ipython3",
   "version": "3.12.2"
  }
 },
 "nbformat": 4,
 "nbformat_minor": 5
}
