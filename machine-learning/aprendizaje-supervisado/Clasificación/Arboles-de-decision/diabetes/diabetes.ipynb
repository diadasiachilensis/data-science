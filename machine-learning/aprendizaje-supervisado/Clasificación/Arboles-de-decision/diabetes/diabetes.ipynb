{
 "cells": [
  {
   "cell_type": "markdown",
   "id": "8e650f1b",
   "metadata": {},
   "source": [
    "https://www.youtube.com/watch?v=XK9gaMx76wU"
   ]
  }
 ],
 "metadata": {
  "language_info": {
   "name": "python"
  }
 },
 "nbformat": 4,
 "nbformat_minor": 5
}
