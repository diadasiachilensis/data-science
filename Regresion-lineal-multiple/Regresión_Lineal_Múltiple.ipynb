{
  "nbformat": 4,
  "nbformat_minor": 0,
  "metadata": {
    "colab": {
      "provenance": []
    },
    "kernelspec": {
      "name": "python3",
      "display_name": "Python 3"
    },
    "language_info": {
      "name": "python"
    }
  },
  "cells": [
    {
      "cell_type": "code",
      "execution_count": null,
      "metadata": {
        "id": "uZbKMiGZSlKs"
      },
      "outputs": [],
      "source": [
        "lo import pandas as pd\n",
        "import numpy as np\n",
        "import scipy.stats as ss\n",
        "import matplotlib.pyplot as plt\n",
        "import seaborn as sns\n",
        "import statsmodels.api as sm\n"
      ]
    },
    {
      "cell_type": "markdown",
      "source": [
        "# Regresión Lineal Múltiple\n",
        "\n",
        "La adición  de variables, conduce al análisis de regresión múltiple, en los cuales la variable dependiente (o regresada $Y$) depende de dos o más variables regresoras.\n",
        "\n",
        "## Modelo de regresión lineal con 3 variables\n",
        "\n",
        "Se define la función de regresión lineal poblacional como\n",
        "$$\n",
        "Y=\\beta_0+\\beta_1 x_1+\\beta_2 x_2+ϵ\n",
        "$$\n",
        "en este caso $x_1$ y $x_2$ son las variables regresoras y $\\epsilon$ corresponde al  término residual\n"
      ],
      "metadata": {
        "id": "peJlT1xzSrLG"
      }
    },
    {
      "cell_type": "markdown",
      "source": [
        "## **Estimación de parámetros mediante el método de mínimos cuadrados**\n",
        "\n",
        "La función de regresión muestral (FRM), en este caso de define como\n",
        "$$\n",
        "\\hat{y}=\\hat{\\beta}_0+\\hat{\\beta}_1x_1+\\hat{\\beta}_2 x_2+\\epsilon_i\n",
        "$$\n",
        "\n",
        "donde $\\epsilon_i$, corresponde al residual.\n",
        "\n",
        "El método de los mínimos cuadrados, consiste en seleccionar los valores desconocidos de los parámetros $\\beta_0,\\beta_1$ y $\\beta_2$, tal que\n",
        "$$\n",
        "y-\\left(\\beta_0+\\beta_1x_1+\\beta_2x_2\\right))^2\n",
        "$$\n",
        "sea lo más pequeña posible.\n",
        "\n",
        "Considerando la restricción antrior, los valores de las pendientes parciales $\\beta_1$ y $\\beta_2$, se definen como\n",
        "$$\n",
        "\\hat{\\beta}_1=\\frac{\\left(\\sum y_ix_{1i}\\right)\\left(\\sum x_{2i}^2\\right)-\\left(\\sum y_ix_{2i}\\right)\\left(\\sum x_{2i}x_{1i}\\right)}{\\left(\\sum x_{1i}^2\\right)\\left(\\sum x_{2i}^2\\right)-\\left(\\sum x_{1i}x_{2i}\\right)^2}\n",
        "$$\n",
        "y\n",
        "$$\n",
        "\\hat{\\beta}_2= \\frac{\\left(\\sum y_ix_{2i}\\right)\\left(\\sum x_{1i}^2\\right)-\\left(\\sum y_ix_{1i}\\right)\\left(\\sum x_{2i}x_{1i}\\right)}{\\left(\\sum x_{1i}^2\\right)\\left(\\sum x_{2i}^2\\right)-\\left(\\sum x_{1i}x_{2i}\\right)^2}\n",
        "$$\n",
        "de esto, se obtiene que\n",
        "$$\n",
        "\\hat{\\beta}_0=\\bar{Y}-\\hat{\\beta}_1\\bar{x}_1-\\hat{\\beta}_2\\bar{x}_2\n",
        "$$\n"
      ],
      "metadata": {
        "id": "bm2xZyCbS7cO"
      }
    },
    {
      "cell_type": "markdown",
      "source": [
        "## Ejemplo:\n",
        "\n",
        "Apliquemos lo anterior para determinar el modelo de regresión lineal que permita\n",
        "predecir el rendimiento de un vehículo en función de su acceleración, peso y caballos de fuerza. Base de datos mpg"
      ],
      "metadata": {
        "id": "-r6gvdmKTK_3"
      }
    },
    {
      "cell_type": "code",
      "source": [
        "autos=sns.load_dataset('mpg')"
      ],
      "metadata": {
        "id": "3QZ9TExdUWXA"
      },
      "execution_count": null,
      "outputs": []
    },
    {
      "cell_type": "code",
      "source": [
        "autos.info()"
      ],
      "metadata": {
        "colab": {
          "base_uri": "https://localhost:8080/"
        },
        "id": "w-wgQqASUetN",
        "outputId": "ce0d8523-4f0d-4d8b-fc95-f692181483b7"
      },
      "execution_count": null,
      "outputs": [
        {
          "output_type": "stream",
          "name": "stdout",
          "text": [
            "<class 'pandas.core.frame.DataFrame'>\n",
            "RangeIndex: 398 entries, 0 to 397\n",
            "Data columns (total 9 columns):\n",
            " #   Column        Non-Null Count  Dtype  \n",
            "---  ------        --------------  -----  \n",
            " 0   mpg           398 non-null    float64\n",
            " 1   cylinders     398 non-null    int64  \n",
            " 2   displacement  398 non-null    float64\n",
            " 3   horsepower    392 non-null    float64\n",
            " 4   weight        398 non-null    int64  \n",
            " 5   acceleration  398 non-null    float64\n",
            " 6   model_year    398 non-null    int64  \n",
            " 7   origin        398 non-null    object \n",
            " 8   name          398 non-null    object \n",
            "dtypes: float64(4), int64(3), object(2)\n",
            "memory usage: 28.1+ KB\n"
          ]
        }
      ]
    },
    {
      "cell_type": "code",
      "source": [
        "autos=autos.dropna()"
      ],
      "metadata": {
        "id": "o5mCxyDyVfFe"
      },
      "execution_count": null,
      "outputs": []
    },
    {
      "cell_type": "code",
      "source": [
        "En# Variables Regresoras:\n",
        "X=autos[['acceleration','weight','horsepower']]\n",
        "y=autos['mpg']"
      ],
      "metadata": {
        "id": "8gRqyxOnUj_0"
      },
      "execution_count": null,
      "outputs": []
    },
    {
      "cell_type": "code",
      "source": [
        "X=sm.add_constant(X)"
      ],
      "metadata": {
        "id": "HdouE3p8Uy8E"
      },
      "execution_count": null,
      "outputs": []
    },
    {
      "cell_type": "code",
      "source": [
        "modelo=sm.OLS(y,X).fit()\n",
        "modelo.summary()"
      ],
      "metadata": {
        "colab": {
          "base_uri": "https://localhost:8080/",
          "height": 520
        },
        "id": "qAVbpCWIU6-q",
        "outputId": "45ee7422-7f7f-4767-b565-ea885a406e9d"
      },
      "execution_count": null,
      "outputs": [
        {
          "output_type": "execute_result",
          "data": {
            "text/plain": [
              "<class 'statsmodels.iolib.summary.Summary'>\n",
              "\"\"\"\n",
              "                            OLS Regression Results                            \n",
              "==============================================================================\n",
              "Dep. Variable:                    mpg   R-squared:                       0.706\n",
              "Model:                            OLS   Adj. R-squared:                  0.704\n",
              "Method:                 Least Squares   F-statistic:                     311.1\n",
              "Date:                Tue, 20 May 2025   Prob (F-statistic):          7.48e-103\n",
              "Time:                        23:06:31   Log-Likelihood:                -1121.0\n",
              "No. Observations:                 392   AIC:                             2250.\n",
              "Df Residuals:                     388   BIC:                             2266.\n",
              "Df Model:                           3                                         \n",
              "Covariance Type:            nonrobust                                         \n",
              "================================================================================\n",
              "                   coef    std err          t      P>|t|      [0.025      0.975]\n",
              "--------------------------------------------------------------------------------\n",
              "const           45.6783      2.409     18.965      0.000      40.943      50.414\n",
              "acceleration    -0.0021      0.123     -0.017      0.987      -0.245       0.240\n",
              "weight          -0.0058      0.001    -10.024      0.000      -0.007      -0.005\n",
              "horsepower      -0.0475      0.016     -2.970      0.003      -0.079      -0.016\n",
              "==============================================================================\n",
              "Omnibus:                       35.392   Durbin-Watson:                   0.858\n",
              "Prob(Omnibus):                  0.000   Jarque-Bera (JB):               46.071\n",
              "Skew:                           0.684   Prob(JB):                     9.91e-11\n",
              "Kurtosis:                       3.975   Cond. No.                     3.48e+04\n",
              "==============================================================================\n",
              "\n",
              "Notes:\n",
              "[1] Standard Errors assume that the covariance matrix of the errors is correctly specified.\n",
              "[2] The condition number is large, 3.48e+04. This might indicate that there are\n",
              "strong multicollinearity or other numerical problems.\n",
              "\"\"\""
            ],
            "text/html": [
              "<table class=\"simpletable\">\n",
              "<caption>OLS Regression Results</caption>\n",
              "<tr>\n",
              "  <th>Dep. Variable:</th>           <td>mpg</td>       <th>  R-squared:         </th> <td>   0.706</td> \n",
              "</tr>\n",
              "<tr>\n",
              "  <th>Model:</th>                   <td>OLS</td>       <th>  Adj. R-squared:    </th> <td>   0.704</td> \n",
              "</tr>\n",
              "<tr>\n",
              "  <th>Method:</th>             <td>Least Squares</td>  <th>  F-statistic:       </th> <td>   311.1</td> \n",
              "</tr>\n",
              "<tr>\n",
              "  <th>Date:</th>             <td>Tue, 20 May 2025</td> <th>  Prob (F-statistic):</th> <td>7.48e-103</td>\n",
              "</tr>\n",
              "<tr>\n",
              "  <th>Time:</th>                 <td>23:06:31</td>     <th>  Log-Likelihood:    </th> <td> -1121.0</td> \n",
              "</tr>\n",
              "<tr>\n",
              "  <th>No. Observations:</th>      <td>   392</td>      <th>  AIC:               </th> <td>   2250.</td> \n",
              "</tr>\n",
              "<tr>\n",
              "  <th>Df Residuals:</th>          <td>   388</td>      <th>  BIC:               </th> <td>   2266.</td> \n",
              "</tr>\n",
              "<tr>\n",
              "  <th>Df Model:</th>              <td>     3</td>      <th>                     </th>     <td> </td>    \n",
              "</tr>\n",
              "<tr>\n",
              "  <th>Covariance Type:</th>      <td>nonrobust</td>    <th>                     </th>     <td> </td>    \n",
              "</tr>\n",
              "</table>\n",
              "<table class=\"simpletable\">\n",
              "<tr>\n",
              "        <td></td>          <th>coef</th>     <th>std err</th>      <th>t</th>      <th>P>|t|</th>  <th>[0.025</th>    <th>0.975]</th>  \n",
              "</tr>\n",
              "<tr>\n",
              "  <th>const</th>        <td>   45.6783</td> <td>    2.409</td> <td>   18.965</td> <td> 0.000</td> <td>   40.943</td> <td>   50.414</td>\n",
              "</tr>\n",
              "<tr>\n",
              "  <th>acceleration</th> <td>   -0.0021</td> <td>    0.123</td> <td>   -0.017</td> <td> 0.987</td> <td>   -0.245</td> <td>    0.240</td>\n",
              "</tr>\n",
              "<tr>\n",
              "  <th>weight</th>       <td>   -0.0058</td> <td>    0.001</td> <td>  -10.024</td> <td> 0.000</td> <td>   -0.007</td> <td>   -0.005</td>\n",
              "</tr>\n",
              "<tr>\n",
              "  <th>horsepower</th>   <td>   -0.0475</td> <td>    0.016</td> <td>   -2.970</td> <td> 0.003</td> <td>   -0.079</td> <td>   -0.016</td>\n",
              "</tr>\n",
              "</table>\n",
              "<table class=\"simpletable\">\n",
              "<tr>\n",
              "  <th>Omnibus:</th>       <td>35.392</td> <th>  Durbin-Watson:     </th> <td>   0.858</td>\n",
              "</tr>\n",
              "<tr>\n",
              "  <th>Prob(Omnibus):</th> <td> 0.000</td> <th>  Jarque-Bera (JB):  </th> <td>  46.071</td>\n",
              "</tr>\n",
              "<tr>\n",
              "  <th>Skew:</th>          <td> 0.684</td> <th>  Prob(JB):          </th> <td>9.91e-11</td>\n",
              "</tr>\n",
              "<tr>\n",
              "  <th>Kurtosis:</th>      <td> 3.975</td> <th>  Cond. No.          </th> <td>3.48e+04</td>\n",
              "</tr>\n",
              "</table><br/><br/>Notes:<br/>[1] Standard Errors assume that the covariance matrix of the errors is correctly specified.<br/>[2] The condition number is large, 3.48e+04. This might indicate that there are<br/>strong multicollinearity or other numerical problems."
            ],
            "text/latex": "\\begin{center}\n\\begin{tabular}{lclc}\n\\toprule\n\\textbf{Dep. Variable:}    &       mpg        & \\textbf{  R-squared:         } &     0.706   \\\\\n\\textbf{Model:}            &       OLS        & \\textbf{  Adj. R-squared:    } &     0.704   \\\\\n\\textbf{Method:}           &  Least Squares   & \\textbf{  F-statistic:       } &     311.1   \\\\\n\\textbf{Date:}             & Tue, 20 May 2025 & \\textbf{  Prob (F-statistic):} & 7.48e-103   \\\\\n\\textbf{Time:}             &     23:06:31     & \\textbf{  Log-Likelihood:    } &   -1121.0   \\\\\n\\textbf{No. Observations:} &         392      & \\textbf{  AIC:               } &     2250.   \\\\\n\\textbf{Df Residuals:}     &         388      & \\textbf{  BIC:               } &     2266.   \\\\\n\\textbf{Df Model:}         &           3      & \\textbf{                     } &             \\\\\n\\textbf{Covariance Type:}  &    nonrobust     & \\textbf{                     } &             \\\\\n\\bottomrule\n\\end{tabular}\n\\begin{tabular}{lcccccc}\n                      & \\textbf{coef} & \\textbf{std err} & \\textbf{t} & \\textbf{P$> |$t$|$} & \\textbf{[0.025} & \\textbf{0.975]}  \\\\\n\\midrule\n\\textbf{const}        &      45.6783  &        2.409     &    18.965  &         0.000        &       40.943    &       50.414     \\\\\n\\textbf{acceleration} &      -0.0021  &        0.123     &    -0.017  &         0.987        &       -0.245    &        0.240     \\\\\n\\textbf{weight}       &      -0.0058  &        0.001     &   -10.024  &         0.000        &       -0.007    &       -0.005     \\\\\n\\textbf{horsepower}   &      -0.0475  &        0.016     &    -2.970  &         0.003        &       -0.079    &       -0.016     \\\\\n\\bottomrule\n\\end{tabular}\n\\begin{tabular}{lclc}\n\\textbf{Omnibus:}       & 35.392 & \\textbf{  Durbin-Watson:     } &    0.858  \\\\\n\\textbf{Prob(Omnibus):} &  0.000 & \\textbf{  Jarque-Bera (JB):  } &   46.071  \\\\\n\\textbf{Skew:}          &  0.684 & \\textbf{  Prob(JB):          } & 9.91e-11  \\\\\n\\textbf{Kurtosis:}      &  3.975 & \\textbf{  Cond. No.          } & 3.48e+04  \\\\\n\\bottomrule\n\\end{tabular}\n%\\caption{OLS Regression Results}\n\\end{center}\n\nNotes: \\newline\n [1] Standard Errors assume that the covariance matrix of the errors is correctly specified. \\newline\n [2] The condition number is large, 3.48e+04. This might indicate that there are \\newline\n strong multicollinearity or other numerical problems."
          },
          "metadata": {},
          "execution_count": 39
        }
      ]
    },
    {
      "cell_type": "code",
      "source": [
        "modelo.params"
      ],
      "metadata": {
        "colab": {
          "base_uri": "https://localhost:8080/",
          "height": 209
        },
        "id": "ecv1Bj8eWIYo",
        "outputId": "d72659ba-2c5c-41ff-c4ea-9fffa9c1871a"
      },
      "execution_count": null,
      "outputs": [
        {
          "output_type": "execute_result",
          "data": {
            "text/plain": [
              "const           45.678293\n",
              "acceleration    -0.002066\n",
              "weight          -0.005789\n",
              "horsepower      -0.047496\n",
              "dtype: float64"
            ],
            "text/html": [
              "<div>\n",
              "<style scoped>\n",
              "    .dataframe tbody tr th:only-of-type {\n",
              "        vertical-align: middle;\n",
              "    }\n",
              "\n",
              "    .dataframe tbody tr th {\n",
              "        vertical-align: top;\n",
              "    }\n",
              "\n",
              "    .dataframe thead th {\n",
              "        text-align: right;\n",
              "    }\n",
              "</style>\n",
              "<table border=\"1\" class=\"dataframe\">\n",
              "  <thead>\n",
              "    <tr style=\"text-align: right;\">\n",
              "      <th></th>\n",
              "      <th>0</th>\n",
              "    </tr>\n",
              "  </thead>\n",
              "  <tbody>\n",
              "    <tr>\n",
              "      <th>const</th>\n",
              "      <td>45.678293</td>\n",
              "    </tr>\n",
              "    <tr>\n",
              "      <th>acceleration</th>\n",
              "      <td>-0.002066</td>\n",
              "    </tr>\n",
              "    <tr>\n",
              "      <th>weight</th>\n",
              "      <td>-0.005789</td>\n",
              "    </tr>\n",
              "    <tr>\n",
              "      <th>horsepower</th>\n",
              "      <td>-0.047496</td>\n",
              "    </tr>\n",
              "  </tbody>\n",
              "</table>\n",
              "</div><br><label><b>dtype:</b> float64</label>"
            ]
          },
          "metadata": {},
          "execution_count": 11
        }
      ]
    },
    {
      "cell_type": "markdown",
      "source": [
        "$$\n",
        "mpg= 45.678293-0.002066 *aceleracion- 0.005789*weight-0.047496*horsepower\n",
        "$$"
      ],
      "metadata": {
        "id": "7NCpLGnIWaG7"
      }
    },
    {
      "cell_type": "markdown",
      "source": [
        "2. Determinar el rendimiento del automóvil, si este tiene una aceleración de 13.1 $km/hr$, un peso de 3500 kg y una potencia de 142 caballos de fuerza."
      ],
      "metadata": {
        "id": "nXxl9RRCWtxb"
      }
    },
    {
      "cell_type": "code",
      "source": [
        "predicciones=sm.add_constant(pd.DataFrame({'x1':[13.1,0],\n",
        "              'x2':[3500,0],\n",
        "              'x3':[142,0]}))"
      ],
      "metadata": {
        "id": "9qb8IgZ0XHRm"
      },
      "execution_count": null,
      "outputs": []
    },
    {
      "cell_type": "code",
      "source": [
        "predicciones"
      ],
      "metadata": {
        "colab": {
          "base_uri": "https://localhost:8080/",
          "height": 125
        },
        "id": "UvkbaHy88x3o",
        "outputId": "43b4e5de-0da3-44c1-cef6-dea73dfe43d6"
      },
      "execution_count": null,
      "outputs": [
        {
          "output_type": "execute_result",
          "data": {
            "text/plain": [
              "   const    x1    x2   x3\n",
              "0    1.0  13.1  3500  142\n",
              "1    1.0   0.0     0    0"
            ],
            "text/html": [
              "\n",
              "  <div id=\"df-8d140e0b-a606-4bdb-b0e4-f67617aa077c\" class=\"colab-df-container\">\n",
              "    <div>\n",
              "<style scoped>\n",
              "    .dataframe tbody tr th:only-of-type {\n",
              "        vertical-align: middle;\n",
              "    }\n",
              "\n",
              "    .dataframe tbody tr th {\n",
              "        vertical-align: top;\n",
              "    }\n",
              "\n",
              "    .dataframe thead th {\n",
              "        text-align: right;\n",
              "    }\n",
              "</style>\n",
              "<table border=\"1\" class=\"dataframe\">\n",
              "  <thead>\n",
              "    <tr style=\"text-align: right;\">\n",
              "      <th></th>\n",
              "      <th>const</th>\n",
              "      <th>x1</th>\n",
              "      <th>x2</th>\n",
              "      <th>x3</th>\n",
              "    </tr>\n",
              "  </thead>\n",
              "  <tbody>\n",
              "    <tr>\n",
              "      <th>0</th>\n",
              "      <td>1.0</td>\n",
              "      <td>13.1</td>\n",
              "      <td>3500</td>\n",
              "      <td>142</td>\n",
              "    </tr>\n",
              "    <tr>\n",
              "      <th>1</th>\n",
              "      <td>1.0</td>\n",
              "      <td>0.0</td>\n",
              "      <td>0</td>\n",
              "      <td>0</td>\n",
              "    </tr>\n",
              "  </tbody>\n",
              "</table>\n",
              "</div>\n",
              "    <div class=\"colab-df-buttons\">\n",
              "\n",
              "  <div class=\"colab-df-container\">\n",
              "    <button class=\"colab-df-convert\" onclick=\"convertToInteractive('df-8d140e0b-a606-4bdb-b0e4-f67617aa077c')\"\n",
              "            title=\"Convert this dataframe to an interactive table.\"\n",
              "            style=\"display:none;\">\n",
              "\n",
              "  <svg xmlns=\"http://www.w3.org/2000/svg\" height=\"24px\" viewBox=\"0 -960 960 960\">\n",
              "    <path d=\"M120-120v-720h720v720H120Zm60-500h600v-160H180v160Zm220 220h160v-160H400v160Zm0 220h160v-160H400v160ZM180-400h160v-160H180v160Zm440 0h160v-160H620v160ZM180-180h160v-160H180v160Zm440 0h160v-160H620v160Z\"/>\n",
              "  </svg>\n",
              "    </button>\n",
              "\n",
              "  <style>\n",
              "    .colab-df-container {\n",
              "      display:flex;\n",
              "      gap: 12px;\n",
              "    }\n",
              "\n",
              "    .colab-df-convert {\n",
              "      background-color: #E8F0FE;\n",
              "      border: none;\n",
              "      border-radius: 50%;\n",
              "      cursor: pointer;\n",
              "      display: none;\n",
              "      fill: #1967D2;\n",
              "      height: 32px;\n",
              "      padding: 0 0 0 0;\n",
              "      width: 32px;\n",
              "    }\n",
              "\n",
              "    .colab-df-convert:hover {\n",
              "      background-color: #E2EBFA;\n",
              "      box-shadow: 0px 1px 2px rgba(60, 64, 67, 0.3), 0px 1px 3px 1px rgba(60, 64, 67, 0.15);\n",
              "      fill: #174EA6;\n",
              "    }\n",
              "\n",
              "    .colab-df-buttons div {\n",
              "      margin-bottom: 4px;\n",
              "    }\n",
              "\n",
              "    [theme=dark] .colab-df-convert {\n",
              "      background-color: #3B4455;\n",
              "      fill: #D2E3FC;\n",
              "    }\n",
              "\n",
              "    [theme=dark] .colab-df-convert:hover {\n",
              "      background-color: #434B5C;\n",
              "      box-shadow: 0px 1px 3px 1px rgba(0, 0, 0, 0.15);\n",
              "      filter: drop-shadow(0px 1px 2px rgba(0, 0, 0, 0.3));\n",
              "      fill: #FFFFFF;\n",
              "    }\n",
              "  </style>\n",
              "\n",
              "    <script>\n",
              "      const buttonEl =\n",
              "        document.querySelector('#df-8d140e0b-a606-4bdb-b0e4-f67617aa077c button.colab-df-convert');\n",
              "      buttonEl.style.display =\n",
              "        google.colab.kernel.accessAllowed ? 'block' : 'none';\n",
              "\n",
              "      async function convertToInteractive(key) {\n",
              "        const element = document.querySelector('#df-8d140e0b-a606-4bdb-b0e4-f67617aa077c');\n",
              "        const dataTable =\n",
              "          await google.colab.kernel.invokeFunction('convertToInteractive',\n",
              "                                                    [key], {});\n",
              "        if (!dataTable) return;\n",
              "\n",
              "        const docLinkHtml = 'Like what you see? Visit the ' +\n",
              "          '<a target=\"_blank\" href=https://colab.research.google.com/notebooks/data_table.ipynb>data table notebook</a>'\n",
              "          + ' to learn more about interactive tables.';\n",
              "        element.innerHTML = '';\n",
              "        dataTable['output_type'] = 'display_data';\n",
              "        await google.colab.output.renderOutput(dataTable, element);\n",
              "        const docLink = document.createElement('div');\n",
              "        docLink.innerHTML = docLinkHtml;\n",
              "        element.appendChild(docLink);\n",
              "      }\n",
              "    </script>\n",
              "  </div>\n",
              "\n",
              "\n",
              "    <div id=\"df-2845b065-7139-4741-b585-ab3a12cce3b3\">\n",
              "      <button class=\"colab-df-quickchart\" onclick=\"quickchart('df-2845b065-7139-4741-b585-ab3a12cce3b3')\"\n",
              "                title=\"Suggest charts\"\n",
              "                style=\"display:none;\">\n",
              "\n",
              "<svg xmlns=\"http://www.w3.org/2000/svg\" height=\"24px\"viewBox=\"0 0 24 24\"\n",
              "     width=\"24px\">\n",
              "    <g>\n",
              "        <path d=\"M19 3H5c-1.1 0-2 .9-2 2v14c0 1.1.9 2 2 2h14c1.1 0 2-.9 2-2V5c0-1.1-.9-2-2-2zM9 17H7v-7h2v7zm4 0h-2V7h2v10zm4 0h-2v-4h2v4z\"/>\n",
              "    </g>\n",
              "</svg>\n",
              "      </button>\n",
              "\n",
              "<style>\n",
              "  .colab-df-quickchart {\n",
              "      --bg-color: #E8F0FE;\n",
              "      --fill-color: #1967D2;\n",
              "      --hover-bg-color: #E2EBFA;\n",
              "      --hover-fill-color: #174EA6;\n",
              "      --disabled-fill-color: #AAA;\n",
              "      --disabled-bg-color: #DDD;\n",
              "  }\n",
              "\n",
              "  [theme=dark] .colab-df-quickchart {\n",
              "      --bg-color: #3B4455;\n",
              "      --fill-color: #D2E3FC;\n",
              "      --hover-bg-color: #434B5C;\n",
              "      --hover-fill-color: #FFFFFF;\n",
              "      --disabled-bg-color: #3B4455;\n",
              "      --disabled-fill-color: #666;\n",
              "  }\n",
              "\n",
              "  .colab-df-quickchart {\n",
              "    background-color: var(--bg-color);\n",
              "    border: none;\n",
              "    border-radius: 50%;\n",
              "    cursor: pointer;\n",
              "    display: none;\n",
              "    fill: var(--fill-color);\n",
              "    height: 32px;\n",
              "    padding: 0;\n",
              "    width: 32px;\n",
              "  }\n",
              "\n",
              "  .colab-df-quickchart:hover {\n",
              "    background-color: var(--hover-bg-color);\n",
              "    box-shadow: 0 1px 2px rgba(60, 64, 67, 0.3), 0 1px 3px 1px rgba(60, 64, 67, 0.15);\n",
              "    fill: var(--button-hover-fill-color);\n",
              "  }\n",
              "\n",
              "  .colab-df-quickchart-complete:disabled,\n",
              "  .colab-df-quickchart-complete:disabled:hover {\n",
              "    background-color: var(--disabled-bg-color);\n",
              "    fill: var(--disabled-fill-color);\n",
              "    box-shadow: none;\n",
              "  }\n",
              "\n",
              "  .colab-df-spinner {\n",
              "    border: 2px solid var(--fill-color);\n",
              "    border-color: transparent;\n",
              "    border-bottom-color: var(--fill-color);\n",
              "    animation:\n",
              "      spin 1s steps(1) infinite;\n",
              "  }\n",
              "\n",
              "  @keyframes spin {\n",
              "    0% {\n",
              "      border-color: transparent;\n",
              "      border-bottom-color: var(--fill-color);\n",
              "      border-left-color: var(--fill-color);\n",
              "    }\n",
              "    20% {\n",
              "      border-color: transparent;\n",
              "      border-left-color: var(--fill-color);\n",
              "      border-top-color: var(--fill-color);\n",
              "    }\n",
              "    30% {\n",
              "      border-color: transparent;\n",
              "      border-left-color: var(--fill-color);\n",
              "      border-top-color: var(--fill-color);\n",
              "      border-right-color: var(--fill-color);\n",
              "    }\n",
              "    40% {\n",
              "      border-color: transparent;\n",
              "      border-right-color: var(--fill-color);\n",
              "      border-top-color: var(--fill-color);\n",
              "    }\n",
              "    60% {\n",
              "      border-color: transparent;\n",
              "      border-right-color: var(--fill-color);\n",
              "    }\n",
              "    80% {\n",
              "      border-color: transparent;\n",
              "      border-right-color: var(--fill-color);\n",
              "      border-bottom-color: var(--fill-color);\n",
              "    }\n",
              "    90% {\n",
              "      border-color: transparent;\n",
              "      border-bottom-color: var(--fill-color);\n",
              "    }\n",
              "  }\n",
              "</style>\n",
              "\n",
              "      <script>\n",
              "        async function quickchart(key) {\n",
              "          const quickchartButtonEl =\n",
              "            document.querySelector('#' + key + ' button');\n",
              "          quickchartButtonEl.disabled = true;  // To prevent multiple clicks.\n",
              "          quickchartButtonEl.classList.add('colab-df-spinner');\n",
              "          try {\n",
              "            const charts = await google.colab.kernel.invokeFunction(\n",
              "                'suggestCharts', [key], {});\n",
              "          } catch (error) {\n",
              "            console.error('Error during call to suggestCharts:', error);\n",
              "          }\n",
              "          quickchartButtonEl.classList.remove('colab-df-spinner');\n",
              "          quickchartButtonEl.classList.add('colab-df-quickchart-complete');\n",
              "        }\n",
              "        (() => {\n",
              "          let quickchartButtonEl =\n",
              "            document.querySelector('#df-2845b065-7139-4741-b585-ab3a12cce3b3 button');\n",
              "          quickchartButtonEl.style.display =\n",
              "            google.colab.kernel.accessAllowed ? 'block' : 'none';\n",
              "        })();\n",
              "      </script>\n",
              "    </div>\n",
              "\n",
              "  <div id=\"id_5b1a44b4-6cf2-4115-a82e-af6a6dff8d8d\">\n",
              "    <style>\n",
              "      .colab-df-generate {\n",
              "        background-color: #E8F0FE;\n",
              "        border: none;\n",
              "        border-radius: 50%;\n",
              "        cursor: pointer;\n",
              "        display: none;\n",
              "        fill: #1967D2;\n",
              "        height: 32px;\n",
              "        padding: 0 0 0 0;\n",
              "        width: 32px;\n",
              "      }\n",
              "\n",
              "      .colab-df-generate:hover {\n",
              "        background-color: #E2EBFA;\n",
              "        box-shadow: 0px 1px 2px rgba(60, 64, 67, 0.3), 0px 1px 3px 1px rgba(60, 64, 67, 0.15);\n",
              "        fill: #174EA6;\n",
              "      }\n",
              "\n",
              "      [theme=dark] .colab-df-generate {\n",
              "        background-color: #3B4455;\n",
              "        fill: #D2E3FC;\n",
              "      }\n",
              "\n",
              "      [theme=dark] .colab-df-generate:hover {\n",
              "        background-color: #434B5C;\n",
              "        box-shadow: 0px 1px 3px 1px rgba(0, 0, 0, 0.15);\n",
              "        filter: drop-shadow(0px 1px 2px rgba(0, 0, 0, 0.3));\n",
              "        fill: #FFFFFF;\n",
              "      }\n",
              "    </style>\n",
              "    <button class=\"colab-df-generate\" onclick=\"generateWithVariable('predicciones')\"\n",
              "            title=\"Generate code using this dataframe.\"\n",
              "            style=\"display:none;\">\n",
              "\n",
              "  <svg xmlns=\"http://www.w3.org/2000/svg\" height=\"24px\"viewBox=\"0 0 24 24\"\n",
              "       width=\"24px\">\n",
              "    <path d=\"M7,19H8.4L18.45,9,17,7.55,7,17.6ZM5,21V16.75L18.45,3.32a2,2,0,0,1,2.83,0l1.4,1.43a1.91,1.91,0,0,1,.58,1.4,1.91,1.91,0,0,1-.58,1.4L9.25,21ZM18.45,9,17,7.55Zm-12,3A5.31,5.31,0,0,0,4.9,8.1,5.31,5.31,0,0,0,1,6.5,5.31,5.31,0,0,0,4.9,4.9,5.31,5.31,0,0,0,6.5,1,5.31,5.31,0,0,0,8.1,4.9,5.31,5.31,0,0,0,12,6.5,5.46,5.46,0,0,0,6.5,12Z\"/>\n",
              "  </svg>\n",
              "    </button>\n",
              "    <script>\n",
              "      (() => {\n",
              "      const buttonEl =\n",
              "        document.querySelector('#id_5b1a44b4-6cf2-4115-a82e-af6a6dff8d8d button.colab-df-generate');\n",
              "      buttonEl.style.display =\n",
              "        google.colab.kernel.accessAllowed ? 'block' : 'none';\n",
              "\n",
              "      buttonEl.onclick = () => {\n",
              "        google.colab.notebook.generateWithVariable('predicciones');\n",
              "      }\n",
              "      })();\n",
              "    </script>\n",
              "  </div>\n",
              "\n",
              "    </div>\n",
              "  </div>\n"
            ],
            "application/vnd.google.colaboratory.intrinsic+json": {
              "type": "dataframe",
              "variable_name": "predicciones",
              "summary": "{\n  \"name\": \"predicciones\",\n  \"rows\": 2,\n  \"fields\": [\n    {\n      \"column\": \"const\",\n      \"properties\": {\n        \"dtype\": \"number\",\n        \"std\": 0.0,\n        \"min\": 1.0,\n        \"max\": 1.0,\n        \"num_unique_values\": 1,\n        \"samples\": [\n          1.0\n        ],\n        \"semantic_type\": \"\",\n        \"description\": \"\"\n      }\n    },\n    {\n      \"column\": \"x1\",\n      \"properties\": {\n        \"dtype\": \"number\",\n        \"std\": 9.263098833543772,\n        \"min\": 0.0,\n        \"max\": 13.1,\n        \"num_unique_values\": 2,\n        \"samples\": [\n          0.0\n        ],\n        \"semantic_type\": \"\",\n        \"description\": \"\"\n      }\n    },\n    {\n      \"column\": \"x2\",\n      \"properties\": {\n        \"dtype\": \"number\",\n        \"std\": 2474,\n        \"min\": 0,\n        \"max\": 3500,\n        \"num_unique_values\": 2,\n        \"samples\": [\n          0\n        ],\n        \"semantic_type\": \"\",\n        \"description\": \"\"\n      }\n    },\n    {\n      \"column\": \"x3\",\n      \"properties\": {\n        \"dtype\": \"number\",\n        \"std\": 100,\n        \"min\": 0,\n        \"max\": 142,\n        \"num_unique_values\": 2,\n        \"samples\": [\n          0\n        ],\n        \"semantic_type\": \"\",\n        \"description\": \"\"\n      }\n    }\n  ]\n}"
            }
          },
          "metadata": {},
          "execution_count": 44
        }
      ]
    },
    {
      "cell_type": "code",
      "source": [
        "modelo.predict(predicciones)"
      ],
      "metadata": {
        "colab": {
          "base_uri": "https://localhost:8080/",
          "height": 147
        },
        "id": "_3I-hB5E9BS_",
        "outputId": "6421ef1b-2f6e-4543-b38d-69604a9d1263"
      },
      "execution_count": null,
      "outputs": [
        {
          "output_type": "execute_result",
          "data": {
            "text/plain": [
              "0    18.643946\n",
              "1    45.678293\n",
              "dtype: float64"
            ],
            "text/html": [
              "<div>\n",
              "<style scoped>\n",
              "    .dataframe tbody tr th:only-of-type {\n",
              "        vertical-align: middle;\n",
              "    }\n",
              "\n",
              "    .dataframe tbody tr th {\n",
              "        vertical-align: top;\n",
              "    }\n",
              "\n",
              "    .dataframe thead th {\n",
              "        text-align: right;\n",
              "    }\n",
              "</style>\n",
              "<table border=\"1\" class=\"dataframe\">\n",
              "  <thead>\n",
              "    <tr style=\"text-align: right;\">\n",
              "      <th></th>\n",
              "      <th>0</th>\n",
              "    </tr>\n",
              "  </thead>\n",
              "  <tbody>\n",
              "    <tr>\n",
              "      <th>0</th>\n",
              "      <td>18.643946</td>\n",
              "    </tr>\n",
              "    <tr>\n",
              "      <th>1</th>\n",
              "      <td>45.678293</td>\n",
              "    </tr>\n",
              "  </tbody>\n",
              "</table>\n",
              "</div><br><label><b>dtype:</b> float64</label>"
            ]
          },
          "metadata": {},
          "execution_count": 45
        }
      ]
    },
    {
      "cell_type": "code",
      "source": [
        "45.678-0.002066*13.1-0.005789*3500-0.047496*142"
      ],
      "metadata": {
        "colab": {
          "base_uri": "https://localhost:8080/"
        },
        "id": "yz9VjWlzhivf",
        "outputId": "243e5a71-5ecb-4b03-f9e0-df0a8842f466"
      },
      "execution_count": null,
      "outputs": [
        {
          "output_type": "execute_result",
          "data": {
            "text/plain": [
              "18.645003399999997"
            ]
          },
          "metadata": {},
          "execution_count": 36
        }
      ]
    },
    {
      "cell_type": "markdown",
      "source": [
        "# Bondad de Ajuste\n",
        "\n",
        "Hemos supuesto una relación lineal entre la media de la variable de respuesta y las variables regresoras.\n",
        "Para determinar si el ajuste es razonable, debemos comparar los $y_i$ con los $\\hat{y}_i$\n",
        "\n",
        "\n"
      ],
      "metadata": {
        "id": "9D6LaKDNA-19"
      }
    },
    {
      "cell_type": "markdown",
      "source": [
        "## 1. Coeficiente de determinación ($R^2$)\n",
        "\n",
        "El coeficiente de determinación $R^2$, es una medida que nos dice qué tan bien el modelo de regresión lineal explica la variación en los datos.\n",
        "\n",
        " En otras palabras, muestra qué porcentaje de los cambios en la variable regresada o de respuesta $y$ pueden explicarse a partir de las variables regresoras $x_i$ del modelo. Este valor se define como\n",
        " $$\n",
        " R^2=1-\\dfrac{\\sum(y_i-\\hat{y}_i)^2}{\\sum{(y_i-\\bar{y})^2}}\n",
        " $$"
      ],
      "metadata": {
        "id": "n-Hmp6HWVEe5"
      }
    },
    {
      "cell_type": "code",
      "source": [
        "modelo.summary()"
      ],
      "metadata": {
        "colab": {
          "base_uri": "https://localhost:8080/",
          "height": 520
        },
        "id": "_H79wCoxZodU",
        "outputId": "9b83f544-abb4-49a9-d1a0-24e11baf93ed"
      },
      "execution_count": null,
      "outputs": [
        {
          "output_type": "execute_result",
          "data": {
            "text/plain": [
              "<class 'statsmodels.iolib.summary.Summary'>\n",
              "\"\"\"\n",
              "                            OLS Regression Results                            \n",
              "==============================================================================\n",
              "Dep. Variable:                    mpg   R-squared:                       0.706\n",
              "Model:                            OLS   Adj. R-squared:                  0.704\n",
              "Method:                 Least Squares   F-statistic:                     311.1\n",
              "Date:                Wed, 14 May 2025   Prob (F-statistic):          7.48e-103\n",
              "Time:                        01:26:40   Log-Likelihood:                -1121.0\n",
              "No. Observations:                 392   AIC:                             2250.\n",
              "Df Residuals:                     388   BIC:                             2266.\n",
              "Df Model:                           3                                         \n",
              "Covariance Type:            nonrobust                                         \n",
              "================================================================================\n",
              "                   coef    std err          t      P>|t|      [0.025      0.975]\n",
              "--------------------------------------------------------------------------------\n",
              "const           45.6783      2.409     18.965      0.000      40.943      50.414\n",
              "acceleration    -0.0021      0.123     -0.017      0.987      -0.245       0.240\n",
              "weight          -0.0058      0.001    -10.024      0.000      -0.007      -0.005\n",
              "horsepower      -0.0475      0.016     -2.970      0.003      -0.079      -0.016\n",
              "==============================================================================\n",
              "Omnibus:                       35.392   Durbin-Watson:                   0.858\n",
              "Prob(Omnibus):                  0.000   Jarque-Bera (JB):               46.071\n",
              "Skew:                           0.684   Prob(JB):                     9.91e-11\n",
              "Kurtosis:                       3.975   Cond. No.                     3.48e+04\n",
              "==============================================================================\n",
              "\n",
              "Notes:\n",
              "[1] Standard Errors assume that the covariance matrix of the errors is correctly specified.\n",
              "[2] The condition number is large, 3.48e+04. This might indicate that there are\n",
              "strong multicollinearity or other numerical problems.\n",
              "\"\"\""
            ],
            "text/html": [
              "<table class=\"simpletable\">\n",
              "<caption>OLS Regression Results</caption>\n",
              "<tr>\n",
              "  <th>Dep. Variable:</th>           <td>mpg</td>       <th>  R-squared:         </th> <td>   0.706</td> \n",
              "</tr>\n",
              "<tr>\n",
              "  <th>Model:</th>                   <td>OLS</td>       <th>  Adj. R-squared:    </th> <td>   0.704</td> \n",
              "</tr>\n",
              "<tr>\n",
              "  <th>Method:</th>             <td>Least Squares</td>  <th>  F-statistic:       </th> <td>   311.1</td> \n",
              "</tr>\n",
              "<tr>\n",
              "  <th>Date:</th>             <td>Wed, 14 May 2025</td> <th>  Prob (F-statistic):</th> <td>7.48e-103</td>\n",
              "</tr>\n",
              "<tr>\n",
              "  <th>Time:</th>                 <td>01:26:40</td>     <th>  Log-Likelihood:    </th> <td> -1121.0</td> \n",
              "</tr>\n",
              "<tr>\n",
              "  <th>No. Observations:</th>      <td>   392</td>      <th>  AIC:               </th> <td>   2250.</td> \n",
              "</tr>\n",
              "<tr>\n",
              "  <th>Df Residuals:</th>          <td>   388</td>      <th>  BIC:               </th> <td>   2266.</td> \n",
              "</tr>\n",
              "<tr>\n",
              "  <th>Df Model:</th>              <td>     3</td>      <th>                     </th>     <td> </td>    \n",
              "</tr>\n",
              "<tr>\n",
              "  <th>Covariance Type:</th>      <td>nonrobust</td>    <th>                     </th>     <td> </td>    \n",
              "</tr>\n",
              "</table>\n",
              "<table class=\"simpletable\">\n",
              "<tr>\n",
              "        <td></td>          <th>coef</th>     <th>std err</th>      <th>t</th>      <th>P>|t|</th>  <th>[0.025</th>    <th>0.975]</th>  \n",
              "</tr>\n",
              "<tr>\n",
              "  <th>const</th>        <td>   45.6783</td> <td>    2.409</td> <td>   18.965</td> <td> 0.000</td> <td>   40.943</td> <td>   50.414</td>\n",
              "</tr>\n",
              "<tr>\n",
              "  <th>acceleration</th> <td>   -0.0021</td> <td>    0.123</td> <td>   -0.017</td> <td> 0.987</td> <td>   -0.245</td> <td>    0.240</td>\n",
              "</tr>\n",
              "<tr>\n",
              "  <th>weight</th>       <td>   -0.0058</td> <td>    0.001</td> <td>  -10.024</td> <td> 0.000</td> <td>   -0.007</td> <td>   -0.005</td>\n",
              "</tr>\n",
              "<tr>\n",
              "  <th>horsepower</th>   <td>   -0.0475</td> <td>    0.016</td> <td>   -2.970</td> <td> 0.003</td> <td>   -0.079</td> <td>   -0.016</td>\n",
              "</tr>\n",
              "</table>\n",
              "<table class=\"simpletable\">\n",
              "<tr>\n",
              "  <th>Omnibus:</th>       <td>35.392</td> <th>  Durbin-Watson:     </th> <td>   0.858</td>\n",
              "</tr>\n",
              "<tr>\n",
              "  <th>Prob(Omnibus):</th> <td> 0.000</td> <th>  Jarque-Bera (JB):  </th> <td>  46.071</td>\n",
              "</tr>\n",
              "<tr>\n",
              "  <th>Skew:</th>          <td> 0.684</td> <th>  Prob(JB):          </th> <td>9.91e-11</td>\n",
              "</tr>\n",
              "<tr>\n",
              "  <th>Kurtosis:</th>      <td> 3.975</td> <th>  Cond. No.          </th> <td>3.48e+04</td>\n",
              "</tr>\n",
              "</table><br/><br/>Notes:<br/>[1] Standard Errors assume that the covariance matrix of the errors is correctly specified.<br/>[2] The condition number is large, 3.48e+04. This might indicate that there are<br/>strong multicollinearity or other numerical problems."
            ],
            "text/latex": "\\begin{center}\n\\begin{tabular}{lclc}\n\\toprule\n\\textbf{Dep. Variable:}    &       mpg        & \\textbf{  R-squared:         } &     0.706   \\\\\n\\textbf{Model:}            &       OLS        & \\textbf{  Adj. R-squared:    } &     0.704   \\\\\n\\textbf{Method:}           &  Least Squares   & \\textbf{  F-statistic:       } &     311.1   \\\\\n\\textbf{Date:}             & Wed, 14 May 2025 & \\textbf{  Prob (F-statistic):} & 7.48e-103   \\\\\n\\textbf{Time:}             &     01:26:40     & \\textbf{  Log-Likelihood:    } &   -1121.0   \\\\\n\\textbf{No. Observations:} &         392      & \\textbf{  AIC:               } &     2250.   \\\\\n\\textbf{Df Residuals:}     &         388      & \\textbf{  BIC:               } &     2266.   \\\\\n\\textbf{Df Model:}         &           3      & \\textbf{                     } &             \\\\\n\\textbf{Covariance Type:}  &    nonrobust     & \\textbf{                     } &             \\\\\n\\bottomrule\n\\end{tabular}\n\\begin{tabular}{lcccccc}\n                      & \\textbf{coef} & \\textbf{std err} & \\textbf{t} & \\textbf{P$> |$t$|$} & \\textbf{[0.025} & \\textbf{0.975]}  \\\\\n\\midrule\n\\textbf{const}        &      45.6783  &        2.409     &    18.965  &         0.000        &       40.943    &       50.414     \\\\\n\\textbf{acceleration} &      -0.0021  &        0.123     &    -0.017  &         0.987        &       -0.245    &        0.240     \\\\\n\\textbf{weight}       &      -0.0058  &        0.001     &   -10.024  &         0.000        &       -0.007    &       -0.005     \\\\\n\\textbf{horsepower}   &      -0.0475  &        0.016     &    -2.970  &         0.003        &       -0.079    &       -0.016     \\\\\n\\bottomrule\n\\end{tabular}\n\\begin{tabular}{lclc}\n\\textbf{Omnibus:}       & 35.392 & \\textbf{  Durbin-Watson:     } &    0.858  \\\\\n\\textbf{Prob(Omnibus):} &  0.000 & \\textbf{  Jarque-Bera (JB):  } &   46.071  \\\\\n\\textbf{Skew:}          &  0.684 & \\textbf{  Prob(JB):          } & 9.91e-11  \\\\\n\\textbf{Kurtosis:}      &  3.975 & \\textbf{  Cond. No.          } & 3.48e+04  \\\\\n\\bottomrule\n\\end{tabular}\n%\\caption{OLS Regression Results}\n\\end{center}\n\nNotes: \\newline\n [1] Standard Errors assume that the covariance matrix of the errors is correctly specified. \\newline\n [2] The condition number is large, 3.48e+04. This might indicate that there are \\newline\n strong multicollinearity or other numerical problems."
          },
          "metadata": {},
          "execution_count": 41
        }
      ]
    },
    {
      "cell_type": "code",
      "source": [
        "modelo.rsquared"
      ],
      "metadata": {
        "colab": {
          "base_uri": "https://localhost:8080/"
        },
        "id": "SFNPWwj1Zx0c",
        "outputId": "c05d7e4a-dd71-416c-aa49-1d9112714a86"
      },
      "execution_count": null,
      "outputs": [
        {
          "output_type": "execute_result",
          "data": {
            "text/plain": [
              "np.float64(0.7063754859981903)"
            ]
          },
          "metadata": {},
          "execution_count": 42
        }
      ]
    },
    {
      "cell_type": "markdown",
      "source": [
        "## 2. Coeficiente de determinación ajustado $\\bar{R}^2$"
      ],
      "metadata": {
        "id": "xSGXpCadWpTP"
      }
    },
    {
      "cell_type": "markdown",
      "source": [
        "Se define el coeficiente de determinación ajustado $\\bar{R}^2 $ como\n",
        "$$\n",
        " \\bar{R}^2=1-\\dfrac{\\sum(y_i-\\hat{y}_i)^2/(n-p)}{\\sum{(y_i-\\bar{y})^2}/(n-1)}\n",
        " $$\n",
        "\n",
        " donde $p-1$ corresponde al número de variables regresoras del modelo."
      ],
      "metadata": {
        "id": "swBx1UPQWxzP"
      }
    },
    {
      "cell_type": "markdown",
      "source": [
        "**Observación:**\n",
        "\n",
        "- A diferencia de $R^2$, $\\bar{R}^2$, sólo aumentará si al añadir variables adicionales al problema, estás resultan ser significativas al modelo.\n",
        "- $\\bar{R}^2$ puede disminuir si se añaden variables poco significativas para el modelo.\n"
      ],
      "metadata": {
        "id": "TRPL5Vdquteh"
      }
    },
    {
      "cell_type": "code",
      "source": [
        "modelo.summary()"
      ],
      "metadata": {
        "colab": {
          "base_uri": "https://localhost:8080/",
          "height": 520
        },
        "id": "bq3RQzAxaHwc",
        "outputId": "88ff5d81-d2db-41ac-b714-a96359e6a23b"
      },
      "execution_count": null,
      "outputs": [
        {
          "output_type": "execute_result",
          "data": {
            "text/plain": [
              "<class 'statsmodels.iolib.summary.Summary'>\n",
              "\"\"\"\n",
              "                            OLS Regression Results                            \n",
              "==============================================================================\n",
              "Dep. Variable:                    mpg   R-squared:                       0.706\n",
              "Model:                            OLS   Adj. R-squared:                  0.704\n",
              "Method:                 Least Squares   F-statistic:                     311.1\n",
              "Date:                Wed, 14 May 2025   Prob (F-statistic):          7.48e-103\n",
              "Time:                        01:28:48   Log-Likelihood:                -1121.0\n",
              "No. Observations:                 392   AIC:                             2250.\n",
              "Df Residuals:                     388   BIC:                             2266.\n",
              "Df Model:                           3                                         \n",
              "Covariance Type:            nonrobust                                         \n",
              "================================================================================\n",
              "                   coef    std err          t      P>|t|      [0.025      0.975]\n",
              "--------------------------------------------------------------------------------\n",
              "const           45.6783      2.409     18.965      0.000      40.943      50.414\n",
              "acceleration    -0.0021      0.123     -0.017      0.987      -0.245       0.240\n",
              "weight          -0.0058      0.001    -10.024      0.000      -0.007      -0.005\n",
              "horsepower      -0.0475      0.016     -2.970      0.003      -0.079      -0.016\n",
              "==============================================================================\n",
              "Omnibus:                       35.392   Durbin-Watson:                   0.858\n",
              "Prob(Omnibus):                  0.000   Jarque-Bera (JB):               46.071\n",
              "Skew:                           0.684   Prob(JB):                     9.91e-11\n",
              "Kurtosis:                       3.975   Cond. No.                     3.48e+04\n",
              "==============================================================================\n",
              "\n",
              "Notes:\n",
              "[1] Standard Errors assume that the covariance matrix of the errors is correctly specified.\n",
              "[2] The condition number is large, 3.48e+04. This might indicate that there are\n",
              "strong multicollinearity or other numerical problems.\n",
              "\"\"\""
            ],
            "text/html": [
              "<table class=\"simpletable\">\n",
              "<caption>OLS Regression Results</caption>\n",
              "<tr>\n",
              "  <th>Dep. Variable:</th>           <td>mpg</td>       <th>  R-squared:         </th> <td>   0.706</td> \n",
              "</tr>\n",
              "<tr>\n",
              "  <th>Model:</th>                   <td>OLS</td>       <th>  Adj. R-squared:    </th> <td>   0.704</td> \n",
              "</tr>\n",
              "<tr>\n",
              "  <th>Method:</th>             <td>Least Squares</td>  <th>  F-statistic:       </th> <td>   311.1</td> \n",
              "</tr>\n",
              "<tr>\n",
              "  <th>Date:</th>             <td>Wed, 14 May 2025</td> <th>  Prob (F-statistic):</th> <td>7.48e-103</td>\n",
              "</tr>\n",
              "<tr>\n",
              "  <th>Time:</th>                 <td>01:28:48</td>     <th>  Log-Likelihood:    </th> <td> -1121.0</td> \n",
              "</tr>\n",
              "<tr>\n",
              "  <th>No. Observations:</th>      <td>   392</td>      <th>  AIC:               </th> <td>   2250.</td> \n",
              "</tr>\n",
              "<tr>\n",
              "  <th>Df Residuals:</th>          <td>   388</td>      <th>  BIC:               </th> <td>   2266.</td> \n",
              "</tr>\n",
              "<tr>\n",
              "  <th>Df Model:</th>              <td>     3</td>      <th>                     </th>     <td> </td>    \n",
              "</tr>\n",
              "<tr>\n",
              "  <th>Covariance Type:</th>      <td>nonrobust</td>    <th>                     </th>     <td> </td>    \n",
              "</tr>\n",
              "</table>\n",
              "<table class=\"simpletable\">\n",
              "<tr>\n",
              "        <td></td>          <th>coef</th>     <th>std err</th>      <th>t</th>      <th>P>|t|</th>  <th>[0.025</th>    <th>0.975]</th>  \n",
              "</tr>\n",
              "<tr>\n",
              "  <th>const</th>        <td>   45.6783</td> <td>    2.409</td> <td>   18.965</td> <td> 0.000</td> <td>   40.943</td> <td>   50.414</td>\n",
              "</tr>\n",
              "<tr>\n",
              "  <th>acceleration</th> <td>   -0.0021</td> <td>    0.123</td> <td>   -0.017</td> <td> 0.987</td> <td>   -0.245</td> <td>    0.240</td>\n",
              "</tr>\n",
              "<tr>\n",
              "  <th>weight</th>       <td>   -0.0058</td> <td>    0.001</td> <td>  -10.024</td> <td> 0.000</td> <td>   -0.007</td> <td>   -0.005</td>\n",
              "</tr>\n",
              "<tr>\n",
              "  <th>horsepower</th>   <td>   -0.0475</td> <td>    0.016</td> <td>   -2.970</td> <td> 0.003</td> <td>   -0.079</td> <td>   -0.016</td>\n",
              "</tr>\n",
              "</table>\n",
              "<table class=\"simpletable\">\n",
              "<tr>\n",
              "  <th>Omnibus:</th>       <td>35.392</td> <th>  Durbin-Watson:     </th> <td>   0.858</td>\n",
              "</tr>\n",
              "<tr>\n",
              "  <th>Prob(Omnibus):</th> <td> 0.000</td> <th>  Jarque-Bera (JB):  </th> <td>  46.071</td>\n",
              "</tr>\n",
              "<tr>\n",
              "  <th>Skew:</th>          <td> 0.684</td> <th>  Prob(JB):          </th> <td>9.91e-11</td>\n",
              "</tr>\n",
              "<tr>\n",
              "  <th>Kurtosis:</th>      <td> 3.975</td> <th>  Cond. No.          </th> <td>3.48e+04</td>\n",
              "</tr>\n",
              "</table><br/><br/>Notes:<br/>[1] Standard Errors assume that the covariance matrix of the errors is correctly specified.<br/>[2] The condition number is large, 3.48e+04. This might indicate that there are<br/>strong multicollinearity or other numerical problems."
            ],
            "text/latex": "\\begin{center}\n\\begin{tabular}{lclc}\n\\toprule\n\\textbf{Dep. Variable:}    &       mpg        & \\textbf{  R-squared:         } &     0.706   \\\\\n\\textbf{Model:}            &       OLS        & \\textbf{  Adj. R-squared:    } &     0.704   \\\\\n\\textbf{Method:}           &  Least Squares   & \\textbf{  F-statistic:       } &     311.1   \\\\\n\\textbf{Date:}             & Wed, 14 May 2025 & \\textbf{  Prob (F-statistic):} & 7.48e-103   \\\\\n\\textbf{Time:}             &     01:28:48     & \\textbf{  Log-Likelihood:    } &   -1121.0   \\\\\n\\textbf{No. Observations:} &         392      & \\textbf{  AIC:               } &     2250.   \\\\\n\\textbf{Df Residuals:}     &         388      & \\textbf{  BIC:               } &     2266.   \\\\\n\\textbf{Df Model:}         &           3      & \\textbf{                     } &             \\\\\n\\textbf{Covariance Type:}  &    nonrobust     & \\textbf{                     } &             \\\\\n\\bottomrule\n\\end{tabular}\n\\begin{tabular}{lcccccc}\n                      & \\textbf{coef} & \\textbf{std err} & \\textbf{t} & \\textbf{P$> |$t$|$} & \\textbf{[0.025} & \\textbf{0.975]}  \\\\\n\\midrule\n\\textbf{const}        &      45.6783  &        2.409     &    18.965  &         0.000        &       40.943    &       50.414     \\\\\n\\textbf{acceleration} &      -0.0021  &        0.123     &    -0.017  &         0.987        &       -0.245    &        0.240     \\\\\n\\textbf{weight}       &      -0.0058  &        0.001     &   -10.024  &         0.000        &       -0.007    &       -0.005     \\\\\n\\textbf{horsepower}   &      -0.0475  &        0.016     &    -2.970  &         0.003        &       -0.079    &       -0.016     \\\\\n\\bottomrule\n\\end{tabular}\n\\begin{tabular}{lclc}\n\\textbf{Omnibus:}       & 35.392 & \\textbf{  Durbin-Watson:     } &    0.858  \\\\\n\\textbf{Prob(Omnibus):} &  0.000 & \\textbf{  Jarque-Bera (JB):  } &   46.071  \\\\\n\\textbf{Skew:}          &  0.684 & \\textbf{  Prob(JB):          } & 9.91e-11  \\\\\n\\textbf{Kurtosis:}      &  3.975 & \\textbf{  Cond. No.          } & 3.48e+04  \\\\\n\\bottomrule\n\\end{tabular}\n%\\caption{OLS Regression Results}\n\\end{center}\n\nNotes: \\newline\n [1] Standard Errors assume that the covariance matrix of the errors is correctly specified. \\newline\n [2] The condition number is large, 3.48e+04. This might indicate that there are \\newline\n strong multicollinearity or other numerical problems."
          },
          "metadata": {},
          "execution_count": 43
        }
      ]
    },
    {
      "cell_type": "code",
      "source": [
        "modelo.rsquared_adj"
      ],
      "metadata": {
        "colab": {
          "base_uri": "https://localhost:8080/"
        },
        "id": "q5jGOOUYaMwY",
        "outputId": "dd3e19bc-56c4-4c38-bb23-5087f8fe8f83"
      },
      "execution_count": null,
      "outputs": [
        {
          "output_type": "execute_result",
          "data": {
            "text/plain": [
              "np.float64(0.7041051933641558)"
            ]
          },
          "metadata": {},
          "execution_count": 44
        }
      ]
    },
    {
      "cell_type": "markdown",
      "source": [
        "# Pruebas de Hipótesis sobre coeficientes de Regresión individuales\n",
        "\n",
        "Estas pruebas son útiles para determinar el valor potencial de cada una de las variables regresoras, en el modelo de regresión.\n",
        "\n",
        "En este caso, dado un modelo de regresión lineal:\n",
        "$$\n",
        "Y=\\beta_0+\\beta_1x_1+\\beta_2x_2+\\cdots\\beta_kx_k\n",
        "$$\n",
        "nos plantereamos como determinar que variables tienen un impacto significativo en el modelo. Para esto, consideraremos\n",
        "$$\n",
        "H_0:\\beta_j=0\\qquad H_1:\\beta_j\\neq0\n",
        "$$\n",
        "Si se acepta $H_0$, entonces la variable regresora $x_j$ no tiene gran relevancia (por si sola) en el modelo.\n",
        "El estadístico de prueba es:\n",
        "$$\n",
        "t=\\frac{\\hat{\\beta}_j-\\beta_j}{ee(\\hat{\\beta}_j)}\n",
        "$$"
      ],
      "metadata": {
        "id": "E--FKkwSWagn"
      }
    },
    {
      "cell_type": "markdown",
      "source": [
        "**Observación**\n",
        "\n",
        "Si una variable $x_i$ es significativa, entonces esa variable tiene un efecto real sobre la variable de respuesta $y$."
      ],
      "metadata": {
        "id": "yXECzkR-LiJJ"
      }
    },
    {
      "cell_type": "code",
      "source": [
        "autos=sns.load_dataset('mpg')"
      ],
      "metadata": {
        "id": "1-uE_OWcbd6F"
      },
      "execution_count": null,
      "outputs": []
    },
    {
      "cell_type": "code",
      "source": [
        "# Debemos quitar las entradas nulas, para realizar el ajuste de mínimos cuadrados\n",
        "autos=autos.dropna()"
      ],
      "metadata": {
        "id": "asH5_lJ_buCA"
      },
      "execution_count": null,
      "outputs": []
    },
    {
      "cell_type": "code",
      "source": [
        "autos.columns\n",
        "# variables regresoras: caballlos de fuerza, peso y la variable aceleración\n",
        "# mpg= variable regresada"
      ],
      "metadata": {
        "colab": {
          "base_uri": "https://localhost:8080/"
        },
        "id": "RZoHja30b5YX",
        "outputId": "0a4b46eb-8f63-46de-af42-6e266127a694"
      },
      "execution_count": null,
      "outputs": [
        {
          "output_type": "execute_result",
          "data": {
            "text/plain": [
              "Index(['mpg', 'cylinders', 'displacement', 'horsepower', 'weight',\n",
              "       'acceleration', 'model_year', 'origin', 'name'],\n",
              "      dtype='object')"
            ]
          },
          "metadata": {},
          "execution_count": 4
        }
      ]
    },
    {
      "cell_type": "code",
      "source": [
        "X=autos[['horsepower','weight','acceleration']]\n",
        "y=autos['mpg']\n",
        "X=sm.add_constant(X)"
      ],
      "metadata": {
        "id": "TeTwyjCOcGPZ"
      },
      "execution_count": null,
      "outputs": []
    },
    {
      "cell_type": "code",
      "source": [
        "modelo=sm.OLS(y,X).fit()\n",
        "modelo.summary()"
      ],
      "metadata": {
        "colab": {
          "base_uri": "https://localhost:8080/",
          "height": 520
        },
        "id": "bKosVQFWcS4p",
        "outputId": "3d1382fd-f950-4de5-8a93-b6a1a20087d6"
      },
      "execution_count": null,
      "outputs": [
        {
          "output_type": "execute_result",
          "data": {
            "text/plain": [
              "<class 'statsmodels.iolib.summary.Summary'>\n",
              "\"\"\"\n",
              "                            OLS Regression Results                            \n",
              "==============================================================================\n",
              "Dep. Variable:                    mpg   R-squared:                       0.706\n",
              "Model:                            OLS   Adj. R-squared:                  0.704\n",
              "Method:                 Least Squares   F-statistic:                     311.1\n",
              "Date:                Fri, 23 May 2025   Prob (F-statistic):          7.48e-103\n",
              "Time:                        23:19:29   Log-Likelihood:                -1121.0\n",
              "No. Observations:                 392   AIC:                             2250.\n",
              "Df Residuals:                     388   BIC:                             2266.\n",
              "Df Model:                           3                                         \n",
              "Covariance Type:            nonrobust                                         \n",
              "================================================================================\n",
              "                   coef    std err          t      P>|t|      [0.025      0.975]\n",
              "--------------------------------------------------------------------------------\n",
              "const           45.6783      2.409     18.965      0.000      40.943      50.414\n",
              "horsepower      -0.0475      0.016     -2.970      0.003      -0.079      -0.016\n",
              "weight          -0.0058      0.001    -10.024      0.000      -0.007      -0.005\n",
              "acceleration    -0.0021      0.123     -0.017      0.987      -0.245       0.240\n",
              "==============================================================================\n",
              "Omnibus:                       35.392   Durbin-Watson:                   0.858\n",
              "Prob(Omnibus):                  0.000   Jarque-Bera (JB):               46.071\n",
              "Skew:                           0.684   Prob(JB):                     9.91e-11\n",
              "Kurtosis:                       3.975   Cond. No.                     3.48e+04\n",
              "==============================================================================\n",
              "\n",
              "Notes:\n",
              "[1] Standard Errors assume that the covariance matrix of the errors is correctly specified.\n",
              "[2] The condition number is large, 3.48e+04. This might indicate that there are\n",
              "strong multicollinearity or other numerical problems.\n",
              "\"\"\""
            ],
            "text/html": [
              "<table class=\"simpletable\">\n",
              "<caption>OLS Regression Results</caption>\n",
              "<tr>\n",
              "  <th>Dep. Variable:</th>           <td>mpg</td>       <th>  R-squared:         </th> <td>   0.706</td> \n",
              "</tr>\n",
              "<tr>\n",
              "  <th>Model:</th>                   <td>OLS</td>       <th>  Adj. R-squared:    </th> <td>   0.704</td> \n",
              "</tr>\n",
              "<tr>\n",
              "  <th>Method:</th>             <td>Least Squares</td>  <th>  F-statistic:       </th> <td>   311.1</td> \n",
              "</tr>\n",
              "<tr>\n",
              "  <th>Date:</th>             <td>Fri, 23 May 2025</td> <th>  Prob (F-statistic):</th> <td>7.48e-103</td>\n",
              "</tr>\n",
              "<tr>\n",
              "  <th>Time:</th>                 <td>23:19:29</td>     <th>  Log-Likelihood:    </th> <td> -1121.0</td> \n",
              "</tr>\n",
              "<tr>\n",
              "  <th>No. Observations:</th>      <td>   392</td>      <th>  AIC:               </th> <td>   2250.</td> \n",
              "</tr>\n",
              "<tr>\n",
              "  <th>Df Residuals:</th>          <td>   388</td>      <th>  BIC:               </th> <td>   2266.</td> \n",
              "</tr>\n",
              "<tr>\n",
              "  <th>Df Model:</th>              <td>     3</td>      <th>                     </th>     <td> </td>    \n",
              "</tr>\n",
              "<tr>\n",
              "  <th>Covariance Type:</th>      <td>nonrobust</td>    <th>                     </th>     <td> </td>    \n",
              "</tr>\n",
              "</table>\n",
              "<table class=\"simpletable\">\n",
              "<tr>\n",
              "        <td></td>          <th>coef</th>     <th>std err</th>      <th>t</th>      <th>P>|t|</th>  <th>[0.025</th>    <th>0.975]</th>  \n",
              "</tr>\n",
              "<tr>\n",
              "  <th>const</th>        <td>   45.6783</td> <td>    2.409</td> <td>   18.965</td> <td> 0.000</td> <td>   40.943</td> <td>   50.414</td>\n",
              "</tr>\n",
              "<tr>\n",
              "  <th>horsepower</th>   <td>   -0.0475</td> <td>    0.016</td> <td>   -2.970</td> <td> 0.003</td> <td>   -0.079</td> <td>   -0.016</td>\n",
              "</tr>\n",
              "<tr>\n",
              "  <th>weight</th>       <td>   -0.0058</td> <td>    0.001</td> <td>  -10.024</td> <td> 0.000</td> <td>   -0.007</td> <td>   -0.005</td>\n",
              "</tr>\n",
              "<tr>\n",
              "  <th>acceleration</th> <td>   -0.0021</td> <td>    0.123</td> <td>   -0.017</td> <td> 0.987</td> <td>   -0.245</td> <td>    0.240</td>\n",
              "</tr>\n",
              "</table>\n",
              "<table class=\"simpletable\">\n",
              "<tr>\n",
              "  <th>Omnibus:</th>       <td>35.392</td> <th>  Durbin-Watson:     </th> <td>   0.858</td>\n",
              "</tr>\n",
              "<tr>\n",
              "  <th>Prob(Omnibus):</th> <td> 0.000</td> <th>  Jarque-Bera (JB):  </th> <td>  46.071</td>\n",
              "</tr>\n",
              "<tr>\n",
              "  <th>Skew:</th>          <td> 0.684</td> <th>  Prob(JB):          </th> <td>9.91e-11</td>\n",
              "</tr>\n",
              "<tr>\n",
              "  <th>Kurtosis:</th>      <td> 3.975</td> <th>  Cond. No.          </th> <td>3.48e+04</td>\n",
              "</tr>\n",
              "</table><br/><br/>Notes:<br/>[1] Standard Errors assume that the covariance matrix of the errors is correctly specified.<br/>[2] The condition number is large, 3.48e+04. This might indicate that there are<br/>strong multicollinearity or other numerical problems."
            ],
            "text/latex": "\\begin{center}\n\\begin{tabular}{lclc}\n\\toprule\n\\textbf{Dep. Variable:}    &       mpg        & \\textbf{  R-squared:         } &     0.706   \\\\\n\\textbf{Model:}            &       OLS        & \\textbf{  Adj. R-squared:    } &     0.704   \\\\\n\\textbf{Method:}           &  Least Squares   & \\textbf{  F-statistic:       } &     311.1   \\\\\n\\textbf{Date:}             & Fri, 23 May 2025 & \\textbf{  Prob (F-statistic):} & 7.48e-103   \\\\\n\\textbf{Time:}             &     23:19:29     & \\textbf{  Log-Likelihood:    } &   -1121.0   \\\\\n\\textbf{No. Observations:} &         392      & \\textbf{  AIC:               } &     2250.   \\\\\n\\textbf{Df Residuals:}     &         388      & \\textbf{  BIC:               } &     2266.   \\\\\n\\textbf{Df Model:}         &           3      & \\textbf{                     } &             \\\\\n\\textbf{Covariance Type:}  &    nonrobust     & \\textbf{                     } &             \\\\\n\\bottomrule\n\\end{tabular}\n\\begin{tabular}{lcccccc}\n                      & \\textbf{coef} & \\textbf{std err} & \\textbf{t} & \\textbf{P$> |$t$|$} & \\textbf{[0.025} & \\textbf{0.975]}  \\\\\n\\midrule\n\\textbf{const}        &      45.6783  &        2.409     &    18.965  &         0.000        &       40.943    &       50.414     \\\\\n\\textbf{horsepower}   &      -0.0475  &        0.016     &    -2.970  &         0.003        &       -0.079    &       -0.016     \\\\\n\\textbf{weight}       &      -0.0058  &        0.001     &   -10.024  &         0.000        &       -0.007    &       -0.005     \\\\\n\\textbf{acceleration} &      -0.0021  &        0.123     &    -0.017  &         0.987        &       -0.245    &        0.240     \\\\\n\\bottomrule\n\\end{tabular}\n\\begin{tabular}{lclc}\n\\textbf{Omnibus:}       & 35.392 & \\textbf{  Durbin-Watson:     } &    0.858  \\\\\n\\textbf{Prob(Omnibus):} &  0.000 & \\textbf{  Jarque-Bera (JB):  } &   46.071  \\\\\n\\textbf{Skew:}          &  0.684 & \\textbf{  Prob(JB):          } & 9.91e-11  \\\\\n\\textbf{Kurtosis:}      &  3.975 & \\textbf{  Cond. No.          } & 3.48e+04  \\\\\n\\bottomrule\n\\end{tabular}\n%\\caption{OLS Regression Results}\n\\end{center}\n\nNotes: \\newline\n [1] Standard Errors assume that the covariance matrix of the errors is correctly specified. \\newline\n [2] The condition number is large, 3.48e+04. This might indicate that there are \\newline\n strong multicollinearity or other numerical problems."
          },
          "metadata": {},
          "execution_count": 8
        }
      ]
    },
    {
      "cell_type": "markdown",
      "source": [
        "**Estudiaremos el real impacto de cada variable regresora en el rendimiento de los autómoviles**"
      ],
      "metadata": {
        "id": "q4rgfy1Tbx9D"
      }
    },
    {
      "cell_type": "code",
      "source": [
        "p_valor=modelo.pvalues.iloc[1:] # p_valor asociado a cada una de las variables regresoras\n",
        "p_valor"
      ],
      "metadata": {
        "colab": {
          "base_uri": "https://localhost:8080/",
          "height": 178
        },
        "id": "NMNh-azbcz5s",
        "outputId": "ab330b70-7155-4830-a198-0bae3ec0e4a2"
      },
      "execution_count": null,
      "outputs": [
        {
          "output_type": "execute_result",
          "data": {
            "text/plain": [
              "horsepower      3.158152e-03\n",
              "weight          3.500486e-21\n",
              "acceleration    9.866463e-01\n",
              "dtype: float64"
            ],
            "text/html": [
              "<div>\n",
              "<style scoped>\n",
              "    .dataframe tbody tr th:only-of-type {\n",
              "        vertical-align: middle;\n",
              "    }\n",
              "\n",
              "    .dataframe tbody tr th {\n",
              "        vertical-align: top;\n",
              "    }\n",
              "\n",
              "    .dataframe thead th {\n",
              "        text-align: right;\n",
              "    }\n",
              "</style>\n",
              "<table border=\"1\" class=\"dataframe\">\n",
              "  <thead>\n",
              "    <tr style=\"text-align: right;\">\n",
              "      <th></th>\n",
              "      <th>0</th>\n",
              "    </tr>\n",
              "  </thead>\n",
              "  <tbody>\n",
              "    <tr>\n",
              "      <th>horsepower</th>\n",
              "      <td>3.158152e-03</td>\n",
              "    </tr>\n",
              "    <tr>\n",
              "      <th>weight</th>\n",
              "      <td>3.500486e-21</td>\n",
              "    </tr>\n",
              "    <tr>\n",
              "      <th>acceleration</th>\n",
              "      <td>9.866463e-01</td>\n",
              "    </tr>\n",
              "  </tbody>\n",
              "</table>\n",
              "</div><br><label><b>dtype:</b> float64</label>"
            ]
          },
          "metadata": {},
          "execution_count": 19
        }
      ]
    },
    {
      "cell_type": "markdown",
      "source": [
        "**Prueba de hipótesis sobre la significancia de la variable horsepower**\n",
        "$$\n",
        "H_0: \\mathrm{horsepower\\,no\\,es\\,significativa}\\qquad H_1: \\mathrm{horsepower\\,si\\,es\\,significativa}\n",
        "$$"
      ],
      "metadata": {
        "id": "OKAr4jQhdBL9"
      }
    },
    {
      "cell_type": "code",
      "source": [
        "p_valorH=p_valor.iloc[0]"
      ],
      "metadata": {
        "id": "dsRs0vbMde82"
      },
      "execution_count": null,
      "outputs": []
    },
    {
      "cell_type": "code",
      "source": [
        "# Prueba de hipótesis\n",
        "significancia=0.05\n",
        "if p_valorH>=significancia:\n",
        "  print('La variable horsepower no tiene un impacto en la variable mpg')\n",
        "else:\n",
        "  print('La variable horsepower si tiene un impacto en la variable mpg')"
      ],
      "metadata": {
        "colab": {
          "base_uri": "https://localhost:8080/"
        },
        "id": "KfMGy7nydyOx",
        "outputId": "ad4de0b6-6b41-49b4-aa48-cea48c67c17f"
      },
      "execution_count": null,
      "outputs": [
        {
          "output_type": "stream",
          "name": "stdout",
          "text": [
            "La variable horsepower si tiene un impacto en la variable mpg\n"
          ]
        }
      ]
    },
    {
      "cell_type": "markdown",
      "source": [
        "**También podemos estudiar la significancia de cada variable, con un ciclo for**"
      ],
      "metadata": {
        "id": "ckMafrdhfSw6"
      }
    },
    {
      "cell_type": "code",
      "source": [
        "# Veamos cual variable es significativa para el problema\n",
        "i=[]\n",
        "for i,elemento in enumerate(p_valor.index):\n",
        "  if p_valor.iloc[i]>=significancia:\n",
        "    print(f' x{i+1} no es significativa para el problema') #aceptar H_0\n",
        "  else:\n",
        "    print(f'x{i+1} es significativa para el problema') #aceptar H_1\n"
      ],
      "metadata": {
        "colab": {
          "base_uri": "https://localhost:8080/"
        },
        "id": "L6jFzXGmekwI",
        "outputId": "6238d5e6-7eaf-4cdc-d29e-8f9835463017"
      },
      "execution_count": null,
      "outputs": [
        {
          "output_type": "stream",
          "name": "stdout",
          "text": [
            "x1 es significativa para el problema\n",
            "x2 es significativa para el problema\n",
            " x3 no es significativa para el problema\n"
          ]
        }
      ]
    },
    {
      "cell_type": "markdown",
      "source": [
        "Ajustaremos un modelo de regresión lineal, sin la variable **acceleration**"
      ],
      "metadata": {
        "id": "oabWd8gEfgX_"
      }
    },
    {
      "cell_type": "code",
      "source": [
        "X1=sm.add_constant(autos[['horsepower','weight']])"
      ],
      "metadata": {
        "id": "L16zLHfrfrsb"
      },
      "execution_count": null,
      "outputs": []
    },
    {
      "cell_type": "code",
      "source": [
        "modelo.summary()"
      ],
      "metadata": {
        "colab": {
          "base_uri": "https://localhost:8080/",
          "height": 520
        },
        "id": "KufpOfiygHOI",
        "outputId": "d337588d-63cd-45b3-c5df-f4c4e813ddc2"
      },
      "execution_count": null,
      "outputs": [
        {
          "output_type": "execute_result",
          "data": {
            "text/plain": [
              "<class 'statsmodels.iolib.summary.Summary'>\n",
              "\"\"\"\n",
              "                            OLS Regression Results                            \n",
              "==============================================================================\n",
              "Dep. Variable:                    mpg   R-squared:                       0.706\n",
              "Model:                            OLS   Adj. R-squared:                  0.704\n",
              "Method:                 Least Squares   F-statistic:                     311.1\n",
              "Date:                Fri, 23 May 2025   Prob (F-statistic):          7.48e-103\n",
              "Time:                        23:35:36   Log-Likelihood:                -1121.0\n",
              "No. Observations:                 392   AIC:                             2250.\n",
              "Df Residuals:                     388   BIC:                             2266.\n",
              "Df Model:                           3                                         \n",
              "Covariance Type:            nonrobust                                         \n",
              "================================================================================\n",
              "                   coef    std err          t      P>|t|      [0.025      0.975]\n",
              "--------------------------------------------------------------------------------\n",
              "const           45.6783      2.409     18.965      0.000      40.943      50.414\n",
              "horsepower      -0.0475      0.016     -2.970      0.003      -0.079      -0.016\n",
              "weight          -0.0058      0.001    -10.024      0.000      -0.007      -0.005\n",
              "acceleration    -0.0021      0.123     -0.017      0.987      -0.245       0.240\n",
              "==============================================================================\n",
              "Omnibus:                       35.392   Durbin-Watson:                   0.858\n",
              "Prob(Omnibus):                  0.000   Jarque-Bera (JB):               46.071\n",
              "Skew:                           0.684   Prob(JB):                     9.91e-11\n",
              "Kurtosis:                       3.975   Cond. No.                     3.48e+04\n",
              "==============================================================================\n",
              "\n",
              "Notes:\n",
              "[1] Standard Errors assume that the covariance matrix of the errors is correctly specified.\n",
              "[2] The condition number is large, 3.48e+04. This might indicate that there are\n",
              "strong multicollinearity or other numerical problems.\n",
              "\"\"\""
            ],
            "text/html": [
              "<table class=\"simpletable\">\n",
              "<caption>OLS Regression Results</caption>\n",
              "<tr>\n",
              "  <th>Dep. Variable:</th>           <td>mpg</td>       <th>  R-squared:         </th> <td>   0.706</td> \n",
              "</tr>\n",
              "<tr>\n",
              "  <th>Model:</th>                   <td>OLS</td>       <th>  Adj. R-squared:    </th> <td>   0.704</td> \n",
              "</tr>\n",
              "<tr>\n",
              "  <th>Method:</th>             <td>Least Squares</td>  <th>  F-statistic:       </th> <td>   311.1</td> \n",
              "</tr>\n",
              "<tr>\n",
              "  <th>Date:</th>             <td>Fri, 23 May 2025</td> <th>  Prob (F-statistic):</th> <td>7.48e-103</td>\n",
              "</tr>\n",
              "<tr>\n",
              "  <th>Time:</th>                 <td>23:35:36</td>     <th>  Log-Likelihood:    </th> <td> -1121.0</td> \n",
              "</tr>\n",
              "<tr>\n",
              "  <th>No. Observations:</th>      <td>   392</td>      <th>  AIC:               </th> <td>   2250.</td> \n",
              "</tr>\n",
              "<tr>\n",
              "  <th>Df Residuals:</th>          <td>   388</td>      <th>  BIC:               </th> <td>   2266.</td> \n",
              "</tr>\n",
              "<tr>\n",
              "  <th>Df Model:</th>              <td>     3</td>      <th>                     </th>     <td> </td>    \n",
              "</tr>\n",
              "<tr>\n",
              "  <th>Covariance Type:</th>      <td>nonrobust</td>    <th>                     </th>     <td> </td>    \n",
              "</tr>\n",
              "</table>\n",
              "<table class=\"simpletable\">\n",
              "<tr>\n",
              "        <td></td>          <th>coef</th>     <th>std err</th>      <th>t</th>      <th>P>|t|</th>  <th>[0.025</th>    <th>0.975]</th>  \n",
              "</tr>\n",
              "<tr>\n",
              "  <th>const</th>        <td>   45.6783</td> <td>    2.409</td> <td>   18.965</td> <td> 0.000</td> <td>   40.943</td> <td>   50.414</td>\n",
              "</tr>\n",
              "<tr>\n",
              "  <th>horsepower</th>   <td>   -0.0475</td> <td>    0.016</td> <td>   -2.970</td> <td> 0.003</td> <td>   -0.079</td> <td>   -0.016</td>\n",
              "</tr>\n",
              "<tr>\n",
              "  <th>weight</th>       <td>   -0.0058</td> <td>    0.001</td> <td>  -10.024</td> <td> 0.000</td> <td>   -0.007</td> <td>   -0.005</td>\n",
              "</tr>\n",
              "<tr>\n",
              "  <th>acceleration</th> <td>   -0.0021</td> <td>    0.123</td> <td>   -0.017</td> <td> 0.987</td> <td>   -0.245</td> <td>    0.240</td>\n",
              "</tr>\n",
              "</table>\n",
              "<table class=\"simpletable\">\n",
              "<tr>\n",
              "  <th>Omnibus:</th>       <td>35.392</td> <th>  Durbin-Watson:     </th> <td>   0.858</td>\n",
              "</tr>\n",
              "<tr>\n",
              "  <th>Prob(Omnibus):</th> <td> 0.000</td> <th>  Jarque-Bera (JB):  </th> <td>  46.071</td>\n",
              "</tr>\n",
              "<tr>\n",
              "  <th>Skew:</th>          <td> 0.684</td> <th>  Prob(JB):          </th> <td>9.91e-11</td>\n",
              "</tr>\n",
              "<tr>\n",
              "  <th>Kurtosis:</th>      <td> 3.975</td> <th>  Cond. No.          </th> <td>3.48e+04</td>\n",
              "</tr>\n",
              "</table><br/><br/>Notes:<br/>[1] Standard Errors assume that the covariance matrix of the errors is correctly specified.<br/>[2] The condition number is large, 3.48e+04. This might indicate that there are<br/>strong multicollinearity or other numerical problems."
            ],
            "text/latex": "\\begin{center}\n\\begin{tabular}{lclc}\n\\toprule\n\\textbf{Dep. Variable:}    &       mpg        & \\textbf{  R-squared:         } &     0.706   \\\\\n\\textbf{Model:}            &       OLS        & \\textbf{  Adj. R-squared:    } &     0.704   \\\\\n\\textbf{Method:}           &  Least Squares   & \\textbf{  F-statistic:       } &     311.1   \\\\\n\\textbf{Date:}             & Fri, 23 May 2025 & \\textbf{  Prob (F-statistic):} & 7.48e-103   \\\\\n\\textbf{Time:}             &     23:35:36     & \\textbf{  Log-Likelihood:    } &   -1121.0   \\\\\n\\textbf{No. Observations:} &         392      & \\textbf{  AIC:               } &     2250.   \\\\\n\\textbf{Df Residuals:}     &         388      & \\textbf{  BIC:               } &     2266.   \\\\\n\\textbf{Df Model:}         &           3      & \\textbf{                     } &             \\\\\n\\textbf{Covariance Type:}  &    nonrobust     & \\textbf{                     } &             \\\\\n\\bottomrule\n\\end{tabular}\n\\begin{tabular}{lcccccc}\n                      & \\textbf{coef} & \\textbf{std err} & \\textbf{t} & \\textbf{P$> |$t$|$} & \\textbf{[0.025} & \\textbf{0.975]}  \\\\\n\\midrule\n\\textbf{const}        &      45.6783  &        2.409     &    18.965  &         0.000        &       40.943    &       50.414     \\\\\n\\textbf{horsepower}   &      -0.0475  &        0.016     &    -2.970  &         0.003        &       -0.079    &       -0.016     \\\\\n\\textbf{weight}       &      -0.0058  &        0.001     &   -10.024  &         0.000        &       -0.007    &       -0.005     \\\\\n\\textbf{acceleration} &      -0.0021  &        0.123     &    -0.017  &         0.987        &       -0.245    &        0.240     \\\\\n\\bottomrule\n\\end{tabular}\n\\begin{tabular}{lclc}\n\\textbf{Omnibus:}       & 35.392 & \\textbf{  Durbin-Watson:     } &    0.858  \\\\\n\\textbf{Prob(Omnibus):} &  0.000 & \\textbf{  Jarque-Bera (JB):  } &   46.071  \\\\\n\\textbf{Skew:}          &  0.684 & \\textbf{  Prob(JB):          } & 9.91e-11  \\\\\n\\textbf{Kurtosis:}      &  3.975 & \\textbf{  Cond. No.          } & 3.48e+04  \\\\\n\\bottomrule\n\\end{tabular}\n%\\caption{OLS Regression Results}\n\\end{center}\n\nNotes: \\newline\n [1] Standard Errors assume that the covariance matrix of the errors is correctly specified. \\newline\n [2] The condition number is large, 3.48e+04. This might indicate that there are \\newline\n strong multicollinearity or other numerical problems."
          },
          "metadata": {},
          "execution_count": 27
        }
      ]
    },
    {
      "cell_type": "code",
      "source": [
        "modelo1=sm.OLS(y,X1).fit()\n",
        "modelo1.summary()\n",
        "# Notar que al considerar un modelo de regresión sólo con las variables significativas el coeficiente de determinación\n",
        "#Ajustado aumenta."
      ],
      "metadata": {
        "colab": {
          "base_uri": "https://localhost:8080/",
          "height": 499
        },
        "id": "LKHpGZKSf2Zo",
        "outputId": "406a14dd-2abe-4a9f-abec-3d61de14d125"
      },
      "execution_count": null,
      "outputs": [
        {
          "output_type": "execute_result",
          "data": {
            "text/plain": [
              "<class 'statsmodels.iolib.summary.Summary'>\n",
              "\"\"\"\n",
              "                            OLS Regression Results                            \n",
              "==============================================================================\n",
              "Dep. Variable:                    mpg   R-squared:                       0.706\n",
              "Model:                            OLS   Adj. R-squared:                  0.705\n",
              "Method:                 Least Squares   F-statistic:                     467.9\n",
              "Date:                Fri, 23 May 2025   Prob (F-statistic):          3.06e-104\n",
              "Time:                        23:34:49   Log-Likelihood:                -1121.0\n",
              "No. Observations:                 392   AIC:                             2248.\n",
              "Df Residuals:                     389   BIC:                             2260.\n",
              "Df Model:                           2                                         \n",
              "Covariance Type:            nonrobust                                         \n",
              "==============================================================================\n",
              "                 coef    std err          t      P>|t|      [0.025      0.975]\n",
              "------------------------------------------------------------------------------\n",
              "const         45.6402      0.793     57.540      0.000      44.081      47.200\n",
              "horsepower    -0.0473      0.011     -4.267      0.000      -0.069      -0.026\n",
              "weight        -0.0058      0.001    -11.535      0.000      -0.007      -0.005\n",
              "==============================================================================\n",
              "Omnibus:                       35.336   Durbin-Watson:                   0.858\n",
              "Prob(Omnibus):                  0.000   Jarque-Bera (JB):               45.973\n",
              "Skew:                           0.683   Prob(JB):                     1.04e-10\n",
              "Kurtosis:                       3.974   Cond. No.                     1.15e+04\n",
              "==============================================================================\n",
              "\n",
              "Notes:\n",
              "[1] Standard Errors assume that the covariance matrix of the errors is correctly specified.\n",
              "[2] The condition number is large, 1.15e+04. This might indicate that there are\n",
              "strong multicollinearity or other numerical problems.\n",
              "\"\"\""
            ],
            "text/html": [
              "<table class=\"simpletable\">\n",
              "<caption>OLS Regression Results</caption>\n",
              "<tr>\n",
              "  <th>Dep. Variable:</th>           <td>mpg</td>       <th>  R-squared:         </th> <td>   0.706</td> \n",
              "</tr>\n",
              "<tr>\n",
              "  <th>Model:</th>                   <td>OLS</td>       <th>  Adj. R-squared:    </th> <td>   0.705</td> \n",
              "</tr>\n",
              "<tr>\n",
              "  <th>Method:</th>             <td>Least Squares</td>  <th>  F-statistic:       </th> <td>   467.9</td> \n",
              "</tr>\n",
              "<tr>\n",
              "  <th>Date:</th>             <td>Fri, 23 May 2025</td> <th>  Prob (F-statistic):</th> <td>3.06e-104</td>\n",
              "</tr>\n",
              "<tr>\n",
              "  <th>Time:</th>                 <td>23:34:49</td>     <th>  Log-Likelihood:    </th> <td> -1121.0</td> \n",
              "</tr>\n",
              "<tr>\n",
              "  <th>No. Observations:</th>      <td>   392</td>      <th>  AIC:               </th> <td>   2248.</td> \n",
              "</tr>\n",
              "<tr>\n",
              "  <th>Df Residuals:</th>          <td>   389</td>      <th>  BIC:               </th> <td>   2260.</td> \n",
              "</tr>\n",
              "<tr>\n",
              "  <th>Df Model:</th>              <td>     2</td>      <th>                     </th>     <td> </td>    \n",
              "</tr>\n",
              "<tr>\n",
              "  <th>Covariance Type:</th>      <td>nonrobust</td>    <th>                     </th>     <td> </td>    \n",
              "</tr>\n",
              "</table>\n",
              "<table class=\"simpletable\">\n",
              "<tr>\n",
              "       <td></td>         <th>coef</th>     <th>std err</th>      <th>t</th>      <th>P>|t|</th>  <th>[0.025</th>    <th>0.975]</th>  \n",
              "</tr>\n",
              "<tr>\n",
              "  <th>const</th>      <td>   45.6402</td> <td>    0.793</td> <td>   57.540</td> <td> 0.000</td> <td>   44.081</td> <td>   47.200</td>\n",
              "</tr>\n",
              "<tr>\n",
              "  <th>horsepower</th> <td>   -0.0473</td> <td>    0.011</td> <td>   -4.267</td> <td> 0.000</td> <td>   -0.069</td> <td>   -0.026</td>\n",
              "</tr>\n",
              "<tr>\n",
              "  <th>weight</th>     <td>   -0.0058</td> <td>    0.001</td> <td>  -11.535</td> <td> 0.000</td> <td>   -0.007</td> <td>   -0.005</td>\n",
              "</tr>\n",
              "</table>\n",
              "<table class=\"simpletable\">\n",
              "<tr>\n",
              "  <th>Omnibus:</th>       <td>35.336</td> <th>  Durbin-Watson:     </th> <td>   0.858</td>\n",
              "</tr>\n",
              "<tr>\n",
              "  <th>Prob(Omnibus):</th> <td> 0.000</td> <th>  Jarque-Bera (JB):  </th> <td>  45.973</td>\n",
              "</tr>\n",
              "<tr>\n",
              "  <th>Skew:</th>          <td> 0.683</td> <th>  Prob(JB):          </th> <td>1.04e-10</td>\n",
              "</tr>\n",
              "<tr>\n",
              "  <th>Kurtosis:</th>      <td> 3.974</td> <th>  Cond. No.          </th> <td>1.15e+04</td>\n",
              "</tr>\n",
              "</table><br/><br/>Notes:<br/>[1] Standard Errors assume that the covariance matrix of the errors is correctly specified.<br/>[2] The condition number is large, 1.15e+04. This might indicate that there are<br/>strong multicollinearity or other numerical problems."
            ],
            "text/latex": "\\begin{center}\n\\begin{tabular}{lclc}\n\\toprule\n\\textbf{Dep. Variable:}    &       mpg        & \\textbf{  R-squared:         } &     0.706   \\\\\n\\textbf{Model:}            &       OLS        & \\textbf{  Adj. R-squared:    } &     0.705   \\\\\n\\textbf{Method:}           &  Least Squares   & \\textbf{  F-statistic:       } &     467.9   \\\\\n\\textbf{Date:}             & Fri, 23 May 2025 & \\textbf{  Prob (F-statistic):} & 3.06e-104   \\\\\n\\textbf{Time:}             &     23:34:49     & \\textbf{  Log-Likelihood:    } &   -1121.0   \\\\\n\\textbf{No. Observations:} &         392      & \\textbf{  AIC:               } &     2248.   \\\\\n\\textbf{Df Residuals:}     &         389      & \\textbf{  BIC:               } &     2260.   \\\\\n\\textbf{Df Model:}         &           2      & \\textbf{                     } &             \\\\\n\\textbf{Covariance Type:}  &    nonrobust     & \\textbf{                     } &             \\\\\n\\bottomrule\n\\end{tabular}\n\\begin{tabular}{lcccccc}\n                    & \\textbf{coef} & \\textbf{std err} & \\textbf{t} & \\textbf{P$> |$t$|$} & \\textbf{[0.025} & \\textbf{0.975]}  \\\\\n\\midrule\n\\textbf{const}      &      45.6402  &        0.793     &    57.540  &         0.000        &       44.081    &       47.200     \\\\\n\\textbf{horsepower} &      -0.0473  &        0.011     &    -4.267  &         0.000        &       -0.069    &       -0.026     \\\\\n\\textbf{weight}     &      -0.0058  &        0.001     &   -11.535  &         0.000        &       -0.007    &       -0.005     \\\\\n\\bottomrule\n\\end{tabular}\n\\begin{tabular}{lclc}\n\\textbf{Omnibus:}       & 35.336 & \\textbf{  Durbin-Watson:     } &    0.858  \\\\\n\\textbf{Prob(Omnibus):} &  0.000 & \\textbf{  Jarque-Bera (JB):  } &   45.973  \\\\\n\\textbf{Skew:}          &  0.683 & \\textbf{  Prob(JB):          } & 1.04e-10  \\\\\n\\textbf{Kurtosis:}      &  3.974 & \\textbf{  Cond. No.          } & 1.15e+04  \\\\\n\\bottomrule\n\\end{tabular}\n%\\caption{OLS Regression Results}\n\\end{center}\n\nNotes: \\newline\n [1] Standard Errors assume that the covariance matrix of the errors is correctly specified. \\newline\n [2] The condition number is large, 1.15e+04. This might indicate that there are \\newline\n strong multicollinearity or other numerical problems."
          },
          "metadata": {},
          "execution_count": 26
        }
      ]
    },
    {
      "cell_type": "markdown",
      "source": [
        "# Multicolinealidad\n",
        "\n",
        "En los problemas de regresión múltiple, se espera encontrar dependencias entre la variable de respuesta $y$  y las variables regresoras $x_j$. Sin embargo, en la mayoría de los problemas de regresión se encuentra que también hay dependencia entre las variables regresoras $x_j$. Cuando estas dependencias son fuertes, se dice que existe **multicolinealidad**."
      ],
      "metadata": {
        "id": "_EGXn6jYVRdm"
      }
    },
    {
      "cell_type": "markdown",
      "source": [
        "![image.png](data:image/png;base64,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)"
      ],
      "metadata": {
        "id": "dBNjc5PjkhPH"
      }
    },
    {
      "cell_type": "markdown",
      "source": [
        "## Causas de la multicolinealidad\n",
        "\n",
        "\n",
        "1. El método de recolección de información. Por ejemplo, la obtención de muestras en un intervalo limitado de valores tomados por las regresoras en la población.\n",
        "\n",
        "2. Restricciones en el modelo o en la población objeto de muestreo. Por ejemplo, al considerar la regresión del consumo de electricidad sobre el ingreso $X_2$ y el tamaño de las viviendas $X_3$ hay una restricción física en la población, pues las familias con ingresos más altos suelen habitar viviendas más grandes que las familias con ingresos más bajos.\n",
        "\n",
        "\n",
        "3. Un modelo sobredeterminado. Esto sucede cuando el modelo tiene más variables regresoras que el número de observaciones. Esto puede suceder en investigación médica, donde en ocasiones hay un número reducido de pacientes sobre quienes se reúne información respecto de\n",
        "un gran número de variables.\n",
        "\n",
        "\n",
        "\n",
        "\n"
      ],
      "metadata": {
        "id": "T2JnNkZYcLw2"
      }
    },
    {
      "cell_type": "markdown",
      "source": [
        "## Consecuencias de la multicolinealidad\n",
        "\n",
        "\n",
        "- Los coeficientes de regresión $\\beta_i$ tendrán errores estándar altos, por lo tanto las pruebas $t$ no serán significativas.\n",
        "\n",
        "- Los valores de los coeficientes de regresión $\\beta_i$ son inestables (cambian rápidamente con pequeñas modificaciones en los datos) volviéndose imposible determinar el impacto individual de cada variable regresora $x_i$ sobre el modelo.\n"
      ],
      "metadata": {
        "id": "s5dffSdDYRm4"
      }
    },
    {
      "cell_type": "code",
      "source": [
        "# Cuando existe un problema de multicolinealidad entre las variables regresoras, entonces las pruebas de significancia\n",
        "# sobre la importancia de cada variable en el modelo, presentará errores"
      ],
      "metadata": {
        "id": "QJ2hnAQuhwgJ"
      },
      "execution_count": null,
      "outputs": []
    },
    {
      "cell_type": "markdown",
      "source": [
        "## Prueba de multicolinealidad"
      ],
      "metadata": {
        "id": "Yfp5LPlOcdUn"
      }
    },
    {
      "cell_type": "markdown",
      "source": [
        "###  Prueba del factor inflacionario de la varianza (**VIF**)"
      ],
      "metadata": {
        "id": "gsAeaoIgcnVq"
      }
    },
    {
      "cell_type": "markdown",
      "source": [
        "Consideraremos el modelo de regresión lineal con $k$ variables\n",
        "$$\n",
        "Y=\\beta_0+\\beta_1x_1+\\beta_2x_2+\\cdots\\beta_kx_k+\\epsilon\n",
        "$$"
      ],
      "metadata": {
        "id": "I8xIXyi5uu2n"
      }
    },
    {
      "cell_type": "markdown",
      "source": [
        "Se define el factor inflacionario de la varianza $\\mathrm{VIF}_j$  para cada variable regresora $X_j$ como\n",
        "$$\n",
        "\\mathrm{VIF}_j=\\frac{1}{1-R_j^2}\n",
        "$$\n",
        "donde\n",
        "\n",
        "- $R_j^2$ es el coeficiente de determinación de la ecuación de regresión auxiliar\n",
        "\n",
        "$$\n",
        "X_j=\\alpha_0+\\alpha_1x_1+\\alpha_2x_2+\\cdots \\alpha_{j-1}x_{j-1}\n",
        "$$\n",
        "donde $X_j$ es la variable regresada y el resto de las variables independientes, actuarán como las variables regresoras."
      ],
      "metadata": {
        "id": "zeHfyCypu_FJ"
      }
    },
    {
      "cell_type": "markdown",
      "source": [
        "Así, para utilizar este método:\n",
        "\n",
        " Se calcula el $\\mathrm{VIF}$ para cada una de las variables regresoras. Luego, se procederá a interpretar los resultados de la siguiente manera:\n",
        "\n",
        "\n",
        "1. Si $\\mathrm{VIF}=1$, no existe un problema de multicolineadidad en el modelo.\n",
        "2. Si $1<\\mathrm{VIF}\\leq 5$, en este caso la multicolinealidad se considera aceptable (debido a que es baja o moderada).\n",
        "3. $\\mathrm{VIF} > 5$ Existe una alta multicolinealidad. Considera la posibilidad de tomar medidas para reducir la multicolinealidad, como eliminar o combinar las variables regresoras correlacionados.\n",
        "4. Si $\\mathrm{VIF}>10$, existe alta multicolinealidad por ende, se recomienda tomar medidas, como eliminar variables regresoras fuertemente correlacionadas."
      ],
      "metadata": {
        "id": "rW5a9B3Hwncg"
      }
    },
    {
      "cell_type": "markdown",
      "source": [
        "**Ejemplo:**\n",
        "\n",
        "Veamos un ejemplo utilizando un conjunto de datos que contiene información sobre 500 personas, incluida su altura, peso, sexo e índice de masa corporal (IMC). En este caso, la variable dependiente es IMC y las demás variables corresponden a las variables regresoras del modelo. Nuestro objetivo es comprobar la multicolinealidad entre estas características utilizando VIF"
      ],
      "metadata": {
        "id": "LSxtp-LvzMre"
      }
    },
    {
      "cell_type": "markdown",
      "source": [
        "Considerar la base de datos BMI.csv"
      ],
      "metadata": {
        "id": "oNNf7zy93Bus"
      }
    },
    {
      "cell_type": "code",
      "source": [
        "from google.colab import files\n",
        "uploaded=files.upload()"
      ],
      "metadata": {
        "colab": {
          "base_uri": "https://localhost:8080/",
          "height": 73
        },
        "id": "8N-jKD1tjkAZ",
        "outputId": "a08c5451-b014-4491-f13b-8fd7f334343e"
      },
      "execution_count": null,
      "outputs": [
        {
          "output_type": "display_data",
          "data": {
            "text/plain": [
              "<IPython.core.display.HTML object>"
            ],
            "text/html": [
              "\n",
              "     <input type=\"file\" id=\"files-74facb81-e243-4db5-98ff-0769e296d688\" name=\"files[]\" multiple disabled\n",
              "        style=\"border:none\" />\n",
              "     <output id=\"result-74facb81-e243-4db5-98ff-0769e296d688\">\n",
              "      Upload widget is only available when the cell has been executed in the\n",
              "      current browser session. Please rerun this cell to enable.\n",
              "      </output>\n",
              "      <script>// Copyright 2017 Google LLC\n",
              "//\n",
              "// Licensed under the Apache License, Version 2.0 (the \"License\");\n",
              "// you may not use this file except in compliance with the License.\n",
              "// You may obtain a copy of the License at\n",
              "//\n",
              "//      http://www.apache.org/licenses/LICENSE-2.0\n",
              "//\n",
              "// Unless required by applicable law or agreed to in writing, software\n",
              "// distributed under the License is distributed on an \"AS IS\" BASIS,\n",
              "// WITHOUT WARRANTIES OR CONDITIONS OF ANY KIND, either express or implied.\n",
              "// See the License for the specific language governing permissions and\n",
              "// limitations under the License.\n",
              "\n",
              "/**\n",
              " * @fileoverview Helpers for google.colab Python module.\n",
              " */\n",
              "(function(scope) {\n",
              "function span(text, styleAttributes = {}) {\n",
              "  const element = document.createElement('span');\n",
              "  element.textContent = text;\n",
              "  for (const key of Object.keys(styleAttributes)) {\n",
              "    element.style[key] = styleAttributes[key];\n",
              "  }\n",
              "  return element;\n",
              "}\n",
              "\n",
              "// Max number of bytes which will be uploaded at a time.\n",
              "const MAX_PAYLOAD_SIZE = 100 * 1024;\n",
              "\n",
              "function _uploadFiles(inputId, outputId) {\n",
              "  const steps = uploadFilesStep(inputId, outputId);\n",
              "  const outputElement = document.getElementById(outputId);\n",
              "  // Cache steps on the outputElement to make it available for the next call\n",
              "  // to uploadFilesContinue from Python.\n",
              "  outputElement.steps = steps;\n",
              "\n",
              "  return _uploadFilesContinue(outputId);\n",
              "}\n",
              "\n",
              "// This is roughly an async generator (not supported in the browser yet),\n",
              "// where there are multiple asynchronous steps and the Python side is going\n",
              "// to poll for completion of each step.\n",
              "// This uses a Promise to block the python side on completion of each step,\n",
              "// then passes the result of the previous step as the input to the next step.\n",
              "function _uploadFilesContinue(outputId) {\n",
              "  const outputElement = document.getElementById(outputId);\n",
              "  const steps = outputElement.steps;\n",
              "\n",
              "  const next = steps.next(outputElement.lastPromiseValue);\n",
              "  return Promise.resolve(next.value.promise).then((value) => {\n",
              "    // Cache the last promise value to make it available to the next\n",
              "    // step of the generator.\n",
              "    outputElement.lastPromiseValue = value;\n",
              "    return next.value.response;\n",
              "  });\n",
              "}\n",
              "\n",
              "/**\n",
              " * Generator function which is called between each async step of the upload\n",
              " * process.\n",
              " * @param {string} inputId Element ID of the input file picker element.\n",
              " * @param {string} outputId Element ID of the output display.\n",
              " * @return {!Iterable<!Object>} Iterable of next steps.\n",
              " */\n",
              "function* uploadFilesStep(inputId, outputId) {\n",
              "  const inputElement = document.getElementById(inputId);\n",
              "  inputElement.disabled = false;\n",
              "\n",
              "  const outputElement = document.getElementById(outputId);\n",
              "  outputElement.innerHTML = '';\n",
              "\n",
              "  const pickedPromise = new Promise((resolve) => {\n",
              "    inputElement.addEventListener('change', (e) => {\n",
              "      resolve(e.target.files);\n",
              "    });\n",
              "  });\n",
              "\n",
              "  const cancel = document.createElement('button');\n",
              "  inputElement.parentElement.appendChild(cancel);\n",
              "  cancel.textContent = 'Cancel upload';\n",
              "  const cancelPromise = new Promise((resolve) => {\n",
              "    cancel.onclick = () => {\n",
              "      resolve(null);\n",
              "    };\n",
              "  });\n",
              "\n",
              "  // Wait for the user to pick the files.\n",
              "  const files = yield {\n",
              "    promise: Promise.race([pickedPromise, cancelPromise]),\n",
              "    response: {\n",
              "      action: 'starting',\n",
              "    }\n",
              "  };\n",
              "\n",
              "  cancel.remove();\n",
              "\n",
              "  // Disable the input element since further picks are not allowed.\n",
              "  inputElement.disabled = true;\n",
              "\n",
              "  if (!files) {\n",
              "    return {\n",
              "      response: {\n",
              "        action: 'complete',\n",
              "      }\n",
              "    };\n",
              "  }\n",
              "\n",
              "  for (const file of files) {\n",
              "    const li = document.createElement('li');\n",
              "    li.append(span(file.name, {fontWeight: 'bold'}));\n",
              "    li.append(span(\n",
              "        `(${file.type || 'n/a'}) - ${file.size} bytes, ` +\n",
              "        `last modified: ${\n",
              "            file.lastModifiedDate ? file.lastModifiedDate.toLocaleDateString() :\n",
              "                                    'n/a'} - `));\n",
              "    const percent = span('0% done');\n",
              "    li.appendChild(percent);\n",
              "\n",
              "    outputElement.appendChild(li);\n",
              "\n",
              "    const fileDataPromise = new Promise((resolve) => {\n",
              "      const reader = new FileReader();\n",
              "      reader.onload = (e) => {\n",
              "        resolve(e.target.result);\n",
              "      };\n",
              "      reader.readAsArrayBuffer(file);\n",
              "    });\n",
              "    // Wait for the data to be ready.\n",
              "    let fileData = yield {\n",
              "      promise: fileDataPromise,\n",
              "      response: {\n",
              "        action: 'continue',\n",
              "      }\n",
              "    };\n",
              "\n",
              "    // Use a chunked sending to avoid message size limits. See b/62115660.\n",
              "    let position = 0;\n",
              "    do {\n",
              "      const length = Math.min(fileData.byteLength - position, MAX_PAYLOAD_SIZE);\n",
              "      const chunk = new Uint8Array(fileData, position, length);\n",
              "      position += length;\n",
              "\n",
              "      const base64 = btoa(String.fromCharCode.apply(null, chunk));\n",
              "      yield {\n",
              "        response: {\n",
              "          action: 'append',\n",
              "          file: file.name,\n",
              "          data: base64,\n",
              "        },\n",
              "      };\n",
              "\n",
              "      let percentDone = fileData.byteLength === 0 ?\n",
              "          100 :\n",
              "          Math.round((position / fileData.byteLength) * 100);\n",
              "      percent.textContent = `${percentDone}% done`;\n",
              "\n",
              "    } while (position < fileData.byteLength);\n",
              "  }\n",
              "\n",
              "  // All done.\n",
              "  yield {\n",
              "    response: {\n",
              "      action: 'complete',\n",
              "    }\n",
              "  };\n",
              "}\n",
              "\n",
              "scope.google = scope.google || {};\n",
              "scope.google.colab = scope.google.colab || {};\n",
              "scope.google.colab._files = {\n",
              "  _uploadFiles,\n",
              "  _uploadFilesContinue,\n",
              "};\n",
              "})(self);\n",
              "</script> "
            ]
          },
          "metadata": {}
        },
        {
          "output_type": "stream",
          "name": "stdout",
          "text": [
            "Saving BMI.csv to BMI.csv\n"
          ]
        }
      ]
    },
    {
      "cell_type": "code",
      "source": [
        "peso=pd.read_csv('BMI.csv')\n",
        "peso.columns\n"
      ],
      "metadata": {
        "colab": {
          "base_uri": "https://localhost:8080/"
        },
        "id": "ZvtYK9QWjzTs",
        "outputId": "34b452df-b9ab-4bf5-9f83-90ae446f0014"
      },
      "execution_count": null,
      "outputs": [
        {
          "output_type": "execute_result",
          "data": {
            "text/plain": [
              "Index(['Gender', 'Height', 'Weight', 'Index'], dtype='object')"
            ]
          },
          "metadata": {},
          "execution_count": 34
        }
      ]
    },
    {
      "cell_type": "markdown",
      "source": [
        "**Queremos determinar si existe correlación entre las variables regresoras del problema**"
      ],
      "metadata": {
        "id": "pTqo_L0nkYj3"
      }
    },
    {
      "cell_type": "code",
      "source": [
        "# Variable sexo: de categórica a númerica\n",
        "peso['Gender']=peso['Gender'].map({'Female':1,\n",
        "                                   'Male':0})\n",
        "# Asignamos la variable numérica 1 al sexo mujer\n",
        "# y la variable numérica 0 al sexo hombre"
      ],
      "metadata": {
        "id": "Oho_chjWkN9X"
      },
      "execution_count": null,
      "outputs": []
    },
    {
      "cell_type": "code",
      "source": [
        "from statsmodels.stats.outliers_influence import variance_inflation_factor"
      ],
      "metadata": {
        "id": "wI0JVpRB0Kqo"
      },
      "execution_count": null,
      "outputs": []
    },
    {
      "cell_type": "code",
      "source": [
        "# Seleccionamos las variables regresoras\n",
        "X=sm.add_constant(peso[['Gender','Height','Weight']])"
      ],
      "metadata": {
        "id": "bHG0Y7F0lJ4J"
      },
      "execution_count": null,
      "outputs": []
    },
    {
      "cell_type": "code",
      "source": [
        "# Calcular el VIF a cada variable regresora\n",
        "vif=pd.DataFrame()\n",
        "vif['variables']=X.columns\n",
        "vif['VIF']=[variance_inflation_factor(X.values,i) for i in range(len(X.columns))]"
      ],
      "metadata": {
        "id": "f_ozx_ZClbnL"
      },
      "execution_count": null,
      "outputs": []
    },
    {
      "cell_type": "code",
      "source": [
        "print(f'{vif}')"
      ],
      "metadata": {
        "colab": {
          "base_uri": "https://localhost:8080/"
        },
        "id": "nhKroXPwlzoG",
        "outputId": "0738f0ba-813b-48dc-a350-19506a49ef30"
      },
      "execution_count": null,
      "outputs": [
        {
          "output_type": "stream",
          "name": "stdout",
          "text": [
            "  variables         VIF\n",
            "0     const  120.380013\n",
            "1    Gender    1.000403\n",
            "2    Height    1.000313\n",
            "3    Weight    1.000091\n"
          ]
        }
      ]
    },
    {
      "cell_type": "markdown",
      "source": [],
      "metadata": {
        "id": "xqp0Vj4Izp6d"
      }
    },
    {
      "cell_type": "markdown",
      "source": [
        "## ¿ Qué hacer si VIF es alto?"
      ],
      "metadata": {
        "id": "6CDpoW6K1O7k"
      }
    },
    {
      "cell_type": "markdown",
      "source": [
        "- Uno de los enfoques más sencillos para tratar la multicolinealidad es eliminar una o más de las variables altamente correlacionadas del conjunto de datos (eliminar la variables que es menos importante para el análisis o que tiene un valor de VIF más alto).\n",
        "\n",
        "  Sin embargo, al eliminar una variable se puede incurrir en un sesgo de especificación ( se omiten variables relevantes, o se incluyen variables irrelevantes), lo cual induce a resultados erróneos.\n",
        "\n",
        "- Combinar las variables correlacionadas, creando una nueva variable que represente la combinación entre las variables altamente correlacionada.\n",
        "\n",
        "- De ser posible, aumentar el tamaño de la muestra\n",
        "- Transformar una variable."
      ],
      "metadata": {
        "id": "EcDLpGLU2I7y"
      }
    },
    {
      "cell_type": "markdown",
      "source": [
        "**Ejercicio:**\n",
        "\n",
        "Un equipo de investigación desea predecir el consumo energético mensual de un hogar (en kWh) en función de diversas características relacionadas con el tamaño y el uso de los electrodomésticos en el hogar.\n",
        "\n",
        "Las variables consideradas en esta investigación son las siguientes:\n",
        "\n",
        "- Cantidad de televisores: Número de televisores en el hogar\n",
        "- Cantidad de computadoras: Número de computadoras en el hogar\n",
        "- Cantidad de dispositivos electrónicos\n",
        "- Horas de uso promedio de dispositivos electrónicos: promedio de horas diarias que los dispositivos están encendidos.\n",
        "- Tamaño del hogar (en $m^2$)\n",
        "\n",
        "Consideraremos la base de datos 'consumo.csv'"
      ],
      "metadata": {
        "id": "7vsUh-J_PTR2"
      }
    },
    {
      "cell_type": "code",
      "source": [
        "from google.colab import files\n",
        "uploaded=files.upload()"
      ],
      "metadata": {
        "colab": {
          "base_uri": "https://localhost:8080/",
          "height": 73
        },
        "id": "GSITptK-m__q",
        "outputId": "42a87f59-ff49-4c55-ef88-8471584d2c13"
      },
      "execution_count": null,
      "outputs": [
        {
          "output_type": "display_data",
          "data": {
            "text/plain": [
              "<IPython.core.display.HTML object>"
            ],
            "text/html": [
              "\n",
              "     <input type=\"file\" id=\"files-6be14bea-8fcd-4953-a0c4-33c1a809b6df\" name=\"files[]\" multiple disabled\n",
              "        style=\"border:none\" />\n",
              "     <output id=\"result-6be14bea-8fcd-4953-a0c4-33c1a809b6df\">\n",
              "      Upload widget is only available when the cell has been executed in the\n",
              "      current browser session. Please rerun this cell to enable.\n",
              "      </output>\n",
              "      <script>// Copyright 2017 Google LLC\n",
              "//\n",
              "// Licensed under the Apache License, Version 2.0 (the \"License\");\n",
              "// you may not use this file except in compliance with the License.\n",
              "// You may obtain a copy of the License at\n",
              "//\n",
              "//      http://www.apache.org/licenses/LICENSE-2.0\n",
              "//\n",
              "// Unless required by applicable law or agreed to in writing, software\n",
              "// distributed under the License is distributed on an \"AS IS\" BASIS,\n",
              "// WITHOUT WARRANTIES OR CONDITIONS OF ANY KIND, either express or implied.\n",
              "// See the License for the specific language governing permissions and\n",
              "// limitations under the License.\n",
              "\n",
              "/**\n",
              " * @fileoverview Helpers for google.colab Python module.\n",
              " */\n",
              "(function(scope) {\n",
              "function span(text, styleAttributes = {}) {\n",
              "  const element = document.createElement('span');\n",
              "  element.textContent = text;\n",
              "  for (const key of Object.keys(styleAttributes)) {\n",
              "    element.style[key] = styleAttributes[key];\n",
              "  }\n",
              "  return element;\n",
              "}\n",
              "\n",
              "// Max number of bytes which will be uploaded at a time.\n",
              "const MAX_PAYLOAD_SIZE = 100 * 1024;\n",
              "\n",
              "function _uploadFiles(inputId, outputId) {\n",
              "  const steps = uploadFilesStep(inputId, outputId);\n",
              "  const outputElement = document.getElementById(outputId);\n",
              "  // Cache steps on the outputElement to make it available for the next call\n",
              "  // to uploadFilesContinue from Python.\n",
              "  outputElement.steps = steps;\n",
              "\n",
              "  return _uploadFilesContinue(outputId);\n",
              "}\n",
              "\n",
              "// This is roughly an async generator (not supported in the browser yet),\n",
              "// where there are multiple asynchronous steps and the Python side is going\n",
              "// to poll for completion of each step.\n",
              "// This uses a Promise to block the python side on completion of each step,\n",
              "// then passes the result of the previous step as the input to the next step.\n",
              "function _uploadFilesContinue(outputId) {\n",
              "  const outputElement = document.getElementById(outputId);\n",
              "  const steps = outputElement.steps;\n",
              "\n",
              "  const next = steps.next(outputElement.lastPromiseValue);\n",
              "  return Promise.resolve(next.value.promise).then((value) => {\n",
              "    // Cache the last promise value to make it available to the next\n",
              "    // step of the generator.\n",
              "    outputElement.lastPromiseValue = value;\n",
              "    return next.value.response;\n",
              "  });\n",
              "}\n",
              "\n",
              "/**\n",
              " * Generator function which is called between each async step of the upload\n",
              " * process.\n",
              " * @param {string} inputId Element ID of the input file picker element.\n",
              " * @param {string} outputId Element ID of the output display.\n",
              " * @return {!Iterable<!Object>} Iterable of next steps.\n",
              " */\n",
              "function* uploadFilesStep(inputId, outputId) {\n",
              "  const inputElement = document.getElementById(inputId);\n",
              "  inputElement.disabled = false;\n",
              "\n",
              "  const outputElement = document.getElementById(outputId);\n",
              "  outputElement.innerHTML = '';\n",
              "\n",
              "  const pickedPromise = new Promise((resolve) => {\n",
              "    inputElement.addEventListener('change', (e) => {\n",
              "      resolve(e.target.files);\n",
              "    });\n",
              "  });\n",
              "\n",
              "  const cancel = document.createElement('button');\n",
              "  inputElement.parentElement.appendChild(cancel);\n",
              "  cancel.textContent = 'Cancel upload';\n",
              "  const cancelPromise = new Promise((resolve) => {\n",
              "    cancel.onclick = () => {\n",
              "      resolve(null);\n",
              "    };\n",
              "  });\n",
              "\n",
              "  // Wait for the user to pick the files.\n",
              "  const files = yield {\n",
              "    promise: Promise.race([pickedPromise, cancelPromise]),\n",
              "    response: {\n",
              "      action: 'starting',\n",
              "    }\n",
              "  };\n",
              "\n",
              "  cancel.remove();\n",
              "\n",
              "  // Disable the input element since further picks are not allowed.\n",
              "  inputElement.disabled = true;\n",
              "\n",
              "  if (!files) {\n",
              "    return {\n",
              "      response: {\n",
              "        action: 'complete',\n",
              "      }\n",
              "    };\n",
              "  }\n",
              "\n",
              "  for (const file of files) {\n",
              "    const li = document.createElement('li');\n",
              "    li.append(span(file.name, {fontWeight: 'bold'}));\n",
              "    li.append(span(\n",
              "        `(${file.type || 'n/a'}) - ${file.size} bytes, ` +\n",
              "        `last modified: ${\n",
              "            file.lastModifiedDate ? file.lastModifiedDate.toLocaleDateString() :\n",
              "                                    'n/a'} - `));\n",
              "    const percent = span('0% done');\n",
              "    li.appendChild(percent);\n",
              "\n",
              "    outputElement.appendChild(li);\n",
              "\n",
              "    const fileDataPromise = new Promise((resolve) => {\n",
              "      const reader = new FileReader();\n",
              "      reader.onload = (e) => {\n",
              "        resolve(e.target.result);\n",
              "      };\n",
              "      reader.readAsArrayBuffer(file);\n",
              "    });\n",
              "    // Wait for the data to be ready.\n",
              "    let fileData = yield {\n",
              "      promise: fileDataPromise,\n",
              "      response: {\n",
              "        action: 'continue',\n",
              "      }\n",
              "    };\n",
              "\n",
              "    // Use a chunked sending to avoid message size limits. See b/62115660.\n",
              "    let position = 0;\n",
              "    do {\n",
              "      const length = Math.min(fileData.byteLength - position, MAX_PAYLOAD_SIZE);\n",
              "      const chunk = new Uint8Array(fileData, position, length);\n",
              "      position += length;\n",
              "\n",
              "      const base64 = btoa(String.fromCharCode.apply(null, chunk));\n",
              "      yield {\n",
              "        response: {\n",
              "          action: 'append',\n",
              "          file: file.name,\n",
              "          data: base64,\n",
              "        },\n",
              "      };\n",
              "\n",
              "      let percentDone = fileData.byteLength === 0 ?\n",
              "          100 :\n",
              "          Math.round((position / fileData.byteLength) * 100);\n",
              "      percent.textContent = `${percentDone}% done`;\n",
              "\n",
              "    } while (position < fileData.byteLength);\n",
              "  }\n",
              "\n",
              "  // All done.\n",
              "  yield {\n",
              "    response: {\n",
              "      action: 'complete',\n",
              "    }\n",
              "  };\n",
              "}\n",
              "\n",
              "scope.google = scope.google || {};\n",
              "scope.google.colab = scope.google.colab || {};\n",
              "scope.google.colab._files = {\n",
              "  _uploadFiles,\n",
              "  _uploadFilesContinue,\n",
              "};\n",
              "})(self);\n",
              "</script> "
            ]
          },
          "metadata": {}
        },
        {
          "output_type": "stream",
          "name": "stdout",
          "text": [
            "Saving consumo.csv to consumo.csv\n"
          ]
        }
      ]
    },
    {
      "cell_type": "code",
      "source": [
        "consumo=pd.read_csv('consumo.csv',sep=';',decimal=',').round(2)\n",
        "consumo.columns"
      ],
      "metadata": {
        "colab": {
          "base_uri": "https://localhost:8080/"
        },
        "id": "UBJktZApnGo2",
        "outputId": "3532c792-4384-43cf-d319-5f6a7d4253db"
      },
      "execution_count": null,
      "outputs": [
        {
          "output_type": "execute_result",
          "data": {
            "text/plain": [
              "Index(['Unnamed: 0', 'Cantidad de televisores', 'Cantidad de computadores',\n",
              "       'Cantidad de dispositivos electrónicos', 'Horas de uso promedio',\n",
              "       'Tamaño del hogar', 'Consumo de Energía'],\n",
              "      dtype='object')"
            ]
          },
          "metadata": {},
          "execution_count": 60
        }
      ]
    },
    {
      "cell_type": "markdown",
      "source": [
        "1. Aplicar un modelo de regresión lineal múltiple con las variables indicadas"
      ],
      "metadata": {
        "id": "445Kvt3ycPCu"
      }
    },
    {
      "cell_type": "code",
      "source": [
        "y=consumo['Consumo de Energía']\n",
        "X2=sm.add_constant(consumo[['Cantidad de televisores','Cantidad de computadores',\n",
        "       'Cantidad de dispositivos electrónicos', 'Horas de uso promedio',\n",
        "       'Tamaño del hogar']])"
      ],
      "metadata": {
        "id": "atqCpkhina-n"
      },
      "execution_count": null,
      "outputs": []
    },
    {
      "cell_type": "code",
      "source": [
        "modelo2=sm.OLS(y,X2).fit()\n",
        "modelo2.summary()"
      ],
      "metadata": {
        "colab": {
          "base_uri": "https://localhost:8080/",
          "height": 562
        },
        "id": "o_74Wfd_nv9s",
        "outputId": "862e083d-54e7-4253-a6c5-29ff32a886a2"
      },
      "execution_count": null,
      "outputs": [
        {
          "output_type": "execute_result",
          "data": {
            "text/plain": [
              "<class 'statsmodels.iolib.summary.Summary'>\n",
              "\"\"\"\n",
              "                            OLS Regression Results                            \n",
              "==============================================================================\n",
              "Dep. Variable:     Consumo de Energía   R-squared:                       0.999\n",
              "Model:                            OLS   Adj. R-squared:                  0.999\n",
              "Method:                 Least Squares   F-statistic:                 2.569e+05\n",
              "Date:                Sat, 24 May 2025   Prob (F-statistic):               0.00\n",
              "Time:                        00:16:14   Log-Likelihood:                -2707.6\n",
              "No. Observations:                 893   AIC:                             5423.\n",
              "Df Residuals:                     889   BIC:                             5442.\n",
              "Df Model:                           3                                         \n",
              "Covariance Type:            nonrobust                                         \n",
              "=========================================================================================================\n",
              "                                            coef    std err          t      P>|t|      [0.025      0.975]\n",
              "---------------------------------------------------------------------------------------------------------\n",
              "const                                     1.5191      0.523      2.907      0.004       0.493       2.545\n",
              "Cantidad de televisores                   1.4979      0.230      6.510      0.000       1.046       1.949\n",
              "Cantidad de computadores                  1.8017      0.231      7.809      0.000       1.349       2.254\n",
              "Cantidad de dispositivos electrónicos     4.8187      0.106     45.247      0.000       4.610       5.028\n",
              "Horas de uso promedio                     3.5176      0.078     45.247      0.000       3.365       3.670\n",
              "Tamaño del hogar                          6.1011      0.007    872.930      0.000       6.087       6.115\n",
              "==============================================================================\n",
              "Omnibus:                        1.600   Durbin-Watson:                   2.109\n",
              "Prob(Omnibus):                  0.449   Jarque-Bera (JB):                1.677\n",
              "Skew:                           0.094   Prob(JB):                        0.432\n",
              "Kurtosis:                       2.901   Cond. No.                     4.96e+16\n",
              "==============================================================================\n",
              "\n",
              "Notes:\n",
              "[1] Standard Errors assume that the covariance matrix of the errors is correctly specified.\n",
              "[2] The smallest eigenvalue is 2.02e-27. This might indicate that there are\n",
              "strong multicollinearity problems or that the design matrix is singular.\n",
              "\"\"\""
            ],
            "text/html": [
              "<table class=\"simpletable\">\n",
              "<caption>OLS Regression Results</caption>\n",
              "<tr>\n",
              "  <th>Dep. Variable:</th>    <td>Consumo de Energía</td> <th>  R-squared:         </th> <td>   0.999</td> \n",
              "</tr>\n",
              "<tr>\n",
              "  <th>Model:</th>                    <td>OLS</td>        <th>  Adj. R-squared:    </th> <td>   0.999</td> \n",
              "</tr>\n",
              "<tr>\n",
              "  <th>Method:</th>              <td>Least Squares</td>   <th>  F-statistic:       </th> <td>2.569e+05</td>\n",
              "</tr>\n",
              "<tr>\n",
              "  <th>Date:</th>              <td>Sat, 24 May 2025</td>  <th>  Prob (F-statistic):</th>  <td>  0.00</td>  \n",
              "</tr>\n",
              "<tr>\n",
              "  <th>Time:</th>                  <td>00:16:14</td>      <th>  Log-Likelihood:    </th> <td> -2707.6</td> \n",
              "</tr>\n",
              "<tr>\n",
              "  <th>No. Observations:</th>       <td>   893</td>       <th>  AIC:               </th> <td>   5423.</td> \n",
              "</tr>\n",
              "<tr>\n",
              "  <th>Df Residuals:</th>           <td>   889</td>       <th>  BIC:               </th> <td>   5442.</td> \n",
              "</tr>\n",
              "<tr>\n",
              "  <th>Df Model:</th>               <td>     3</td>       <th>                     </th>     <td> </td>    \n",
              "</tr>\n",
              "<tr>\n",
              "  <th>Covariance Type:</th>       <td>nonrobust</td>     <th>                     </th>     <td> </td>    \n",
              "</tr>\n",
              "</table>\n",
              "<table class=\"simpletable\">\n",
              "<tr>\n",
              "                    <td></td>                       <th>coef</th>     <th>std err</th>      <th>t</th>      <th>P>|t|</th>  <th>[0.025</th>    <th>0.975]</th>  \n",
              "</tr>\n",
              "<tr>\n",
              "  <th>const</th>                                 <td>    1.5191</td> <td>    0.523</td> <td>    2.907</td> <td> 0.004</td> <td>    0.493</td> <td>    2.545</td>\n",
              "</tr>\n",
              "<tr>\n",
              "  <th>Cantidad de televisores</th>               <td>    1.4979</td> <td>    0.230</td> <td>    6.510</td> <td> 0.000</td> <td>    1.046</td> <td>    1.949</td>\n",
              "</tr>\n",
              "<tr>\n",
              "  <th>Cantidad de computadores</th>              <td>    1.8017</td> <td>    0.231</td> <td>    7.809</td> <td> 0.000</td> <td>    1.349</td> <td>    2.254</td>\n",
              "</tr>\n",
              "<tr>\n",
              "  <th>Cantidad de dispositivos electrónicos</th> <td>    4.8187</td> <td>    0.106</td> <td>   45.247</td> <td> 0.000</td> <td>    4.610</td> <td>    5.028</td>\n",
              "</tr>\n",
              "<tr>\n",
              "  <th>Horas de uso promedio</th>                 <td>    3.5176</td> <td>    0.078</td> <td>   45.247</td> <td> 0.000</td> <td>    3.365</td> <td>    3.670</td>\n",
              "</tr>\n",
              "<tr>\n",
              "  <th>Tamaño del hogar</th>                      <td>    6.1011</td> <td>    0.007</td> <td>  872.930</td> <td> 0.000</td> <td>    6.087</td> <td>    6.115</td>\n",
              "</tr>\n",
              "</table>\n",
              "<table class=\"simpletable\">\n",
              "<tr>\n",
              "  <th>Omnibus:</th>       <td> 1.600</td> <th>  Durbin-Watson:     </th> <td>   2.109</td>\n",
              "</tr>\n",
              "<tr>\n",
              "  <th>Prob(Omnibus):</th> <td> 0.449</td> <th>  Jarque-Bera (JB):  </th> <td>   1.677</td>\n",
              "</tr>\n",
              "<tr>\n",
              "  <th>Skew:</th>          <td> 0.094</td> <th>  Prob(JB):          </th> <td>   0.432</td>\n",
              "</tr>\n",
              "<tr>\n",
              "  <th>Kurtosis:</th>      <td> 2.901</td> <th>  Cond. No.          </th> <td>4.96e+16</td>\n",
              "</tr>\n",
              "</table><br/><br/>Notes:<br/>[1] Standard Errors assume that the covariance matrix of the errors is correctly specified.<br/>[2] The smallest eigenvalue is 2.02e-27. This might indicate that there are<br/>strong multicollinearity problems or that the design matrix is singular."
            ],
            "text/latex": "\\begin{center}\n\\begin{tabular}{lclc}\n\\toprule\n\\textbf{Dep. Variable:}                        & Consumo de Energía & \\textbf{  R-squared:         } &     0.999   \\\\\n\\textbf{Model:}                                &        OLS         & \\textbf{  Adj. R-squared:    } &     0.999   \\\\\n\\textbf{Method:}                               &   Least Squares    & \\textbf{  F-statistic:       } & 2.569e+05   \\\\\n\\textbf{Date:}                                 &  Sat, 24 May 2025  & \\textbf{  Prob (F-statistic):} &     0.00    \\\\\n\\textbf{Time:}                                 &      00:16:14      & \\textbf{  Log-Likelihood:    } &   -2707.6   \\\\\n\\textbf{No. Observations:}                     &          893       & \\textbf{  AIC:               } &     5423.   \\\\\n\\textbf{Df Residuals:}                         &          889       & \\textbf{  BIC:               } &     5442.   \\\\\n\\textbf{Df Model:}                             &            3       & \\textbf{                     } &             \\\\\n\\textbf{Covariance Type:}                      &     nonrobust      & \\textbf{                     } &             \\\\\n\\bottomrule\n\\end{tabular}\n\\begin{tabular}{lcccccc}\n                                               & \\textbf{coef} & \\textbf{std err} & \\textbf{t} & \\textbf{P$> |$t$|$} & \\textbf{[0.025} & \\textbf{0.975]}  \\\\\n\\midrule\n\\textbf{const}                                 &       1.5191  &        0.523     &     2.907  &         0.004        &        0.493    &        2.545     \\\\\n\\textbf{Cantidad de televisores}               &       1.4979  &        0.230     &     6.510  &         0.000        &        1.046    &        1.949     \\\\\n\\textbf{Cantidad de computadores}              &       1.8017  &        0.231     &     7.809  &         0.000        &        1.349    &        2.254     \\\\\n\\textbf{Cantidad de dispositivos electrónicos} &       4.8187  &        0.106     &    45.247  &         0.000        &        4.610    &        5.028     \\\\\n\\textbf{Horas de uso promedio}                 &       3.5176  &        0.078     &    45.247  &         0.000        &        3.365    &        3.670     \\\\\n\\textbf{Tamaño del hogar}                      &       6.1011  &        0.007     &   872.930  &         0.000        &        6.087    &        6.115     \\\\\n\\bottomrule\n\\end{tabular}\n\\begin{tabular}{lclc}\n\\textbf{Omnibus:}       &  1.600 & \\textbf{  Durbin-Watson:     } &    2.109  \\\\\n\\textbf{Prob(Omnibus):} &  0.449 & \\textbf{  Jarque-Bera (JB):  } &    1.677  \\\\\n\\textbf{Skew:}          &  0.094 & \\textbf{  Prob(JB):          } &    0.432  \\\\\n\\textbf{Kurtosis:}      &  2.901 & \\textbf{  Cond. No.          } & 4.96e+16  \\\\\n\\bottomrule\n\\end{tabular}\n%\\caption{OLS Regression Results}\n\\end{center}\n\nNotes: \\newline\n [1] Standard Errors assume that the covariance matrix of the errors is correctly specified. \\newline\n [2] The smallest eigenvalue is 2.02e-27. This might indicate that there are \\newline\n strong multicollinearity problems or that the design matrix is singular."
          },
          "metadata": {},
          "execution_count": 70
        }
      ]
    },
    {
      "cell_type": "markdown",
      "source": [
        "2. ¿ Se podría afirmar que existe un problema de multicolinealidad  entre las variables del problema? Justifique adecuadamente."
      ],
      "metadata": {
        "id": "JST_Ve39ceN8"
      }
    },
    {
      "cell_type": "code",
      "source": [
        "vif=pd.DataFrame()\n",
        "vif['variables']=X2.columns\n",
        "vif['VIF']=[variance_inflation_factor(X2.values,i) for i in range(len(X2.columns))]"
      ],
      "metadata": {
        "colab": {
          "base_uri": "https://localhost:8080/"
        },
        "id": "uhkEA6Aro1Yo",
        "outputId": "280ba12f-7bc8-4463-c346-ed08cabfb8ab"
      },
      "execution_count": null,
      "outputs": [
        {
          "output_type": "stream",
          "name": "stderr",
          "text": [
            "/usr/local/lib/python3.11/dist-packages/statsmodels/regression/linear_model.py:1782: RuntimeWarning: divide by zero encountered in scalar divide\n",
            "  return 1 - self.ssr/self.centered_tss\n",
            "/usr/local/lib/python3.11/dist-packages/statsmodels/stats/outliers_influence.py:197: RuntimeWarning: divide by zero encountered in scalar divide\n",
            "  vif = 1. / (1. - r_squared_i)\n"
          ]
        }
      ]
    },
    {
      "cell_type": "code",
      "source": [
        "print(f'{vif}')"
      ],
      "metadata": {
        "colab": {
          "base_uri": "https://localhost:8080/"
        },
        "id": "nNEF1V_gpSkK",
        "outputId": "accb71be-3bc3-401c-fb7e-800d3bf1b036"
      },
      "execution_count": null,
      "outputs": [
        {
          "output_type": "stream",
          "name": "stdout",
          "text": [
            "                               variables       VIF\n",
            "0                                  const  0.000000\n",
            "1                Cantidad de televisores       inf\n",
            "2               Cantidad de computadores       inf\n",
            "3  Cantidad de dispositivos electrónicos       inf\n",
            "4                  Horas de uso promedio       inf\n",
            "5                       Tamaño del hogar  1.006456\n"
          ]
        }
      ]
    },
    {
      "cell_type": "markdown",
      "source": [
        "3. Aplicar alguna técnica para reducir la colinealidad entre las variables regresoras(justificando adecuadamente). Luego comparar y comentar los resultados con el modelo inicia"
      ],
      "metadata": {
        "id": "Qh5Qb32rpogK"
      }
    },
    {
      "cell_type": "code",
      "source": [
        "# Función que nos permita eliminar las variables con un VIF alto"
      ],
      "metadata": {
        "id": "1VruMFtppxV4"
      },
      "execution_count": null,
      "outputs": []
    },
    {
      "cell_type": "code",
      "source": [
        "X3=sm.add_constant(consumo[['Cantidad de televisores','Cantidad de computadores',\n",
        "       'Tamaño del hogar']])"
      ],
      "metadata": {
        "id": "42bncW8wrOLP"
      },
      "execution_count": null,
      "outputs": []
    },
    {
      "cell_type": "code",
      "source": [
        "vif=pd.DataFrame()\n",
        "vif['variables']=X3.columns\n",
        "vif['VIF']=[variance_inflation_factor(X3.values,i) for i in range(len(X3.columns))]"
      ],
      "metadata": {
        "id": "QnL3YvQnrdSB"
      },
      "execution_count": null,
      "outputs": []
    },
    {
      "cell_type": "code",
      "source": [
        "print(f'{vif}')"
      ],
      "metadata": {
        "colab": {
          "base_uri": "https://localhost:8080/"
        },
        "id": "sV33adPbrgSt",
        "outputId": "77571cc1-4c5e-4a21-cab8-5334661f8180"
      },
      "execution_count": null,
      "outputs": [
        {
          "output_type": "stream",
          "name": "stdout",
          "text": [
            "                  variables        VIF\n",
            "0                     const  16.299728\n",
            "1   Cantidad de televisores   1.007273\n",
            "2  Cantidad de computadores   1.002605\n",
            "3          Tamaño del hogar   1.006456\n"
          ]
        }
      ]
    }
  ]
}