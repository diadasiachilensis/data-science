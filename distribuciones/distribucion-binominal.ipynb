{
 "cells": [
  {
   "cell_type": "markdown",
   "id": "46096f1e",
   "metadata": {},
   "source": [
    "# 🎲 Distribucion Binominal"
   ]
  },
  {
   "cell_type": "markdown",
   "id": "62cbeb49",
   "metadata": {},
   "source": [
    "## 📌 Introducción"
   ]
  },
  {
   "cell_type": "markdown",
   "id": "ededd94e",
   "metadata": {},
   "source": [
    "La **distribución binomial** modela la probabilidad de obtener exactamente \\( k \\) éxitos en \\( n \\) **ensayos independientes**, donde cada ensayo tiene solo **dos posibles resultados**: éxito o fracaso.\n",
    "\n",
    "Es una distribución **discreta** (valores enteros), y cada ensayo debe cumplir con las condiciones de un experimento de **Bernoulli**.\n",
    "\n",
    "Se aplica cuando:\n",
    "\n",
    "- Tienes **n** repeticiones del mismo experimento.\n",
    "- Cada experimento tiene solo dos posibles resultados: ✅ Éxito / ❌ Fracaso.\n",
    "- La probabilidad de éxito \\( p \\) es **constante** en cada repetición.\n",
    "- Los ensayos son **independientes** entre sí.\n"
   ]
  },
  {
   "cell_type": "markdown",
   "id": "d675d6a6",
   "metadata": {},
   "source": [
    "## ✏️ Ejemplos típicos"
   ]
  },
  {
   "cell_type": "markdown",
   "id": "b19a4742",
   "metadata": {},
   "source": [
    "- Lanzar una moneda 10 veces y contar cuántas veces sale cara.\n",
    "- Enviar 20 correos y medir cuántos reciben respuesta.\n",
    "- Un test de COVID aplicado a 100 personas, con $p = 0.05$ de positivo."
   ]
  },
  {
   "cell_type": "markdown",
   "id": "55a281e2",
   "metadata": {},
   "source": [
    "## 📐 Función de Probabilidad (FDP)"
   ]
  },
  {
   "cell_type": "markdown",
   "id": "7e9823b9",
   "metadata": {},
   "source": [
    "La **fórmula** de la distribución binomial es:\n",
    "\n",
    "$\n",
    "P(X = k) = \\binom{n}{k} p^k (1 - p)^{n-k}\n",
    "$\n",
    "\n",
    "Donde:\n",
    "\n",
    "- $n$: número total de ensayos\n",
    "- $k$: número de éxitos\n",
    "- $p$: probabilidad de éxito\n",
    "- $ \\binom{n}{k}$: coeficiente binomial = $ \\frac{n!}{k!(n-k)!} $"
   ]
  },
  {
   "cell_type": "markdown",
   "id": "40e03eaa",
   "metadata": {},
   "source": [
    "## 🧮 Media y Varianza"
   ]
  },
  {
   "cell_type": "markdown",
   "id": "4e799417",
   "metadata": {},
   "source": [
    "- **Media (esperanza):** $\\mu = n \\cdot p$\n",
    "- **Varianza:** $\\sigma^2 = n \\cdot p \\cdot (1 - p)$"
   ]
  },
  {
   "cell_type": "markdown",
   "id": "4221d906",
   "metadata": {},
   "source": [
    "---"
   ]
  },
  {
   "cell_type": "markdown",
   "id": "c2cfeba6",
   "metadata": {},
   "source": [
    "## 🐍 Implementación en Python"
   ]
  },
  {
   "cell_type": "code",
   "execution_count": 5,
   "id": "d26acc95",
   "metadata": {},
   "outputs": [],
   "source": [
    "import numpy as np\n",
    "import matplotlib.pyplot as plt\n",
    "import scipy.stats as ss"
   ]
  },
  {
   "cell_type": "markdown",
   "id": "65271840",
   "metadata": {},
   "source": [
    "### Paso 2: Parámetros del experimento"
   ]
  },
  {
   "cell_type": "code",
   "execution_count": 12,
   "id": "d50a8ee3",
   "metadata": {},
   "outputs": [],
   "source": [
    "n = 100  # número de ensayos\n",
    "p = 0.5   # probabilidad de éxito\n",
    "#Considerar un conjunto de puntos en el eje X\n",
    "x_binomial = np.arange(0, n+1)\n",
    "#Funcion de masa de probabilidad\n",
    "pmf = ss.binom.pmf(x_binomial, n, p)"
   ]
  },
  {
   "cell_type": "code",
   "execution_count": 10,
   "id": "270c58cc",
   "metadata": {},
   "outputs": [
    {
     "data": {
      "text/plain": [
       "np.float64(0.010843866711637978)"
      ]
     },
     "execution_count": 10,
     "metadata": {},
     "output_type": "execute_result"
    }
   ],
   "source": [
    "# P(X=40)\n",
    "prob_binomial=ss.binom.pmf(40,n,p)\n",
    "prob_binomial"
   ]
  },
  {
   "cell_type": "markdown",
   "id": "66094fb2",
   "metadata": {},
   "source": [
    "### Paso 3: Visualización\n"
   ]
  },
  {
   "cell_type": "code",
   "execution_count": 14,
   "id": "44cf2810",
   "metadata": {},
   "outputs": [
    {
     "data": {
      "image/png": "[encoded data removed]",
      "text/plain": [
       "<Figure size 600x500 with 1 Axes>"
      ]
     },
     "metadata": {},
     "output_type": "display_data"
    }
   ],
   "source": [
    "fig=plt.figure(figsize=(6,5))\n",
    "plt.vlines(x_binomial,0,pmf,lw=5,label=f' $n:{n}$ y $p: {0.5}$')\n",
    "plt.axhline(prob_binomial,color='magenta',label=f' $P(X=40)$') # plt.axhline= linea horizontal, plt.axvline= linea vertical\n",
    "plt.legend()\n",
    "plt.title('Distribución binomial: Función de masa de probabilidad')\n",
    "plt.show()"
   ]
  },
  {
   "cell_type": "markdown",
   "id": "4b5bfc04",
   "metadata": {},
   "source": [
    "## Gráfica de la función de distribcuión de probabilidad"
   ]
  },
  {
   "cell_type": "markdown",
   "id": "6e2693ac",
   "metadata": {},
   "source": [
    "Para graficar la función de distribución probabilidad  $P(X\\leq x)$ debemos, utilizar la función $ss.binom.cdf(x,n,p)$ de la librería scypi.stats"
   ]
  },
  {
   "cell_type": "code",
   "execution_count": 15,
   "id": "b45bc7d5",
   "metadata": {},
   "outputs": [],
   "source": [
    "# Para está gráfica, consideraremos n=100 y p=0.5, además consideraremos x_binomial\n",
    "fdp=ss.binom.cdf(x_binomial, n,p) # Función de distribuci+on de probabilidad"
   ]
  },
  {
   "cell_type": "markdown",
   "id": "6f06c818",
   "metadata": {},
   "source": [
    "distribución probabilidad  $P(X\\leq 50)$"
   ]
  },
  {
   "cell_type": "code",
   "execution_count": 19,
   "id": "7dd94253",
   "metadata": {},
   "outputs": [],
   "source": [
    "prob=ss.binom.cdf(50,n,p)"
   ]
  },
  {
   "cell_type": "markdown",
   "id": "b09ccbd7",
   "metadata": {},
   "source": [
    "### Paso 3: Visualización"
   ]
  },
  {
   "cell_type": "code",
   "execution_count": 18,
   "id": "936fc7f2",
   "metadata": {},
   "outputs": [
    {
     "name": "stderr",
     "output_type": "stream",
     "text": [
      "<>:4: SyntaxWarning: invalid escape sequence '\\l'\n",
      "<>:4: SyntaxWarning: invalid escape sequence '\\l'\n",
      "C:\\Users\\guill\\AppData\\Local\\Temp\\ipykernel_18828\\2097046456.py:4: SyntaxWarning: invalid escape sequence '\\l'\n",
      "  plt.axhline(prob,label=f'$P(X\\leq 50):{round(prob,3)}$')\n"
     ]
    },
    {
     "data": {
      "image/png": "[encoded data removed]",
      "text/plain": [
       "<Figure size 600x500 with 1 Axes>"
      ]
     },
     "metadata": {},
     "output_type": "display_data"
    }
   ],
   "source": [
    "fig=plt.figure(figsize=(6,5))\n",
    "plt.vlines(x_binomial,0,fdp,lw=5,color='pink',label=f' $n={n},p={p}$')\n",
    "plt.title('Distribución Binomial: Función de distribución de probabilidad')\n",
    "plt.axhline(prob,label=f'$P(X\\leq 50):{round(prob,3)}$')\n",
    "plt.ylabel('Probabilidad')\n",
    "plt.legend()\n",
    "plt.show()"
   ]
  },
  {
   "cell_type": "markdown",
   "id": "54364cbc",
   "metadata": {},
   "source": [
    "\n",
    "\n",
    "```python\n",
    "\n",
    "```\n",
    "\n",
    "\n",
    "```python\n",
    "\n",
    "```\n",
    "\n",
    "---\n",
    "\n",
    "## 🧪 ¿Y cómo se diferencia de la normal?\n",
    "\n",
    "La binomial **se aproxima** a la normal cuando \\( n \\) es grande y \\( p \\) no es extremo. Esta es la famosa **\"aproximación normal a la binomial\"**, válida cuando:\n",
    "\n",
    "\\[\n",
    "n \\cdot p \\geq 5 \\quad \\text{y} \\quad n \\cdot (1-p) \\geq 5\n",
    "\\]\n",
    "\n",
    "---\n",
    "\n",
    "## 💡 Proyecto recomendado para tu portafolio\n",
    "\n",
    "> **Simulación de tiros de penal en fútbol ⚽**\n",
    "> - Cada penal tiene probabilidad \\( p = 0.75 \\) de éxito.\n",
    "> - Simula 100 partidos con 5 tiros cada uno.\n",
    "> - Grafica distribución de éxitos.\n",
    "> - Calcula la probabilidad de meter al menos 3 goles por tanda.\n",
    "\n",
    "---\n",
    "\n",
    "## ✅ Conclusión\n",
    "\n",
    "La distribución binomial es fundamental para modelar fenómenos dicotómicos repetitivos. Es ideal como **puente hacia modelos más complejos**, como la distribución normal, y ampliamente usada en pruebas de hipótesis y procesos industriales.\n",
    "\n",
    "---\n",
    "\n",
    "¿Te gustaría que prepare este contenido como sección para tu `README.md` o como Jupyter Notebook con visualización?"
   ]
  }
 ],
 "metadata": {
  "kernelspec": {
   "display_name": "env",
   "language": "python",
   "name": "python3"
  },
  "language_info": {
   "codemirror_mode": {
    "name": "ipython",
    "version": 3
   },
   "file_extension": ".py",
   "mimetype": "text/x-python",
   "name": "python",
   "nbconvert_exporter": "python",
   "pygments_lexer": "ipython3",
   "version": "3.12.2"
  }
 },
 "nbformat": 4,
 "nbformat_minor": 5
}
