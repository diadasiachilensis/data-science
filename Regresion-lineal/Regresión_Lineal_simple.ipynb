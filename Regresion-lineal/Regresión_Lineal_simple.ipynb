{
  "nbformat": 4,
  "nbformat_minor": 0,
  "metadata": {
    "colab": {
      "provenance": []
    },
    "kernelspec": {
      "name": "python3",
      "display_name": "Python 3"
    },
    "language_info": {
      "name": "python"
    }
  },
  "cells": [
    {
      "cell_type": "code",
      "source": [
        "import pandas as pd\n",
        "import numpy as np\n",
        "import matplotlib.pyplot as plt\n",
        "import seaborn as sns\n",
        "import statsmodels.api as sm\n",
        "import scipy.stats as ss"
      ],
      "metadata": {
        "id": "XDsq1wSpPlQi"
      },
      "execution_count": null,
      "outputs": []
    },
    {
      "cell_type": "markdown",
      "source": [
        "El análisis de regresión es una técnica estadística que se utiliza para modelar e investigar la relación entre dos o más variables.\n",
        "\n",
        "# **Regresión lineal simple**\n",
        "**Problema**\n",
        "\n",
        "\n",
        "Imagina que estás observando cómo cambia la temperatura a lo largo del día. Tomas nota de la hora y de la temperatura correspondiente, y empiezas a notar un patrón: a medida que pasa el tiempo en la mañana, la temperatura tiende a subir.\n",
        "\n",
        "La regresión lineal simple es una herramienta que nos permite ponerle una regla matemática a ese tipo de patrones. Es como trazar una línea recta que se ajusta lo mejor posible a los puntos que has ido anotando (en este caso, hora vs. temperatura).\n",
        "\n",
        "Esa línea nos ayuda a predecir o entender la relación entre dos cosas: una que usamos para predecir (por ejemplo, la hora del día), y otra que queremos conocer o explicar (como la temperatura).\n",
        "\n",
        "En resumen: la regresión lineal simple busca la mejor línea recta que explique cómo una variable afecta a otra."
      ],
      "metadata": {
        "id": "ikidL8y6nsWI"
      }
    },
    {
      "cell_type": "code",
      "source": [
        "from google.colab import files\n",
        "uploaded=files.upload()"
      ],
      "metadata": {
        "colab": {
          "base_uri": "https://localhost:8080/",
          "height": 73
        },
        "id": "dJoyTb45PYly",
        "outputId": "f6321f88-a480-4389-e165-3458423871ab"
      },
      "execution_count": null,
      "outputs": [
        {
          "output_type": "display_data",
          "data": {
            "text/plain": [
              "<IPython.core.display.HTML object>"
            ],
            "text/html": [
              "\n",
              "     <input type=\"file\" id=\"files-1095542a-05bc-4c7f-bafd-55ac1d00f402\" name=\"files[]\" multiple disabled\n",
              "        style=\"border:none\" />\n",
              "     <output id=\"result-1095542a-05bc-4c7f-bafd-55ac1d00f402\">\n",
              "      Upload widget is only available when the cell has been executed in the\n",
              "      current browser session. Please rerun this cell to enable.\n",
              "      </output>\n",
              "      <script>// Copyright 2017 Google LLC\n",
              "//\n",
              "// Licensed under the Apache License, Version 2.0 (the \"License\");\n",
              "// you may not use this file except in compliance with the License.\n",
              "// You may obtain a copy of the License at\n",
              "//\n",
              "//      http://www.apache.org/licenses/LICENSE-2.0\n",
              "//\n",
              "// Unless required by applicable law or agreed to in writing, software\n",
              "// distributed under the License is distributed on an \"AS IS\" BASIS,\n",
              "// WITHOUT WARRANTIES OR CONDITIONS OF ANY KIND, either express or implied.\n",
              "// See the License for the specific language governing permissions and\n",
              "// limitations under the License.\n",
              "\n",
              "/**\n",
              " * @fileoverview Helpers for google.colab Python module.\n",
              " */\n",
              "(function(scope) {\n",
              "function span(text, styleAttributes = {}) {\n",
              "  const element = document.createElement('span');\n",
              "  element.textContent = text;\n",
              "  for (const key of Object.keys(styleAttributes)) {\n",
              "    element.style[key] = styleAttributes[key];\n",
              "  }\n",
              "  return element;\n",
              "}\n",
              "\n",
              "// Max number of bytes which will be uploaded at a time.\n",
              "const MAX_PAYLOAD_SIZE = 100 * 1024;\n",
              "\n",
              "function _uploadFiles(inputId, outputId) {\n",
              "  const steps = uploadFilesStep(inputId, outputId);\n",
              "  const outputElement = document.getElementById(outputId);\n",
              "  // Cache steps on the outputElement to make it available for the next call\n",
              "  // to uploadFilesContinue from Python.\n",
              "  outputElement.steps = steps;\n",
              "\n",
              "  return _uploadFilesContinue(outputId);\n",
              "}\n",
              "\n",
              "// This is roughly an async generator (not supported in the browser yet),\n",
              "// where there are multiple asynchronous steps and the Python side is going\n",
              "// to poll for completion of each step.\n",
              "// This uses a Promise to block the python side on completion of each step,\n",
              "// then passes the result of the previous step as the input to the next step.\n",
              "function _uploadFilesContinue(outputId) {\n",
              "  const outputElement = document.getElementById(outputId);\n",
              "  const steps = outputElement.steps;\n",
              "\n",
              "  const next = steps.next(outputElement.lastPromiseValue);\n",
              "  return Promise.resolve(next.value.promise).then((value) => {\n",
              "    // Cache the last promise value to make it available to the next\n",
              "    // step of the generator.\n",
              "    outputElement.lastPromiseValue = value;\n",
              "    return next.value.response;\n",
              "  });\n",
              "}\n",
              "\n",
              "/**\n",
              " * Generator function which is called between each async step of the upload\n",
              " * process.\n",
              " * @param {string} inputId Element ID of the input file picker element.\n",
              " * @param {string} outputId Element ID of the output display.\n",
              " * @return {!Iterable<!Object>} Iterable of next steps.\n",
              " */\n",
              "function* uploadFilesStep(inputId, outputId) {\n",
              "  const inputElement = document.getElementById(inputId);\n",
              "  inputElement.disabled = false;\n",
              "\n",
              "  const outputElement = document.getElementById(outputId);\n",
              "  outputElement.innerHTML = '';\n",
              "\n",
              "  const pickedPromise = new Promise((resolve) => {\n",
              "    inputElement.addEventListener('change', (e) => {\n",
              "      resolve(e.target.files);\n",
              "    });\n",
              "  });\n",
              "\n",
              "  const cancel = document.createElement('button');\n",
              "  inputElement.parentElement.appendChild(cancel);\n",
              "  cancel.textContent = 'Cancel upload';\n",
              "  const cancelPromise = new Promise((resolve) => {\n",
              "    cancel.onclick = () => {\n",
              "      resolve(null);\n",
              "    };\n",
              "  });\n",
              "\n",
              "  // Wait for the user to pick the files.\n",
              "  const files = yield {\n",
              "    promise: Promise.race([pickedPromise, cancelPromise]),\n",
              "    response: {\n",
              "      action: 'starting',\n",
              "    }\n",
              "  };\n",
              "\n",
              "  cancel.remove();\n",
              "\n",
              "  // Disable the input element since further picks are not allowed.\n",
              "  inputElement.disabled = true;\n",
              "\n",
              "  if (!files) {\n",
              "    return {\n",
              "      response: {\n",
              "        action: 'complete',\n",
              "      }\n",
              "    };\n",
              "  }\n",
              "\n",
              "  for (const file of files) {\n",
              "    const li = document.createElement('li');\n",
              "    li.append(span(file.name, {fontWeight: 'bold'}));\n",
              "    li.append(span(\n",
              "        `(${file.type || 'n/a'}) - ${file.size} bytes, ` +\n",
              "        `last modified: ${\n",
              "            file.lastModifiedDate ? file.lastModifiedDate.toLocaleDateString() :\n",
              "                                    'n/a'} - `));\n",
              "    const percent = span('0% done');\n",
              "    li.appendChild(percent);\n",
              "\n",
              "    outputElement.appendChild(li);\n",
              "\n",
              "    const fileDataPromise = new Promise((resolve) => {\n",
              "      const reader = new FileReader();\n",
              "      reader.onload = (e) => {\n",
              "        resolve(e.target.result);\n",
              "      };\n",
              "      reader.readAsArrayBuffer(file);\n",
              "    });\n",
              "    // Wait for the data to be ready.\n",
              "    let fileData = yield {\n",
              "      promise: fileDataPromise,\n",
              "      response: {\n",
              "        action: 'continue',\n",
              "      }\n",
              "    };\n",
              "\n",
              "    // Use a chunked sending to avoid message size limits. See b/62115660.\n",
              "    let position = 0;\n",
              "    do {\n",
              "      const length = Math.min(fileData.byteLength - position, MAX_PAYLOAD_SIZE);\n",
              "      const chunk = new Uint8Array(fileData, position, length);\n",
              "      position += length;\n",
              "\n",
              "      const base64 = btoa(String.fromCharCode.apply(null, chunk));\n",
              "      yield {\n",
              "        response: {\n",
              "          action: 'append',\n",
              "          file: file.name,\n",
              "          data: base64,\n",
              "        },\n",
              "      };\n",
              "\n",
              "      let percentDone = fileData.byteLength === 0 ?\n",
              "          100 :\n",
              "          Math.round((position / fileData.byteLength) * 100);\n",
              "      percent.textContent = `${percentDone}% done`;\n",
              "\n",
              "    } while (position < fileData.byteLength);\n",
              "  }\n",
              "\n",
              "  // All done.\n",
              "  yield {\n",
              "    response: {\n",
              "      action: 'complete',\n",
              "    }\n",
              "  };\n",
              "}\n",
              "\n",
              "scope.google = scope.google || {};\n",
              "scope.google.colab = scope.google.colab || {};\n",
              "scope.google.colab._files = {\n",
              "  _uploadFiles,\n",
              "  _uploadFilesContinue,\n",
              "};\n",
              "})(self);\n",
              "</script> "
            ]
          },
          "metadata": {}
        },
        {
          "output_type": "stream",
          "name": "stdout",
          "text": [
            "Saving datos_regresion_lineal.xlsx to datos_regresion_lineal.xlsx\n"
          ]
        }
      ]
    },
    {
      "cell_type": "code",
      "source": [
        "df=pd.read_excel('datos_regresion_lineal.xlsx')"
      ],
      "metadata": {
        "id": "u78UD64qV_0i"
      },
      "execution_count": null,
      "outputs": []
    },
    {
      "cell_type": "code",
      "source": [
        "df.info()"
      ],
      "metadata": {
        "colab": {
          "base_uri": "https://localhost:8080/"
        },
        "id": "23ph0D_18n8E",
        "outputId": "05908218-9d54-41c7-f41c-034087e864a7"
      },
      "execution_count": null,
      "outputs": [
        {
          "output_type": "stream",
          "name": "stdout",
          "text": [
            "<class 'pandas.core.frame.DataFrame'>\n",
            "RangeIndex: 50 entries, 0 to 49\n",
            "Data columns (total 2 columns):\n",
            " #   Column            Non-Null Count  Dtype  \n",
            "---  ------            --------------  -----  \n",
            " 0   Tiempo (min)      50 non-null     int64  \n",
            " 1   Temperatura (°C)  50 non-null     float64\n",
            "dtypes: float64(1), int64(1)\n",
            "memory usage: 932.0 bytes\n"
          ]
        }
      ]
    },
    {
      "cell_type": "code",
      "source": [
        "# ¿ Podemos aproximar este conjunto de datos por una línea recta?\n",
        "fig=plt.figure(figsize=(6,5))\n",
        "sns.scatterplot(x=df['Tiempo (min)'],y=df['Temperatura (°C)'],color='black')\n",
        "plt.title('Temperatura a lo largo del día')\n",
        "plt.show()\n",
        "# Si !! si visualmente podemos aproximar el conjunto de puntos por una línea recta\n",
        "# Ahora debemos determinar b_0 y b_1 para definir la recta de regresión lineal"
      ],
      "metadata": {
        "colab": {
          "base_uri": "https://localhost:8080/",
          "height": 488
        },
        "id": "-XBVY0Ay8w0Q",
        "outputId": "aaabf0d8-b66c-4ded-ab10-69daa98de046"
      },
      "execution_count": null,
      "outputs": [
        {
          "output_type": "display_data",
          "data": {
            "text/plain": [
              "<Figure size 600x500 with 1 Axes>"
            ],
            "image/png": "[encoded data removed]"
          },
          "metadata": {}
        }
      ]
    },
    {
      "cell_type": "markdown",
      "source": [
        "\n",
        "\n",
        "Para una **regresión lineal simple**, se considera un sólo regresor (variable de regresión) o predictor $x$ y una variable de respuesta $Y$.\n",
        "\n",
        "\n",
        "Se asume que la distribución de $Y$ es normal,con media $E[Y |x]$ dependiente de $x$ y una varianza constante que no varía con $x$ la cual denotaremos\n",
        "por $\\sigma^2$. En resumen, estamos asumiendo que:\n",
        "$$\n",
        "Y\\sim norm(E[Y |x],\\sigma^2)\n",
        "$$\n",
        "\n",
        "\n",
        "En el modelo de regresión más simple con el que se trabaja se asume que la media condicionada\n",
        "$E[Y |x]$ es una función lineal de $x$, en otras palabras, se asume que:\n",
        "$$\n",
        "E[Y|x]=\\beta_0+\\beta_1 x\n",
        "$$\n",
        "\n",
        "Las hipótesis asumidas en las ecuaciones anteriores, podemos expresarlas conjuntamente diciendo que\n",
        "la variable de respuesta  $Y$ se puede expresar como:\n",
        "$$\n",
        "Y = \\beta_0 + \\beta_1x + \\epsilon\n",
        "$$\n",
        "donde\n",
        "$$\n",
        "\\epsilon \\sim Norm(0, \\sigma^2)\n",
        "$$\n"
      ],
      "metadata": {
        "id": "n_HJvD7y98Qv"
      }
    },
    {
      "cell_type": "markdown",
      "source": [
        "**Observación:**\n",
        "\n",
        "- $\\beta_0$ y $\\beta_1$ son coeficientes de regresión desconocidos y  $\\epsilon$ es un error aleatorio con media cero y varianza $\\sigma^2$.\n",
        "\n"
      ],
      "metadata": {
        "id": "MXbztUMQsyXk"
      }
    },
    {
      "cell_type": "markdown",
      "source": [
        "**Obsevación 2:**\n",
        "\n",
        "- Se trabaja bajo el supuesto que $\\sigma^2$ es constante, por lo tanto, se puede demostrar que la variabilidad de $y$  en un valor particular de $x$ está determinado por la varianza del error, $\\sigma^2$."
      ],
      "metadata": {
        "id": "fUYRyGyb-Ke2"
      }
    },
    {
      "cell_type": "markdown",
      "source": [
        "\n",
        "\n",
        "**Observación 3**\n",
        "\n",
        "-  Se espera que la recta ajustada esté más cerca de la verdadera recta de regresión, cuando se disponga de una mayor cantidad de datos."
      ],
      "metadata": {
        "id": "FFmdlhJI-QDq"
      }
    },
    {
      "cell_type": "markdown",
      "source": [
        "El método que se utilizará para estimar los coeficientes de regresión, se conoce como **El método de los mínimos cuadrados**"
      ],
      "metadata": {
        "id": "kj73nTtttORC"
      }
    },
    {
      "cell_type": "markdown",
      "source": [
        "## Método de los mínimos cuadrados\n",
        "\n",
        "Se supone que cada observación $y$, puede describirse según el modelo.\n",
        "$$\n",
        "y=\\beta_0+\\beta_1x+ϵ\n",
        "$$\n",
        "donde $\\epsilon$ es el error aleatorio de media 0 y varianza $\\sigma^2$.\n",
        "\n",
        "El método de los mínimos cuadrados, consiste en minimizar la suma de los cuadrados de los errores de cada observación, es decir, minimizar\n",
        "$$\n",
        "L=\\sum_{i=1}^n \\epsilon_i^2=\\sum_{i=1}^n(y_i-\\beta_0-\\beta_1x_i)^2\n",
        "$$\n",
        "Así los estimadores de mínimos cuadrados de $\\beta_0$ y $\\beta_1$, por ejemplo\n",
        "$\\hat{\\beta}_0$ y $\\hat{\\beta}_1$, deben satisfacer\n",
        "\\begin{align*}\n",
        "\\left.\\frac{\\partial L}{\\partial \\beta_0}\\right|_{\\hat{\\beta}_0,\\hat{\\beta}_1}=&-2\\sum_{i=1}^2(y_i-\\beta_0-\\beta_1x_i)^2=0\\\\\n",
        "\\left.\\frac{\\partial L}{\\partial \\beta_1}\\right|_{\\hat{\\beta}_0,\\hat{\\beta}_1}=&-2\\sum_{i=1}^2(y_i-\\beta_0-\\beta_1x_i)^2x_i=0\\\\\n",
        "\\end{align*}\n",
        "de donde obtenemos el siguiente resultado.\n"
      ],
      "metadata": {
        "id": "Kq0ZzQN4-TeZ"
      }
    },
    {
      "cell_type": "markdown",
      "source": [
        "Las estimaciones de mínimos cuadrados del coeficiente de posición $\\beta_0$ y la pendiente del modelo de regresión lineal simple son\n",
        "$$\n",
        "\\hat{\\beta}_0=\\bar{y}-\\hat{\\beta}_1\\bar{x}\n",
        "$$\n",
        "\n",
        "$$\n",
        "\\hat{\\beta}_1=\\frac{\\sum_{i=1}^ny_ix_i-\\dfrac{\\sum_i x_i\\sum_i x_i}{n}}{\\sum_{i=1}^nx_i^2-\\dfrac{\\sum_{i=1}^n\\left(x_i\\right)^2}{n}}=\\frac{S_{xy}}{S_{xx}}\n",
        "$$\n",
        "\n",
        "donde $\\bar{y}=(1/n)\\sum_i y_i$ y $\\bar{x}=(1/n)\\sum_i x_i$.\n",
        "\n",
        "Por lo tanto, la recta de regresión ajustada ajustada (estimada) es:\n",
        "$$\n",
        "\\hat{y}_i=\\hat{\\beta}_0+\\hat{\\beta}_1x_i\n",
        "$$\n",
        "\n"
      ],
      "metadata": {
        "id": "h7lhe0vQ-Wka"
      }
    },
    {
      "cell_type": "markdown",
      "source": [
        "- $\\hat{y}_i$ son las estimaciones de la variable de respuesta $y_i$\n",
        "- $\\hat{\\beta}_0$ corresponde a una estimación de $\\beta_0$\n",
        "- $\\hat{\\beta}_1$ corresponde a una estimación de $\\beta_1$"
      ],
      "metadata": {
        "id": "RqQc8EY-aVS1"
      }
    },
    {
      "cell_type": "markdown",
      "source": [
        "**Observación**\n",
        "Definiremos la recta que mejor se ajusta a este conjunto de datos\n",
        "\n",
        "Temperatura= $\\beta_0$+$\\beta_1$ Tiempo"
      ],
      "metadata": {
        "id": "Gu_WFGEU0y11"
      }
    },
    {
      "cell_type": "code",
      "source": [
        "fig=plt.figure(figsize=(5,4))\n",
        "sns.scatterplot(x=df['Tiempo (min)'],y=df['Temperatura (°C)'],color='black')\n",
        "plt.title('Temperatura a lo largo del día')\n",
        "plt.show()"
      ],
      "metadata": {
        "colab": {
          "base_uri": "https://localhost:8080/",
          "height": 411
        },
        "id": "4sVxSX6Q_K-4",
        "outputId": "8443f93f-7f3c-41dc-8764-b5a7f560adc7"
      },
      "execution_count": null,
      "outputs": [
        {
          "output_type": "display_data",
          "data": {
            "text/plain": [
              "<Figure size 500x400 with 1 Axes>"
            ],
            "image/png": "[encoded data removed]"
          },
          "metadata": {}
        }
      ]
    },
    {
      "cell_type": "code",
      "source": [
        "X=df['Tiempo (min)'] # variable regresora\n",
        "y=df['Temperatura (°C)']"
      ],
      "metadata": {
        "id": "iVWuslAn_UVe"
      },
      "execution_count": null,
      "outputs": []
    },
    {
      "cell_type": "code",
      "source": [
        "# Como la recta de regresión lineal no pasa por el origen, debemos añadir un vector constante\n",
        "X=sm.add_constant(X)"
      ],
      "metadata": {
        "id": "FtZJL1FB_jj-"
      },
      "execution_count": null,
      "outputs": []
    },
    {
      "cell_type": "code",
      "source": [
        "modelo=sm.OLS(y,X).fit()\n",
        "modelo.summary()"
      ],
      "metadata": {
        "colab": {
          "base_uri": "https://localhost:8080/",
          "height": 444
        },
        "id": "jYMYGrYbAWTX",
        "outputId": "2a15649c-1b86-42e8-fabf-2b8eed1ba75d"
      },
      "execution_count": null,
      "outputs": [
        {
          "output_type": "execute_result",
          "data": {
            "text/plain": [
              "<class 'statsmodels.iolib.summary.Summary'>\n",
              "\"\"\"\n",
              "                            OLS Regression Results                            \n",
              "==============================================================================\n",
              "Dep. Variable:       Temperatura (°C)   R-squared:                       0.899\n",
              "Model:                            OLS   Adj. R-squared:                  0.897\n",
              "Method:                 Least Squares   F-statistic:                     428.9\n",
              "Date:                Tue, 13 May 2025   Prob (F-statistic):           1.41e-25\n",
              "Time:                        23:36:39   Log-Likelihood:                -86.415\n",
              "No. Observations:                  50   AIC:                             176.8\n",
              "Df Residuals:                      48   BIC:                             180.7\n",
              "Df Model:                           1                                         \n",
              "Covariance Type:            nonrobust                                         \n",
              "================================================================================\n",
              "                   coef    std err          t      P>|t|      [0.025      0.975]\n",
              "--------------------------------------------------------------------------------\n",
              "const           20.0967      0.388     51.861      0.000      19.318      20.876\n",
              "Tiempo (min)     0.2822      0.014     20.711      0.000       0.255       0.310\n",
              "==============================================================================\n",
              "Omnibus:                        0.453   Durbin-Watson:                   1.942\n",
              "Prob(Omnibus):                  0.798   Jarque-Bera (JB):                0.608\n",
              "Skew:                           0.156   Prob(JB):                        0.738\n",
              "Kurtosis:                       2.559   Cond. No.                         56.1\n",
              "==============================================================================\n",
              "\n",
              "Notes:\n",
              "[1] Standard Errors assume that the covariance matrix of the errors is correctly specified.\n",
              "\"\"\""
            ],
            "text/html": [
              "<table class=\"simpletable\">\n",
              "<caption>OLS Regression Results</caption>\n",
              "<tr>\n",
              "  <th>Dep. Variable:</th>    <td>Temperatura (°C)</td> <th>  R-squared:         </th> <td>   0.899</td>\n",
              "</tr>\n",
              "<tr>\n",
              "  <th>Model:</th>                   <td>OLS</td>       <th>  Adj. R-squared:    </th> <td>   0.897</td>\n",
              "</tr>\n",
              "<tr>\n",
              "  <th>Method:</th>             <td>Least Squares</td>  <th>  F-statistic:       </th> <td>   428.9</td>\n",
              "</tr>\n",
              "<tr>\n",
              "  <th>Date:</th>             <td>Tue, 13 May 2025</td> <th>  Prob (F-statistic):</th> <td>1.41e-25</td>\n",
              "</tr>\n",
              "<tr>\n",
              "  <th>Time:</th>                 <td>23:36:39</td>     <th>  Log-Likelihood:    </th> <td> -86.415</td>\n",
              "</tr>\n",
              "<tr>\n",
              "  <th>No. Observations:</th>      <td>    50</td>      <th>  AIC:               </th> <td>   176.8</td>\n",
              "</tr>\n",
              "<tr>\n",
              "  <th>Df Residuals:</th>          <td>    48</td>      <th>  BIC:               </th> <td>   180.7</td>\n",
              "</tr>\n",
              "<tr>\n",
              "  <th>Df Model:</th>              <td>     1</td>      <th>                     </th>     <td> </td>   \n",
              "</tr>\n",
              "<tr>\n",
              "  <th>Covariance Type:</th>      <td>nonrobust</td>    <th>                     </th>     <td> </td>   \n",
              "</tr>\n",
              "</table>\n",
              "<table class=\"simpletable\">\n",
              "<tr>\n",
              "        <td></td>          <th>coef</th>     <th>std err</th>      <th>t</th>      <th>P>|t|</th>  <th>[0.025</th>    <th>0.975]</th>  \n",
              "</tr>\n",
              "<tr>\n",
              "  <th>const</th>        <td>   20.0967</td> <td>    0.388</td> <td>   51.861</td> <td> 0.000</td> <td>   19.318</td> <td>   20.876</td>\n",
              "</tr>\n",
              "<tr>\n",
              "  <th>Tiempo (min)</th> <td>    0.2822</td> <td>    0.014</td> <td>   20.711</td> <td> 0.000</td> <td>    0.255</td> <td>    0.310</td>\n",
              "</tr>\n",
              "</table>\n",
              "<table class=\"simpletable\">\n",
              "<tr>\n",
              "  <th>Omnibus:</th>       <td> 0.453</td> <th>  Durbin-Watson:     </th> <td>   1.942</td>\n",
              "</tr>\n",
              "<tr>\n",
              "  <th>Prob(Omnibus):</th> <td> 0.798</td> <th>  Jarque-Bera (JB):  </th> <td>   0.608</td>\n",
              "</tr>\n",
              "<tr>\n",
              "  <th>Skew:</th>          <td> 0.156</td> <th>  Prob(JB):          </th> <td>   0.738</td>\n",
              "</tr>\n",
              "<tr>\n",
              "  <th>Kurtosis:</th>      <td> 2.559</td> <th>  Cond. No.          </th> <td>    56.1</td>\n",
              "</tr>\n",
              "</table><br/><br/>Notes:<br/>[1] Standard Errors assume that the covariance matrix of the errors is correctly specified."
            ],
            "text/latex": "\\begin{center}\n\\begin{tabular}{lclc}\n\\toprule\n\\textbf{Dep. Variable:}    & Temperatura (°C) & \\textbf{  R-squared:         } &     0.899   \\\\\n\\textbf{Model:}            &       OLS        & \\textbf{  Adj. R-squared:    } &     0.897   \\\\\n\\textbf{Method:}           &  Least Squares   & \\textbf{  F-statistic:       } &     428.9   \\\\\n\\textbf{Date:}             & Tue, 13 May 2025 & \\textbf{  Prob (F-statistic):} &  1.41e-25   \\\\\n\\textbf{Time:}             &     23:36:39     & \\textbf{  Log-Likelihood:    } &   -86.415   \\\\\n\\textbf{No. Observations:} &          50      & \\textbf{  AIC:               } &     176.8   \\\\\n\\textbf{Df Residuals:}     &          48      & \\textbf{  BIC:               } &     180.7   \\\\\n\\textbf{Df Model:}         &           1      & \\textbf{                     } &             \\\\\n\\textbf{Covariance Type:}  &    nonrobust     & \\textbf{                     } &             \\\\\n\\bottomrule\n\\end{tabular}\n\\begin{tabular}{lcccccc}\n                      & \\textbf{coef} & \\textbf{std err} & \\textbf{t} & \\textbf{P$> |$t$|$} & \\textbf{[0.025} & \\textbf{0.975]}  \\\\\n\\midrule\n\\textbf{const}        &      20.0967  &        0.388     &    51.861  &         0.000        &       19.318    &       20.876     \\\\\n\\textbf{Tiempo (min)} &       0.2822  &        0.014     &    20.711  &         0.000        &        0.255    &        0.310     \\\\\n\\bottomrule\n\\end{tabular}\n\\begin{tabular}{lclc}\n\\textbf{Omnibus:}       &  0.453 & \\textbf{  Durbin-Watson:     } &    1.942  \\\\\n\\textbf{Prob(Omnibus):} &  0.798 & \\textbf{  Jarque-Bera (JB):  } &    0.608  \\\\\n\\textbf{Skew:}          &  0.156 & \\textbf{  Prob(JB):          } &    0.738  \\\\\n\\textbf{Kurtosis:}      &  2.559 & \\textbf{  Cond. No.          } &     56.1  \\\\\n\\bottomrule\n\\end{tabular}\n%\\caption{OLS Regression Results}\n\\end{center}\n\nNotes: \\newline\n [1] Standard Errors assume that the covariance matrix of the errors is correctly specified."
          },
          "metadata": {},
          "execution_count": 13
        }
      ]
    },
    {
      "cell_type": "code",
      "source": [
        "# Los valores de b_0 y b_1 son\n",
        "parametros=modelo.params"
      ],
      "metadata": {
        "id": "NVWVhefxAxxv"
      },
      "execution_count": null,
      "outputs": []
    },
    {
      "cell_type": "code",
      "source": [
        "print(f' Temperatura= {parametros.iloc[0]}+ {parametros.iloc[1]} * Tiempo')"
      ],
      "metadata": {
        "colab": {
          "base_uri": "https://localhost:8080/"
        },
        "id": "2uoRM6gJA-Oc",
        "outputId": "25cd2b43-040e-44e3-f54a-8f49b7a78f49"
      },
      "execution_count": null,
      "outputs": [
        {
          "output_type": "stream",
          "name": "stdout",
          "text": [
            " Temperatura= 20.096664638304453+ 0.2822499797474014 * Tiempo\n"
          ]
        }
      ]
    },
    {
      "cell_type": "code",
      "source": [
        "from statsmodels.graphics.regressionplots import abline_plot"
      ],
      "metadata": {
        "id": "en-fpmwrBe44"
      },
      "execution_count": null,
      "outputs": []
    },
    {
      "cell_type": "code",
      "source": [
        "fig,ax=plt.subplots()\n",
        "sns.scatterplot(x=df['Tiempo (min)'],y=df['Temperatura (°C)'],color='black')\n",
        "abline_plot(model_results=modelo,ax=ax,color='red', label=f' Temperatura= 20.09+0.28$\\cdot$ Tiempo')\n",
        "plt.title('Temperatura a lo largo del día')\n",
        "plt.xlim(0,50)\n",
        "plt.legend()\n",
        "plt.show()"
      ],
      "metadata": {
        "colab": {
          "base_uri": "https://localhost:8080/",
          "height": 472
        },
        "id": "wkAXeZ-rBOC3",
        "outputId": "d438b139-1d6c-46f4-ff72-0b5eb31b2bcc"
      },
      "execution_count": null,
      "outputs": [
        {
          "output_type": "display_data",
          "data": {
            "text/plain": [
              "<Figure size 640x480 with 1 Axes>"
            ],
            "image/png": "[encoded data removed]"
          },
          "metadata": {}
        }
      ]
    },
    {
      "cell_type": "markdown",
      "source": [
        "\n",
        "**Observación:**\n",
        "\n",
        "Cada par de observaciones, satisface la relación\n",
        "$$\n",
        "y_i=\\hat{\\beta}_0+\\hat{\\beta}_1x_i+\\epsilon_i,\\qquad i=1,2,\\cdots,n\n",
        "$$\n",
        "Donde $\\epsilon_i=y_i-\\hat{y}_i$ corresponde al error residual."
      ],
      "metadata": {
        "id": "qZ6VHKLdaT03"
      }
    },
    {
      "cell_type": "markdown",
      "source": [
        "\n",
        "\n",
        "**Ejercicio:**\n",
        "\n",
        "Se propone desarrollar un modelo de regresión lineal simple donde la variable dependiente (o regresada) es el precio de venta de un producto o inmueble, y la variable independiente (o regresora) son los impuestos asociados a dicho bien. El objetivo del modelo es analizar la relación lineal entre los impuestos pagados y el precio final de venta, permitiendo predecir el precio de venta estimado en función de los impuestos aplicados (Ejemplo1.csv)"
      ],
      "metadata": {
        "id": "TKe7By2i-kHx"
      }
    },
    {
      "cell_type": "code",
      "source": [
        "from google.colab import files\n",
        "uploaded=files.upload()"
      ],
      "metadata": {
        "colab": {
          "base_uri": "https://localhost:8080/",
          "height": 142
        },
        "id": "NU1Uap0bDVuT",
        "outputId": "b73afe9f-d58c-4c89-8426-203db427987d"
      },
      "execution_count": null,
      "outputs": [
        {
          "output_type": "display_data",
          "data": {
            "text/plain": [
              "<IPython.core.display.HTML object>"
            ],
            "text/html": [
              "\n",
              "     <input type=\"file\" id=\"files-c7fb168f-e5b0-45d2-bcb1-586ec20c0ff3\" name=\"files[]\" multiple disabled\n",
              "        style=\"border:none\" />\n",
              "     <output id=\"result-c7fb168f-e5b0-45d2-bcb1-586ec20c0ff3\">\n",
              "      Upload widget is only available when the cell has been executed in the\n",
              "      current browser session. Please rerun this cell to enable.\n",
              "      </output>\n",
              "      <script>// Copyright 2017 Google LLC\n",
              "//\n",
              "// Licensed under the Apache License, Version 2.0 (the \"License\");\n",
              "// you may not use this file except in compliance with the License.\n",
              "// You may obtain a copy of the License at\n",
              "//\n",
              "//      http://www.apache.org/licenses/LICENSE-2.0\n",
              "//\n",
              "// Unless required by applicable law or agreed to in writing, software\n",
              "// distributed under the License is distributed on an \"AS IS\" BASIS,\n",
              "// WITHOUT WARRANTIES OR CONDITIONS OF ANY KIND, either express or implied.\n",
              "// See the License for the specific language governing permissions and\n",
              "// limitations under the License.\n",
              "\n",
              "/**\n",
              " * @fileoverview Helpers for google.colab Python module.\n",
              " */\n",
              "(function(scope) {\n",
              "function span(text, styleAttributes = {}) {\n",
              "  const element = document.createElement('span');\n",
              "  element.textContent = text;\n",
              "  for (const key of Object.keys(styleAttributes)) {\n",
              "    element.style[key] = styleAttributes[key];\n",
              "  }\n",
              "  return element;\n",
              "}\n",
              "\n",
              "// Max number of bytes which will be uploaded at a time.\n",
              "const MAX_PAYLOAD_SIZE = 100 * 1024;\n",
              "\n",
              "function _uploadFiles(inputId, outputId) {\n",
              "  const steps = uploadFilesStep(inputId, outputId);\n",
              "  const outputElement = document.getElementById(outputId);\n",
              "  // Cache steps on the outputElement to make it available for the next call\n",
              "  // to uploadFilesContinue from Python.\n",
              "  outputElement.steps = steps;\n",
              "\n",
              "  return _uploadFilesContinue(outputId);\n",
              "}\n",
              "\n",
              "// This is roughly an async generator (not supported in the browser yet),\n",
              "// where there are multiple asynchronous steps and the Python side is going\n",
              "// to poll for completion of each step.\n",
              "// This uses a Promise to block the python side on completion of each step,\n",
              "// then passes the result of the previous step as the input to the next step.\n",
              "function _uploadFilesContinue(outputId) {\n",
              "  const outputElement = document.getElementById(outputId);\n",
              "  const steps = outputElement.steps;\n",
              "\n",
              "  const next = steps.next(outputElement.lastPromiseValue);\n",
              "  return Promise.resolve(next.value.promise).then((value) => {\n",
              "    // Cache the last promise value to make it available to the next\n",
              "    // step of the generator.\n",
              "    outputElement.lastPromiseValue = value;\n",
              "    return next.value.response;\n",
              "  });\n",
              "}\n",
              "\n",
              "/**\n",
              " * Generator function which is called between each async step of the upload\n",
              " * process.\n",
              " * @param {string} inputId Element ID of the input file picker element.\n",
              " * @param {string} outputId Element ID of the output display.\n",
              " * @return {!Iterable<!Object>} Iterable of next steps.\n",
              " */\n",
              "function* uploadFilesStep(inputId, outputId) {\n",
              "  const inputElement = document.getElementById(inputId);\n",
              "  inputElement.disabled = false;\n",
              "\n",
              "  const outputElement = document.getElementById(outputId);\n",
              "  outputElement.innerHTML = '';\n",
              "\n",
              "  const pickedPromise = new Promise((resolve) => {\n",
              "    inputElement.addEventListener('change', (e) => {\n",
              "      resolve(e.target.files);\n",
              "    });\n",
              "  });\n",
              "\n",
              "  const cancel = document.createElement('button');\n",
              "  inputElement.parentElement.appendChild(cancel);\n",
              "  cancel.textContent = 'Cancel upload';\n",
              "  const cancelPromise = new Promise((resolve) => {\n",
              "    cancel.onclick = () => {\n",
              "      resolve(null);\n",
              "    };\n",
              "  });\n",
              "\n",
              "  // Wait for the user to pick the files.\n",
              "  const files = yield {\n",
              "    promise: Promise.race([pickedPromise, cancelPromise]),\n",
              "    response: {\n",
              "      action: 'starting',\n",
              "    }\n",
              "  };\n",
              "\n",
              "  cancel.remove();\n",
              "\n",
              "  // Disable the input element since further picks are not allowed.\n",
              "  inputElement.disabled = true;\n",
              "\n",
              "  if (!files) {\n",
              "    return {\n",
              "      response: {\n",
              "        action: 'complete',\n",
              "      }\n",
              "    };\n",
              "  }\n",
              "\n",
              "  for (const file of files) {\n",
              "    const li = document.createElement('li');\n",
              "    li.append(span(file.name, {fontWeight: 'bold'}));\n",
              "    li.append(span(\n",
              "        `(${file.type || 'n/a'}) - ${file.size} bytes, ` +\n",
              "        `last modified: ${\n",
              "            file.lastModifiedDate ? file.lastModifiedDate.toLocaleDateString() :\n",
              "                                    'n/a'} - `));\n",
              "    const percent = span('0% done');\n",
              "    li.appendChild(percent);\n",
              "\n",
              "    outputElement.appendChild(li);\n",
              "\n",
              "    const fileDataPromise = new Promise((resolve) => {\n",
              "      const reader = new FileReader();\n",
              "      reader.onload = (e) => {\n",
              "        resolve(e.target.result);\n",
              "      };\n",
              "      reader.readAsArrayBuffer(file);\n",
              "    });\n",
              "    // Wait for the data to be ready.\n",
              "    let fileData = yield {\n",
              "      promise: fileDataPromise,\n",
              "      response: {\n",
              "        action: 'continue',\n",
              "      }\n",
              "    };\n",
              "\n",
              "    // Use a chunked sending to avoid message size limits. See b/62115660.\n",
              "    let position = 0;\n",
              "    do {\n",
              "      const length = Math.min(fileData.byteLength - position, MAX_PAYLOAD_SIZE);\n",
              "      const chunk = new Uint8Array(fileData, position, length);\n",
              "      position += length;\n",
              "\n",
              "      const base64 = btoa(String.fromCharCode.apply(null, chunk));\n",
              "      yield {\n",
              "        response: {\n",
              "          action: 'append',\n",
              "          file: file.name,\n",
              "          data: base64,\n",
              "        },\n",
              "      };\n",
              "\n",
              "      let percentDone = fileData.byteLength === 0 ?\n",
              "          100 :\n",
              "          Math.round((position / fileData.byteLength) * 100);\n",
              "      percent.textContent = `${percentDone}% done`;\n",
              "\n",
              "    } while (position < fileData.byteLength);\n",
              "  }\n",
              "\n",
              "  // All done.\n",
              "  yield {\n",
              "    response: {\n",
              "      action: 'complete',\n",
              "    }\n",
              "  };\n",
              "}\n",
              "\n",
              "scope.google = scope.google || {};\n",
              "scope.google.colab = scope.google.colab || {};\n",
              "scope.google.colab._files = {\n",
              "  _uploadFiles,\n",
              "  _uploadFilesContinue,\n",
              "};\n",
              "})(self);\n",
              "</script> "
            ]
          },
          "metadata": {}
        },
        {
          "output_type": "stream",
          "name": "stdout",
          "text": [
            "Saving predicciones.csv to predicciones.csv\n",
            "Saving Dolar_petroleo.xlsx to Dolar_petroleo.xlsx\n",
            "Saving Ejemplo1.csv to Ejemplo1.csv\n"
          ]
        }
      ]
    },
    {
      "cell_type": "code",
      "source": [
        "ejemplo=pd.read_csv('Ejemplo1.csv')"
      ],
      "metadata": {
        "id": "4EGFF8uo6-Zc"
      },
      "execution_count": null,
      "outputs": []
    },
    {
      "cell_type": "code",
      "source": [
        "ejemplo.info()"
      ],
      "metadata": {
        "colab": {
          "base_uri": "https://localhost:8080/"
        },
        "id": "e0EovW_PESCB",
        "outputId": "8f0edaba-0dae-42ff-e786-e579efe0e85b"
      },
      "execution_count": null,
      "outputs": [
        {
          "output_type": "stream",
          "name": "stdout",
          "text": [
            "<class 'pandas.core.frame.DataFrame'>\n",
            "RangeIndex: 98 entries, 0 to 97\n",
            "Data columns (total 3 columns):\n",
            " #   Column           Non-Null Count  Dtype  \n",
            "---  ------           --------------  -----  \n",
            " 0   Unnamed: 0       98 non-null     int64  \n",
            " 1   Impuestos        98 non-null     float64\n",
            " 2   Precio de venta  98 non-null     float64\n",
            "dtypes: float64(2), int64(1)\n",
            "memory usage: 2.4 KB\n"
          ]
        }
      ]
    },
    {
      "cell_type": "code",
      "source": [
        "#variable regresora\n",
        "X=ejemplo['Impuestos']\n",
        "y=ejemplo['Precio de venta']"
      ],
      "metadata": {
        "id": "4KQV_GWqEWZB"
      },
      "execution_count": null,
      "outputs": []
    },
    {
      "cell_type": "code",
      "source": [
        "X=sm.add_constant(X)"
      ],
      "metadata": {
        "id": "BaLGK1WXEg8G"
      },
      "execution_count": null,
      "outputs": []
    },
    {
      "cell_type": "markdown",
      "source": [
        "1. Suponiendo que un modelo de regresión lineal es apropiado, obtener el ajuste de mínimos cuadrados que relacione el precio de venta con los impuestos.\n",
        "\n"
      ],
      "metadata": {
        "id": "Jvs_dXNk-ri4"
      }
    },
    {
      "cell_type": "code",
      "source": [
        "# Modelo de regresión lineal\n",
        "modelo2=sm.OLS(y,X).fit()\n",
        "modelo2.summary()"
      ],
      "metadata": {
        "colab": {
          "base_uri": "https://localhost:8080/",
          "height": 478
        },
        "id": "oj9xuyRXElqu",
        "outputId": "c521b299-1654-4b40-9624-a49af3112fc8"
      },
      "execution_count": null,
      "outputs": [
        {
          "output_type": "execute_result",
          "data": {
            "text/plain": [
              "<class 'statsmodels.iolib.summary.Summary'>\n",
              "\"\"\"\n",
              "                            OLS Regression Results                            \n",
              "==============================================================================\n",
              "Dep. Variable:        Precio de venta   R-squared:                       1.000\n",
              "Model:                            OLS   Adj. R-squared:                  1.000\n",
              "Method:                 Least Squares   F-statistic:                 1.616e+06\n",
              "Date:                Tue, 13 May 2025   Prob (F-statistic):          1.11e-204\n",
              "Time:                        23:55:15   Log-Likelihood:                -494.45\n",
              "No. Observations:                  98   AIC:                             992.9\n",
              "Df Residuals:                      96   BIC:                             998.1\n",
              "Df Model:                           1                                         \n",
              "Covariance Type:            nonrobust                                         \n",
              "==============================================================================\n",
              "                 coef    std err          t      P>|t|      [0.025      0.975]\n",
              "------------------------------------------------------------------------------\n",
              "const       1.354e+04     17.034    794.977      0.000    1.35e+04    1.36e+04\n",
              "Impuestos      3.3215      0.003   1271.396      0.000       3.316       3.327\n",
              "==============================================================================\n",
              "Omnibus:                        2.532   Durbin-Watson:                   2.219\n",
              "Prob(Omnibus):                  0.282   Jarque-Bera (JB):                1.995\n",
              "Skew:                           0.196   Prob(JB):                        0.369\n",
              "Kurtosis:                       3.579   Cond. No.                     2.90e+04\n",
              "==============================================================================\n",
              "\n",
              "Notes:\n",
              "[1] Standard Errors assume that the covariance matrix of the errors is correctly specified.\n",
              "[2] The condition number is large, 2.9e+04. This might indicate that there are\n",
              "strong multicollinearity or other numerical problems.\n",
              "\"\"\""
            ],
            "text/html": [
              "<table class=\"simpletable\">\n",
              "<caption>OLS Regression Results</caption>\n",
              "<tr>\n",
              "  <th>Dep. Variable:</th>     <td>Precio de venta</td> <th>  R-squared:         </th> <td>   1.000</td> \n",
              "</tr>\n",
              "<tr>\n",
              "  <th>Model:</th>                   <td>OLS</td>       <th>  Adj. R-squared:    </th> <td>   1.000</td> \n",
              "</tr>\n",
              "<tr>\n",
              "  <th>Method:</th>             <td>Least Squares</td>  <th>  F-statistic:       </th> <td>1.616e+06</td>\n",
              "</tr>\n",
              "<tr>\n",
              "  <th>Date:</th>             <td>Tue, 13 May 2025</td> <th>  Prob (F-statistic):</th> <td>1.11e-204</td>\n",
              "</tr>\n",
              "<tr>\n",
              "  <th>Time:</th>                 <td>23:55:15</td>     <th>  Log-Likelihood:    </th> <td> -494.45</td> \n",
              "</tr>\n",
              "<tr>\n",
              "  <th>No. Observations:</th>      <td>    98</td>      <th>  AIC:               </th> <td>   992.9</td> \n",
              "</tr>\n",
              "<tr>\n",
              "  <th>Df Residuals:</th>          <td>    96</td>      <th>  BIC:               </th> <td>   998.1</td> \n",
              "</tr>\n",
              "<tr>\n",
              "  <th>Df Model:</th>              <td>     1</td>      <th>                     </th>     <td> </td>    \n",
              "</tr>\n",
              "<tr>\n",
              "  <th>Covariance Type:</th>      <td>nonrobust</td>    <th>                     </th>     <td> </td>    \n",
              "</tr>\n",
              "</table>\n",
              "<table class=\"simpletable\">\n",
              "<tr>\n",
              "      <td></td>         <th>coef</th>     <th>std err</th>      <th>t</th>      <th>P>|t|</th>  <th>[0.025</th>    <th>0.975]</th>  \n",
              "</tr>\n",
              "<tr>\n",
              "  <th>const</th>     <td> 1.354e+04</td> <td>   17.034</td> <td>  794.977</td> <td> 0.000</td> <td> 1.35e+04</td> <td> 1.36e+04</td>\n",
              "</tr>\n",
              "<tr>\n",
              "  <th>Impuestos</th> <td>    3.3215</td> <td>    0.003</td> <td> 1271.396</td> <td> 0.000</td> <td>    3.316</td> <td>    3.327</td>\n",
              "</tr>\n",
              "</table>\n",
              "<table class=\"simpletable\">\n",
              "<tr>\n",
              "  <th>Omnibus:</th>       <td> 2.532</td> <th>  Durbin-Watson:     </th> <td>   2.219</td>\n",
              "</tr>\n",
              "<tr>\n",
              "  <th>Prob(Omnibus):</th> <td> 0.282</td> <th>  Jarque-Bera (JB):  </th> <td>   1.995</td>\n",
              "</tr>\n",
              "<tr>\n",
              "  <th>Skew:</th>          <td> 0.196</td> <th>  Prob(JB):          </th> <td>   0.369</td>\n",
              "</tr>\n",
              "<tr>\n",
              "  <th>Kurtosis:</th>      <td> 3.579</td> <th>  Cond. No.          </th> <td>2.90e+04</td>\n",
              "</tr>\n",
              "</table><br/><br/>Notes:<br/>[1] Standard Errors assume that the covariance matrix of the errors is correctly specified.<br/>[2] The condition number is large, 2.9e+04. This might indicate that there are<br/>strong multicollinearity or other numerical problems."
            ],
            "text/latex": "\\begin{center}\n\\begin{tabular}{lclc}\n\\toprule\n\\textbf{Dep. Variable:}    & Precio de venta  & \\textbf{  R-squared:         } &     1.000   \\\\\n\\textbf{Model:}            &       OLS        & \\textbf{  Adj. R-squared:    } &     1.000   \\\\\n\\textbf{Method:}           &  Least Squares   & \\textbf{  F-statistic:       } & 1.616e+06   \\\\\n\\textbf{Date:}             & Tue, 13 May 2025 & \\textbf{  Prob (F-statistic):} & 1.11e-204   \\\\\n\\textbf{Time:}             &     23:55:15     & \\textbf{  Log-Likelihood:    } &   -494.45   \\\\\n\\textbf{No. Observations:} &          98      & \\textbf{  AIC:               } &     992.9   \\\\\n\\textbf{Df Residuals:}     &          96      & \\textbf{  BIC:               } &     998.1   \\\\\n\\textbf{Df Model:}         &           1      & \\textbf{                     } &             \\\\\n\\textbf{Covariance Type:}  &    nonrobust     & \\textbf{                     } &             \\\\\n\\bottomrule\n\\end{tabular}\n\\begin{tabular}{lcccccc}\n                   & \\textbf{coef} & \\textbf{std err} & \\textbf{t} & \\textbf{P$> |$t$|$} & \\textbf{[0.025} & \\textbf{0.975]}  \\\\\n\\midrule\n\\textbf{const}     &    1.354e+04  &       17.034     &   794.977  &         0.000        &     1.35e+04    &     1.36e+04     \\\\\n\\textbf{Impuestos} &       3.3215  &        0.003     &  1271.396  &         0.000        &        3.316    &        3.327     \\\\\n\\bottomrule\n\\end{tabular}\n\\begin{tabular}{lclc}\n\\textbf{Omnibus:}       &  2.532 & \\textbf{  Durbin-Watson:     } &    2.219  \\\\\n\\textbf{Prob(Omnibus):} &  0.282 & \\textbf{  Jarque-Bera (JB):  } &    1.995  \\\\\n\\textbf{Skew:}          &  0.196 & \\textbf{  Prob(JB):          } &    0.369  \\\\\n\\textbf{Kurtosis:}      &  3.579 & \\textbf{  Cond. No.          } & 2.90e+04  \\\\\n\\bottomrule\n\\end{tabular}\n%\\caption{OLS Regression Results}\n\\end{center}\n\nNotes: \\newline\n [1] Standard Errors assume that the covariance matrix of the errors is correctly specified. \\newline\n [2] The condition number is large, 2.9e+04. This might indicate that there are \\newline\n strong multicollinearity or other numerical problems."
          },
          "metadata": {},
          "execution_count": 32
        }
      ]
    },
    {
      "cell_type": "code",
      "source": [
        "modelo2.params"
      ],
      "metadata": {
        "colab": {
          "base_uri": "https://localhost:8080/",
          "height": 147
        },
        "id": "q_9nLtG9E7yR",
        "outputId": "b42fe1eb-8ccc-4440-e8e4-a0460a6baafa"
      },
      "execution_count": null,
      "outputs": [
        {
          "output_type": "execute_result",
          "data": {
            "text/plain": [
              "const        13541.606754\n",
              "Impuestos        3.321464\n",
              "dtype: float64"
            ],
            "text/html": [
              "<div>\n",
              "<style scoped>\n",
              "    .dataframe tbody tr th:only-of-type {\n",
              "        vertical-align: middle;\n",
              "    }\n",
              "\n",
              "    .dataframe tbody tr th {\n",
              "        vertical-align: top;\n",
              "    }\n",
              "\n",
              "    .dataframe thead th {\n",
              "        text-align: right;\n",
              "    }\n",
              "</style>\n",
              "<table border=\"1\" class=\"dataframe\">\n",
              "  <thead>\n",
              "    <tr style=\"text-align: right;\">\n",
              "      <th></th>\n",
              "      <th>0</th>\n",
              "    </tr>\n",
              "  </thead>\n",
              "  <tbody>\n",
              "    <tr>\n",
              "      <th>const</th>\n",
              "      <td>13541.606754</td>\n",
              "    </tr>\n",
              "    <tr>\n",
              "      <th>Impuestos</th>\n",
              "      <td>3.321464</td>\n",
              "    </tr>\n",
              "  </tbody>\n",
              "</table>\n",
              "</div><br><label><b>dtype:</b> float64</label>"
            ]
          },
          "metadata": {},
          "execution_count": 33
        }
      ]
    },
    {
      "cell_type": "markdown",
      "source": [
        "Sol:\n",
        "\n",
        "**Precio de venta= 13541+ 3.321* Impuestos**\n",
        "\n",
        "(Estimaciones del precio de venta, dados los impuestos)"
      ],
      "metadata": {
        "id": "YfXYcGNrE2FN"
      }
    },
    {
      "cell_type": "markdown",
      "source": [
        "2. Determinar las predicciones del precio de venta de los inmuebles, cuando los impuestos son los que se informan en **predicciones.csv**"
      ],
      "metadata": {
        "id": "wpAzzn0HUkgz"
      }
    },
    {
      "cell_type": "code",
      "source": [
        "impuestos=pd.read_csv('predicciones.csv')"
      ],
      "metadata": {
        "id": "Gs2RVIecFSUp"
      },
      "execution_count": null,
      "outputs": []
    },
    {
      "cell_type": "code",
      "source": [
        "# Queremos determinar las predicciones del precio de venta\n",
        "impuesto=sm.add_constant(impuestos['0']) # Se debe agregar el término constante en cada observación para obtener las predicciones"
      ],
      "metadata": {
        "id": "w0i0MKXNFoU4"
      },
      "execution_count": null,
      "outputs": []
    },
    {
      "cell_type": "code",
      "source": [
        "# y= B_1 X"
      ],
      "metadata": {
        "id": "ZIEHZNt9Gnzn"
      },
      "execution_count": null,
      "outputs": []
    },
    {
      "cell_type": "code",
      "source": [
        "modelo2.predict(impuesto).round()\n",
        "# Predicciones del precio de venta del inmueble, dado los impuestos dados en el dataset 'predicciones.csv'"
      ],
      "metadata": {
        "colab": {
          "base_uri": "https://localhost:8080/",
          "height": 554
        },
        "id": "7uW14LjlF3VH",
        "outputId": "1ba28622-9ccf-45f7-d5c6-8e45dff2ddad"
      },
      "execution_count": null,
      "outputs": [
        {
          "output_type": "execute_result",
          "data": {
            "text/plain": [
              "0     48803.0\n",
              "1     37692.0\n",
              "2     38836.0\n",
              "3     51350.0\n",
              "4     42160.0\n",
              "5     66077.0\n",
              "6     53488.0\n",
              "7     21799.0\n",
              "8     64483.0\n",
              "9     29872.0\n",
              "10    39574.0\n",
              "11    44331.0\n",
              "12    28401.0\n",
              "13    49061.0\n",
              "14    29454.0\n",
              "dtype: float64"
            ],
            "text/html": [
              "<div>\n",
              "<style scoped>\n",
              "    .dataframe tbody tr th:only-of-type {\n",
              "        vertical-align: middle;\n",
              "    }\n",
              "\n",
              "    .dataframe tbody tr th {\n",
              "        vertical-align: top;\n",
              "    }\n",
              "\n",
              "    .dataframe thead th {\n",
              "        text-align: right;\n",
              "    }\n",
              "</style>\n",
              "<table border=\"1\" class=\"dataframe\">\n",
              "  <thead>\n",
              "    <tr style=\"text-align: right;\">\n",
              "      <th></th>\n",
              "      <th>0</th>\n",
              "    </tr>\n",
              "  </thead>\n",
              "  <tbody>\n",
              "    <tr>\n",
              "      <th>0</th>\n",
              "      <td>48803.0</td>\n",
              "    </tr>\n",
              "    <tr>\n",
              "      <th>1</th>\n",
              "      <td>37692.0</td>\n",
              "    </tr>\n",
              "    <tr>\n",
              "      <th>2</th>\n",
              "      <td>38836.0</td>\n",
              "    </tr>\n",
              "    <tr>\n",
              "      <th>3</th>\n",
              "      <td>51350.0</td>\n",
              "    </tr>\n",
              "    <tr>\n",
              "      <th>4</th>\n",
              "      <td>42160.0</td>\n",
              "    </tr>\n",
              "    <tr>\n",
              "      <th>5</th>\n",
              "      <td>66077.0</td>\n",
              "    </tr>\n",
              "    <tr>\n",
              "      <th>6</th>\n",
              "      <td>53488.0</td>\n",
              "    </tr>\n",
              "    <tr>\n",
              "      <th>7</th>\n",
              "      <td>21799.0</td>\n",
              "    </tr>\n",
              "    <tr>\n",
              "      <th>8</th>\n",
              "      <td>64483.0</td>\n",
              "    </tr>\n",
              "    <tr>\n",
              "      <th>9</th>\n",
              "      <td>29872.0</td>\n",
              "    </tr>\n",
              "    <tr>\n",
              "      <th>10</th>\n",
              "      <td>39574.0</td>\n",
              "    </tr>\n",
              "    <tr>\n",
              "      <th>11</th>\n",
              "      <td>44331.0</td>\n",
              "    </tr>\n",
              "    <tr>\n",
              "      <th>12</th>\n",
              "      <td>28401.0</td>\n",
              "    </tr>\n",
              "    <tr>\n",
              "      <th>13</th>\n",
              "      <td>49061.0</td>\n",
              "    </tr>\n",
              "    <tr>\n",
              "      <th>14</th>\n",
              "      <td>29454.0</td>\n",
              "    </tr>\n",
              "  </tbody>\n",
              "</table>\n",
              "</div><br><label><b>dtype:</b> float64</label>"
            ]
          },
          "metadata": {},
          "execution_count": 52
        }
      ]
    },
    {
      "cell_type": "markdown",
      "source": [
        "3. Determinar los términos residuales"
      ],
      "metadata": {
        "id": "h00YmfTI-ypZ"
      }
    },
    {
      "cell_type": "code",
      "source": [
        "# Residuales= Observaciones - predicciones\n",
        "residuales=modelo2.resid"
      ],
      "metadata": {
        "id": "rc_OM9FEHK3-"
      },
      "execution_count": null,
      "outputs": []
    },
    {
      "cell_type": "markdown",
      "source": [
        "## **Supuestos a tener en consideración** :\n",
        "\n",
        "1. Independencia de los términos residuales, es decir el término del error de una observación, no debe estar correlacionado con otra.\n",
        "\n",
        "$$\n",
        "corr(\\epsilon_i,\\epsilon_j)=0\n",
        "$$\n",
        "\n",
        "2. Homocedasticidad, equivalentemente $\\mathrm{var}(\\epsilon_i)=\\sigma^2$\n",
        "\n",
        "3. El número de datos, debe ser mayor que el número de parámetros por estimar .\n",
        "\n",
        "4. No existe un conjunto de números $\\lambda_1,\\mathrm{y}\\,\\lambda_2$, diferentes de 0, tales que\n",
        "$$\n",
        "\\lambda_1 x_1+ \\lambda_2 x_2=0\n",
        "$$\n",
        "(no existe correlación entre las variables regresoras). Es muy importante que las variables regresoras, no se relacionen entre sí\n",
        "\n",
        "5. $$\n",
        "\\epsilon_i\\sim N(0,\\sigma)\n",
        "$$\n",
        "\n"
      ],
      "metadata": {
        "id": "Jne5dQdK1dzd"
      }
    },
    {
      "cell_type": "markdown",
      "source": [
        "#1. Homocedastidad ($\\sigma^2$ constante)\n",
        "\n",
        "Uno de los supuestos clave de la regresión lineal es que los residuos $\\epsilon_i$ se distribuyen con la misma varianza en cada nivel de la variable regresora. Esta suposición se conoce como homocedasticidad .\n",
        "\n",
        "\n",
        "**Observación**\n",
        "\n",
        "Si un modelo de regresión lineal presenta Heterocedastidad, entonces:\n",
        "\n",
        "- Los intervalos de confianza para los coeficientes reales del modelo, no son exactos.\n",
        "\n",
        "- Las pruebas de hipótesis poco fiables (ya que los $p_{values}$ son incorrectos).\n",
        "\n",
        "- El modelo puede subestimar o sobrestimar la variabilidad de los coeficientes, lo que lleva a conclusiones incorrectas.\n",
        "\n"
      ],
      "metadata": {
        "id": "2KxnqaHz13Cv"
      }
    },
    {
      "cell_type": "markdown",
      "source": [
        "### Prueba de la heterocedasticidad de Breusch- Pagan\n",
        "\n",
        "La prueba de Breush- Pagan  evalúa la presencia de homocedastidad  en un modelo de regresión lineal.\n",
        "\n",
        "Las hipótesis de la prueba, son las siguientes:\n",
        "\n",
        "$$\n",
        "H_0: \\mathrm{Homocedastidad}\\qquad H_1:\\mathrm{Heterocedastidad}\n",
        "$$"
      ],
      "metadata": {
        "id": "hkH5TpA2SuGA"
      }
    },
    {
      "cell_type": "markdown",
      "source": [
        "\n",
        "\n",
        "Se considera el siguiente modelo de regresión lineal con 1 variables\n",
        "$$\n",
        "Y_i=\\beta_0+\\beta_1x_{1i}+\\epsilon_i\n",
        "$$\n",
        "(extendiéndose a $k$ variables)\n",
        "\n",
        "1.- Se estiman los residuos $\\hat{\\epsilon}_i$\n",
        "\n",
        "2.- Se realiza la regresión auxiliar, utilizando los residuos al cuadrado como valores de respuesta y se obtiene $R^2$.\n",
        "\n",
        "3.- Según $H_0$ (no hay heterocedastidad), puede demostrarse que el tamaño de la muestra $n$ multiplicado por $R^2$, sigue la distribución chí-cuadrada con $gl$ (grados de libertad) igual al número de las variables regresoras.\n",
        "\n",
        "4.- Si el valor chí-cuadrado obtenido, excede al valor chí cuadrado crítico (con el correspondiente $\\alpha$) la conclusión es que hay heterocedastidad. Si este no excede el valor chí cuadrado crítico, no hay heterocedastidad."
      ],
      "metadata": {
        "id": "vJPmqMSz4DsZ"
      }
    },
    {
      "cell_type": "markdown",
      "source": [
        "**Ejemplo:**\n",
        "\n",
        "Estudiar la heterocedastidad del problema antes planteado (La temperatura a lo largo del día)"
      ],
      "metadata": {
        "id": "xN9A6qla19NB"
      }
    },
    {
      "cell_type": "code",
      "source": [
        "from statsmodels.stats.diagnostic import het_breuschpagan"
      ],
      "metadata": {
        "id": "OCE3wQFH61hX"
      },
      "execution_count": null,
      "outputs": []
    },
    {
      "cell_type": "code",
      "source": [
        "# Terminos residuales\n",
        "residuos=df['Temperatura (°C)']-modelo.predict()"
      ],
      "metadata": {
        "id": "huf129pOIjWD"
      },
      "execution_count": null,
      "outputs": []
    },
    {
      "cell_type": "code",
      "source": [
        "# Prueba de B-P\n",
        "stat,p_value,F_value,F_pvalue=het_breuschpagan(residuos,modelo.model.exog)\n",
        "# 1. Estadistico BP\n",
        "# p_valor\n",
        "# F value\n",
        "# F_pvalue"
      ],
      "metadata": {
        "id": "Gbnqc6nAI3sK"
      },
      "execution_count": null,
      "outputs": []
    },
    {
      "cell_type": "code",
      "source": [
        "significancia=0.05\n",
        "if p_value>=significancia:\n",
        "  print('Se acepta H_0: Hay homocedastidad en los términos residuales')\n",
        "else:\n",
        "  print('Se rechaza H_0: Hay heterocedastidad en los términos residuales')"
      ],
      "metadata": {
        "colab": {
          "base_uri": "https://localhost:8080/"
        },
        "id": "Uc01aPOxJYFr",
        "outputId": "f17371ab-a670-4627-b8b7-01b758d070f8"
      },
      "execution_count": null,
      "outputs": [
        {
          "output_type": "stream",
          "name": "stdout",
          "text": [
            "Se acepta H_0: Hay homocedastidad en los términos residuales\n"
          ]
        }
      ]
    },
    {
      "cell_type": "markdown",
      "source": [
        "#2. Autocorrelación\n",
        "\n",
        "Uno de los supuestos del modelo de regresión lineal, es que no existe correlación entre los residuales. Es decir, estos términos se asumen como independientes\n",
        "\n",
        "\n",
        "En este contexto, el modelo clásico de regresión lineal supone\n",
        "que no existe tal autocorrelación en los residuales $\\epsilon_i$.\n",
        "Es decir\n",
        "$$\n",
        "corr(\\epsilon_i,\\epsilon_j)=0\n",
        "$$\n",
        "\n",
        "\n"
      ],
      "metadata": {
        "id": "SFL_tKSV18VN"
      }
    },
    {
      "cell_type": "markdown",
      "source": [
        "## Detección de autocorrelación:\n",
        "\n",
        "### **Prueba $d$ de Durbin Watson**\n",
        "\n",
        "\n",
        "\n",
        "Una forma de determinar si existe correlación  entre los términos residuales, es utilizando la prueba de Durbin Watson. Se le conoce como estadístico $d$ de\n",
        "Durbin-Watson, que se define como:\n",
        "$$\n",
        "d=\\frac{\\sum _{t=2}^n(\\hat{\\epsilon}_t-\\hat{\\epsilon}_{t-1})^2}{\\sum _{t=1}^n \\hat{\\epsilon}_t^2 }\n",
        "$$\n",
        "\n",
        "\n",
        "Observe que, en el numerador del estadístico $d$, el número de observaciones es $n-1$\n",
        "porque se pierde una observación al obtener las diferencias consecutivas."
      ],
      "metadata": {
        "id": "KHSsQxKB2_zP"
      }
    },
    {
      "cell_type": "markdown",
      "source": [
        "La prueba de Durbin-Watson, considera las siguientes hipotésis:\n",
        "\n",
        "\\begin{align*}\n",
        "H_0:\\mathrm{no\\,\\,existe\\,\\,correlación\\,\\,entre\\,\\,los\\,\\,términos\\,\\,residuales}\\\\\n",
        "H_1:\\mathrm{existe\\,\\,correlación\\,\\,entre\\,\\,los\\,\\,términos\\,\\,residuales}\n",
        "\\end{align*}\n",
        "\n",
        "Como el valor del estadístico $d$ es aproximadamente $2(1-r)$, donde\n",
        "$$\n",
        "r=\\frac{\\sum\\hat{\\epsilon}_t\\hat{\\epsilon}_{t-1}}{\\sum\\hat{\\epsilon}_t^2},\\quad -1\\leq r\\leq 1\n",
        "$$\n",
        "corresponde a la autocorrelación muestral de los residuos.\n",
        "\n",
        "Entonces,como $0\\leq d \\leq 4$, se tiene la siguiente interpretación de este:\n",
        "\n",
        "1. Si $d=2$, entonces no existe un problema correlación entre los residuales\n",
        "2. Si $d\\to 0$, mayor será la evidencia de una correlación lineal positiva\n",
        "3. Si $d\\to 4$, mayor será la evidencia de una correlación lineal negativa\n",
        "\n",
        "**Observación:**\n",
        "\n",
        "Si $1.5\\leq d\\leq 2.5$ los valores del estadístico son considerados normales, por otro lado si $d$ está fuera de ese rango, podría indicar que existen problemas de correlación"
      ],
      "metadata": {
        "id": "tsgYg2Q23K9K"
      }
    },
    {
      "cell_type": "code",
      "source": [
        "from statsmodels.stats.stattools import durbin_watson"
      ],
      "metadata": {
        "id": "C_oOr4C352Kg"
      },
      "execution_count": null,
      "outputs": []
    },
    {
      "cell_type": "code",
      "source": [
        "modelo.summary()"
      ],
      "metadata": {
        "colab": {
          "base_uri": "https://localhost:8080/",
          "height": 444
        },
        "id": "l0dh2u9RKcqr",
        "outputId": "60c6df77-22df-40f9-b5ca-d5f2c5967bdc"
      },
      "execution_count": null,
      "outputs": [
        {
          "output_type": "execute_result",
          "data": {
            "text/plain": [
              "<class 'statsmodels.iolib.summary.Summary'>\n",
              "\"\"\"\n",
              "                            OLS Regression Results                            \n",
              "==============================================================================\n",
              "Dep. Variable:       Temperatura (°C)   R-squared:                       0.899\n",
              "Model:                            OLS   Adj. R-squared:                  0.897\n",
              "Method:                 Least Squares   F-statistic:                     428.9\n",
              "Date:                Wed, 14 May 2025   Prob (F-statistic):           1.41e-25\n",
              "Time:                        00:20:21   Log-Likelihood:                -86.415\n",
              "No. Observations:                  50   AIC:                             176.8\n",
              "Df Residuals:                      48   BIC:                             180.7\n",
              "Df Model:                           1                                         \n",
              "Covariance Type:            nonrobust                                         \n",
              "================================================================================\n",
              "                   coef    std err          t      P>|t|      [0.025      0.975]\n",
              "--------------------------------------------------------------------------------\n",
              "const           20.0967      0.388     51.861      0.000      19.318      20.876\n",
              "Tiempo (min)     0.2822      0.014     20.711      0.000       0.255       0.310\n",
              "==============================================================================\n",
              "Omnibus:                        0.453   Durbin-Watson:                   1.942\n",
              "Prob(Omnibus):                  0.798   Jarque-Bera (JB):                0.608\n",
              "Skew:                           0.156   Prob(JB):                        0.738\n",
              "Kurtosis:                       2.559   Cond. No.                         56.1\n",
              "==============================================================================\n",
              "\n",
              "Notes:\n",
              "[1] Standard Errors assume that the covariance matrix of the errors is correctly specified.\n",
              "\"\"\""
            ],
            "text/html": [
              "<table class=\"simpletable\">\n",
              "<caption>OLS Regression Results</caption>\n",
              "<tr>\n",
              "  <th>Dep. Variable:</th>    <td>Temperatura (°C)</td> <th>  R-squared:         </th> <td>   0.899</td>\n",
              "</tr>\n",
              "<tr>\n",
              "  <th>Model:</th>                   <td>OLS</td>       <th>  Adj. R-squared:    </th> <td>   0.897</td>\n",
              "</tr>\n",
              "<tr>\n",
              "  <th>Method:</th>             <td>Least Squares</td>  <th>  F-statistic:       </th> <td>   428.9</td>\n",
              "</tr>\n",
              "<tr>\n",
              "  <th>Date:</th>             <td>Wed, 14 May 2025</td> <th>  Prob (F-statistic):</th> <td>1.41e-25</td>\n",
              "</tr>\n",
              "<tr>\n",
              "  <th>Time:</th>                 <td>00:20:21</td>     <th>  Log-Likelihood:    </th> <td> -86.415</td>\n",
              "</tr>\n",
              "<tr>\n",
              "  <th>No. Observations:</th>      <td>    50</td>      <th>  AIC:               </th> <td>   176.8</td>\n",
              "</tr>\n",
              "<tr>\n",
              "  <th>Df Residuals:</th>          <td>    48</td>      <th>  BIC:               </th> <td>   180.7</td>\n",
              "</tr>\n",
              "<tr>\n",
              "  <th>Df Model:</th>              <td>     1</td>      <th>                     </th>     <td> </td>   \n",
              "</tr>\n",
              "<tr>\n",
              "  <th>Covariance Type:</th>      <td>nonrobust</td>    <th>                     </th>     <td> </td>   \n",
              "</tr>\n",
              "</table>\n",
              "<table class=\"simpletable\">\n",
              "<tr>\n",
              "        <td></td>          <th>coef</th>     <th>std err</th>      <th>t</th>      <th>P>|t|</th>  <th>[0.025</th>    <th>0.975]</th>  \n",
              "</tr>\n",
              "<tr>\n",
              "  <th>const</th>        <td>   20.0967</td> <td>    0.388</td> <td>   51.861</td> <td> 0.000</td> <td>   19.318</td> <td>   20.876</td>\n",
              "</tr>\n",
              "<tr>\n",
              "  <th>Tiempo (min)</th> <td>    0.2822</td> <td>    0.014</td> <td>   20.711</td> <td> 0.000</td> <td>    0.255</td> <td>    0.310</td>\n",
              "</tr>\n",
              "</table>\n",
              "<table class=\"simpletable\">\n",
              "<tr>\n",
              "  <th>Omnibus:</th>       <td> 0.453</td> <th>  Durbin-Watson:     </th> <td>   1.942</td>\n",
              "</tr>\n",
              "<tr>\n",
              "  <th>Prob(Omnibus):</th> <td> 0.798</td> <th>  Jarque-Bera (JB):  </th> <td>   0.608</td>\n",
              "</tr>\n",
              "<tr>\n",
              "  <th>Skew:</th>          <td> 0.156</td> <th>  Prob(JB):          </th> <td>   0.738</td>\n",
              "</tr>\n",
              "<tr>\n",
              "  <th>Kurtosis:</th>      <td> 2.559</td> <th>  Cond. No.          </th> <td>    56.1</td>\n",
              "</tr>\n",
              "</table><br/><br/>Notes:<br/>[1] Standard Errors assume that the covariance matrix of the errors is correctly specified."
            ],
            "text/latex": "\\begin{center}\n\\begin{tabular}{lclc}\n\\toprule\n\\textbf{Dep. Variable:}    & Temperatura (°C) & \\textbf{  R-squared:         } &     0.899   \\\\\n\\textbf{Model:}            &       OLS        & \\textbf{  Adj. R-squared:    } &     0.897   \\\\\n\\textbf{Method:}           &  Least Squares   & \\textbf{  F-statistic:       } &     428.9   \\\\\n\\textbf{Date:}             & Wed, 14 May 2025 & \\textbf{  Prob (F-statistic):} &  1.41e-25   \\\\\n\\textbf{Time:}             &     00:20:21     & \\textbf{  Log-Likelihood:    } &   -86.415   \\\\\n\\textbf{No. Observations:} &          50      & \\textbf{  AIC:               } &     176.8   \\\\\n\\textbf{Df Residuals:}     &          48      & \\textbf{  BIC:               } &     180.7   \\\\\n\\textbf{Df Model:}         &           1      & \\textbf{                     } &             \\\\\n\\textbf{Covariance Type:}  &    nonrobust     & \\textbf{                     } &             \\\\\n\\bottomrule\n\\end{tabular}\n\\begin{tabular}{lcccccc}\n                      & \\textbf{coef} & \\textbf{std err} & \\textbf{t} & \\textbf{P$> |$t$|$} & \\textbf{[0.025} & \\textbf{0.975]}  \\\\\n\\midrule\n\\textbf{const}        &      20.0967  &        0.388     &    51.861  &         0.000        &       19.318    &       20.876     \\\\\n\\textbf{Tiempo (min)} &       0.2822  &        0.014     &    20.711  &         0.000        &        0.255    &        0.310     \\\\\n\\bottomrule\n\\end{tabular}\n\\begin{tabular}{lclc}\n\\textbf{Omnibus:}       &  0.453 & \\textbf{  Durbin-Watson:     } &    1.942  \\\\\n\\textbf{Prob(Omnibus):} &  0.798 & \\textbf{  Jarque-Bera (JB):  } &    0.608  \\\\\n\\textbf{Skew:}          &  0.156 & \\textbf{  Prob(JB):          } &    0.738  \\\\\n\\textbf{Kurtosis:}      &  2.559 & \\textbf{  Cond. No.          } &     56.1  \\\\\n\\bottomrule\n\\end{tabular}\n%\\caption{OLS Regression Results}\n\\end{center}\n\nNotes: \\newline\n [1] Standard Errors assume that the covariance matrix of the errors is correctly specified."
          },
          "metadata": {},
          "execution_count": 66
        }
      ]
    },
    {
      "cell_type": "markdown",
      "source": [
        "**Ejemplo:**\n",
        "\n",
        "Exploraremos la relación entre el tipo de cambio del dólar y los precios de\n",
        "distintos combustibles en Chile. Para ello, utilizaremos un modelo de regresión lineal simple, que nos permitirá predecir el precio de un combustible basado en el valor del dólar (base de datos Dolar_ Petroleo.xlsx)"
      ],
      "metadata": {
        "id": "BMQgNwebxEHc"
      }
    },
    {
      "cell_type": "code",
      "source": [
        "dolar=pd.read_excel('Dolar_petroleo.xlsx')\n",
        "dolar=dolar.dropna() # No deben haber entradas nulas, para realizar el ajuste de mínimos cuadrados\n",
        "dolar.info()"
      ],
      "metadata": {
        "colab": {
          "base_uri": "https://localhost:8080/"
        },
        "id": "rqTChLoVK24H",
        "outputId": "a172cf47-8c6d-4f26-8b21-12b9ccb90f1f"
      },
      "execution_count": null,
      "outputs": [
        {
          "output_type": "stream",
          "name": "stdout",
          "text": [
            "<class 'pandas.core.frame.DataFrame'>\n",
            "Index: 247 entries, 0 to 253\n",
            "Data columns (total 8 columns):\n",
            " #   Column       Non-Null Count  Dtype         \n",
            "---  ------       --------------  -----         \n",
            " 0   Fecha        247 non-null    datetime64[ns]\n",
            " 1   Dólar        247 non-null    float64       \n",
            " 2   Gasolina 93  247 non-null    float64       \n",
            " 3   Gasolina 97  247 non-null    float64       \n",
            " 4   Kerosene     247 non-null    float64       \n",
            " 5   Diesel       247 non-null    float64       \n",
            " 6   GLP          247 non-null    float64       \n",
            " 7   Fuel Oil     247 non-null    float64       \n",
            "dtypes: datetime64[ns](1), float64(7)\n",
            "memory usage: 17.4 KB\n"
          ]
        }
      ]
    },
    {
      "cell_type": "markdown",
      "source": [
        "1. Use un modelo de regresión lineal simple para predecir el precio de la Gasolina 93 basado en el precio del dólar ¿Cuál es la ecuación del modelo?"
      ],
      "metadata": {
        "id": "jAjxwP8u3rex"
      }
    },
    {
      "cell_type": "markdown",
      "source": [
        "**Sol**\n",
        "\n",
        "Precio de la Gasolina 93 = Variable regresada $y$\n",
        "\n",
        "Precio del dolar= variable regresora $x$"
      ],
      "metadata": {
        "id": "w9C1plBgqIrN"
      }
    },
    {
      "cell_type": "code",
      "source": [
        "y=dolar['Gasolina 93']\n",
        "X=dolar['Dólar']"
      ],
      "metadata": {
        "id": "RnZrt5B7LmMR"
      },
      "execution_count": null,
      "outputs": []
    },
    {
      "cell_type": "code",
      "source": [
        "X=sm.add_constant(X)"
      ],
      "metadata": {
        "id": "k0UUHjsqLxLR"
      },
      "execution_count": null,
      "outputs": []
    },
    {
      "cell_type": "code",
      "source": [
        "modelo3=sm.OLS(y,X).fit()\n",
        "modelo3.summary()"
      ],
      "metadata": {
        "colab": {
          "base_uri": "https://localhost:8080/",
          "height": 478
        },
        "id": "AqlMqG-8L0hA",
        "outputId": "25e5417e-421f-43a9-cb71-28c94be2aab6"
      },
      "execution_count": null,
      "outputs": [
        {
          "output_type": "execute_result",
          "data": {
            "text/plain": [
              "<class 'statsmodels.iolib.summary.Summary'>\n",
              "\"\"\"\n",
              "                            OLS Regression Results                            \n",
              "==============================================================================\n",
              "Dep. Variable:            Gasolina 93   R-squared:                       0.107\n",
              "Model:                            OLS   Adj. R-squared:                  0.103\n",
              "Method:                 Least Squares   F-statistic:                     29.37\n",
              "Date:                Wed, 14 May 2025   Prob (F-statistic):           1.43e-07\n",
              "Time:                        00:26:58   Log-Likelihood:                -1621.7\n",
              "No. Observations:                 247   AIC:                             3247.\n",
              "Df Residuals:                     245   BIC:                             3254.\n",
              "Df Model:                           1                                         \n",
              "Covariance Type:            nonrobust                                         \n",
              "==============================================================================\n",
              "                 coef    std err          t      P>|t|      [0.025      0.975]\n",
              "------------------------------------------------------------------------------\n",
              "const         30.9986     99.451      0.312      0.756    -164.889     226.886\n",
              "Dólar          0.7279      0.134      5.419      0.000       0.463       0.992\n",
              "==============================================================================\n",
              "Omnibus:                       10.853   Durbin-Watson:                   0.019\n",
              "Prob(Omnibus):                  0.004   Jarque-Bera (JB):               20.890\n",
              "Skew:                           0.156   Prob(JB):                     2.91e-05\n",
              "Kurtosis:                       4.390   Cond. No.                     6.71e+03\n",
              "==============================================================================\n",
              "\n",
              "Notes:\n",
              "[1] Standard Errors assume that the covariance matrix of the errors is correctly specified.\n",
              "[2] The condition number is large, 6.71e+03. This might indicate that there are\n",
              "strong multicollinearity or other numerical problems.\n",
              "\"\"\""
            ],
            "text/html": [
              "<table class=\"simpletable\">\n",
              "<caption>OLS Regression Results</caption>\n",
              "<tr>\n",
              "  <th>Dep. Variable:</th>       <td>Gasolina 93</td>   <th>  R-squared:         </th> <td>   0.107</td>\n",
              "</tr>\n",
              "<tr>\n",
              "  <th>Model:</th>                   <td>OLS</td>       <th>  Adj. R-squared:    </th> <td>   0.103</td>\n",
              "</tr>\n",
              "<tr>\n",
              "  <th>Method:</th>             <td>Least Squares</td>  <th>  F-statistic:       </th> <td>   29.37</td>\n",
              "</tr>\n",
              "<tr>\n",
              "  <th>Date:</th>             <td>Wed, 14 May 2025</td> <th>  Prob (F-statistic):</th> <td>1.43e-07</td>\n",
              "</tr>\n",
              "<tr>\n",
              "  <th>Time:</th>                 <td>00:26:58</td>     <th>  Log-Likelihood:    </th> <td> -1621.7</td>\n",
              "</tr>\n",
              "<tr>\n",
              "  <th>No. Observations:</th>      <td>   247</td>      <th>  AIC:               </th> <td>   3247.</td>\n",
              "</tr>\n",
              "<tr>\n",
              "  <th>Df Residuals:</th>          <td>   245</td>      <th>  BIC:               </th> <td>   3254.</td>\n",
              "</tr>\n",
              "<tr>\n",
              "  <th>Df Model:</th>              <td>     1</td>      <th>                     </th>     <td> </td>   \n",
              "</tr>\n",
              "<tr>\n",
              "  <th>Covariance Type:</th>      <td>nonrobust</td>    <th>                     </th>     <td> </td>   \n",
              "</tr>\n",
              "</table>\n",
              "<table class=\"simpletable\">\n",
              "<tr>\n",
              "    <td></td>       <th>coef</th>     <th>std err</th>      <th>t</th>      <th>P>|t|</th>  <th>[0.025</th>    <th>0.975]</th>  \n",
              "</tr>\n",
              "<tr>\n",
              "  <th>const</th> <td>   30.9986</td> <td>   99.451</td> <td>    0.312</td> <td> 0.756</td> <td> -164.889</td> <td>  226.886</td>\n",
              "</tr>\n",
              "<tr>\n",
              "  <th>Dólar</th> <td>    0.7279</td> <td>    0.134</td> <td>    5.419</td> <td> 0.000</td> <td>    0.463</td> <td>    0.992</td>\n",
              "</tr>\n",
              "</table>\n",
              "<table class=\"simpletable\">\n",
              "<tr>\n",
              "  <th>Omnibus:</th>       <td>10.853</td> <th>  Durbin-Watson:     </th> <td>   0.019</td>\n",
              "</tr>\n",
              "<tr>\n",
              "  <th>Prob(Omnibus):</th> <td> 0.004</td> <th>  Jarque-Bera (JB):  </th> <td>  20.890</td>\n",
              "</tr>\n",
              "<tr>\n",
              "  <th>Skew:</th>          <td> 0.156</td> <th>  Prob(JB):          </th> <td>2.91e-05</td>\n",
              "</tr>\n",
              "<tr>\n",
              "  <th>Kurtosis:</th>      <td> 4.390</td> <th>  Cond. No.          </th> <td>6.71e+03</td>\n",
              "</tr>\n",
              "</table><br/><br/>Notes:<br/>[1] Standard Errors assume that the covariance matrix of the errors is correctly specified.<br/>[2] The condition number is large, 6.71e+03. This might indicate that there are<br/>strong multicollinearity or other numerical problems."
            ],
            "text/latex": "\\begin{center}\n\\begin{tabular}{lclc}\n\\toprule\n\\textbf{Dep. Variable:}    &   Gasolina 93    & \\textbf{  R-squared:         } &     0.107   \\\\\n\\textbf{Model:}            &       OLS        & \\textbf{  Adj. R-squared:    } &     0.103   \\\\\n\\textbf{Method:}           &  Least Squares   & \\textbf{  F-statistic:       } &     29.37   \\\\\n\\textbf{Date:}             & Wed, 14 May 2025 & \\textbf{  Prob (F-statistic):} &  1.43e-07   \\\\\n\\textbf{Time:}             &     00:26:58     & \\textbf{  Log-Likelihood:    } &   -1621.7   \\\\\n\\textbf{No. Observations:} &         247      & \\textbf{  AIC:               } &     3247.   \\\\\n\\textbf{Df Residuals:}     &         245      & \\textbf{  BIC:               } &     3254.   \\\\\n\\textbf{Df Model:}         &           1      & \\textbf{                     } &             \\\\\n\\textbf{Covariance Type:}  &    nonrobust     & \\textbf{                     } &             \\\\\n\\bottomrule\n\\end{tabular}\n\\begin{tabular}{lcccccc}\n               & \\textbf{coef} & \\textbf{std err} & \\textbf{t} & \\textbf{P$> |$t$|$} & \\textbf{[0.025} & \\textbf{0.975]}  \\\\\n\\midrule\n\\textbf{const} &      30.9986  &       99.451     &     0.312  &         0.756        &     -164.889    &      226.886     \\\\\n\\textbf{Dólar} &       0.7279  &        0.134     &     5.419  &         0.000        &        0.463    &        0.992     \\\\\n\\bottomrule\n\\end{tabular}\n\\begin{tabular}{lclc}\n\\textbf{Omnibus:}       & 10.853 & \\textbf{  Durbin-Watson:     } &    0.019  \\\\\n\\textbf{Prob(Omnibus):} &  0.004 & \\textbf{  Jarque-Bera (JB):  } &   20.890  \\\\\n\\textbf{Skew:}          &  0.156 & \\textbf{  Prob(JB):          } & 2.91e-05  \\\\\n\\textbf{Kurtosis:}      &  4.390 & \\textbf{  Cond. No.          } & 6.71e+03  \\\\\n\\bottomrule\n\\end{tabular}\n%\\caption{OLS Regression Results}\n\\end{center}\n\nNotes: \\newline\n [1] Standard Errors assume that the covariance matrix of the errors is correctly specified. \\newline\n [2] The condition number is large, 6.71e+03. This might indicate that there are \\newline\n strong multicollinearity or other numerical problems."
          },
          "metadata": {},
          "execution_count": 82
        }
      ]
    },
    {
      "cell_type": "markdown",
      "source": [
        "2. Corroborar si se cumplen los supuestos necesarios para que el modelo de regresión lineal esté bien definido."
      ],
      "metadata": {
        "id": "E0FnMzkl4C-J"
      }
    },
    {
      "cell_type": "code",
      "source": [
        "residuales=modelo3.resid"
      ],
      "metadata": {
        "id": "k6lK9rz2Patr"
      },
      "execution_count": null,
      "outputs": []
    },
    {
      "cell_type": "markdown",
      "source": [
        " ### **1. Normalidad de los residuos**\n",
        "\n",
        " $$\n",
        "H_0: \\mathrm{Normalidad\\, Datos}\\qquad H_1: \\mathrm{No\\,Normalidad\\, Datos}\n",
        " $$"
      ],
      "metadata": {
        "id": "PZa-JlyNsiC6"
      }
    },
    {
      "cell_type": "code",
      "source": [
        " #Prueba de Kolmogorov\n",
        " # parámetros muestrales: Residuales\n",
        "media,std=residuales.mean(),residuales.std()\n"
      ],
      "metadata": {
        "id": "Szct3xlyMbAX"
      },
      "execution_count": null,
      "outputs": []
    },
    {
      "cell_type": "code",
      "source": [
        "# Estándarizar\n",
        "Z=(residuales-media)/std"
      ],
      "metadata": {
        "id": "pM6rDnrlQXra"
      },
      "execution_count": null,
      "outputs": []
    },
    {
      "cell_type": "code",
      "source": [
        "#K-S test\n",
        "stat,p_value=ss.kstest(Z,'norm')"
      ],
      "metadata": {
        "id": "AT3v6MtyQgsN"
      },
      "execution_count": null,
      "outputs": []
    },
    {
      "cell_type": "code",
      "source": [
        "# PRueba de hipótesis\n",
        "if p_value>=significancia:\n",
        "  print('Los residuos se distribuyen normal')\n",
        "else:\n",
        "  print('Los residuos no se distribuyen normal')"
      ],
      "metadata": {
        "colab": {
          "base_uri": "https://localhost:8080/"
        },
        "id": "-z5fntcvQusP",
        "outputId": "70deb287-b8bb-4b7a-b82b-fb69e12c3cf1"
      },
      "execution_count": null,
      "outputs": [
        {
          "output_type": "stream",
          "name": "stdout",
          "text": [
            "Los residuos no se distribuyen normal\n"
          ]
        }
      ]
    },
    {
      "cell_type": "markdown",
      "source": [
        "### 2. **Homocedastidad**\n",
        "\n",
        "$$\n",
        "H_0: \\mathrm{Homocedastidad}\\qquad H_1:\\mathrm{Heterocedastidad}\n",
        "$$"
      ],
      "metadata": {
        "id": "qrKEOjuxuitw"
      }
    },
    {
      "cell_type": "code",
      "source": [
        "estadistico,p_valor,F_valor,p_valueF=het_breuschpagan(residuales,modelo3.model.exog)"
      ],
      "metadata": {
        "id": "7Buug-iURS5r"
      },
      "execution_count": null,
      "outputs": []
    },
    {
      "cell_type": "code",
      "source": [
        "if p_valor>=significancia:\n",
        "  print('Hay homocedastidad en los términos residuales')\n",
        "else:\n",
        "  print('No hay homocedastidad en los términos residuales')"
      ],
      "metadata": {
        "colab": {
          "base_uri": "https://localhost:8080/"
        },
        "id": "6KgzHJF3Rmab",
        "outputId": "45745eb3-10d4-4e11-bcdb-c3e18387f068"
      },
      "execution_count": null,
      "outputs": [
        {
          "output_type": "stream",
          "name": "stdout",
          "text": [
            "No hay homocedastidad en los términos residuales\n"
          ]
        }
      ]
    },
    {
      "cell_type": "markdown",
      "source": [
        "### 3. **Autocorrelación**\n"
      ],
      "metadata": {
        "id": "SNhqIx3_vxpI"
      }
    },
    {
      "cell_type": "code",
      "source": [
        "modelo3.summary()"
      ],
      "metadata": {
        "colab": {
          "base_uri": "https://localhost:8080/",
          "height": 478
        },
        "id": "9bm5qOTMR5h9",
        "outputId": "8a5c6712-0c57-44d5-c544-bee0a110b897"
      },
      "execution_count": null,
      "outputs": [
        {
          "output_type": "execute_result",
          "data": {
            "text/plain": [
              "<class 'statsmodels.iolib.summary.Summary'>\n",
              "\"\"\"\n",
              "                            OLS Regression Results                            \n",
              "==============================================================================\n",
              "Dep. Variable:            Gasolina 93   R-squared:                       0.107\n",
              "Model:                            OLS   Adj. R-squared:                  0.103\n",
              "Method:                 Least Squares   F-statistic:                     29.37\n",
              "Date:                Wed, 14 May 2025   Prob (F-statistic):           1.43e-07\n",
              "Time:                        00:52:55   Log-Likelihood:                -1621.7\n",
              "No. Observations:                 247   AIC:                             3247.\n",
              "Df Residuals:                     245   BIC:                             3254.\n",
              "Df Model:                           1                                         \n",
              "Covariance Type:            nonrobust                                         \n",
              "==============================================================================\n",
              "                 coef    std err          t      P>|t|      [0.025      0.975]\n",
              "------------------------------------------------------------------------------\n",
              "const         30.9986     99.451      0.312      0.756    -164.889     226.886\n",
              "Dólar          0.7279      0.134      5.419      0.000       0.463       0.992\n",
              "==============================================================================\n",
              "Omnibus:                       10.853   Durbin-Watson:                   0.019\n",
              "Prob(Omnibus):                  0.004   Jarque-Bera (JB):               20.890\n",
              "Skew:                           0.156   Prob(JB):                     2.91e-05\n",
              "Kurtosis:                       4.390   Cond. No.                     6.71e+03\n",
              "==============================================================================\n",
              "\n",
              "Notes:\n",
              "[1] Standard Errors assume that the covariance matrix of the errors is correctly specified.\n",
              "[2] The condition number is large, 6.71e+03. This might indicate that there are\n",
              "strong multicollinearity or other numerical problems.\n",
              "\"\"\""
            ],
            "text/html": [
              "<table class=\"simpletable\">\n",
              "<caption>OLS Regression Results</caption>\n",
              "<tr>\n",
              "  <th>Dep. Variable:</th>       <td>Gasolina 93</td>   <th>  R-squared:         </th> <td>   0.107</td>\n",
              "</tr>\n",
              "<tr>\n",
              "  <th>Model:</th>                   <td>OLS</td>       <th>  Adj. R-squared:    </th> <td>   0.103</td>\n",
              "</tr>\n",
              "<tr>\n",
              "  <th>Method:</th>             <td>Least Squares</td>  <th>  F-statistic:       </th> <td>   29.37</td>\n",
              "</tr>\n",
              "<tr>\n",
              "  <th>Date:</th>             <td>Wed, 14 May 2025</td> <th>  Prob (F-statistic):</th> <td>1.43e-07</td>\n",
              "</tr>\n",
              "<tr>\n",
              "  <th>Time:</th>                 <td>00:52:55</td>     <th>  Log-Likelihood:    </th> <td> -1621.7</td>\n",
              "</tr>\n",
              "<tr>\n",
              "  <th>No. Observations:</th>      <td>   247</td>      <th>  AIC:               </th> <td>   3247.</td>\n",
              "</tr>\n",
              "<tr>\n",
              "  <th>Df Residuals:</th>          <td>   245</td>      <th>  BIC:               </th> <td>   3254.</td>\n",
              "</tr>\n",
              "<tr>\n",
              "  <th>Df Model:</th>              <td>     1</td>      <th>                     </th>     <td> </td>   \n",
              "</tr>\n",
              "<tr>\n",
              "  <th>Covariance Type:</th>      <td>nonrobust</td>    <th>                     </th>     <td> </td>   \n",
              "</tr>\n",
              "</table>\n",
              "<table class=\"simpletable\">\n",
              "<tr>\n",
              "    <td></td>       <th>coef</th>     <th>std err</th>      <th>t</th>      <th>P>|t|</th>  <th>[0.025</th>    <th>0.975]</th>  \n",
              "</tr>\n",
              "<tr>\n",
              "  <th>const</th> <td>   30.9986</td> <td>   99.451</td> <td>    0.312</td> <td> 0.756</td> <td> -164.889</td> <td>  226.886</td>\n",
              "</tr>\n",
              "<tr>\n",
              "  <th>Dólar</th> <td>    0.7279</td> <td>    0.134</td> <td>    5.419</td> <td> 0.000</td> <td>    0.463</td> <td>    0.992</td>\n",
              "</tr>\n",
              "</table>\n",
              "<table class=\"simpletable\">\n",
              "<tr>\n",
              "  <th>Omnibus:</th>       <td>10.853</td> <th>  Durbin-Watson:     </th> <td>   0.019</td>\n",
              "</tr>\n",
              "<tr>\n",
              "  <th>Prob(Omnibus):</th> <td> 0.004</td> <th>  Jarque-Bera (JB):  </th> <td>  20.890</td>\n",
              "</tr>\n",
              "<tr>\n",
              "  <th>Skew:</th>          <td> 0.156</td> <th>  Prob(JB):          </th> <td>2.91e-05</td>\n",
              "</tr>\n",
              "<tr>\n",
              "  <th>Kurtosis:</th>      <td> 4.390</td> <th>  Cond. No.          </th> <td>6.71e+03</td>\n",
              "</tr>\n",
              "</table><br/><br/>Notes:<br/>[1] Standard Errors assume that the covariance matrix of the errors is correctly specified.<br/>[2] The condition number is large, 6.71e+03. This might indicate that there are<br/>strong multicollinearity or other numerical problems."
            ],
            "text/latex": "\\begin{center}\n\\begin{tabular}{lclc}\n\\toprule\n\\textbf{Dep. Variable:}    &   Gasolina 93    & \\textbf{  R-squared:         } &     0.107   \\\\\n\\textbf{Model:}            &       OLS        & \\textbf{  Adj. R-squared:    } &     0.103   \\\\\n\\textbf{Method:}           &  Least Squares   & \\textbf{  F-statistic:       } &     29.37   \\\\\n\\textbf{Date:}             & Wed, 14 May 2025 & \\textbf{  Prob (F-statistic):} &  1.43e-07   \\\\\n\\textbf{Time:}             &     00:52:55     & \\textbf{  Log-Likelihood:    } &   -1621.7   \\\\\n\\textbf{No. Observations:} &         247      & \\textbf{  AIC:               } &     3247.   \\\\\n\\textbf{Df Residuals:}     &         245      & \\textbf{  BIC:               } &     3254.   \\\\\n\\textbf{Df Model:}         &           1      & \\textbf{                     } &             \\\\\n\\textbf{Covariance Type:}  &    nonrobust     & \\textbf{                     } &             \\\\\n\\bottomrule\n\\end{tabular}\n\\begin{tabular}{lcccccc}\n               & \\textbf{coef} & \\textbf{std err} & \\textbf{t} & \\textbf{P$> |$t$|$} & \\textbf{[0.025} & \\textbf{0.975]}  \\\\\n\\midrule\n\\textbf{const} &      30.9986  &       99.451     &     0.312  &         0.756        &     -164.889    &      226.886     \\\\\n\\textbf{Dólar} &       0.7279  &        0.134     &     5.419  &         0.000        &        0.463    &        0.992     \\\\\n\\bottomrule\n\\end{tabular}\n\\begin{tabular}{lclc}\n\\textbf{Omnibus:}       & 10.853 & \\textbf{  Durbin-Watson:     } &    0.019  \\\\\n\\textbf{Prob(Omnibus):} &  0.004 & \\textbf{  Jarque-Bera (JB):  } &   20.890  \\\\\n\\textbf{Skew:}          &  0.156 & \\textbf{  Prob(JB):          } & 2.91e-05  \\\\\n\\textbf{Kurtosis:}      &  4.390 & \\textbf{  Cond. No.          } & 6.71e+03  \\\\\n\\bottomrule\n\\end{tabular}\n%\\caption{OLS Regression Results}\n\\end{center}\n\nNotes: \\newline\n [1] Standard Errors assume that the covariance matrix of the errors is correctly specified. \\newline\n [2] The condition number is large, 6.71e+03. This might indicate that there are \\newline\n strong multicollinearity or other numerical problems."
          },
          "metadata": {},
          "execution_count": 94
        }
      ]
    },
    {
      "cell_type": "code",
      "source": [
        "# Como d---> 0, existe evidencia de correlacion entre los términos residuales"
      ],
      "metadata": {
        "id": "T6VbBYytR_ER"
      },
      "execution_count": null,
      "outputs": []
    },
    {
      "cell_type": "markdown",
      "source": [
        "3. Utilizando la ecuación del modelo, predecir el precio de la Gasolina 93 cuando el precio del dólar es $900.1,850.63,975.9,916.7,1016.85,996,985$.\n",
        "\n",
        "  ¿ Qué se puede inferir con respecto a las estimaciones?¿Son confiables?"
      ],
      "metadata": {
        "id": "ND4_rler4tec"
      }
    },
    {
      "cell_type": "code",
      "source": [
        "# Ingresaremos datos, para realizar predicciones\n",
        "dolar=pd.DataFrame({'dolar':[900.1,850.6,975.9,916.7,1016.85,996,985]})"
      ],
      "metadata": {
        "id": "q1OTB0opSNpL"
      },
      "execution_count": null,
      "outputs": []
    },
    {
      "cell_type": "code",
      "source": [
        "dolar=sm.add_constant(dolar)"
      ],
      "metadata": {
        "id": "sFNx3R38SxaV"
      },
      "execution_count": null,
      "outputs": []
    },
    {
      "cell_type": "code",
      "source": [
        "modelo3.predict(dolar).round()"
      ],
      "metadata": {
        "colab": {
          "base_uri": "https://localhost:8080/",
          "height": 303
        },
        "id": "s6XSJWtAS15I",
        "outputId": "e4e048df-f83b-4b27-9850-d99820707d8f"
      },
      "execution_count": null,
      "outputs": [
        {
          "output_type": "execute_result",
          "data": {
            "text/plain": [
              "0    686.0\n",
              "1    650.0\n",
              "2    741.0\n",
              "3    698.0\n",
              "4    771.0\n",
              "5    756.0\n",
              "6    748.0\n",
              "dtype: float64"
            ],
            "text/html": [
              "<div>\n",
              "<style scoped>\n",
              "    .dataframe tbody tr th:only-of-type {\n",
              "        vertical-align: middle;\n",
              "    }\n",
              "\n",
              "    .dataframe tbody tr th {\n",
              "        vertical-align: top;\n",
              "    }\n",
              "\n",
              "    .dataframe thead th {\n",
              "        text-align: right;\n",
              "    }\n",
              "</style>\n",
              "<table border=\"1\" class=\"dataframe\">\n",
              "  <thead>\n",
              "    <tr style=\"text-align: right;\">\n",
              "      <th></th>\n",
              "      <th>0</th>\n",
              "    </tr>\n",
              "  </thead>\n",
              "  <tbody>\n",
              "    <tr>\n",
              "      <th>0</th>\n",
              "      <td>686.0</td>\n",
              "    </tr>\n",
              "    <tr>\n",
              "      <th>1</th>\n",
              "      <td>650.0</td>\n",
              "    </tr>\n",
              "    <tr>\n",
              "      <th>2</th>\n",
              "      <td>741.0</td>\n",
              "    </tr>\n",
              "    <tr>\n",
              "      <th>3</th>\n",
              "      <td>698.0</td>\n",
              "    </tr>\n",
              "    <tr>\n",
              "      <th>4</th>\n",
              "      <td>771.0</td>\n",
              "    </tr>\n",
              "    <tr>\n",
              "      <th>5</th>\n",
              "      <td>756.0</td>\n",
              "    </tr>\n",
              "    <tr>\n",
              "      <th>6</th>\n",
              "      <td>748.0</td>\n",
              "    </tr>\n",
              "  </tbody>\n",
              "</table>\n",
              "</div><br><label><b>dtype:</b> float64</label>"
            ]
          },
          "metadata": {},
          "execution_count": 100
        }
      ]
    }
  ]
}