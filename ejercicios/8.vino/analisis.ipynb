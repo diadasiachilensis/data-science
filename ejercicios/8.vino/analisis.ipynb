{
 "cells": [
  {
   "cell_type": "markdown",
   "id": "f5965add",
   "metadata": {},
   "source": [
    "# 🍷🍇 Analisis de vino"
   ]
  },
  {
   "cell_type": "markdown",
   "id": "f978fae1",
   "metadata": {},
   "source": [
    "# 📚 Librerias"
   ]
  },
  {
   "cell_type": "code",
   "execution_count": 47,
   "id": "8eec4a81",
   "metadata": {},
   "outputs": [],
   "source": [
    "import pandas as pd\n",
    "import pandas as pd\n",
    "import scipy.stats as ss\n",
    "import numpy as np\n",
    "import matplotlib.pyplot as plt\n",
    "import seaborn as sns\n",
    "#Para prueba de Normalidad\n",
    "from scipy.stats import shapiro, kstest, norm, normaltest\n",
    "#Prueba no parametrica Mann-Witney U \n",
    "from scipy.stats import mannwhitneyu\n"
   ]
  },
  {
   "cell_type": "markdown",
   "id": "6a8f0844",
   "metadata": {},
   "source": [
    "# 📄📥 Cargar el archivo"
   ]
  },
  {
   "cell_type": "code",
   "execution_count": 4,
   "id": "e1db3bf3",
   "metadata": {},
   "outputs": [
    {
     "data": {
      "text/html": [
       "<div>\n",
       "<style scoped>\n",
       "    .dataframe tbody tr th:only-of-type {\n",
       "        vertical-align: middle;\n",
       "    }\n",
       "\n",
       "    .dataframe tbody tr th {\n",
       "        vertical-align: top;\n",
       "    }\n",
       "\n",
       "    .dataframe thead th {\n",
       "        text-align: right;\n",
       "    }\n",
       "</style>\n",
       "<table border=\"1\" class=\"dataframe\">\n",
       "  <thead>\n",
       "    <tr style=\"text-align: right;\">\n",
       "      <th></th>\n",
       "      <th>Unnamed: 0</th>\n",
       "      <th>fixed acidity</th>\n",
       "      <th>volatile acidity</th>\n",
       "      <th>citric acid</th>\n",
       "      <th>residual sugar</th>\n",
       "      <th>chlorides</th>\n",
       "      <th>free sulfur dioxide</th>\n",
       "      <th>total sulfur dioxide</th>\n",
       "      <th>density</th>\n",
       "      <th>pH</th>\n",
       "      <th>sulphates</th>\n",
       "      <th>alcohol</th>\n",
       "      <th>quality</th>\n",
       "      <th>wine strain</th>\n",
       "    </tr>\n",
       "  </thead>\n",
       "  <tbody>\n",
       "    <tr>\n",
       "      <th>0</th>\n",
       "      <td>0</td>\n",
       "      <td>7.0</td>\n",
       "      <td>0.27</td>\n",
       "      <td>0.36</td>\n",
       "      <td>20.7</td>\n",
       "      <td>0.045</td>\n",
       "      <td>45.0</td>\n",
       "      <td>170.0</td>\n",
       "      <td>1.0010</td>\n",
       "      <td>3.00</td>\n",
       "      <td>0.45</td>\n",
       "      <td>8.8</td>\n",
       "      <td>6</td>\n",
       "      <td>Sauvignon Blanc</td>\n",
       "    </tr>\n",
       "    <tr>\n",
       "      <th>1</th>\n",
       "      <td>1</td>\n",
       "      <td>6.3</td>\n",
       "      <td>0.30</td>\n",
       "      <td>0.34</td>\n",
       "      <td>1.6</td>\n",
       "      <td>0.049</td>\n",
       "      <td>14.0</td>\n",
       "      <td>132.0</td>\n",
       "      <td>0.9940</td>\n",
       "      <td>3.30</td>\n",
       "      <td>0.49</td>\n",
       "      <td>9.5</td>\n",
       "      <td>6</td>\n",
       "      <td>Chardonnay</td>\n",
       "    </tr>\n",
       "    <tr>\n",
       "      <th>2</th>\n",
       "      <td>2</td>\n",
       "      <td>8.1</td>\n",
       "      <td>0.28</td>\n",
       "      <td>0.40</td>\n",
       "      <td>6.9</td>\n",
       "      <td>0.050</td>\n",
       "      <td>30.0</td>\n",
       "      <td>97.0</td>\n",
       "      <td>0.9951</td>\n",
       "      <td>3.26</td>\n",
       "      <td>0.44</td>\n",
       "      <td>10.1</td>\n",
       "      <td>6</td>\n",
       "      <td>Chardonnay</td>\n",
       "    </tr>\n",
       "    <tr>\n",
       "      <th>3</th>\n",
       "      <td>3</td>\n",
       "      <td>7.2</td>\n",
       "      <td>0.23</td>\n",
       "      <td>0.32</td>\n",
       "      <td>8.5</td>\n",
       "      <td>0.058</td>\n",
       "      <td>47.0</td>\n",
       "      <td>186.0</td>\n",
       "      <td>0.9956</td>\n",
       "      <td>3.19</td>\n",
       "      <td>0.40</td>\n",
       "      <td>9.9</td>\n",
       "      <td>6</td>\n",
       "      <td>Chardonnay</td>\n",
       "    </tr>\n",
       "    <tr>\n",
       "      <th>4</th>\n",
       "      <td>4</td>\n",
       "      <td>7.2</td>\n",
       "      <td>0.23</td>\n",
       "      <td>0.32</td>\n",
       "      <td>8.5</td>\n",
       "      <td>0.058</td>\n",
       "      <td>47.0</td>\n",
       "      <td>186.0</td>\n",
       "      <td>0.9956</td>\n",
       "      <td>3.19</td>\n",
       "      <td>0.40</td>\n",
       "      <td>9.9</td>\n",
       "      <td>6</td>\n",
       "      <td>Sauvignon Blanc</td>\n",
       "    </tr>\n",
       "    <tr>\n",
       "      <th>5</th>\n",
       "      <td>5</td>\n",
       "      <td>8.1</td>\n",
       "      <td>0.28</td>\n",
       "      <td>0.40</td>\n",
       "      <td>6.9</td>\n",
       "      <td>0.050</td>\n",
       "      <td>30.0</td>\n",
       "      <td>97.0</td>\n",
       "      <td>0.9951</td>\n",
       "      <td>3.26</td>\n",
       "      <td>0.44</td>\n",
       "      <td>10.1</td>\n",
       "      <td>6</td>\n",
       "      <td>Sauvignon Blanc</td>\n",
       "    </tr>\n",
       "  </tbody>\n",
       "</table>\n",
       "</div>"
      ],
      "text/plain": [
       "   Unnamed: 0  fixed acidity  volatile acidity  citric acid  residual sugar  \\\n",
       "0           0            7.0              0.27         0.36            20.7   \n",
       "1           1            6.3              0.30         0.34             1.6   \n",
       "2           2            8.1              0.28         0.40             6.9   \n",
       "3           3            7.2              0.23         0.32             8.5   \n",
       "4           4            7.2              0.23         0.32             8.5   \n",
       "5           5            8.1              0.28         0.40             6.9   \n",
       "\n",
       "   chlorides  free sulfur dioxide  total sulfur dioxide  density    pH  \\\n",
       "0      0.045                 45.0                 170.0   1.0010  3.00   \n",
       "1      0.049                 14.0                 132.0   0.9940  3.30   \n",
       "2      0.050                 30.0                  97.0   0.9951  3.26   \n",
       "3      0.058                 47.0                 186.0   0.9956  3.19   \n",
       "4      0.058                 47.0                 186.0   0.9956  3.19   \n",
       "5      0.050                 30.0                  97.0   0.9951  3.26   \n",
       "\n",
       "   sulphates  alcohol  quality      wine strain  \n",
       "0       0.45      8.8        6  Sauvignon Blanc  \n",
       "1       0.49      9.5        6       Chardonnay  \n",
       "2       0.44     10.1        6       Chardonnay  \n",
       "3       0.40      9.9        6       Chardonnay  \n",
       "4       0.40      9.9        6  Sauvignon Blanc  \n",
       "5       0.44     10.1        6  Sauvignon Blanc  "
      ]
     },
     "execution_count": 4,
     "metadata": {},
     "output_type": "execute_result"
    }
   ],
   "source": [
    "wine_white = \"winequality-white.csv\"\n",
    "df = pd.read_csv(wine_white)\n",
    "df.head(6)"
   ]
  },
  {
   "cell_type": "code",
   "execution_count": 5,
   "id": "0f7746ec",
   "metadata": {},
   "outputs": [
    {
     "name": "stdout",
     "output_type": "stream",
     "text": [
      "<class 'pandas.core.frame.DataFrame'>\n",
      "RangeIndex: 4898 entries, 0 to 4897\n",
      "Data columns (total 14 columns):\n",
      " #   Column                Non-Null Count  Dtype  \n",
      "---  ------                --------------  -----  \n",
      " 0   Unnamed: 0            4898 non-null   int64  \n",
      " 1   fixed acidity         4898 non-null   float64\n",
      " 2   volatile acidity      4898 non-null   float64\n",
      " 3   citric acid           4898 non-null   float64\n",
      " 4   residual sugar        4898 non-null   float64\n",
      " 5   chlorides             4898 non-null   float64\n",
      " 6   free sulfur dioxide   4898 non-null   float64\n",
      " 7   total sulfur dioxide  4898 non-null   float64\n",
      " 8   density               4898 non-null   float64\n",
      " 9   pH                    4898 non-null   float64\n",
      " 10  sulphates             4898 non-null   float64\n",
      " 11  alcohol               4898 non-null   float64\n",
      " 12  quality               4898 non-null   int64  \n",
      " 13  wine strain           4898 non-null   object \n",
      "dtypes: float64(11), int64(2), object(1)\n",
      "memory usage: 535.8+ KB\n"
     ]
    }
   ],
   "source": [
    "df.info()"
   ]
  },
  {
   "cell_type": "markdown",
   "id": "a0acc8ba",
   "metadata": {},
   "source": [
    "## 🔍 Explorar datos Nulos NaN "
   ]
  },
  {
   "cell_type": "code",
   "execution_count": 6,
   "id": "986e4659",
   "metadata": {},
   "outputs": [
    {
     "data": {
      "text/plain": [
       "Unnamed: 0              0\n",
       "fixed acidity           0\n",
       "volatile acidity        0\n",
       "citric acid             0\n",
       "residual sugar          0\n",
       "chlorides               0\n",
       "free sulfur dioxide     0\n",
       "total sulfur dioxide    0\n",
       "density                 0\n",
       "pH                      0\n",
       "sulphates               0\n",
       "alcohol                 0\n",
       "quality                 0\n",
       "wine strain             0\n",
       "dtype: int64"
      ]
     },
     "execution_count": 6,
     "metadata": {},
     "output_type": "execute_result"
    }
   ],
   "source": [
    "df.isnull().sum()"
   ]
  },
  {
   "cell_type": "markdown",
   "id": "78944de5",
   "metadata": {},
   "source": [
    "# 🧪 Prueba de hipotesis"
   ]
  },
  {
   "cell_type": "markdown",
   "id": "5c6a9b2a",
   "metadata": {},
   "source": [
    "## 🎯 Resolver problema 1 \n",
    "\n",
    "Se desea comprobar si el promedio de acidez fija (fixed acidity) es mayor en los vinos Chardonnay que en los vinos Sauvignon Blanc. Formule una prueba de hipótesis y estudie está afirmación."
   ]
  },
  {
   "cell_type": "markdown",
   "id": "df5011ce",
   "metadata": {},
   "source": [
    "Se debe conocer la distribcuión Normal de la acidez fija en los vinos Chardonnay y Sauvignon Blanc"
   ]
  },
  {
   "cell_type": "markdown",
   "id": "2dc9d417",
   "metadata": {},
   "source": [
    "### **🔔 Analisis Distribución Normal**"
   ]
  },
  {
   "cell_type": "code",
   "execution_count": 7,
   "id": "38a3541b",
   "metadata": {},
   "outputs": [],
   "source": [
    "sauvignon = df[df[\"wine strain\"] == \"Sauvignon Blanc\"][\"fixed acidity\"]\n",
    "chardonnay = df[df[\"wine strain\"] == \"Chardonnay\"][\"fixed acidity\"]"
   ]
  },
  {
   "cell_type": "markdown",
   "id": "5a8fc9f9",
   "metadata": {},
   "source": [
    "#### **⚖️ Medidas de tendencia central**"
   ]
  },
  {
   "cell_type": "code",
   "execution_count": 8,
   "id": "12e3aa97",
   "metadata": {},
   "outputs": [
    {
     "data": {
      "text/plain": [
       "count    2477.000000\n",
       "mean        6.855349\n",
       "std         0.855004\n",
       "min         3.800000\n",
       "25%         6.300000\n",
       "50%         6.800000\n",
       "75%         7.400000\n",
       "max        14.200000\n",
       "Name: fixed acidity, dtype: float64"
      ]
     },
     "execution_count": 8,
     "metadata": {},
     "output_type": "execute_result"
    }
   ],
   "source": [
    "sauvignon.describe()"
   ]
  },
  {
   "cell_type": "code",
   "execution_count": 9,
   "id": "53404b16",
   "metadata": {},
   "outputs": [
    {
     "data": {
      "text/plain": [
       "count    1480.000000\n",
       "mean        6.850068\n",
       "std         0.829801\n",
       "min         4.200000\n",
       "25%         6.300000\n",
       "50%         6.800000\n",
       "75%         7.300000\n",
       "max        10.700000\n",
       "Name: fixed acidity, dtype: float64"
      ]
     },
     "execution_count": 9,
     "metadata": {},
     "output_type": "execute_result"
    }
   ],
   "source": [
    "chardonnay.describe()"
   ]
  },
  {
   "cell_type": "code",
   "execution_count": 10,
   "id": "5b98aded",
   "metadata": {},
   "outputs": [
    {
     "name": "stdout",
     "output_type": "stream",
     "text": [
      "La media de la acidez fija en ambos datos es de 6.85 g/L para la producción de Chardonnay y 6.86 g/L para la producción de Sauvignono Blanc\n"
     ]
    }
   ],
   "source": [
    "m_ch=chardonnay.mean()\n",
    "m_sa=sauvignon.mean()\n",
    "print(f\"La media de la acidez fija en ambos datos es de {round(m_ch,2)} g/L para la producción de Chardonnay y {round(m_sa,2)} g/L para la producción de Sauvignono Blanc\")"
   ]
  },
  {
   "cell_type": "markdown",
   "id": "f5f2b9ff",
   "metadata": {},
   "source": [
    "#### **🧮 Cantidad de datos**"
   ]
  },
  {
   "cell_type": "code",
   "execution_count": 11,
   "id": "f5f6eea2",
   "metadata": {},
   "outputs": [
    {
     "name": "stdout",
     "output_type": "stream",
     "text": [
      "<class 'pandas.core.series.Series'>\n",
      "Index: 1480 entries, 1 to 4884\n",
      "Series name: fixed acidity\n",
      "Non-Null Count  Dtype  \n",
      "--------------  -----  \n",
      "1480 non-null   float64\n",
      "dtypes: float64(1)\n",
      "memory usage: 23.1 KB\n",
      "<class 'pandas.core.series.Series'>\n",
      "Index: 2477 entries, 0 to 4897\n",
      "Series name: fixed acidity\n",
      "Non-Null Count  Dtype  \n",
      "--------------  -----  \n",
      "2477 non-null   float64\n",
      "dtypes: float64(1)\n",
      "memory usage: 38.7 KB\n"
     ]
    }
   ],
   "source": [
    "chardonnay.info()\n",
    "sauvignon.info()"
   ]
  },
  {
   "cell_type": "markdown",
   "id": "e4ebb52a",
   "metadata": {},
   "source": [
    "#### **📊 Gráfico de normalidad**\n",
    "\n",
    "**🍋🌿🧊 Sauvignon Blanc**"
   ]
  },
  {
   "cell_type": "code",
   "execution_count": 12,
   "id": "c7e2adf3",
   "metadata": {},
   "outputs": [
    {
     "data": {
      "image/png": "[encoded data removed]",
      "text/plain": [
       "<Figure size 640x480 with 1 Axes>"
      ]
     },
     "metadata": {},
     "output_type": "display_data"
    }
   ],
   "source": [
    "sns.histplot(sauvignon,bins=30,kde=True,color=\"gold\")\n",
    "plt.title(\"Distribución Normal de la acidez Fija en la producción de Sauvignon Blanc\")\n",
    "plt.axvline(m_sa,color='magenta',label=f'Media = {round(m_sa,3)}') # plt.axhline= linea horizontal, plt.axvline= linea vertical\n",
    "plt.xlabel(\"Valores de acidez fija [g/L]\")\n",
    "plt.ylabel(\"Frecuencia\")\n",
    "plt.grid(True)\n",
    "plt.show()"
   ]
  },
  {
   "cell_type": "markdown",
   "id": "d3764d0d",
   "metadata": {},
   "source": [
    "#### **📊 Gráfico de normalidad**\n",
    "\n",
    "**🍏🧈🌞 Chardonnay**"
   ]
  },
  {
   "cell_type": "code",
   "execution_count": 13,
   "id": "6b83748c",
   "metadata": {},
   "outputs": [
    {
     "data": {
      "image/png": "[encoded data removed]",
      "text/plain": [
       "<Figure size 640x480 with 1 Axes>"
      ]
     },
     "metadata": {},
     "output_type": "display_data"
    }
   ],
   "source": [
    "sns.histplot(chardonnay,bins=30,kde=True,color=\"goldenrod\")\n",
    "plt.title(\"Distribución Normal de la acidez Fija en la producción de Chardonnay\")\n",
    "plt.axvline(m_sa,color='magenta',label=f'Media = {round(m_sa,3)}') # plt.axhline= linea horizontal, plt.axvline= linea vertical\n",
    "plt.xlabel(\"Valores de acidez fija [g/L]\")\n",
    "plt.ylabel(\"Frecuencia\")\n",
    "plt.grid(True)\n",
    "plt.show()"
   ]
  },
  {
   "cell_type": "markdown",
   "id": "754565ed",
   "metadata": {},
   "source": [
    "#### **🧪 Test de Normalidad: Shapiro-Wilk, Kolmogorov-Smirnov y D'Agostino-Pearson** \n",
    "\n",
    "**🍏🧈🌞 Chardonnay**"
   ]
  },
  {
   "cell_type": "code",
   "execution_count": 14,
   "id": "adda3edd",
   "metadata": {},
   "outputs": [
    {
     "name": "stdout",
     "output_type": "stream",
     "text": [
      "Pruebas de Normalidad 🍏🧈🌞 Chardonnay\n",
      "Shapiro-Wilk: Estadístico = 0.9807, p = 0.0000\n",
      "❌ Shapiro-Wilk: Se rechaza normalidad.\n",
      "Kolmogorov-Smirnov: Estadístico = 0.0681, p = 0.0000\n",
      "❌ Kolmogorov-Smirnov: Se rechaza normalidad.\n",
      "D’Agostino-Pearson: Estadístico = 99.4113, p = 0.0000\n",
      "❌ Normaltest: Se rechaza normalidad.\n"
     ]
    }
   ],
   "source": [
    "print(\"Pruebas de Normalidad 🍏🧈🌞 Chardonnay\")\n",
    "# 🧪 Test de Shapiro-Wilk\n",
    "stat_shapiro, p_shapiro = shapiro(chardonnay)\n",
    "print(f\"Shapiro-Wilk: Estadístico = {stat_shapiro:.4f}, p = {p_shapiro:.4f}\")\n",
    "if p_shapiro > 0.05:\n",
    "    print(\"✅ Shapiro-Wilk: Normalidad NO rechazada.\")\n",
    "else:\n",
    "    print(\"❌ Shapiro-Wilk: Se rechaza normalidad.\")\n",
    "\n",
    "# 📈 Test de Kolmogorov-Smirnov (ajustado a N(μ, σ))\n",
    "mu, sigma = np.mean(chardonnay), np.std(chardonnay)\n",
    "stat_ks, p_kstest = kstest(chardonnay, 'norm', args=(mu, sigma))\n",
    "print(f\"Kolmogorov-Smirnov: Estadístico = {stat_ks:.4f}, p = {p_kstest:.4f}\")\n",
    "if p_kstest > 0.05:\n",
    "    print(\"✅ Kolmogorov-Smirnov: Normalidad NO rechazada.\")\n",
    "else:\n",
    "    print(\"❌ Kolmogorov-Smirnov: Se rechaza normalidad.\")\n",
    "\n",
    "# 📉 D’Agostino y Pearson (normaltest)\n",
    "stat_nt, p_normaltest = normaltest(chardonnay)\n",
    "print(f\"D’Agostino-Pearson: Estadístico = {stat_nt:.4f}, p = {p_normaltest:.4f}\")\n",
    "if p_normaltest > 0.05:\n",
    "    print(\"✅ Normaltest: Normalidad NO rechazada.\")\n",
    "else:\n",
    "    print(\"❌ Normaltest: Se rechaza normalidad.\")"
   ]
  },
  {
   "cell_type": "markdown",
   "id": "a5c56928",
   "metadata": {},
   "source": [
    "#### **🧪 Test de Normalidad: Shapiro-Wilk, Kolmogorov-Smirnov y D'Agostino-Pearson** \n",
    "\n",
    "**🍋🌿🧊 Sauvignon Blanc**"
   ]
  },
  {
   "cell_type": "code",
   "execution_count": 15,
   "id": "40b3cf52",
   "metadata": {},
   "outputs": [
    {
     "name": "stdout",
     "output_type": "stream",
     "text": [
      "Pruebas de Normalidad 🍋🌿🧊 Sauvignon Blanc\n",
      "Shapiro-Wilk: Estadístico = 0.9715, p = 0.0000\n",
      "❌ Shapiro-Wilk: Se rechaza normalidad.\n",
      "Kolmogorov-Smirnov: Estadístico = 0.0652, p = 0.0000\n",
      "❌ Kolmogorov-Smirnov: Se rechaza normalidad.\n",
      "D’Agostino-Pearson: Estadístico = 372.1490, p = 0.0000\n",
      "❌ Normaltest: Se rechaza normalidad.\n"
     ]
    }
   ],
   "source": [
    "print(\"Pruebas de Normalidad 🍋🌿🧊 Sauvignon Blanc\")\n",
    "# 🧪 Test de Shapiro-Wilk\n",
    "stat_shapiro, p_shapiro = shapiro(sauvignon)\n",
    "print(f\"Shapiro-Wilk: Estadístico = {stat_shapiro:.4f}, p = {p_shapiro:.4f}\")\n",
    "if p_shapiro > 0.05:\n",
    "    print(\"✅ Shapiro-Wilk: Normalidad NO rechazada.\")\n",
    "else:\n",
    "    print(\"❌ Shapiro-Wilk: Se rechaza normalidad.\")\n",
    "\n",
    "# 📈 Test de Kolmogorov-Smirnov (ajustado a N(μ, σ))\n",
    "mu, sigma = np.mean(sauvignon), np.std(sauvignon)\n",
    "stat_ks, p_kstest = kstest(sauvignon, 'norm', args=(mu, sigma))\n",
    "print(f\"Kolmogorov-Smirnov: Estadístico = {stat_ks:.4f}, p = {p_kstest:.4f}\")\n",
    "if p_kstest > 0.05:\n",
    "    print(\"✅ Kolmogorov-Smirnov: Normalidad NO rechazada.\")\n",
    "else:\n",
    "    print(\"❌ Kolmogorov-Smirnov: Se rechaza normalidad.\")\n",
    "\n",
    "# 📉 D’Agostino y Pearson (normaltest)\n",
    "stat_nt, p_normaltest = normaltest(sauvignon)\n",
    "print(f\"D’Agostino-Pearson: Estadístico = {stat_nt:.4f}, p = {p_normaltest:.4f}\")\n",
    "if p_normaltest > 0.05:\n",
    "    print(\"✅ Normaltest: Normalidad NO rechazada.\")\n",
    "else:\n",
    "    print(\"❌ Normaltest: Se rechaza normalidad.\")"
   ]
  },
  {
   "cell_type": "markdown",
   "id": "88e3872b",
   "metadata": {},
   "source": [
    "#### ✅ Conclusión\n",
    "A pesar de que la visualización mediante el gráfico KDE sugiere una distribución aproximadamente normal para los valores de acidez fija en ambas cepas de vino, los resultados obtenidos a partir de las pruebas formales de normalidad (Shapiro-Wilk, D’Agostino-Pearson, y Anderson-Darling) no permiten asumir que estas distribuciones sigan una distribución normal con un nivel de significancia del 5%. Esta discrepancia evidencia la importancia de complementar los análisis visuales con pruebas estadísticas. Por esta razón, se procederá a utilizar un diagrama de caja (boxplot) para examinar la presencia de valores atípicos (outliers) y analizar la dispersión de los datos de forma no paramétrica, lo que permitirá tomar decisiones más robustas en ausencia de normalidad."
   ]
  },
  {
   "cell_type": "markdown",
   "id": "4e45a41e",
   "metadata": {},
   "source": [
    "#### **📦 Analisis de outliers**\n",
    "\n",
    " **🍏🧈🌞 Chardonnay**"
   ]
  },
  {
   "cell_type": "code",
   "execution_count": 37,
   "id": "68730569",
   "metadata": {},
   "outputs": [
    {
     "name": "stderr",
     "output_type": "stream",
     "text": [
      "C:\\Users\\guill\\AppData\\Local\\Temp\\ipykernel_6676\\2020165963.py:4: FutureWarning: \n",
      "\n",
      "Passing `palette` without assigning `hue` is deprecated and will be removed in v0.14.0. Assign the `x` variable to `hue` and set `legend=False` for the same effect.\n",
      "\n",
      "  sns.boxplot(x=\"wine strain\", y=\"fixed acidity\", data=df, palette=[\"gold\", \"goldenrod\"])\n",
      "C:\\Users\\guill\\AppData\\Local\\Temp\\ipykernel_6676\\2020165963.py:4: UserWarning: \n",
      "The palette list has fewer values (2) than needed (3) and will cycle, which may produce an uninterpretable plot.\n",
      "  sns.boxplot(x=\"wine strain\", y=\"fixed acidity\", data=df, palette=[\"gold\", \"goldenrod\"])\n"
     ]
    },
    {
     "data": {
      "image/png": "[encoded data removed]",
      "text/plain": [
       "<Figure size 800x500 with 1 Axes>"
      ]
     },
     "metadata": {},
     "output_type": "display_data"
    }
   ],
   "source": [
    "plt.figure(figsize=(8, 5))\n",
    "\n",
    "# Eje x = tipo de vino, eje y = acidez fija\n",
    "sns.boxplot(x=\"wine strain\", y=\"fixed acidity\", data=df, palette=[\"gold\", \"goldenrod\"])\n",
    "\n",
    "plt.title(\"Comparación de la acidez fija entre Chardonnay y Sauvignon Blanc\", fontsize=14)\n",
    "plt.xlabel(\"Cepa de vino\")\n",
    "plt.ylabel(\"Acidez fija [g/L]\")\n",
    "plt.grid(True, linestyle=\"--\", alpha=0.5)\n",
    "plt.tight_layout()\n",
    "plt.show()"
   ]
  },
  {
   "cell_type": "markdown",
   "id": "14b194a7",
   "metadata": {},
   "source": [
    "#### ✅📦 Conclusión\n",
    "A partir del gráfico boxplot podemos observar que existen outliers que deben ser eliminados, ya que podrían influir significativamente en las medidas de tendencia central y dispersión de los datos. Estos valores atípicos, al estar muy alejados del rango intercuartílico, pueden distorsionar el análisis estadístico y llevar a conclusiones incorrectas, especialmente en pruebas de hipótesis. Por ello, se aplicará el método de eliminación de outliers basado en el rango intercuartílico (IQR), lo que permitirá trabajar con un conjunto de datos más representativo y robusto para el análisis comparativo entre las cepas de vino Chardonnay y Sauvignon Blanc."
   ]
  },
  {
   "cell_type": "markdown",
   "id": "ae61f7ef",
   "metadata": {},
   "source": [
    "#### **🧼 Limpieza de outliers**"
   ]
  },
  {
   "cell_type": "code",
   "execution_count": 19,
   "id": "dd33164d",
   "metadata": {},
   "outputs": [],
   "source": [
    "def remove_outliers_iqr(data, column):\n",
    "    Q1 = data[column].quantile(0.25)\n",
    "    Q3 = data[column].quantile(0.75)\n",
    "    IQR = Q3 - Q1\n",
    "\n",
    "    lower_bound = Q1 - 1.5 * IQR\n",
    "    upper_bound = Q3 + 1.5 * IQR\n",
    "\n",
    "    # Filtramos los valores dentro del rango\n",
    "    filtered_data = data[(data[column] >= lower_bound) & (data[column] <= upper_bound)]\n",
    "    \n",
    "    return filtered_data\n"
   ]
  },
  {
   "cell_type": "code",
   "execution_count": 38,
   "id": "9666a08c",
   "metadata": {},
   "outputs": [],
   "source": [
    "df_clean = pd.concat([\n",
    "    remove_outliers_iqr(df[df[\"wine strain\"] == \"Chardonnay\"], \"fixed acidity\"),\n",
    "    remove_outliers_iqr(df[df[\"wine strain\"] == \"Sauvignon Blanc\"], \"fixed acidity\")\n",
    "])"
   ]
  },
  {
   "cell_type": "code",
   "execution_count": 41,
   "id": "eae65725",
   "metadata": {},
   "outputs": [
    {
     "name": "stdout",
     "output_type": "stream",
     "text": [
      "Outliers eliminados en Sauvignon Blanc: 40\n",
      "Outliers eliminados en Chardonnay: 36\n"
     ]
    }
   ],
   "source": [
    "df_sauvignon = df[df[\"wine strain\"] == \"Sauvignon Blanc\"]\n",
    "df_sauvignon_limpio = remove_outliers_iqr(df_sauvignon, \"fixed acidity\")\n",
    "\n",
    "# Número de outliers eliminados\n",
    "outliers_eliminados = len(df_sauvignon) - len(df_sauvignon_limpio)\n",
    "\n",
    "print(f\"Outliers eliminados en Sauvignon Blanc: {outliers_eliminados}\")\n",
    "df_chardonnay = df[df[\"wine strain\"] == \"Chardonnay\"]\n",
    "df_chardonnay_limpio = remove_outliers_iqr(df_chardonnay, \"fixed acidity\")\n",
    "\n",
    "outliers_chardonnay = len(df_chardonnay) - len(df_chardonnay_limpio)\n",
    "print(f\"Outliers eliminados en Chardonnay: {outliers_chardonnay}\")\n"
   ]
  },
  {
   "cell_type": "code",
   "execution_count": 42,
   "id": "a5268f1a",
   "metadata": {},
   "outputs": [
    {
     "name": "stderr",
     "output_type": "stream",
     "text": [
      "C:\\Users\\guill\\AppData\\Local\\Temp\\ipykernel_6676\\4090073030.py:4: FutureWarning: \n",
      "\n",
      "Passing `palette` without assigning `hue` is deprecated and will be removed in v0.14.0. Assign the `x` variable to `hue` and set `legend=False` for the same effect.\n",
      "\n",
      "  sns.boxplot(x=\"wine strain\", y=\"fixed acidity\", data=df_clean, palette=[\"gold\", \"goldenrod\"])\n"
     ]
    },
    {
     "data": {
      "image/png": "[encoded data removed]",
      "text/plain": [
       "<Figure size 800x500 with 1 Axes>"
      ]
     },
     "metadata": {},
     "output_type": "display_data"
    }
   ],
   "source": [
    "plt.figure(figsize=(8, 5))\n",
    "\n",
    "# Eje x = tipo de vino, eje y = acidez fija\n",
    "sns.boxplot(x=\"wine strain\", y=\"fixed acidity\", data=df_clean, palette=[\"gold\", \"goldenrod\"])\n",
    "\n",
    "plt.title(\"Comparación de la acidez fija entre Chardonnay y Sauvignon Blanc\", fontsize=14)\n",
    "plt.xlabel(\"Cepa de vino\")\n",
    "plt.ylabel(\"Acidez fija [g/L]\")\n",
    "plt.grid(True, linestyle=\"--\", alpha=0.5)\n",
    "plt.tight_layout()\n",
    "plt.show()"
   ]
  },
  {
   "cell_type": "markdown",
   "id": "82b99dfc",
   "metadata": {},
   "source": [
    "#### 🔔 Prueba de Normalidad sin outliers"
   ]
  },
  {
   "cell_type": "code",
   "execution_count": 43,
   "id": "0fa76932",
   "metadata": {},
   "outputs": [],
   "source": [
    "# Filtrar los datos limpios por cepa\n",
    "chardonnay_clean = df_clean[df_clean[\"wine strain\"] == \"Chardonnay\"][\"fixed acidity\"]\n",
    "sauvignon_clean = df_clean[df_clean[\"wine strain\"] == \"Sauvignon Blanc\"][\"fixed acidity\"]"
   ]
  },
  {
   "cell_type": "code",
   "execution_count": 44,
   "id": "edb81daf",
   "metadata": {},
   "outputs": [
    {
     "name": "stdout",
     "output_type": "stream",
     "text": [
      "Pruebas de Normalidad 🍏🧈🌞 Chardonnay\n",
      "Shapiro-Wilk: Estadístico = 0.9940, p = 0.0000\n",
      "❌ Shapiro-Wilk: Se rechaza normalidad.\n",
      "Kolmogorov-Smirnov: Estadístico = 0.0550, p = 0.0003\n",
      "❌ Kolmogorov-Smirnov: Se rechaza normalidad.\n",
      "D’Agostino-Pearson: Estadístico = 7.1093, p = 0.0286\n",
      "❌ Normaltest: Se rechaza normalidad.\n"
     ]
    }
   ],
   "source": [
    "print(\"Pruebas de Normalidad 🍏🧈🌞 Chardonnay\")\n",
    "# 🧪 Test de Shapiro-Wilk\n",
    "stat_shapiro, p_shapiro = shapiro(chardonnay_clean)\n",
    "print(f\"Shapiro-Wilk: Estadístico = {stat_shapiro:.4f}, p = {p_shapiro:.4f}\")\n",
    "if p_shapiro > 0.05:\n",
    "    print(\"✅ Shapiro-Wilk: Normalidad NO rechazada.\")\n",
    "else:\n",
    "    print(\"❌ Shapiro-Wilk: Se rechaza normalidad.\")\n",
    "\n",
    "# 📈 Test de Kolmogorov-Smirnov (ajustado a N(μ, σ))\n",
    "mu, sigma = np.mean(chardonnay_clean), np.std(chardonnay_clean)\n",
    "stat_ks, p_kstest = kstest(chardonnay_clean, 'norm', args=(mu, sigma))\n",
    "print(f\"Kolmogorov-Smirnov: Estadístico = {stat_ks:.4f}, p = {p_kstest:.4f}\")\n",
    "if p_kstest > 0.05:\n",
    "    print(\"✅ Kolmogorov-Smirnov: Normalidad NO rechazada.\")\n",
    "else:\n",
    "    print(\"❌ Kolmogorov-Smirnov: Se rechaza normalidad.\")\n",
    "\n",
    "# 📉 D’Agostino y Pearson (normaltest)\n",
    "stat_nt, p_normaltest = normaltest(chardonnay_clean)\n",
    "print(f\"D’Agostino-Pearson: Estadístico = {stat_nt:.4f}, p = {p_normaltest:.4f}\")\n",
    "if p_normaltest > 0.05:\n",
    "    print(\"✅ Normaltest: Normalidad NO rechazada.\")\n",
    "else:\n",
    "    print(\"❌ Normaltest: Se rechaza normalidad.\")"
   ]
  },
  {
   "cell_type": "code",
   "execution_count": 45,
   "id": "6c8a550f",
   "metadata": {},
   "outputs": [
    {
     "name": "stdout",
     "output_type": "stream",
     "text": [
      "Pruebas de Normalidad 🍋🌿🧊 Sauvignon Blanc\n",
      "Shapiro-Wilk: Estadístico = 0.9927, p = 0.0000\n",
      "❌ Shapiro-Wilk: Se rechaza normalidad.\n",
      "Kolmogorov-Smirnov: Estadístico = 0.0566, p = 0.0000\n",
      "❌ Kolmogorov-Smirnov: Se rechaza normalidad.\n",
      "D’Agostino-Pearson: Estadístico = 23.9987, p = 0.0000\n",
      "❌ Normaltest: Se rechaza normalidad.\n"
     ]
    }
   ],
   "source": [
    "print(\"Pruebas de Normalidad 🍋🌿🧊 Sauvignon Blanc\")\n",
    "# 🧪 Test de Shapiro-Wilk\n",
    "stat_shapiro, p_shapiro = shapiro(sauvignon_clean)\n",
    "print(f\"Shapiro-Wilk: Estadístico = {stat_shapiro:.4f}, p = {p_shapiro:.4f}\")\n",
    "if p_shapiro > 0.05:\n",
    "    print(\"✅ Shapiro-Wilk: Normalidad NO rechazada.\")\n",
    "else:\n",
    "    print(\"❌ Shapiro-Wilk: Se rechaza normalidad.\")\n",
    "\n",
    "# 📈 Test de Kolmogorov-Smirnov (ajustado a N(μ, σ))\n",
    "mu, sigma = np.mean(sauvignon_clean), np.std(sauvignon_clean)\n",
    "stat_ks, p_kstest = kstest(sauvignon_clean, 'norm', args=(mu, sigma))\n",
    "print(f\"Kolmogorov-Smirnov: Estadístico = {stat_ks:.4f}, p = {p_kstest:.4f}\")\n",
    "if p_kstest > 0.05:\n",
    "    print(\"✅ Kolmogorov-Smirnov: Normalidad NO rechazada.\")\n",
    "else:\n",
    "    print(\"❌ Kolmogorov-Smirnov: Se rechaza normalidad.\")\n",
    "\n",
    "# 📉 D’Agostino y Pearson (normaltest)\n",
    "stat_nt, p_normaltest = normaltest(sauvignon_clean)\n",
    "print(f\"D’Agostino-Pearson: Estadístico = {stat_nt:.4f}, p = {p_normaltest:.4f}\")\n",
    "if p_normaltest > 0.05:\n",
    "    print(\"✅ Normaltest: Normalidad NO rechazada.\")\n",
    "else:\n",
    "    print(\"❌ Normaltest: Se rechaza normalidad.\")"
   ]
  },
  {
   "cell_type": "markdown",
   "id": "17b5b5c5",
   "metadata": {},
   "source": [
    "#### ✅ Conclusión \n",
    "\n",
    "Si los datos no cumplen con los supuestos de normalidad incluso después de eliminar outliers, entonces la prueba de hipótesis debe basarse en métodos no paramétricos, ya que:\n",
    "\n",
    "> ❌ No se puede usar t-test (prueba t de Student), porque requiere que las muestras sigan una distribución aproximadamente normal.\n",
    "\n",
    "**Alternativa correcta: Prueba de Mann–Whitney U**\n",
    "\n",
    "Es una prueba no paramétrica que compara dos muestras independientes para determinar si una tiende a tener valores mayores que la otra."
   ]
  },
  {
   "cell_type": "markdown",
   "id": "49987f9e",
   "metadata": {},
   "source": [
    "#### 📌 Formulación de la hipótesis\n",
    "\n",
    "Queremos saber si **Chardonnay tiene mayor acidez fija** que Sauvignon Blanc, así que planteamos una prueba **unilateral** (cola derecha):\n",
    "\n",
    "* **H₀ (hipótesis nula):**\n",
    "  $\\text{Mediana}_{\\text{Chardonnay}} \\leq \\text{Mediana}_{\\text{Sauvignon Blanc}}$\n",
    "\n",
    "* **H₁ (hipótesis alternativa):**\n",
    "  $\\text{Mediana}_{\\text{Chardonnay}} > \\text{Mediana}_{\\text{Sauvignon Blanc}}$\n"
   ]
  },
  {
   "cell_type": "markdown",
   "id": "49ec981d",
   "metadata": {},
   "source": [
    "#### 🧪 Código en Python con `scipy.stats.mannwhitneyu`\n"
   ]
  },
  {
   "cell_type": "code",
   "execution_count": 49,
   "id": "c1af3468",
   "metadata": {},
   "outputs": [
    {
     "name": "stdout",
     "output_type": "stream",
     "text": [
      "Estadístico U: 1752115.5000\n",
      "Valor p: 0.5869\n",
      "❌ No se puede rechazar H₀: No hay evidencia suficiente para afirmar que Chardonnay tiene mayor acidez fija.\n"
     ]
    }
   ],
   "source": [
    "stat, p_value = mannwhitneyu(chardonnay_clean, sauvignon_clean, alternative='greater')\n",
    "\n",
    "print(f\"Estadístico U: {stat:.4f}\")\n",
    "print(f\"Valor p: {p_value:.4f}\")\n",
    "\n",
    "if p_value < 0.05:\n",
    "    print(\"✅ Se rechaza H₀: Chardonnay tiene mayor acidez fija.\")\n",
    "else:\n",
    "    print(\"❌ No se puede rechazar H₀: No hay evidencia suficiente para afirmar que Chardonnay tiene mayor acidez fija.\")"
   ]
  },
  {
   "cell_type": "markdown",
   "id": "e5b192a9",
   "metadata": {},
   "source": [
    "#### ✅ Conclusión \n",
    "A partir de la prueba no paramétrica de Mann–Whitney U, se obtuvo un estadístico U = 1.752.115,5 y un valor p = 0.5869. Dado que el valor p es considerablemente mayor al nivel de significancia habitual (α = 0.05), no se rechaza la hipótesis nula. Esto indica que no existe evidencia estadísticamente significativa para afirmar que la acidez fija en los vinos Chardonnay es mayor que en los vinos Sauvignon Blanc. Por lo tanto, en base a los datos analizados y considerando la falta de normalidad, no se puede concluir que exista una diferencia en acidez fija favorable al Chardonnay."
   ]
  },
  {
   "cell_type": "markdown",
   "id": "af1d8bb7",
   "metadata": {},
   "source": [
    "## 🎯 Resolver problema 2 \n",
    "\n",
    "Compare el promedio de alcohol entre vinos de calidad superior (calidad >= 7) y vinos de calidad\n",
    "media (calidad 5 - 6). >Existe evidencia suficiente para afirmar que los vinos de calidad superior\n",
    "tienen mayor contenido de alcohol?\n"
   ]
  },
  {
   "cell_type": "markdown",
   "id": "70ee1f5f",
   "metadata": {},
   "source": []
  }
 ],
 "metadata": {
  "kernelspec": {
   "display_name": "Python 3",
   "language": "python",
   "name": "python3"
  },
  "language_info": {
   "codemirror_mode": {
    "name": "ipython",
    "version": 3
   },
   "file_extension": ".py",
   "mimetype": "text/x-python",
   "name": "python",
   "nbconvert_exporter": "python",
   "pygments_lexer": "ipython3",
   "version": "3.12.2"
  }
 },
 "nbformat": 4,
 "nbformat_minor": 5
}
