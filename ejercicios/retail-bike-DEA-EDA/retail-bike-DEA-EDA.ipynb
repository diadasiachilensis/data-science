{
 "cells": [
  {
   "cell_type": "code",
   "execution_count": 35,
   "metadata": {},
   "outputs": [],
   "source": [
    "import pandas as pd"
   ]
  },
  {
   "cell_type": "code",
   "execution_count": 36,
   "metadata": {},
   "outputs": [
    {
     "data": {
      "text/html": [
       "<div>\n",
       "<style scoped>\n",
       "    .dataframe tbody tr th:only-of-type {\n",
       "        vertical-align: middle;\n",
       "    }\n",
       "\n",
       "    .dataframe tbody tr th {\n",
       "        vertical-align: top;\n",
       "    }\n",
       "\n",
       "    .dataframe thead th {\n",
       "        text-align: right;\n",
       "    }\n",
       "</style>\n",
       "<table border=\"1\" class=\"dataframe\">\n",
       "  <thead>\n",
       "    <tr style=\"text-align: right;\">\n",
       "      <th></th>\n",
       "      <th>Unnamed: 0</th>\n",
       "      <th>country</th>\n",
       "      <th>region</th>\n",
       "      <th>gdp</th>\n",
       "      <th>life</th>\n",
       "      <th>pop</th>\n",
       "      <th>urban</th>\n",
       "    </tr>\n",
       "  </thead>\n",
       "  <tbody>\n",
       "    <tr>\n",
       "      <th>0</th>\n",
       "      <td>1</td>\n",
       "      <td>Algeria</td>\n",
       "      <td>Africa</td>\n",
       "      <td>7300,399902</td>\n",
       "      <td>72,31666565</td>\n",
       "      <td>34172236</td>\n",
       "      <td>64,93333435</td>\n",
       "    </tr>\n",
       "    <tr>\n",
       "      <th>1</th>\n",
       "      <td>2</td>\n",
       "      <td>Benin</td>\n",
       "      <td>Africa</td>\n",
       "      <td>1338,800049</td>\n",
       "      <td>54,73333359</td>\n",
       "      <td>8237634</td>\n",
       "      <td>41</td>\n",
       "    </tr>\n",
       "    <tr>\n",
       "      <th>2</th>\n",
       "      <td>3</td>\n",
       "      <td>Botswana</td>\n",
       "      <td>Africa</td>\n",
       "      <td>12307,40039</td>\n",
       "      <td>52,25</td>\n",
       "      <td>1941233</td>\n",
       "      <td>59,25</td>\n",
       "    </tr>\n",
       "    <tr>\n",
       "      <th>3</th>\n",
       "      <td>4</td>\n",
       "      <td>Burkina Faso</td>\n",
       "      <td>Africa</td>\n",
       "      <td>1063,400024</td>\n",
       "      <td>53,78333282</td>\n",
       "      <td>15308383</td>\n",
       "      <td>23,58333397</td>\n",
       "    </tr>\n",
       "    <tr>\n",
       "      <th>4</th>\n",
       "      <td>5</td>\n",
       "      <td>Burundi</td>\n",
       "      <td>Africa</td>\n",
       "      <td>349,2000122</td>\n",
       "      <td>48,86666489</td>\n",
       "      <td>7821783</td>\n",
       "      <td>10,25</td>\n",
       "    </tr>\n",
       "  </tbody>\n",
       "</table>\n",
       "</div>"
      ],
      "text/plain": [
       "   Unnamed: 0       country  region          gdp         life       pop  \\\n",
       "0           1       Algeria  Africa  7300,399902  72,31666565  34172236   \n",
       "1           2         Benin  Africa  1338,800049  54,73333359   8237634   \n",
       "2           3      Botswana  Africa  12307,40039        52,25   1941233   \n",
       "3           4  Burkina Faso  Africa  1063,400024  53,78333282  15308383   \n",
       "4           5       Burundi  Africa  349,2000122  48,86666489   7821783   \n",
       "\n",
       "         urban  \n",
       "0  64,93333435  \n",
       "1           41  \n",
       "2        59,25  \n",
       "3  23,58333397  \n",
       "4        10,25  "
      ]
     },
     "execution_count": 36,
     "metadata": {},
     "output_type": "execute_result"
    }
   ],
   "source": [
    "base= pd.read_csv(\"nations_gdp_life_pop_urban.csv\", sep=';')\n",
    "base.head()\n"
   ]
  },
  {
   "cell_type": "markdown",
   "metadata": {},
   "source": [
    "### 2. Mostrar la informacion relativa a cada columna de la base de datos"
   ]
  },
  {
   "cell_type": "code",
   "execution_count": 37,
   "metadata": {},
   "outputs": [
    {
     "name": "stdout",
     "output_type": "stream",
     "text": [
      "<class 'pandas.core.frame.DataFrame'>\n",
      "RangeIndex: 194 entries, 0 to 193\n",
      "Data columns (total 7 columns):\n",
      " #   Column      Non-Null Count  Dtype \n",
      "---  ------      --------------  ----- \n",
      " 0   Unnamed: 0  194 non-null    int64 \n",
      " 1   country     194 non-null    object\n",
      " 2   region      194 non-null    object\n",
      " 3   gdp         179 non-null    object\n",
      " 4   life        194 non-null    object\n",
      " 5   pop         194 non-null    int64 \n",
      " 6   urban       194 non-null    object\n",
      "dtypes: int64(2), object(5)\n",
      "memory usage: 10.7+ KB\n"
     ]
    }
   ],
   "source": [
    "base.info() # la función info nos permite visualizar las entradas no nulas de cada columna así como también el tipo de datos que la componen"
   ]
  },
  {
   "cell_type": "code",
   "execution_count": 38,
   "metadata": {},
   "outputs": [
    {
     "data": {
      "text/plain": [
       "Unnamed: 0     int64\n",
       "country       object\n",
       "region        object\n",
       "gdp           object\n",
       "life          object\n",
       "pop            int64\n",
       "urban         object\n",
       "dtype: object"
      ]
     },
     "execution_count": 38,
     "metadata": {},
     "output_type": "execute_result"
    }
   ],
   "source": [
    "base.dtypes"
   ]
  },
  {
   "cell_type": "markdown",
   "metadata": {},
   "source": [
    "### 3. Reescribr la informacion de las columnas 'gdp' y 'urban' como cifras decimales"
   ]
  },
  {
   "cell_type": "code",
   "execution_count": 39,
   "metadata": {},
   "outputs": [],
   "source": [
    "# gdp ---> producto interno bruto\n",
    "# urban --- > porcentaje de urbanización\n",
    "# life ---> esperanza de vida"
   ]
  },
  {
   "cell_type": "code",
   "execution_count": 40,
   "metadata": {},
   "outputs": [],
   "source": [
    "# Queremos extraer la columna gdp de la base de datos\n",
    "base['gdp']=base['gdp'].str.replace(',','.').astype(float)\n",
    "base['urban']=base['urban'].str.replace(',','.').astype(float)"
   ]
  },
  {
   "cell_type": "markdown",
   "metadata": {},
   "source": [
    "### 4. Extraer los datos correspondientes a los paises europeos, cuyo porcentaje de urbanizacion es supeiorr al 60%"
   ]
  },
  {
   "cell_type": "code",
   "execution_count": 41,
   "metadata": {},
   "outputs": [],
   "source": [
    "# Los datos que extraeremos deben cumplir dos condiciones: Deben ser de Europa y urb>60& ( en este caso, el conectivo lógico es 'y'=&)\n",
    "# Si los datos deben cumplir una condición u otra: Conectivo lógico es 'o' (en python e)\n"
   ]
  },
  {
   "cell_type": "code",
   "execution_count": 42,
   "metadata": {},
   "outputs": [
    {
     "data": {
      "text/plain": [
       "region\n",
       "Africa      52\n",
       "Asia        49\n",
       "Europe      43\n",
       "Americas    35\n",
       "Oceania     15\n",
       "Name: count, dtype: int64"
      ]
     },
     "execution_count": 42,
     "metadata": {},
     "output_type": "execute_result"
    }
   ],
   "source": [
    "base['region'].value_counts() #value_counts nos permite ver que valores toma una variable"
   ]
  },
  {
   "cell_type": "code",
   "execution_count": 43,
   "metadata": {},
   "outputs": [],
   "source": [
    "#se crea una nueva base de datos \n",
    "#considerando paises que vieien de Europa\n",
    "base1=base[base['region']=='Europe']"
   ]
  },
  {
   "cell_type": "code",
   "execution_count": 44,
   "metadata": {},
   "outputs": [
    {
     "name": "stdout",
     "output_type": "stream",
     "text": [
      "<class 'pandas.core.frame.DataFrame'>\n",
      "Index: 43 entries, 136 to 178\n",
      "Data columns (total 7 columns):\n",
      " #   Column      Non-Null Count  Dtype  \n",
      "---  ------      --------------  -----  \n",
      " 0   Unnamed: 0  43 non-null     int64  \n",
      " 1   country     43 non-null     object \n",
      " 2   region      43 non-null     object \n",
      " 3   gdp         39 non-null     float64\n",
      " 4   life        43 non-null     object \n",
      " 5   pop         43 non-null     int64  \n",
      " 6   urban       43 non-null     float64\n",
      "dtypes: float64(2), int64(2), object(3)\n",
      "memory usage: 2.7+ KB\n"
     ]
    }
   ],
   "source": [
    "base1.info()"
   ]
  },
  {
   "cell_type": "code",
   "execution_count": 45,
   "metadata": {},
   "outputs": [],
   "source": [
    "base1=base[(base['region']=='Europe') & (base['urban']>60)]"
   ]
  },
  {
   "cell_type": "code",
   "execution_count": 46,
   "metadata": {},
   "outputs": [
    {
     "name": "stdout",
     "output_type": "stream",
     "text": [
      "<class 'pandas.core.frame.DataFrame'>\n",
      "Index: 32 entries, 137 to 178\n",
      "Data columns (total 7 columns):\n",
      " #   Column      Non-Null Count  Dtype  \n",
      "---  ------      --------------  -----  \n",
      " 0   Unnamed: 0  32 non-null     int64  \n",
      " 1   country     32 non-null     object \n",
      " 2   region      32 non-null     object \n",
      " 3   gdp         29 non-null     float64\n",
      " 4   life        32 non-null     object \n",
      " 5   pop         32 non-null     int64  \n",
      " 6   urban       32 non-null     float64\n",
      "dtypes: float64(2), int64(2), object(3)\n",
      "memory usage: 2.0+ KB\n"
     ]
    }
   ],
   "source": [
    "base1.info()"
   ]
  },
  {
   "cell_type": "markdown",
   "metadata": {},
   "source": [
    "### 5. Crear una nueva base de datos, que solo contenga no nulos del PIB"
   ]
  },
  {
   "cell_type": "code",
   "execution_count": 48,
   "metadata": {},
   "outputs": [
    {
     "data": {
      "text/plain": [
       "Unnamed: 0     0\n",
       "country        0\n",
       "region         0\n",
       "gdp           15\n",
       "life           0\n",
       "pop            0\n",
       "urban          0\n",
       "dtype: int64"
      ]
     },
     "execution_count": 48,
     "metadata": {},
     "output_type": "execute_result"
    }
   ],
   "source": [
    "base.isnull().sum() # investigamos cuantas entradas nulas tiene cada variable. gdp en ingles"
   ]
  },
  {
   "cell_type": "code",
   "execution_count": 50,
   "metadata": {},
   "outputs": [
    {
     "data": {
      "text/html": [
       "<div>\n",
       "<style scoped>\n",
       "    .dataframe tbody tr th:only-of-type {\n",
       "        vertical-align: middle;\n",
       "    }\n",
       "\n",
       "    .dataframe tbody tr th {\n",
       "        vertical-align: top;\n",
       "    }\n",
       "\n",
       "    .dataframe thead th {\n",
       "        text-align: right;\n",
       "    }\n",
       "</style>\n",
       "<table border=\"1\" class=\"dataframe\">\n",
       "  <thead>\n",
       "    <tr style=\"text-align: right;\">\n",
       "      <th></th>\n",
       "      <th>Unnamed: 0</th>\n",
       "      <th>country</th>\n",
       "      <th>region</th>\n",
       "      <th>gdp</th>\n",
       "      <th>life</th>\n",
       "      <th>pop</th>\n",
       "      <th>urban</th>\n",
       "    </tr>\n",
       "  </thead>\n",
       "  <tbody>\n",
       "    <tr>\n",
       "      <th>0</th>\n",
       "      <td>1</td>\n",
       "      <td>Algeria</td>\n",
       "      <td>Africa</td>\n",
       "      <td>7300.399902</td>\n",
       "      <td>72,31666565</td>\n",
       "      <td>34172236</td>\n",
       "      <td>64.933334</td>\n",
       "    </tr>\n",
       "    <tr>\n",
       "      <th>1</th>\n",
       "      <td>2</td>\n",
       "      <td>Benin</td>\n",
       "      <td>Africa</td>\n",
       "      <td>1338.800049</td>\n",
       "      <td>54,73333359</td>\n",
       "      <td>8237634</td>\n",
       "      <td>41.000000</td>\n",
       "    </tr>\n",
       "    <tr>\n",
       "      <th>2</th>\n",
       "      <td>3</td>\n",
       "      <td>Botswana</td>\n",
       "      <td>Africa</td>\n",
       "      <td>12307.400390</td>\n",
       "      <td>52,25</td>\n",
       "      <td>1941233</td>\n",
       "      <td>59.250000</td>\n",
       "    </tr>\n",
       "    <tr>\n",
       "      <th>3</th>\n",
       "      <td>4</td>\n",
       "      <td>Burkina Faso</td>\n",
       "      <td>Africa</td>\n",
       "      <td>1063.400024</td>\n",
       "      <td>53,78333282</td>\n",
       "      <td>15308383</td>\n",
       "      <td>23.583334</td>\n",
       "    </tr>\n",
       "    <tr>\n",
       "      <th>4</th>\n",
       "      <td>5</td>\n",
       "      <td>Burundi</td>\n",
       "      <td>Africa</td>\n",
       "      <td>349.200012</td>\n",
       "      <td>48,86666489</td>\n",
       "      <td>7821783</td>\n",
       "      <td>10.250000</td>\n",
       "    </tr>\n",
       "    <tr>\n",
       "      <th>...</th>\n",
       "      <td>...</td>\n",
       "      <td>...</td>\n",
       "      <td>...</td>\n",
       "      <td>...</td>\n",
       "      <td>...</td>\n",
       "      <td>...</td>\n",
       "      <td>...</td>\n",
       "    </tr>\n",
       "    <tr>\n",
       "      <th>188</th>\n",
       "      <td>189</td>\n",
       "      <td>Papua New Guinea</td>\n",
       "      <td>Oceania</td>\n",
       "      <td>1953.800049</td>\n",
       "      <td>61,48333359</td>\n",
       "      <td>6474600</td>\n",
       "      <td>12.516666</td>\n",
       "    </tr>\n",
       "    <tr>\n",
       "      <th>189</th>\n",
       "      <td>190</td>\n",
       "      <td>Samoa</td>\n",
       "      <td>Oceania</td>\n",
       "      <td>4012.600098</td>\n",
       "      <td>71,53333282</td>\n",
       "      <td>181600</td>\n",
       "      <td>20.666668</td>\n",
       "    </tr>\n",
       "    <tr>\n",
       "      <th>190</th>\n",
       "      <td>191</td>\n",
       "      <td>Solomon Islands</td>\n",
       "      <td>Oceania</td>\n",
       "      <td>2249.199951</td>\n",
       "      <td>66,5</td>\n",
       "      <td>503617</td>\n",
       "      <td>17.766666</td>\n",
       "    </tr>\n",
       "    <tr>\n",
       "      <th>191</th>\n",
       "      <td>192</td>\n",
       "      <td>Tonga</td>\n",
       "      <td>Oceania</td>\n",
       "      <td>4072.199951</td>\n",
       "      <td>71,83333588</td>\n",
       "      <td>102550</td>\n",
       "      <td>23.266666</td>\n",
       "    </tr>\n",
       "    <tr>\n",
       "      <th>193</th>\n",
       "      <td>194</td>\n",
       "      <td>Vanuatu</td>\n",
       "      <td>Oceania</td>\n",
       "      <td>3809.800049</td>\n",
       "      <td>69,96666718</td>\n",
       "      <td>225317</td>\n",
       "      <td>24.500000</td>\n",
       "    </tr>\n",
       "  </tbody>\n",
       "</table>\n",
       "<p>179 rows × 7 columns</p>\n",
       "</div>"
      ],
      "text/plain": [
       "     Unnamed: 0           country   region           gdp         life  \\\n",
       "0             1           Algeria   Africa   7300.399902  72,31666565   \n",
       "1             2             Benin   Africa   1338.800049  54,73333359   \n",
       "2             3          Botswana   Africa  12307.400390        52,25   \n",
       "3             4      Burkina Faso   Africa   1063.400024  53,78333282   \n",
       "4             5           Burundi   Africa    349.200012  48,86666489   \n",
       "..          ...               ...      ...           ...          ...   \n",
       "188         189  Papua New Guinea  Oceania   1953.800049  61,48333359   \n",
       "189         190             Samoa  Oceania   4012.600098  71,53333282   \n",
       "190         191   Solomon Islands  Oceania   2249.199951         66,5   \n",
       "191         192             Tonga  Oceania   4072.199951  71,83333588   \n",
       "193         194           Vanuatu  Oceania   3809.800049  69,96666718   \n",
       "\n",
       "          pop      urban  \n",
       "0    34172236  64.933334  \n",
       "1     8237634  41.000000  \n",
       "2     1941233  59.250000  \n",
       "3    15308383  23.583334  \n",
       "4     7821783  10.250000  \n",
       "..        ...        ...  \n",
       "188   6474600  12.516666  \n",
       "189    181600  20.666668  \n",
       "190    503617  17.766666  \n",
       "191    102550  23.266666  \n",
       "193    225317  24.500000  \n",
       "\n",
       "[179 rows x 7 columns]"
      ]
     },
     "execution_count": 50,
     "metadata": {},
     "output_type": "execute_result"
    }
   ],
   "source": [
    "base.drop(base[base['gdp'].isnull()].index)\n",
    "#.drop nos permite borrar caractersticias especificas de cada variable\n",
    "#dataset.drop(dataset[dataset['columna1']].index)"
   ]
  },
  {
   "cell_type": "code",
   "execution_count": 51,
   "metadata": {},
   "outputs": [
    {
     "data": {
      "text/html": [
       "<div>\n",
       "<style scoped>\n",
       "    .dataframe tbody tr th:only-of-type {\n",
       "        vertical-align: middle;\n",
       "    }\n",
       "\n",
       "    .dataframe tbody tr th {\n",
       "        vertical-align: top;\n",
       "    }\n",
       "\n",
       "    .dataframe thead th {\n",
       "        text-align: right;\n",
       "    }\n",
       "</style>\n",
       "<table border=\"1\" class=\"dataframe\">\n",
       "  <thead>\n",
       "    <tr style=\"text-align: right;\">\n",
       "      <th></th>\n",
       "      <th>Unnamed: 0</th>\n",
       "      <th>country</th>\n",
       "      <th>region</th>\n",
       "      <th>gdp</th>\n",
       "      <th>life</th>\n",
       "      <th>pop</th>\n",
       "      <th>urban</th>\n",
       "    </tr>\n",
       "  </thead>\n",
       "  <tbody>\n",
       "    <tr>\n",
       "      <th>0</th>\n",
       "      <td>1</td>\n",
       "      <td>Algeria</td>\n",
       "      <td>Africa</td>\n",
       "      <td>7300.399902</td>\n",
       "      <td>72,31666565</td>\n",
       "      <td>34172236</td>\n",
       "      <td>64.933334</td>\n",
       "    </tr>\n",
       "    <tr>\n",
       "      <th>1</th>\n",
       "      <td>2</td>\n",
       "      <td>Benin</td>\n",
       "      <td>Africa</td>\n",
       "      <td>1338.800049</td>\n",
       "      <td>54,73333359</td>\n",
       "      <td>8237634</td>\n",
       "      <td>41.000000</td>\n",
       "    </tr>\n",
       "    <tr>\n",
       "      <th>2</th>\n",
       "      <td>3</td>\n",
       "      <td>Botswana</td>\n",
       "      <td>Africa</td>\n",
       "      <td>12307.400390</td>\n",
       "      <td>52,25</td>\n",
       "      <td>1941233</td>\n",
       "      <td>59.250000</td>\n",
       "    </tr>\n",
       "    <tr>\n",
       "      <th>3</th>\n",
       "      <td>4</td>\n",
       "      <td>Burkina Faso</td>\n",
       "      <td>Africa</td>\n",
       "      <td>1063.400024</td>\n",
       "      <td>53,78333282</td>\n",
       "      <td>15308383</td>\n",
       "      <td>23.583334</td>\n",
       "    </tr>\n",
       "    <tr>\n",
       "      <th>4</th>\n",
       "      <td>5</td>\n",
       "      <td>Burundi</td>\n",
       "      <td>Africa</td>\n",
       "      <td>349.200012</td>\n",
       "      <td>48,86666489</td>\n",
       "      <td>7821783</td>\n",
       "      <td>10.250000</td>\n",
       "    </tr>\n",
       "    <tr>\n",
       "      <th>...</th>\n",
       "      <td>...</td>\n",
       "      <td>...</td>\n",
       "      <td>...</td>\n",
       "      <td>...</td>\n",
       "      <td>...</td>\n",
       "      <td>...</td>\n",
       "      <td>...</td>\n",
       "    </tr>\n",
       "    <tr>\n",
       "      <th>188</th>\n",
       "      <td>189</td>\n",
       "      <td>Papua New Guinea</td>\n",
       "      <td>Oceania</td>\n",
       "      <td>1953.800049</td>\n",
       "      <td>61,48333359</td>\n",
       "      <td>6474600</td>\n",
       "      <td>12.516666</td>\n",
       "    </tr>\n",
       "    <tr>\n",
       "      <th>189</th>\n",
       "      <td>190</td>\n",
       "      <td>Samoa</td>\n",
       "      <td>Oceania</td>\n",
       "      <td>4012.600098</td>\n",
       "      <td>71,53333282</td>\n",
       "      <td>181600</td>\n",
       "      <td>20.666668</td>\n",
       "    </tr>\n",
       "    <tr>\n",
       "      <th>190</th>\n",
       "      <td>191</td>\n",
       "      <td>Solomon Islands</td>\n",
       "      <td>Oceania</td>\n",
       "      <td>2249.199951</td>\n",
       "      <td>66,5</td>\n",
       "      <td>503617</td>\n",
       "      <td>17.766666</td>\n",
       "    </tr>\n",
       "    <tr>\n",
       "      <th>191</th>\n",
       "      <td>192</td>\n",
       "      <td>Tonga</td>\n",
       "      <td>Oceania</td>\n",
       "      <td>4072.199951</td>\n",
       "      <td>71,83333588</td>\n",
       "      <td>102550</td>\n",
       "      <td>23.266666</td>\n",
       "    </tr>\n",
       "    <tr>\n",
       "      <th>193</th>\n",
       "      <td>194</td>\n",
       "      <td>Vanuatu</td>\n",
       "      <td>Oceania</td>\n",
       "      <td>3809.800049</td>\n",
       "      <td>69,96666718</td>\n",
       "      <td>225317</td>\n",
       "      <td>24.500000</td>\n",
       "    </tr>\n",
       "  </tbody>\n",
       "</table>\n",
       "<p>179 rows × 7 columns</p>\n",
       "</div>"
      ],
      "text/plain": [
       "     Unnamed: 0           country   region           gdp         life  \\\n",
       "0             1           Algeria   Africa   7300.399902  72,31666565   \n",
       "1             2             Benin   Africa   1338.800049  54,73333359   \n",
       "2             3          Botswana   Africa  12307.400390        52,25   \n",
       "3             4      Burkina Faso   Africa   1063.400024  53,78333282   \n",
       "4             5           Burundi   Africa    349.200012  48,86666489   \n",
       "..          ...               ...      ...           ...          ...   \n",
       "188         189  Papua New Guinea  Oceania   1953.800049  61,48333359   \n",
       "189         190             Samoa  Oceania   4012.600098  71,53333282   \n",
       "190         191   Solomon Islands  Oceania   2249.199951         66,5   \n",
       "191         192             Tonga  Oceania   4072.199951  71,83333588   \n",
       "193         194           Vanuatu  Oceania   3809.800049  69,96666718   \n",
       "\n",
       "          pop      urban  \n",
       "0    34172236  64.933334  \n",
       "1     8237634  41.000000  \n",
       "2     1941233  59.250000  \n",
       "3    15308383  23.583334  \n",
       "4     7821783  10.250000  \n",
       "..        ...        ...  \n",
       "188   6474600  12.516666  \n",
       "189    181600  20.666668  \n",
       "190    503617  17.766666  \n",
       "191    102550  23.266666  \n",
       "193    225317  24.500000  \n",
       "\n",
       "[179 rows x 7 columns]"
      ]
     },
     "execution_count": 51,
     "metadata": {},
     "output_type": "execute_result"
    }
   ],
   "source": [
    "base.dropna() #dropna borra todas las entradas njumericas nulas "
   ]
  },
  {
   "cell_type": "code",
   "execution_count": 52,
   "metadata": {},
   "outputs": [
    {
     "data": {
      "text/html": [
       "<div>\n",
       "<style scoped>\n",
       "    .dataframe tbody tr th:only-of-type {\n",
       "        vertical-align: middle;\n",
       "    }\n",
       "\n",
       "    .dataframe tbody tr th {\n",
       "        vertical-align: top;\n",
       "    }\n",
       "\n",
       "    .dataframe thead th {\n",
       "        text-align: right;\n",
       "    }\n",
       "</style>\n",
       "<table border=\"1\" class=\"dataframe\">\n",
       "  <thead>\n",
       "    <tr style=\"text-align: right;\">\n",
       "      <th></th>\n",
       "      <th>Unnamed: 0</th>\n",
       "      <th>country</th>\n",
       "      <th>region</th>\n",
       "      <th>gdp</th>\n",
       "      <th>life</th>\n",
       "      <th>pop</th>\n",
       "      <th>urban</th>\n",
       "    </tr>\n",
       "  </thead>\n",
       "  <tbody>\n",
       "    <tr>\n",
       "      <th>0</th>\n",
       "      <td>1</td>\n",
       "      <td>Algeria</td>\n",
       "      <td>Africa</td>\n",
       "      <td>7300.399902</td>\n",
       "      <td>72,31666565</td>\n",
       "      <td>34172236</td>\n",
       "      <td>64.933334</td>\n",
       "    </tr>\n",
       "    <tr>\n",
       "      <th>1</th>\n",
       "      <td>2</td>\n",
       "      <td>Benin</td>\n",
       "      <td>Africa</td>\n",
       "      <td>1338.800049</td>\n",
       "      <td>54,73333359</td>\n",
       "      <td>8237634</td>\n",
       "      <td>41.000000</td>\n",
       "    </tr>\n",
       "    <tr>\n",
       "      <th>2</th>\n",
       "      <td>3</td>\n",
       "      <td>Botswana</td>\n",
       "      <td>Africa</td>\n",
       "      <td>12307.400390</td>\n",
       "      <td>52,25</td>\n",
       "      <td>1941233</td>\n",
       "      <td>59.250000</td>\n",
       "    </tr>\n",
       "    <tr>\n",
       "      <th>3</th>\n",
       "      <td>4</td>\n",
       "      <td>Burkina Faso</td>\n",
       "      <td>Africa</td>\n",
       "      <td>1063.400024</td>\n",
       "      <td>53,78333282</td>\n",
       "      <td>15308383</td>\n",
       "      <td>23.583334</td>\n",
       "    </tr>\n",
       "    <tr>\n",
       "      <th>4</th>\n",
       "      <td>5</td>\n",
       "      <td>Burundi</td>\n",
       "      <td>Africa</td>\n",
       "      <td>349.200012</td>\n",
       "      <td>48,86666489</td>\n",
       "      <td>7821783</td>\n",
       "      <td>10.250000</td>\n",
       "    </tr>\n",
       "    <tr>\n",
       "      <th>...</th>\n",
       "      <td>...</td>\n",
       "      <td>...</td>\n",
       "      <td>...</td>\n",
       "      <td>...</td>\n",
       "      <td>...</td>\n",
       "      <td>...</td>\n",
       "      <td>...</td>\n",
       "    </tr>\n",
       "    <tr>\n",
       "      <th>188</th>\n",
       "      <td>189</td>\n",
       "      <td>Papua New Guinea</td>\n",
       "      <td>Oceania</td>\n",
       "      <td>1953.800049</td>\n",
       "      <td>61,48333359</td>\n",
       "      <td>6474600</td>\n",
       "      <td>12.516666</td>\n",
       "    </tr>\n",
       "    <tr>\n",
       "      <th>189</th>\n",
       "      <td>190</td>\n",
       "      <td>Samoa</td>\n",
       "      <td>Oceania</td>\n",
       "      <td>4012.600098</td>\n",
       "      <td>71,53333282</td>\n",
       "      <td>181600</td>\n",
       "      <td>20.666668</td>\n",
       "    </tr>\n",
       "    <tr>\n",
       "      <th>190</th>\n",
       "      <td>191</td>\n",
       "      <td>Solomon Islands</td>\n",
       "      <td>Oceania</td>\n",
       "      <td>2249.199951</td>\n",
       "      <td>66,5</td>\n",
       "      <td>503617</td>\n",
       "      <td>17.766666</td>\n",
       "    </tr>\n",
       "    <tr>\n",
       "      <th>191</th>\n",
       "      <td>192</td>\n",
       "      <td>Tonga</td>\n",
       "      <td>Oceania</td>\n",
       "      <td>4072.199951</td>\n",
       "      <td>71,83333588</td>\n",
       "      <td>102550</td>\n",
       "      <td>23.266666</td>\n",
       "    </tr>\n",
       "    <tr>\n",
       "      <th>193</th>\n",
       "      <td>194</td>\n",
       "      <td>Vanuatu</td>\n",
       "      <td>Oceania</td>\n",
       "      <td>3809.800049</td>\n",
       "      <td>69,96666718</td>\n",
       "      <td>225317</td>\n",
       "      <td>24.500000</td>\n",
       "    </tr>\n",
       "  </tbody>\n",
       "</table>\n",
       "<p>190 rows × 7 columns</p>\n",
       "</div>"
      ],
      "text/plain": [
       "     Unnamed: 0           country   region           gdp         life  \\\n",
       "0             1           Algeria   Africa   7300.399902  72,31666565   \n",
       "1             2             Benin   Africa   1338.800049  54,73333359   \n",
       "2             3          Botswana   Africa  12307.400390        52,25   \n",
       "3             4      Burkina Faso   Africa   1063.400024  53,78333282   \n",
       "4             5           Burundi   Africa    349.200012  48,86666489   \n",
       "..          ...               ...      ...           ...          ...   \n",
       "188         189  Papua New Guinea  Oceania   1953.800049  61,48333359   \n",
       "189         190             Samoa  Oceania   4012.600098  71,53333282   \n",
       "190         191   Solomon Islands  Oceania   2249.199951         66,5   \n",
       "191         192             Tonga  Oceania   4072.199951  71,83333588   \n",
       "193         194           Vanuatu  Oceania   3809.800049  69,96666718   \n",
       "\n",
       "          pop      urban  \n",
       "0    34172236  64.933334  \n",
       "1     8237634  41.000000  \n",
       "2     1941233  59.250000  \n",
       "3    15308383  23.583334  \n",
       "4     7821783  10.250000  \n",
       "..        ...        ...  \n",
       "188   6474600  12.516666  \n",
       "189    181600  20.666668  \n",
       "190    503617  17.766666  \n",
       "191    102550  23.266666  \n",
       "193    225317  24.500000  \n",
       "\n",
       "[190 rows x 7 columns]"
      ]
     },
     "execution_count": 52,
     "metadata": {},
     "output_type": "execute_result"
    }
   ],
   "source": [
    "base.drop(base[(base['gdp'].isnull()) & (base['region']=='Oceania')].index)\n",
    "#.drop nos permite borrar características especifícas de cada variable\n",
    "# dataset.drop(dataset[dataset['columna1']].index)"
   ]
  },
  {
   "cell_type": "code",
   "execution_count": 53,
   "metadata": {},
   "outputs": [],
   "source": [
    "base2=base.dropna() #dropna borra todas las entradas númericas nulas"
   ]
  },
  {
   "cell_type": "markdown",
   "metadata": {},
   "source": [
    "## Ejemplo 2"
   ]
  },
  {
   "cell_type": "code",
   "execution_count": 55,
   "metadata": {},
   "outputs": [],
   "source": [
    "bike=pd.read_excel(\"bike_price.xlsx\",engine=\"openpyxl\")"
   ]
  },
  {
   "cell_type": "code",
   "execution_count": 56,
   "metadata": {},
   "outputs": [
    {
     "name": "stdout",
     "output_type": "stream",
     "text": [
      "<class 'pandas.core.frame.DataFrame'>\n",
      "RangeIndex: 276 entries, 0 to 275\n",
      "Data columns (total 6 columns):\n",
      " #   Column            Non-Null Count  Dtype  \n",
      "---  ------            --------------  -----  \n",
      " 0   Bike_Age          276 non-null    float64\n",
      " 1   Brand_Popularity  276 non-null    int64  \n",
      " 2   Mileage           276 non-null    int64  \n",
      " 3   Gear_Count        276 non-null    int64  \n",
      " 4   Price             276 non-null    float64\n",
      " 5   Bike_Weight       276 non-null    float64\n",
      "dtypes: float64(3), int64(3)\n",
      "memory usage: 13.1 KB\n"
     ]
    }
   ],
   "source": [
    "bike.info()"
   ]
  },
  {
   "cell_type": "code",
   "execution_count": 59,
   "metadata": {},
   "outputs": [
    {
     "data": {
      "text/plain": [
       "0      False\n",
       "1       True\n",
       "2       True\n",
       "3       True\n",
       "4      False\n",
       "       ...  \n",
       "271     True\n",
       "272     True\n",
       "273     True\n",
       "274     True\n",
       "275     True\n",
       "Name: Bike_Weight, Length: 276, dtype: bool"
      ]
     },
     "execution_count": 59,
     "metadata": {},
     "output_type": "execute_result"
    }
   ],
   "source": [
    "bike['Bike_Weight']>10"
   ]
  },
  {
   "cell_type": "code",
   "execution_count": 60,
   "metadata": {},
   "outputs": [],
   "source": [
    "bike1=bike[bike['Bike_Weight']>10]"
   ]
  },
  {
   "cell_type": "code",
   "execution_count": 61,
   "metadata": {},
   "outputs": [
    {
     "data": {
      "text/plain": [
       "<bound method DataFrame.sum of      Bike_Age  Brand_Popularity  Mileage  Gear_Count  Price  Bike_Weight\n",
       "0       False             False    False       False  False        False\n",
       "1       False             False    False       False  False        False\n",
       "2       False             False    False       False  False        False\n",
       "3       False             False    False       False  False        False\n",
       "4       False             False    False       False  False        False\n",
       "..        ...               ...      ...         ...    ...          ...\n",
       "271     False             False    False       False  False        False\n",
       "272     False             False    False       False  False        False\n",
       "273     False             False    False       False  False        False\n",
       "274     False             False    False       False  False        False\n",
       "275     False             False    False       False  False        False\n",
       "\n",
       "[276 rows x 6 columns]>"
      ]
     },
     "execution_count": 61,
     "metadata": {},
     "output_type": "execute_result"
    }
   ],
   "source": [
    "bike.isnull().sum"
   ]
  },
  {
   "cell_type": "markdown",
   "metadata": {},
   "source": [
    "### 5. Ordenar la columna Bike_Age de manera descendente"
   ]
  },
  {
   "cell_type": "code",
   "execution_count": 64,
   "metadata": {},
   "outputs": [
    {
     "data": {
      "text/html": [
       "<div>\n",
       "<style scoped>\n",
       "    .dataframe tbody tr th:only-of-type {\n",
       "        vertical-align: middle;\n",
       "    }\n",
       "\n",
       "    .dataframe tbody tr th {\n",
       "        vertical-align: top;\n",
       "    }\n",
       "\n",
       "    .dataframe thead th {\n",
       "        text-align: right;\n",
       "    }\n",
       "</style>\n",
       "<table border=\"1\" class=\"dataframe\">\n",
       "  <thead>\n",
       "    <tr style=\"text-align: right;\">\n",
       "      <th></th>\n",
       "      <th>Bike_Age</th>\n",
       "      <th>Brand_Popularity</th>\n",
       "      <th>Mileage</th>\n",
       "      <th>Gear_Count</th>\n",
       "      <th>Price</th>\n",
       "      <th>Bike_Weight</th>\n",
       "    </tr>\n",
       "  </thead>\n",
       "  <tbody>\n",
       "    <tr>\n",
       "      <th>252</th>\n",
       "      <td>9.9</td>\n",
       "      <td>25</td>\n",
       "      <td>3292</td>\n",
       "      <td>18</td>\n",
       "      <td>2363.24</td>\n",
       "      <td>13.8</td>\n",
       "    </tr>\n",
       "    <tr>\n",
       "      <th>16</th>\n",
       "      <td>9.9</td>\n",
       "      <td>15</td>\n",
       "      <td>1680</td>\n",
       "      <td>27</td>\n",
       "      <td>538.47</td>\n",
       "      <td>9.4</td>\n",
       "    </tr>\n",
       "    <tr>\n",
       "      <th>123</th>\n",
       "      <td>9.9</td>\n",
       "      <td>25</td>\n",
       "      <td>4612</td>\n",
       "      <td>24</td>\n",
       "      <td>-109.75</td>\n",
       "      <td>7.9</td>\n",
       "    </tr>\n",
       "    <tr>\n",
       "      <th>167</th>\n",
       "      <td>9.8</td>\n",
       "      <td>98</td>\n",
       "      <td>2413</td>\n",
       "      <td>24</td>\n",
       "      <td>16424.99</td>\n",
       "      <td>8.5</td>\n",
       "    </tr>\n",
       "    <tr>\n",
       "      <th>88</th>\n",
       "      <td>9.7</td>\n",
       "      <td>32</td>\n",
       "      <td>3628</td>\n",
       "      <td>24</td>\n",
       "      <td>4325.64</td>\n",
       "      <td>14.1</td>\n",
       "    </tr>\n",
       "    <tr>\n",
       "      <th>...</th>\n",
       "      <td>...</td>\n",
       "      <td>...</td>\n",
       "      <td>...</td>\n",
       "      <td>...</td>\n",
       "      <td>...</td>\n",
       "      <td>...</td>\n",
       "    </tr>\n",
       "    <tr>\n",
       "      <th>269</th>\n",
       "      <td>0.6</td>\n",
       "      <td>67</td>\n",
       "      <td>3716</td>\n",
       "      <td>21</td>\n",
       "      <td>13908.83</td>\n",
       "      <td>9.3</td>\n",
       "    </tr>\n",
       "    <tr>\n",
       "      <th>67</th>\n",
       "      <td>0.6</td>\n",
       "      <td>70</td>\n",
       "      <td>2714</td>\n",
       "      <td>18</td>\n",
       "      <td>14319.92</td>\n",
       "      <td>13.4</td>\n",
       "    </tr>\n",
       "    <tr>\n",
       "      <th>194</th>\n",
       "      <td>0.6</td>\n",
       "      <td>51</td>\n",
       "      <td>4020</td>\n",
       "      <td>18</td>\n",
       "      <td>12924.85</td>\n",
       "      <td>9.7</td>\n",
       "    </tr>\n",
       "    <tr>\n",
       "      <th>106</th>\n",
       "      <td>0.6</td>\n",
       "      <td>60</td>\n",
       "      <td>4667</td>\n",
       "      <td>21</td>\n",
       "      <td>14149.72</td>\n",
       "      <td>10.3</td>\n",
       "    </tr>\n",
       "    <tr>\n",
       "      <th>70</th>\n",
       "      <td>0.5</td>\n",
       "      <td>59</td>\n",
       "      <td>843</td>\n",
       "      <td>21</td>\n",
       "      <td>14748.27</td>\n",
       "      <td>13.2</td>\n",
       "    </tr>\n",
       "  </tbody>\n",
       "</table>\n",
       "<p>276 rows × 6 columns</p>\n",
       "</div>"
      ],
      "text/plain": [
       "     Bike_Age  Brand_Popularity  Mileage  Gear_Count     Price  Bike_Weight\n",
       "252       9.9                25     3292          18   2363.24         13.8\n",
       "16        9.9                15     1680          27    538.47          9.4\n",
       "123       9.9                25     4612          24   -109.75          7.9\n",
       "167       9.8                98     2413          24  16424.99          8.5\n",
       "88        9.7                32     3628          24   4325.64         14.1\n",
       "..        ...               ...      ...         ...       ...          ...\n",
       "269       0.6                67     3716          21  13908.83          9.3\n",
       "67        0.6                70     2714          18  14319.92         13.4\n",
       "194       0.6                51     4020          18  12924.85          9.7\n",
       "106       0.6                60     4667          21  14149.72         10.3\n",
       "70        0.5                59      843          21  14748.27         13.2\n",
       "\n",
       "[276 rows x 6 columns]"
      ]
     },
     "execution_count": 64,
     "metadata": {},
     "output_type": "execute_result"
    }
   ],
   "source": [
    " #Hemos ordenado las entradas de esta columna de manera descendente con la funcion sort\n",
    "bike.sort_values(by=['Bike_Age'],ascending=False)"
   ]
  },
  {
   "cell_type": "markdown",
   "metadata": {},
   "source": [
    "# Estadistica Descriptiva"
   ]
  },
  {
   "cell_type": "markdown",
   "metadata": {},
   "source": [
    "## Medidas de tendencia central:\n",
    "Las medidas de tendencia central, o medidas de centralización, son métricas estadísticas que indican el valor central de una distribución. Es decir, las medidas de tendencia central sirven para encontrar un valor representativo del centro de un conjunto de datos. Estas son:\n",
    "\n",
    "1. Media muestral\n",
    "2.  Moda muestral\n",
    "3. Mediana Muestral"
   ]
  },
  {
   "cell_type": "markdown",
   "metadata": {},
   "source": [
    "**Definición: Media Muestral**\n",
    "\n",
    "Si las $n$ observaciones de una muestra se denotan por $x_1,x_2,\\cdots,x_n$, entonces\n",
    "$$\n",
    "\\bar{x}=\\frac{x_1+x_2+\\cdots+x_n}{n}=\\frac{\\sum_{i=1}^n x_i}{n}\n",
    "$$\n",
    "\n",
    "n= tamaño de la muestra\n",
    "\n",
    "**Observación:**\n",
    "\n",
    "Cuando disponemos de una tabla de datos acomulados, la media muestral se define como\n",
    "$$\n",
    "\\bar{x}=\\dfrac{\\sum_i^n x_i f_i}{n}\n",
    "$$\n",
    "\n",
    "con,\n",
    "\n",
    "$x_i=$ marca de clase\n",
    "\n",
    "$f_i=$ frecuencia acomulada"
   ]
  },
  {
   "cell_type": "markdown",
   "metadata": {},
   "source": [
    "### Histograma\n",
    "\n",
    "Un histograma es un diagrama en el que se representa un conjunto de datos estadísticos mediante barras rectangulares, de manera que cada barra del histograma es proporcional a su frecuencia correspondiente.\n",
    "\n",
    "Los histogramas sirven para representar gráficamente variables continua."
   ]
  },
  {
   "cell_type": "markdown",
   "metadata": {},
   "source": [
    "### Gráfica de barras\n",
    "\n",
    "Una gráfica de barras, es una manera  de representar datos, mediante barras verticales u horizontales. La longitud de estas es proporcional a la magnitud que representan."
   ]
  },
  {
   "cell_type": "markdown",
   "metadata": {},
   "source": [
    "**Ejemplo**\n",
    "\n",
    "La base de datos ‘tips‘ es un conjunto de datos que contiene información relacionada con propinas recolectadas\n",
    "en un restaurante. El objetivo de su análisis es identificar y describir las características clave de las variables\n",
    "que influyen en las propinas, así como las relaciones entre estas variables. Los datos contienen información sobre\n",
    "las cuentas totales, propinas, características de los clientes (como su sexo y si son fumadores o no), además del\n",
    "contexto temporal (día de la semana y momento del día en que se realizó la observación).\n",
    "\n",
    "\n",
    "Para desarrollar esta actividad necesita cargar la base de datos desde la libreria seaborn siguiendo los siguientes\n",
    "pasos:\n",
    "\n",
    "Paso 1: Importar la librería seaborn utilizando import seaborn as ``sns``.\n",
    "\n",
    "Paso 2: Cargar la base de datos de la librería utilizando ``sns.load dataset(\"tips\")``.\n",
    "Utilizando las librerías y funciones adecuada, responda las siguientes preguntas."
   ]
  },
  {
   "cell_type": "markdown",
   "metadata": {},
   "source": [
    "### 1. Determinar la propina media, que seule dejar el grupo de los fumadores"
   ]
  },
  {
   "cell_type": "code",
   "execution_count": 68,
   "metadata": {},
   "outputs": [],
   "source": [
    "import seaborn as sns\n",
    "import numpy as np"
   ]
  },
  {
   "cell_type": "code",
   "execution_count": 71,
   "metadata": {},
   "outputs": [],
   "source": [
    "#tips es una base de datos que viene dentro de la libraria seaborn, precargadas en python\n",
    "tip=sns.load_dataset('tips') \n",
    "# total_bill= cuenta total\n",
    "# tip= propina\n",
    "# sex= sexo\n",
    "#smoker= fumador o no\n",
    "#time= el momento del día donde se realizó la observación\n",
    "# day= día de la semana donde se realizó la observación\n",
    "#size= tamaño de la mesa"
   ]
  },
  {
   "cell_type": "code",
   "execution_count": 72,
   "metadata": {},
   "outputs": [],
   "source": [
    "smokers=tip[tip['smoker']=='Yes'] # Hemos extraido la propina media de los fumadores"
   ]
  },
  {
   "cell_type": "markdown",
   "metadata": {},
   "source": [
    "$$\n",
    "\\bar{x}=\\frac{x_1+x_2+\\cdots+x_n}{n}=\\frac{\\sum_{i=1}^n x_i}{n}\n",
    "$$"
   ]
  },
  {
   "cell_type": "code",
   "execution_count": 75,
   "metadata": {},
   "outputs": [],
   "source": [
    "media=smokers['tip'].mean() #Calcular la propina media del grupo antes mencionado"
   ]
  },
  {
   "cell_type": "code",
   "execution_count": 76,
   "metadata": {},
   "outputs": [
    {
     "name": "stdout",
     "output_type": "stream",
     "text": [
      "La propina media del grupo de fumadores es: 3.00871\n"
     ]
    }
   ],
   "source": [
    "print(f\"La propina media del grupo de fumadores es: {round(media,5)}\")"
   ]
  },
  {
   "cell_type": "markdown",
   "metadata": {},
   "source": [
    "### 2. Realice un histograma que permita visualizar la curva de densidad y la media de la variable 'tip' bajo estás condiciones. Además, importar a su computador esta imagen"
   ]
  },
  {
   "cell_type": "code",
   "execution_count": 79,
   "metadata": {},
   "outputs": [],
   "source": [
    "import matplotlib.pyplot as plt #Al igual que seaborn, matplotlib nos permite trbajar con grafica "
   ]
  },
  {
   "cell_type": "code",
   "execution_count": 94,
   "metadata": {},
   "outputs": [
    {
     "data": {
      "image/png": "[encoded data removed]",
      "text/plain": [
       "<Figure size 1000x800 with 1 Axes>"
      ]
     },
     "metadata": {},
     "output_type": "display_data"
    }
   ],
   "source": [
    "fig=plt.figure(figsize=(10,8))\n",
    "sns.histplot(smokers['tip'], kde=True, bins=20, color='black')\n",
    "#La propina media\n",
    "plt.axvline(media, color='red', linestyle=':', label=f'media={round(media,2)}') #\n",
    "plt.legend() #Visualizar las etiquetas\n",
    "plt.title('Histograma')\n",
    "plt.savefig('histograma.png')\n",
    "plt.show() #plt.show() termina la grafica\n",
    "#Se debe visualizar la media de las propinas correspondiente a este grupo\n"
   ]
  },
  {
   "cell_type": "markdown",
   "metadata": {},
   "source": [
    "### 3. Determinar el total facturado medio, correspondiente a las mesas que son ocupadas por 3 individuos o más y que asisten a cenar."
   ]
  },
  {
   "cell_type": "code",
   "execution_count": 95,
   "metadata": {},
   "outputs": [
    {
     "name": "stdout",
     "output_type": "stream",
     "text": [
      "<class 'pandas.core.frame.DataFrame'>\n",
      "RangeIndex: 244 entries, 0 to 243\n",
      "Data columns (total 7 columns):\n",
      " #   Column      Non-Null Count  Dtype   \n",
      "---  ------      --------------  -----   \n",
      " 0   total_bill  244 non-null    float64 \n",
      " 1   tip         244 non-null    float64 \n",
      " 2   sex         244 non-null    category\n",
      " 3   smoker      244 non-null    category\n",
      " 4   day         244 non-null    category\n",
      " 5   time        244 non-null    category\n",
      " 6   size        244 non-null    int64   \n",
      "dtypes: category(4), float64(2), int64(1)\n",
      "memory usage: 7.4 KB\n"
     ]
    }
   ],
   "source": [
    "tip.info()"
   ]
  },
  {
   "cell_type": "code",
   "execution_count": 98,
   "metadata": {},
   "outputs": [
    {
     "data": {
      "text/html": [
       "<div>\n",
       "<style scoped>\n",
       "    .dataframe tbody tr th:only-of-type {\n",
       "        vertical-align: middle;\n",
       "    }\n",
       "\n",
       "    .dataframe tbody tr th {\n",
       "        vertical-align: top;\n",
       "    }\n",
       "\n",
       "    .dataframe thead th {\n",
       "        text-align: right;\n",
       "    }\n",
       "</style>\n",
       "<table border=\"1\" class=\"dataframe\">\n",
       "  <thead>\n",
       "    <tr style=\"text-align: right;\">\n",
       "      <th></th>\n",
       "      <th>total_bill</th>\n",
       "      <th>tip</th>\n",
       "      <th>sex</th>\n",
       "      <th>smoker</th>\n",
       "      <th>day</th>\n",
       "      <th>time</th>\n",
       "      <th>size</th>\n",
       "    </tr>\n",
       "  </thead>\n",
       "  <tbody>\n",
       "    <tr>\n",
       "      <th>4</th>\n",
       "      <td>24.59</td>\n",
       "      <td>3.61</td>\n",
       "      <td>Female</td>\n",
       "      <td>No</td>\n",
       "      <td>Sun</td>\n",
       "      <td>Dinner</td>\n",
       "      <td>4</td>\n",
       "    </tr>\n",
       "    <tr>\n",
       "      <th>5</th>\n",
       "      <td>25.29</td>\n",
       "      <td>4.71</td>\n",
       "      <td>Male</td>\n",
       "      <td>No</td>\n",
       "      <td>Sun</td>\n",
       "      <td>Dinner</td>\n",
       "      <td>4</td>\n",
       "    </tr>\n",
       "    <tr>\n",
       "      <th>7</th>\n",
       "      <td>26.88</td>\n",
       "      <td>3.12</td>\n",
       "      <td>Male</td>\n",
       "      <td>No</td>\n",
       "      <td>Sun</td>\n",
       "      <td>Dinner</td>\n",
       "      <td>4</td>\n",
       "    </tr>\n",
       "    <tr>\n",
       "      <th>11</th>\n",
       "      <td>35.26</td>\n",
       "      <td>5.00</td>\n",
       "      <td>Female</td>\n",
       "      <td>No</td>\n",
       "      <td>Sun</td>\n",
       "      <td>Dinner</td>\n",
       "      <td>4</td>\n",
       "    </tr>\n",
       "    <tr>\n",
       "      <th>13</th>\n",
       "      <td>18.43</td>\n",
       "      <td>3.00</td>\n",
       "      <td>Male</td>\n",
       "      <td>No</td>\n",
       "      <td>Sun</td>\n",
       "      <td>Dinner</td>\n",
       "      <td>4</td>\n",
       "    </tr>\n",
       "  </tbody>\n",
       "</table>\n",
       "</div>"
      ],
      "text/plain": [
       "    total_bill   tip     sex smoker  day    time  size\n",
       "4        24.59  3.61  Female     No  Sun  Dinner     4\n",
       "5        25.29  4.71    Male     No  Sun  Dinner     4\n",
       "7        26.88  3.12    Male     No  Sun  Dinner     4\n",
       "11       35.26  5.00  Female     No  Sun  Dinner     4\n",
       "13       18.43  3.00    Male     No  Sun  Dinner     4"
      ]
     },
     "execution_count": 98,
     "metadata": {},
     "output_type": "execute_result"
    }
   ],
   "source": [
    "#size = corresponde al tamanho de la mesa\n",
    "#time = momento del dia donde se realizo la observacion/ \n",
    "tip[(tip['size']>3) & (tip['time']=='Dinner')].head()"
   ]
  },
  {
   "cell_type": "code",
   "execution_count": 101,
   "metadata": {},
   "outputs": [
    {
     "name": "stdout",
     "output_type": "stream",
     "text": [
      "La factura promedio es: 28.82\n"
     ]
    }
   ],
   "source": [
    "factura_media=tip[(tip['size']>3) & (tip['time']=='Dinner')]['total_bill'].mean()\n",
    "print(f\"La factura promedio es: {round(factura_media,2)}\")"
   ]
  },
  {
   "cell_type": "markdown",
   "metadata": {},
   "source": [
    "### 4. Realizar una gráfica de barras para el momento del día donde se realizó la transacción y el total promedio facturado"
   ]
  },
  {
   "cell_type": "markdown",
   "metadata": {},
   "source": [
    "**Gráfica de barras**\n",
    "\n",
    "Una gráfica de barras, es una manera  de representar datos, mediante barras verticales u horizontales. La longitud de estas es proporcional a la magnitud que representan."
   ]
  },
  {
   "cell_type": "code",
   "execution_count": 105,
   "metadata": {},
   "outputs": [
    {
     "data": {
      "image/png": "[encoded data removed]",
      "text/plain": [
       "<Figure size 600x500 with 1 Axes>"
      ]
     },
     "metadata": {},
     "output_type": "display_data"
    }
   ],
   "source": [
    "#Gráfica de barras para el momento del día donde se realizó la transacción y el total de la cuenta, agrupar por sexos la variable time\n",
    "#hue= Agrupar por categorias\n",
    "fig=plt.figure(figsize=(6,5))\n",
    "sns.barplot(x='total_bill', y='time', data=tip,errorbar=None) #de seaborn exportamos la grafica de barras\n",
    "plt.show()"
   ]
  },
  {
   "cell_type": "code",
   "execution_count": 106,
   "metadata": {},
   "outputs": [
    {
     "data": {
      "image/png": "[encoded data removed]",
      "text/plain": [
       "<Figure size 600x500 with 1 Axes>"
      ]
     },
     "metadata": {},
     "output_type": "display_data"
    }
   ],
   "source": [
    "# subcategorias\n",
    "# Agrupar por subcategoria smoker\n",
    "fig=plt.figure(figsize=(6,5))\n",
    "sns.barplot(x='total_bill',y='time',data=tip,estimator='mean',errorbar=None,hue='smoker') # de seaborn exportamos la gráfica de barras\n",
    "plt.show()"
   ]
  },
  {
   "cell_type": "code",
   "execution_count": 107,
   "metadata": {},
   "outputs": [
    {
     "data": {
      "text/plain": [
       "count    244.000000\n",
       "mean      19.785943\n",
       "std        8.902412\n",
       "min        3.070000\n",
       "25%       13.347500\n",
       "50%       17.795000\n",
       "75%       24.127500\n",
       "max       50.810000\n",
       "Name: total_bill, dtype: float64"
      ]
     },
     "execution_count": 107,
     "metadata": {},
     "output_type": "execute_result"
    }
   ],
   "source": [
    "tip['total_bill'].describe()"
   ]
  }
 ],
 "metadata": {
  "kernelspec": {
   "display_name": "env",
   "language": "python",
   "name": "python3"
  },
  "language_info": {
   "codemirror_mode": {
    "name": "ipython",
    "version": 3
   },
   "file_extension": ".py",
   "mimetype": "text/x-python",
   "name": "python",
   "nbconvert_exporter": "python",
   "pygments_lexer": "ipython3",
   "version": "3.12.2"
  }
 },
 "nbformat": 4,
 "nbformat_minor": 2
}
