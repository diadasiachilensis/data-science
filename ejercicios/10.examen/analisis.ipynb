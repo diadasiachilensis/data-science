{
 "cells": [
  {
   "cell_type": "markdown",
   "id": "fc47aca2",
   "metadata": {},
   "source": [
    "# Tendencias mundiales realcionadas con la economia"
   ]
  },
  {
   "cell_type": "markdown",
   "id": "01e27bd9",
   "metadata": {
    "vscode": {
     "languageId": "plaintext"
    }
   },
   "source": [
    "## 📚 Librerias"
   ]
  },
  {
   "cell_type": "code",
   "execution_count": 16,
   "id": "cbf76d84",
   "metadata": {},
   "outputs": [],
   "source": [
    "import pandas as pd\n",
    "import pandas as pd\n",
    "import scipy.stats as ss\n",
    "import numpy as np\n",
    "import matplotlib.pyplot as plt\n",
    "import seaborn as sns\n",
    "#Pruebas estadisticas \n",
    "from scipy import stats\n",
    "#Prueba t de student de una cola\n",
    "from scipy.stats import ttest_ind\n",
    "#Regresion multiple\n",
    "import statsmodels.api as sm"
   ]
  },
  {
   "cell_type": "markdown",
   "id": "889fe0ed",
   "metadata": {},
   "source": [
    "## 📄📥 Cargar el archivo"
   ]
  },
  {
   "cell_type": "code",
   "execution_count": 5,
   "id": "c38dde4e",
   "metadata": {},
   "outputs": [
    {
     "data": {
      "text/plain": [
       "(                                                           ;country;region;gdp;life;pop;urban\n",
       " 1;Algeria;Africa;7300      399902;72  31666565;34172236;64                           93333435\n",
       " 2;Benin;Africa;1338        800049;54  73333359;8237634;41                                 NaN\n",
       " 3;Botswana;Africa;12307    40039;52   25;1941233;59                                        25\n",
       " 4;Burkina Faso;Africa;1063 400024;53  78333282;15308383;23                           58333397\n",
       " 5;Burundi;Africa;349       2000122;48 86666489;7821783;10                                  25,\n",
       " Index([';country;region;gdp;life;pop;urban'], dtype='object'))"
      ]
     },
     "execution_count": 5,
     "metadata": {},
     "output_type": "execute_result"
    }
   ],
   "source": [
    "# Cargar el archivo\n",
    "file_path = 'nations_gdp_life_pop_urban.csv'\n",
    "df = pd.read_csv(file_path)\n",
    "\n",
    "# Mostrar las primeras filas y nombres de columnas para entender la estructura\n",
    "df.head(), df.columns"
   ]
  },
  {
   "cell_type": "markdown",
   "id": "b8063fdd",
   "metadata": {},
   "source": [
    "### Corregir data "
   ]
  },
  {
   "cell_type": "code",
   "execution_count": 6,
   "id": "425e8fe1",
   "metadata": {},
   "outputs": [
    {
     "data": {
      "text/plain": [
       "(   Unnamed: 0       country  region          gdp         life       pop  \\\n",
       " 0           1       Algeria  Africa  7300,399902  72,31666565  34172236   \n",
       " 1           2         Benin  Africa  1338,800049  54,73333359   8237634   \n",
       " 2           3      Botswana  Africa  12307,40039        52,25   1941233   \n",
       " 3           4  Burkina Faso  Africa  1063,400024  53,78333282  15308383   \n",
       " 4           5       Burundi  Africa  349,2000122  48,86666489   7821783   \n",
       " \n",
       "          urban  \n",
       " 0  64,93333435  \n",
       " 1           41  \n",
       " 2        59,25  \n",
       " 3  23,58333397  \n",
       " 4        10,25  ,\n",
       " Index(['Unnamed: 0', 'country', 'region', 'gdp', 'life', 'pop', 'urban'], dtype='object'))"
      ]
     },
     "execution_count": 6,
     "metadata": {},
     "output_type": "execute_result"
    }
   ],
   "source": [
    "# Leer el archivo correctamente separando por punto y coma\n",
    "df_fixed = pd.read_csv(file_path, sep=';')\n",
    "\n",
    "# Mostrar las primeras filas y los nombres de columnas corregidos\n",
    "df_fixed.head(), df_fixed.columns"
   ]
  },
  {
   "cell_type": "markdown",
   "id": "a535bc51",
   "metadata": {},
   "source": [
    "## 🔍 Explorar datos Nulos NaN "
   ]
  },
  {
   "cell_type": "code",
   "execution_count": 9,
   "id": "6b82b6ab",
   "metadata": {},
   "outputs": [
    {
     "data": {
      "text/plain": [
       ";country;region;gdp;life;pop;urban    56\n",
       "dtype: int64"
      ]
     },
     "execution_count": 9,
     "metadata": {},
     "output_type": "execute_result"
    }
   ],
   "source": [
    "df.isnull().sum()"
   ]
  },
  {
   "cell_type": "markdown",
   "id": "bf72c3bb",
   "metadata": {},
   "source": [
    "## 🎯 Resolver problema 1 \n",
    "\n",
    "Se sabe que el porcentaje promedio de urbanizacion en Europa ha estado aumentando en las ultimas decadas. Un informe reciente sugiere que el porcentaje de urbanizacion promedio en el continente\n",
    "ha superado el 75%. Sin embargo, un grupo de investigadores desea verificar si el porcentaje de urbanizacion promedio en Europa sigue siendo igual o menor al 75%. Corroborar esta informacion, considerando $\\alpha$ = 5%"
   ]
  },
  {
   "cell_type": "markdown",
   "id": "16d15c0a",
   "metadata": {},
   "source": [
    "### Limpiar la columna urban \n",
    "\n",
    "Voy a limpiar la columna `urban` para convertirla a valores numéricos y luego filtrar los países de Europa para realizar una prueba de hipótesis (one-sample t-test) y verificar si el porcentaje promedio de urbanización es ≤ 75%. "
   ]
  },
  {
   "cell_type": "markdown",
   "id": "19b89d9f",
   "metadata": {},
   "source": [
    "### Reemplazar comas por puntos y convertir a nuemrico, error como NaN "
   ]
  },
  {
   "cell_type": "code",
   "execution_count": null,
   "id": "3b0c1b29",
   "metadata": {},
   "outputs": [],
   "source": [
    "df_fixed['urban'] = df_fixed['urban'].astype(str).str.replace(',', '.')\n",
    "df_fixed['urban'] = pd.to_numeric(df_fixed['urban'], errors='coerce')\n"
   ]
  },
  {
   "cell_type": "markdown",
   "id": "719717ab",
   "metadata": {},
   "source": [
    "### Eliminar valores nulos en urban"
   ]
  },
  {
   "cell_type": "code",
   "execution_count": 14,
   "id": "7e3c7660",
   "metadata": {},
   "outputs": [],
   "source": [
    "df_europe = df_fixed[df_fixed['region'] == 'Europe']\n",
    "urban_europe = df_europe['urban'].dropna()"
   ]
  },
  {
   "cell_type": "markdown",
   "id": "d5ac30f5",
   "metadata": {},
   "source": [
    "### **🧪 t de Student de una muestra**\n",
    "\n",
    "Es una prueba estadística utilizada para comparar la media de una muestra con un valor de referencia conocido o asumido de la población. Se aplica cuando:\n",
    "\n",
    "- No se conoce la desviación estándar poblacional (σ).\n",
    "- Se trabaja con una muestra relativamente pequeña (n < 30~50, aunque en este caso tenemos n=43).\n",
    "- Los datos se pueden suponer aproximadamente normales (aunque con más de 30 datos, se invoca el Teorema Central del Límite).\n",
    "\n",
    "**Variable de interés** \n",
    "Porcentaje de urbanización (urban) en países de Europa.\n",
    "\n",
    "**Muestra**\n",
    "Países europeos en el dataset (n = 43).\n",
    "Valor de referencia (μ₀): 75%.\n",
    "\n",
    "**Hipótesis:**\n",
    "H₀: μ ≤ 75 (la urbanización promedio no ha superado el 75%).\n",
    "H₁: μ > 75 (la urbanización promedio ha superado el 75%).\n"
   ]
  },
  {
   "cell_type": "code",
   "execution_count": 15,
   "id": "3fbf9bb9",
   "metadata": {},
   "outputs": [
    {
     "name": "stdout",
     "output_type": "stream",
     "text": [
      "Media observada de urbanización: 70.06%\n",
      "Valor t: -1.9481\n",
      "Valor p (una cola): 0.0291\n",
      "Hipótesis nula: El porcentaje promedio de urbanización en Europa es ≤ 75%\n",
      "Hipótesis alternativa: El porcentaje promedio de urbanización en Europa es > 75%\n",
      "❌ Se rechaza la hipótesis nula: La evidencia sugiere que el promedio NO es menor o igual a 75%.\n"
     ]
    }
   ],
   "source": [
    "# Obtener media y tamaño muestral\n",
    "mean_urban = urban_europe.mean()\n",
    "n = len(urban_europe)\n",
    "\n",
    "# Repetimos el análisis para agregar interpretación sobre la hipótesis planteada\n",
    "\n",
    "# Prueba t de una muestra: H0: μ ≤ 75 vs H1: μ > 75\n",
    "t_stat, p_value = stats.ttest_1samp(urban_europe, popmean=75)\n",
    "p_value_one_tailed = p_value / 2\n",
    "\n",
    "# Imprimir resultados\n",
    "print(f\"Media observada de urbanización: {mean_urban:.2f}%\")\n",
    "print(f\"Valor t: {t_stat:.4f}\")\n",
    "print(f\"Valor p (una cola): {p_value_one_tailed:.4f}\")\n",
    "print(\"Hipótesis nula: El porcentaje promedio de urbanización en Europa es ≤ 75%\")\n",
    "print(\"Hipótesis alternativa: El porcentaje promedio de urbanización en Europa es > 75%\")\n",
    "\n",
    "# Decisión\n",
    "if p_value_one_tailed < 0.05:\n",
    "    print(\"❌ Se rechaza la hipótesis nula: La evidencia sugiere que el promedio NO es menor o igual a 75%.\")\n",
    "else:\n",
    "    print(\"✅ No se rechaza la hipótesis nula: No hay evidencia suficiente para afirmar que supera el 75%.\")"
   ]
  },
  {
   "cell_type": "markdown",
   "id": "37a682f2",
   "metadata": {},
   "source": [
    "### ✅ **Conclusión basada en la prueba de hipótesis**\n",
    "\n",
    "A partir de los datos analizados sobre el porcentaje de urbanización en los países de Europa, se realizó una prueba de hipótesis con un nivel de significancia del 5% ($\\alpha = 0.05$) para contrastar si el porcentaje promedio de urbanización sigue siendo igual o menor al 75%.\n",
    "\n",
    "La prueba estadística arrojó un valor $t = -1{,}9481$ y un valor $p = 0{,}0291$. Dado que $p < \\alpha$, se **rechaza la hipótesis nula**, lo que sugiere que el porcentaje promedio **no es menor o igual al 75%**.\n",
    "\n",
    "No obstante, como el valor t obtenido es negativo, esto indica que la media observada es **inferior al valor de referencia** (70.06% < 75%). Por tanto, aunque estadísticamente se rechaza la hipótesis nula, los datos **no respaldan la afirmación del informe reciente** que sugiere que el promedio ha superado el 75%. Por el contrario, la evidencia muestra que el promedio actual está **por debajo del 75%**.\n"
   ]
  },
  {
   "cell_type": "markdown",
   "id": "fac2f790",
   "metadata": {},
   "source": [
    "## 🎯 Resolver problema 2\n",
    "\n",
    "Desarrolla un modelo de regresion lineal multiple donde la variable explicada sea la esperanza de vida\n",
    "al nacer, ademas procede a analizar la significancia de cada una de las variables y de ser necesario,\n",
    "redefinir el modelo"
   ]
  },
  {
   "cell_type": "markdown",
   "id": "5542fde8",
   "metadata": {},
   "source": []
  }
 ],
 "metadata": {
  "kernelspec": {
   "display_name": "Python 3",
   "language": "python",
   "name": "python3"
  },
  "language_info": {
   "codemirror_mode": {
    "name": "ipython",
    "version": 3
   },
   "file_extension": ".py",
   "mimetype": "text/x-python",
   "name": "python",
   "nbconvert_exporter": "python",
   "pygments_lexer": "ipython3",
   "version": "3.12.2"
  }
 },
 "nbformat": 4,
 "nbformat_minor": 5
}
