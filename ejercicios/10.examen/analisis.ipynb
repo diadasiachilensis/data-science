{
 "cells": [
  {
   "cell_type": "markdown",
   "id": "fc47aca2",
   "metadata": {},
   "source": [
    "# Tendencias mundiales realcionadas con la economia"
   ]
  },
  {
   "cell_type": "markdown",
   "id": "01e27bd9",
   "metadata": {
    "vscode": {
     "languageId": "plaintext"
    }
   },
   "source": [
    "## 📚 Librerias"
   ]
  },
  {
   "cell_type": "code",
   "execution_count": 25,
   "id": "cbf76d84",
   "metadata": {},
   "outputs": [],
   "source": [
    "import pandas as pd\n",
    "import pandas as pd\n",
    "import scipy.stats as ss\n",
    "import numpy as np\n",
    "import matplotlib.pyplot as plt\n",
    "import seaborn as sns\n",
    "#Pruebas estadisticas \n",
    "from scipy import stats\n",
    "#Prueba t de student de una cola\n",
    "from scipy.stats import ttest_ind\n",
    "#Regresion multiple\n",
    "import statsmodels.api as sm\n",
    "# Prueba de normalidad de residuos: Shapiro-Wilk\n",
    "from scipy.stats import shapiro\n",
    "# Prueba de homoscedasticidad: Breusch-Pagan\n",
    "from statsmodels.stats.diagnostic import het_breuschpagan"
   ]
  },
  {
   "cell_type": "markdown",
   "id": "889fe0ed",
   "metadata": {},
   "source": [
    "## 📄📥 Cargar el archivo"
   ]
  },
  {
   "cell_type": "code",
   "execution_count": 5,
   "id": "c38dde4e",
   "metadata": {},
   "outputs": [
    {
     "data": {
      "text/plain": [
       "(                                                           ;country;region;gdp;life;pop;urban\n",
       " 1;Algeria;Africa;7300      399902;72  31666565;34172236;64                           93333435\n",
       " 2;Benin;Africa;1338        800049;54  73333359;8237634;41                                 NaN\n",
       " 3;Botswana;Africa;12307    40039;52   25;1941233;59                                        25\n",
       " 4;Burkina Faso;Africa;1063 400024;53  78333282;15308383;23                           58333397\n",
       " 5;Burundi;Africa;349       2000122;48 86666489;7821783;10                                  25,\n",
       " Index([';country;region;gdp;life;pop;urban'], dtype='object'))"
      ]
     },
     "execution_count": 5,
     "metadata": {},
     "output_type": "execute_result"
    }
   ],
   "source": [
    "# Cargar el archivo\n",
    "file_path = 'nations_gdp_life_pop_urban.csv'\n",
    "df = pd.read_csv(file_path)\n",
    "\n",
    "# Mostrar las primeras filas y nombres de columnas para entender la estructura\n",
    "df.head(), df.columns"
   ]
  },
  {
   "cell_type": "markdown",
   "id": "b8063fdd",
   "metadata": {},
   "source": [
    "### Corregir data "
   ]
  },
  {
   "cell_type": "code",
   "execution_count": 6,
   "id": "425e8fe1",
   "metadata": {},
   "outputs": [
    {
     "data": {
      "text/plain": [
       "(   Unnamed: 0       country  region          gdp         life       pop  \\\n",
       " 0           1       Algeria  Africa  7300,399902  72,31666565  34172236   \n",
       " 1           2         Benin  Africa  1338,800049  54,73333359   8237634   \n",
       " 2           3      Botswana  Africa  12307,40039        52,25   1941233   \n",
       " 3           4  Burkina Faso  Africa  1063,400024  53,78333282  15308383   \n",
       " 4           5       Burundi  Africa  349,2000122  48,86666489   7821783   \n",
       " \n",
       "          urban  \n",
       " 0  64,93333435  \n",
       " 1           41  \n",
       " 2        59,25  \n",
       " 3  23,58333397  \n",
       " 4        10,25  ,\n",
       " Index(['Unnamed: 0', 'country', 'region', 'gdp', 'life', 'pop', 'urban'], dtype='object'))"
      ]
     },
     "execution_count": 6,
     "metadata": {},
     "output_type": "execute_result"
    }
   ],
   "source": [
    "# Leer el archivo correctamente separando por punto y coma\n",
    "df_fixed = pd.read_csv(file_path, sep=';')\n",
    "\n",
    "# Mostrar las primeras filas y los nombres de columnas corregidos\n",
    "df_fixed.head(), df_fixed.columns"
   ]
  },
  {
   "cell_type": "markdown",
   "id": "a535bc51",
   "metadata": {},
   "source": [
    "## 🔍 Explorar datos Nulos NaN "
   ]
  },
  {
   "cell_type": "code",
   "execution_count": 9,
   "id": "6b82b6ab",
   "metadata": {},
   "outputs": [
    {
     "data": {
      "text/plain": [
       ";country;region;gdp;life;pop;urban    56\n",
       "dtype: int64"
      ]
     },
     "execution_count": 9,
     "metadata": {},
     "output_type": "execute_result"
    }
   ],
   "source": [
    "df.isnull().sum()"
   ]
  },
  {
   "cell_type": "markdown",
   "id": "bf72c3bb",
   "metadata": {},
   "source": [
    "## 🎯 Resolver problema 1 \n",
    "\n",
    "Se sabe que el porcentaje promedio de urbanizacion en Europa ha estado aumentando en las ultimas decadas. Un informe reciente sugiere que el porcentaje de urbanizacion promedio en el continente\n",
    "ha superado el 75%. Sin embargo, un grupo de investigadores desea verificar si el porcentaje de urbanizacion promedio en Europa sigue siendo igual o menor al 75%. Corroborar esta informacion, considerando $\\alpha$ = 5%"
   ]
  },
  {
   "cell_type": "markdown",
   "id": "16d15c0a",
   "metadata": {},
   "source": [
    "### Limpiar la columna urban \n",
    "\n",
    "Limpiar la columna `urban` para convertirla a valores numéricos y luego filtrar los países de Europa para realizar una prueba de hipótesis (one-sample t-test) y verificar si el porcentaje promedio de urbanización es ≤ 75%. "
   ]
  },
  {
   "cell_type": "markdown",
   "id": "19b89d9f",
   "metadata": {},
   "source": [
    "### Reemplazar comas por puntos y convertir a nuemrico, error como NaN "
   ]
  },
  {
   "cell_type": "code",
   "execution_count": 42,
   "id": "3b0c1b29",
   "metadata": {},
   "outputs": [],
   "source": [
    "df_fixed['urban'] = df_fixed['urban'].astype(str).str.replace(',', '.')\n",
    "df_fixed['urban'] = pd.to_numeric(df_fixed['urban'], errors='coerce')\n"
   ]
  },
  {
   "cell_type": "markdown",
   "id": "719717ab",
   "metadata": {},
   "source": [
    "### Eliminar valores nulos en urban"
   ]
  },
  {
   "cell_type": "code",
   "execution_count": 43,
   "id": "7e3c7660",
   "metadata": {},
   "outputs": [],
   "source": [
    "df_europe = df_fixed[df_fixed['region'] == 'Europe']\n",
    "urban_europe = df_europe['urban'].dropna()"
   ]
  },
  {
   "cell_type": "markdown",
   "id": "d5ac30f5",
   "metadata": {},
   "source": [
    "### **🧪 t de Student de una muestra**\n",
    "\n",
    "Es una prueba estadística utilizada para comparar la media de una muestra con un valor de referencia conocido o asumido de la población. Se aplica cuando:\n",
    "\n",
    "- No se conoce la desviación estándar poblacional (σ).\n",
    "- Se trabaja con una muestra relativamente pequeña (n < 30~50, aunque en este caso tenemos n=43).\n",
    "- Los datos se pueden suponer aproximadamente normales (aunque con más de 30 datos, se invoca el Teorema Central del Límite).\n",
    "\n",
    "**Variable de interés** \n",
    "Porcentaje de urbanización (urban) en países de Europa.\n",
    "\n",
    "**Muestra**\n",
    "Países europeos en el dataset (n = 43).\n",
    "Valor de referencia (μ₀): 75%.\n",
    "\n",
    "**Hipótesis:**\n",
    "H₀: μ ≤ 75 (la urbanización promedio no ha superado el 75%).\n",
    "H₁: μ > 75 (la urbanización promedio ha superado el 75%).\n"
   ]
  },
  {
   "cell_type": "code",
   "execution_count": 44,
   "id": "3fbf9bb9",
   "metadata": {},
   "outputs": [
    {
     "name": "stdout",
     "output_type": "stream",
     "text": [
      "Media observada de urbanización: 70.06%\n",
      "Valor t: -1.9481\n",
      "Valor p (una cola): 0.0291\n",
      "Hipótesis nula: El porcentaje promedio de urbanización en Europa es ≤ 75%\n",
      "Hipótesis alternativa: El porcentaje promedio de urbanización en Europa es > 75%\n",
      "❌ Se rechaza la hipótesis nula: La evidencia sugiere que el promedio NO es menor o igual a 75%.\n"
     ]
    }
   ],
   "source": [
    "# Obtener media y tamaño muestral\n",
    "mean_urban = urban_europe.mean()\n",
    "n = len(urban_europe)\n",
    "\n",
    "# Repetimos el análisis para agregar interpretación sobre la hipótesis planteada\n",
    "\n",
    "# Prueba t de una muestra: H0: μ ≤ 75 vs H1: μ > 75\n",
    "t_stat, p_value = stats.ttest_1samp(urban_europe, popmean=75)\n",
    "p_value_one_tailed = p_value / 2\n",
    "\n",
    "# Imprimir resultados\n",
    "print(f\"Media observada de urbanización: {mean_urban:.2f}%\")\n",
    "print(f\"Valor t: {t_stat:.4f}\")\n",
    "print(f\"Valor p (una cola): {p_value_one_tailed:.4f}\")\n",
    "print(\"Hipótesis nula: El porcentaje promedio de urbanización en Europa es ≤ 75%\")\n",
    "print(\"Hipótesis alternativa: El porcentaje promedio de urbanización en Europa es > 75%\")\n",
    "\n",
    "# Decisión\n",
    "if p_value_one_tailed < 0.05:\n",
    "    print(\"❌ Se rechaza la hipótesis nula: La evidencia sugiere que el promedio NO es menor o igual a 75%.\")\n",
    "else:\n",
    "    print(\"✅ No se rechaza la hipótesis nula: No hay evidencia suficiente para afirmar que supera el 75%.\")"
   ]
  },
  {
   "cell_type": "markdown",
   "id": "37a682f2",
   "metadata": {},
   "source": [
    "### ✅ **Conclusión basada en la prueba de hipótesis**\n",
    "\n",
    "A partir de los datos analizados sobre el porcentaje de urbanización en los países de Europa, se realizó una prueba de hipótesis con un nivel de significancia del 5% ($\\alpha = 0.05$) para contrastar si el porcentaje promedio de urbanización sigue siendo igual o menor al 75%.\n",
    "\n",
    "La prueba estadística arrojó un valor $t = -1{,}9481$ y un valor $p = 0{,}0291$. Dado que $p < \\alpha$, se **rechaza la hipótesis nula**, lo que sugiere que el porcentaje promedio **no es menor o igual al 75%**.\n",
    "\n",
    "No obstante, como el valor t obtenido es negativo, esto indica que la media observada es **inferior al valor de referencia** (70.06% < 75%). Por tanto, aunque estadísticamente se rechaza la hipótesis nula, los datos **no respaldan la afirmación del informe reciente** que sugiere que el promedio ha superado el 75%. Por el contrario, la evidencia muestra que el promedio actual está **por debajo del 75%**.\n"
   ]
  },
  {
   "cell_type": "markdown",
   "id": "fac2f790",
   "metadata": {},
   "source": [
    "## 🎯 Resolver problema 2\n",
    "\n",
    "Desarrolla un modelo de regresion lineal multiple donde la variable explicada sea la esperanza de vida\n",
    "al nacer, ademas procede a analizar la significancia de cada una de las variables y de ser necesario,\n",
    "redefinir el modelo"
   ]
  },
  {
   "cell_type": "markdown",
   "id": "033d4964",
   "metadata": {},
   "source": [
    "### Convertir variables necesarias a numéricas"
   ]
  },
  {
   "cell_type": "code",
   "execution_count": 17,
   "id": "396ebe0c",
   "metadata": {},
   "outputs": [],
   "source": [
    "df_fixed['gdp'] = df_fixed['gdp'].astype(str).str.replace(',', '.')\n",
    "df_fixed['life'] = df_fixed['life'].astype(str).str.replace(',', '.')\n",
    "df_fixed['pop'] = df_fixed['pop'].astype(str).str.replace(',', '.')\n",
    "df_fixed['urban'] = df_fixed['urban'].astype(str).str.replace(',', '.')\n",
    "\n",
    "df_fixed[['gdp', 'life', 'pop', 'urban']] = df_fixed[['gdp', 'life', 'pop', 'urban']].apply(pd.to_numeric, errors='coerce')\n"
   ]
  },
  {
   "cell_type": "markdown",
   "id": "6a9296b1",
   "metadata": {},
   "source": [
    "### Eliminar filas con valores nulos"
   ]
  },
  {
   "cell_type": "code",
   "execution_count": 18,
   "id": "b4ce6889",
   "metadata": {},
   "outputs": [],
   "source": [
    "df_reg = df_fixed.dropna(subset=['gdp', 'pop', 'urban', 'life'])"
   ]
  },
  {
   "cell_type": "markdown",
   "id": "43c3aaf5",
   "metadata": {},
   "source": [
    "### 📈 Modelo de Regresión Lineal Multiple"
   ]
  },
  {
   "cell_type": "markdown",
   "id": "853e1c73",
   "metadata": {},
   "source": [
    "#### **Cargar datos y seleccionar variables**"
   ]
  },
  {
   "cell_type": "code",
   "execution_count": 20,
   "id": "0258bc65",
   "metadata": {},
   "outputs": [
    {
     "data": {
      "text/html": [
       "<table class=\"simpletable\">\n",
       "<caption>OLS Regression Results</caption>\n",
       "<tr>\n",
       "  <th>Dep. Variable:</th>          <td>life</td>       <th>  R-squared:         </th> <td>   0.462</td>\n",
       "</tr>\n",
       "<tr>\n",
       "  <th>Model:</th>                   <td>OLS</td>       <th>  Adj. R-squared:    </th> <td>   0.453</td>\n",
       "</tr>\n",
       "<tr>\n",
       "  <th>Method:</th>             <td>Least Squares</td>  <th>  F-statistic:       </th> <td>   50.15</td>\n",
       "</tr>\n",
       "<tr>\n",
       "  <th>Date:</th>             <td>Sun, 01 Jun 2025</td> <th>  Prob (F-statistic):</th> <td>1.92e-23</td>\n",
       "</tr>\n",
       "<tr>\n",
       "  <th>Time:</th>                 <td>12:51:24</td>     <th>  Log-Likelihood:    </th> <td> -610.18</td>\n",
       "</tr>\n",
       "<tr>\n",
       "  <th>No. Observations:</th>      <td>   179</td>      <th>  AIC:               </th> <td>   1228.</td>\n",
       "</tr>\n",
       "<tr>\n",
       "  <th>Df Residuals:</th>          <td>   175</td>      <th>  BIC:               </th> <td>   1241.</td>\n",
       "</tr>\n",
       "<tr>\n",
       "  <th>Df Model:</th>              <td>     3</td>      <th>                     </th>     <td> </td>   \n",
       "</tr>\n",
       "<tr>\n",
       "  <th>Covariance Type:</th>      <td>nonrobust</td>    <th>                     </th>     <td> </td>   \n",
       "</tr>\n",
       "</table>\n",
       "<table class=\"simpletable\">\n",
       "<tr>\n",
       "    <td></td>       <th>coef</th>     <th>std err</th>      <th>t</th>      <th>P>|t|</th>  <th>[0.025</th>    <th>0.975]</th>  \n",
       "</tr>\n",
       "<tr>\n",
       "  <th>const</th> <td>   56.0151</td> <td>    1.530</td> <td>   36.612</td> <td> 0.000</td> <td>   52.996</td> <td>   59.035</td>\n",
       "</tr>\n",
       "<tr>\n",
       "  <th>gdp</th>   <td>    0.0003</td> <td> 5.27e-05</td> <td>    4.869</td> <td> 0.000</td> <td>    0.000</td> <td>    0.000</td>\n",
       "</tr>\n",
       "<tr>\n",
       "  <th>pop</th>   <td> 4.002e-09</td> <td> 4.07e-09</td> <td>    0.983</td> <td> 0.327</td> <td>-4.03e-09</td> <td>  1.2e-08</td>\n",
       "</tr>\n",
       "<tr>\n",
       "  <th>urban</th> <td>    0.1700</td> <td>    0.032</td> <td>    5.309</td> <td> 0.000</td> <td>    0.107</td> <td>    0.233</td>\n",
       "</tr>\n",
       "</table>\n",
       "<table class=\"simpletable\">\n",
       "<tr>\n",
       "  <th>Omnibus:</th>       <td>15.493</td> <th>  Durbin-Watson:     </th> <td>   1.275</td>\n",
       "</tr>\n",
       "<tr>\n",
       "  <th>Prob(Omnibus):</th> <td> 0.000</td> <th>  Jarque-Bera (JB):  </th> <td>  17.756</td>\n",
       "</tr>\n",
       "<tr>\n",
       "  <th>Skew:</th>          <td>-0.771</td> <th>  Prob(JB):          </th> <td>0.000139</td>\n",
       "</tr>\n",
       "<tr>\n",
       "  <th>Kurtosis:</th>      <td> 2.926</td> <th>  Cond. No.          </th> <td>3.90e+08</td>\n",
       "</tr>\n",
       "</table><br/><br/>Notes:<br/>[1] Standard Errors assume that the covariance matrix of the errors is correctly specified.<br/>[2] The condition number is large, 3.9e+08. This might indicate that there are<br/>strong multicollinearity or other numerical problems."
      ],
      "text/latex": [
       "\\begin{center}\n",
       "\\begin{tabular}{lclc}\n",
       "\\toprule\n",
       "\\textbf{Dep. Variable:}    &       life       & \\textbf{  R-squared:         } &     0.462   \\\\\n",
       "\\textbf{Model:}            &       OLS        & \\textbf{  Adj. R-squared:    } &     0.453   \\\\\n",
       "\\textbf{Method:}           &  Least Squares   & \\textbf{  F-statistic:       } &     50.15   \\\\\n",
       "\\textbf{Date:}             & Sun, 01 Jun 2025 & \\textbf{  Prob (F-statistic):} &  1.92e-23   \\\\\n",
       "\\textbf{Time:}             &     12:51:24     & \\textbf{  Log-Likelihood:    } &   -610.18   \\\\\n",
       "\\textbf{No. Observations:} &         179      & \\textbf{  AIC:               } &     1228.   \\\\\n",
       "\\textbf{Df Residuals:}     &         175      & \\textbf{  BIC:               } &     1241.   \\\\\n",
       "\\textbf{Df Model:}         &           3      & \\textbf{                     } &             \\\\\n",
       "\\textbf{Covariance Type:}  &    nonrobust     & \\textbf{                     } &             \\\\\n",
       "\\bottomrule\n",
       "\\end{tabular}\n",
       "\\begin{tabular}{lcccccc}\n",
       "               & \\textbf{coef} & \\textbf{std err} & \\textbf{t} & \\textbf{P$> |$t$|$} & \\textbf{[0.025} & \\textbf{0.975]}  \\\\\n",
       "\\midrule\n",
       "\\textbf{const} &      56.0151  &        1.530     &    36.612  &         0.000        &       52.996    &       59.035     \\\\\n",
       "\\textbf{gdp}   &       0.0003  &     5.27e-05     &     4.869  &         0.000        &        0.000    &        0.000     \\\\\n",
       "\\textbf{pop}   &    4.002e-09  &     4.07e-09     &     0.983  &         0.327        &    -4.03e-09    &      1.2e-08     \\\\\n",
       "\\textbf{urban} &       0.1700  &        0.032     &     5.309  &         0.000        &        0.107    &        0.233     \\\\\n",
       "\\bottomrule\n",
       "\\end{tabular}\n",
       "\\begin{tabular}{lclc}\n",
       "\\textbf{Omnibus:}       & 15.493 & \\textbf{  Durbin-Watson:     } &    1.275  \\\\\n",
       "\\textbf{Prob(Omnibus):} &  0.000 & \\textbf{  Jarque-Bera (JB):  } &   17.756  \\\\\n",
       "\\textbf{Skew:}          & -0.771 & \\textbf{  Prob(JB):          } & 0.000139  \\\\\n",
       "\\textbf{Kurtosis:}      &  2.926 & \\textbf{  Cond. No.          } & 3.90e+08  \\\\\n",
       "\\bottomrule\n",
       "\\end{tabular}\n",
       "%\\caption{OLS Regression Results}\n",
       "\\end{center}\n",
       "\n",
       "Notes: \\newline\n",
       " [1] Standard Errors assume that the covariance matrix of the errors is correctly specified. \\newline\n",
       " [2] The condition number is large, 3.9e+08. This might indicate that there are \\newline\n",
       " strong multicollinearity or other numerical problems."
      ],
      "text/plain": [
       "<class 'statsmodels.iolib.summary.Summary'>\n",
       "\"\"\"\n",
       "                            OLS Regression Results                            \n",
       "==============================================================================\n",
       "Dep. Variable:                   life   R-squared:                       0.462\n",
       "Model:                            OLS   Adj. R-squared:                  0.453\n",
       "Method:                 Least Squares   F-statistic:                     50.15\n",
       "Date:                Sun, 01 Jun 2025   Prob (F-statistic):           1.92e-23\n",
       "Time:                        12:51:24   Log-Likelihood:                -610.18\n",
       "No. Observations:                 179   AIC:                             1228.\n",
       "Df Residuals:                     175   BIC:                             1241.\n",
       "Df Model:                           3                                         \n",
       "Covariance Type:            nonrobust                                         \n",
       "==============================================================================\n",
       "                 coef    std err          t      P>|t|      [0.025      0.975]\n",
       "------------------------------------------------------------------------------\n",
       "const         56.0151      1.530     36.612      0.000      52.996      59.035\n",
       "gdp            0.0003   5.27e-05      4.869      0.000       0.000       0.000\n",
       "pop         4.002e-09   4.07e-09      0.983      0.327   -4.03e-09     1.2e-08\n",
       "urban          0.1700      0.032      5.309      0.000       0.107       0.233\n",
       "==============================================================================\n",
       "Omnibus:                       15.493   Durbin-Watson:                   1.275\n",
       "Prob(Omnibus):                  0.000   Jarque-Bera (JB):               17.756\n",
       "Skew:                          -0.771   Prob(JB):                     0.000139\n",
       "Kurtosis:                       2.926   Cond. No.                     3.90e+08\n",
       "==============================================================================\n",
       "\n",
       "Notes:\n",
       "[1] Standard Errors assume that the covariance matrix of the errors is correctly specified.\n",
       "[2] The condition number is large, 3.9e+08. This might indicate that there are\n",
       "strong multicollinearity or other numerical problems.\n",
       "\"\"\""
      ]
     },
     "execution_count": 20,
     "metadata": {},
     "output_type": "execute_result"
    }
   ],
   "source": [
    "# Variables independientes y dependiente\n",
    "X = df_reg[['gdp', 'pop', 'urban']]\n",
    "y = df_reg['life']\n",
    "\n",
    "# Agregar constante para intercepto\n",
    "X_const = sm.add_constant(X)\n",
    "\n",
    "# Ajustar el modelo\n",
    "modelo = sm.OLS(y, X_const).fit()\n",
    "\n",
    "# Resumen del modelo\n",
    "modelo.summary()"
   ]
  },
  {
   "cell_type": "markdown",
   "id": "0dc1f370",
   "metadata": {},
   "source": [
    "Predecir la esperanza de vida al nacer (`life`) a partir de las variables disponibles.\n",
    "\n",
    "#### 🔍 **Modelo inicial estimado:**\n",
    "\n",
    "Se utilizó como variables explicativas:\n",
    "\n",
    "* Producto Interno Bruto per cápita (`gdp`)\n",
    "* Población total (`pop`)\n",
    "* Porcentaje de urbanización (`urban`)\n",
    "\n",
    "\n",
    "#### 📊 **Resultados del modelo:**\n",
    "\n",
    "| Variable  | Coeficiente | p-valor | ¿Significativa? |\n",
    "| --------- | ----------- | ------- | --------------- |\n",
    "| **const** | 56.02       | 0.000   | ✅ Sí            |\n",
    "| **gdp**   | 0.0003      | 0.000   | ✅ Sí            |\n",
    "| **pop**   | 0.000000004 | 0.327   | ❌ No            |\n",
    "| **urban** | 0.1700      | 0.000   | ✅ Sí            |\n",
    "\n",
    "* **R² = 0.462**: El modelo explica aproximadamente el 46.2% de la variabilidad de la esperanza de vida.\n",
    "* **F(3, 175) = 50.15**, p < 0.001: El modelo global es significativo.\n",
    "* **Nota**: Se detecta posible multicolinealidad (Cond. No. elevado)."
   ]
  },
  {
   "cell_type": "markdown",
   "id": "8bfd0e51",
   "metadata": {},
   "source": [
    "### 🧪 **Modelo optimizado** \n",
    "\n",
    "Dado que la variable `pop` **no es estadísticamente significativa** (p > 0.05), es recomendable **eliminarla** y ajustar un nuevo modelo solo con `gdp` y `urban`."
   ]
  },
  {
   "cell_type": "code",
   "execution_count": 45,
   "id": "4ed6dfbd",
   "metadata": {},
   "outputs": [
    {
     "data": {
      "text/plain": [
       "0    69.071018\n",
       "1    63.500360\n",
       "2    69.390570\n",
       "3    60.485472\n",
       "4    58.048704\n",
       "dtype: float64"
      ]
     },
     "execution_count": 45,
     "metadata": {},
     "output_type": "execute_result"
    }
   ],
   "source": [
    "# Redefinir modelo eliminando la variable no significativa: 'pop'\n",
    "X_opt = df_reg[['gdp', 'urban']]\n",
    "X_opt_const = sm.add_constant(X_opt)\n",
    "\n",
    "# Ajustar modelo optimizado\n",
    "modelo_opt = sm.OLS(y, X_opt_const).fit()\n",
    "\n",
    "# Realizar predicciones\n",
    "predicciones = modelo_opt.predict(X_opt_const)\n",
    "\n",
    "# Mostrar los primeros 5 valores predichos\n",
    "predicciones.head()"
   ]
  },
  {
   "cell_type": "markdown",
   "id": "b0c187f1",
   "metadata": {},
   "source": [
    "✅ El nuevo modelo optimizado ha sido ajustado sin la variable pop, ya que no resultó significativa. Las variables incluidas fueron:\n",
    "- gdp\n",
    "- urban\n",
    "\n",
    "#### 📈 **Predicciones de esperanza de vida (primeros 5 valores):**\n",
    "\n",
    "| País (fila) | Esperanza de vida predicha |\n",
    "| ----------- | -------------------------- |\n",
    "| 0           | 69.07 años                 |\n",
    "| 1           | 63.50 años                 |\n",
    "| 2           | 69.39 años                 |\n",
    "| 3           | 60.49 años                 |\n",
    "| 4           | 58.05 años                 |\n",
    "\n",
    "Estas predicciones fueron realizadas utilizando la función `modelo.predict()` como se indicó en el hint."
   ]
  },
  {
   "cell_type": "markdown",
   "id": "65ff9b18",
   "metadata": {},
   "source": [
    "### ✅ **Conclusión**\n",
    "\n",
    "Se desarrolló un modelo de regresión lineal múltiple para explicar la **esperanza de vida al nacer** utilizando como variables explicativas: el **PIB per cápita (`gdp`)**, la **población total (`pop`)** y el **porcentaje de urbanización (`urban`)**.\n",
    "\n",
    "Tras analizar la significancia estadística de cada variable:\n",
    "\n",
    "* `gdp` y `urban` resultaron **significativas** (p < 0.05), indicando que ambas tienen un efecto relevante sobre la esperanza de vida.\n",
    "* `pop` **no fue significativa** (p = 0.327), por lo que se decidió **excluirla del modelo**.\n",
    "\n",
    "#### **Modelo optimizado final:**\n",
    "\n",
    "El modelo redefinido incluyó solo las variables significativas (`gdp` y `urban`), lo que permitió:\n",
    "\n",
    "* Mantener un **buen nivel explicativo** del fenómeno (R² ajustado aceptable).\n",
    "* Obtener un modelo **más parsimonioso y robusto**, eliminando ruido estadístico innecesario.\n",
    "* Generar **predicciones realistas** de la esperanza de vida usando `.predict()` sobre los datos originales.\n",
    "\n",
    "#### **Interpretación de los coeficientes:**\n",
    "\n",
    "* Un aumento del PIB per cápita se asocia positivamente con la esperanza de vida.\n",
    "* Un mayor porcentaje de urbanización también se relaciona con una mayor esperanza de vida.\n",
    "\n",
    "\n",
    "Este enfoque permite modelar de manera más precisa los determinantes del bienestar poblacional y puede servir como base para análisis comparativos entre regiones o para estudios longitudinales en el tiempo.\n"
   ]
  },
  {
   "cell_type": "markdown",
   "id": "5542fde8",
   "metadata": {},
   "source": [
    "## 🎯 Resolver problema 3\n",
    "\n",
    "Realice un analisis residual del modelo: grafique los residuos del modelo, comente y realice las pruebas adecuadas para validar los supuestos teoricos que deberian cumplirse en este caso."
   ]
  },
  {
   "cell_type": "code",
   "execution_count": 22,
   "id": "793ca807",
   "metadata": {},
   "outputs": [
    {
     "data": {
      "image/png": "[encoded data removed]",
      "text/plain": [
       "<Figure size 1000x500 with 1 Axes>"
      ]
     },
     "metadata": {},
     "output_type": "display_data"
    }
   ],
   "source": [
    "# Obtener los residuos del modelo optimizado\n",
    "residuos = y - predicciones\n",
    "\n",
    "# Configurar visualización\n",
    "plt.figure(figsize=(10, 5))\n",
    "sns.residplot(x=predicciones, y=residuos, lowess=True, line_kws={'color': 'red'})\n",
    "plt.axhline(0, color='gray', linestyle='--')\n",
    "plt.xlabel('Valores predichos')\n",
    "plt.ylabel('Residuos')\n",
    "plt.title('Gráfico de residuos vs valores predichos')\n",
    "plt.grid(True)\n",
    "plt.show()"
   ]
  },
  {
   "cell_type": "markdown",
   "id": "a9a986d8",
   "metadata": {},
   "source": [
    "### ✅ **Análisis residual a partir del gráfico entregado**\n",
    "\n",
    "**Gráfico: Residuos vs Valores Predichos**\n",
    "\n",
    "### 📌 **Observaciones clave del gráfico:**\n",
    "\n",
    "1. **Tendencia curva (no linealidad):**\n",
    "   La línea roja suavizada (LOWESS) muestra una forma ligeramente curva, lo cual sugiere que **la relación entre las variables independientes y la esperanza de vida no es perfectamente lineal**. Esto indica una **violación parcial del supuesto de linealidad**.\n",
    "\n",
    "2. **Dispersión no constante (heteroscedasticidad leve):**\n",
    "   Se observa una leve mayor variabilidad de residuos en los extremos (valores bajos y altos de esperanza de vida predicha), lo cual puede sugerir **heteroscedasticidad**, aunque no de forma muy severa.\n",
    "\n",
    "3. **Residuos centrados en 0 (sin sesgo fuerte):**\n",
    "   La mayoría de los puntos están distribuidos de forma simétrica alrededor del eje horizontal (residuo = 0), lo cual es **positivo**."
   ]
  },
  {
   "cell_type": "markdown",
   "id": "5eeb603a",
   "metadata": {},
   "source": [
    "### 🧪 **Pruebas de Normalidad de residuos**"
   ]
  },
  {
   "cell_type": "code",
   "execution_count": 24,
   "id": "472d83ea",
   "metadata": {},
   "outputs": [
    {
     "name": "stdout",
     "output_type": "stream",
     "text": [
      "Valor p de Shapiro-Wilk: 0.0000\n",
      "Hipótesis nula: Los residuos siguen una distribución normal.\n",
      "❌ Se rechaza H₀: Los residuos no siguen una distribución normal.\n"
     ]
    }
   ],
   "source": [
    "stat_shapiro, p_shapiro = shapiro(residuos)\n",
    "# Mostrar resultado\n",
    "print(f\"Valor p de Shapiro-Wilk: {p_shapiro:.4f}\")\n",
    "print(\"Hipótesis nula: Los residuos siguen una distribución normal.\")\n",
    "if p_shapiro > 0.05:\n",
    "    print(\"✅ No se rechaza H₀: Los residuos pueden considerarse normales.\")\n",
    "else:\n",
    "    print(\"❌ Se rechaza H₀: Los residuos no siguen una distribución normal.\")"
   ]
  },
  {
   "cell_type": "markdown",
   "id": "22649194",
   "metadata": {},
   "source": [
    "### 🧪 **Pruebas de Normalidad de Homoscedastcidad**"
   ]
  },
  {
   "cell_type": "code",
   "execution_count": 26,
   "id": "1e962284",
   "metadata": {},
   "outputs": [
    {
     "name": "stdout",
     "output_type": "stream",
     "text": [
      "Valor p de Breusch-Pagan: 0.0004\n",
      "Hipótesis nula: La varianza de los residuos es constante (homoscedasticidad).\n",
      "❌ Se rechaza H₀: Hay evidencia de heteroscedasticidad.\n"
     ]
    }
   ],
   "source": [
    "# Obtener variables necesarias para la prueba\n",
    "# residuos: errores del modelo\n",
    "# X_opt_const: matriz de predictores con constante\n",
    "bp_test = het_breuschpagan(residuos, X_opt_const)\n",
    "\n",
    "# Extracción de resultados\n",
    "bp_stat = bp_test[0]\n",
    "bp_pvalue = bp_test[1]\n",
    "\n",
    "# Mostrar resultados\n",
    "print(f\"Valor p de Breusch-Pagan: {bp_pvalue:.4f}\")\n",
    "print(\"Hipótesis nula: La varianza de los residuos es constante (homoscedasticidad).\")\n",
    "\n",
    "if bp_pvalue > 0.05:\n",
    "    print(\"✅ No se rechaza H₀: Se asume homoscedasticidad.\")\n",
    "else:\n",
    "    print(\"❌ Se rechaza H₀: Hay evidencia de heteroscedasticidad.\")"
   ]
  },
  {
   "cell_type": "markdown",
   "id": "df14229b",
   "metadata": {},
   "source": [
    "### 🧪 **Pruebas de Autocorrelación**"
   ]
  },
  {
   "cell_type": "code",
   "execution_count": 27,
   "id": "710b352b",
   "metadata": {},
   "outputs": [
    {
     "name": "stdout",
     "output_type": "stream",
     "text": [
      "Estadístico de Durbin-Watson: 1.2698\n",
      "Hipótesis nula: No hay autocorrelación de residuos.\n",
      "❌ Se rechaza H₀: Posible autocorrelación positiva.\n"
     ]
    }
   ],
   "source": [
    "# Prueba de autocorrelación: Durbin-Watson\n",
    "from statsmodels.stats.stattools import durbin_watson\n",
    "\n",
    "# Ejecutar prueba\n",
    "dw_stat = durbin_watson(residuos)\n",
    "\n",
    "# Mostrar resultado\n",
    "print(f\"Estadístico de Durbin-Watson: {dw_stat:.4f}\")\n",
    "print(\"Hipótesis nula: No hay autocorrelación de residuos.\")\n",
    "\n",
    "# Interpretación según el valor del estadístico\n",
    "if 1.5 <= dw_stat <= 2.5:\n",
    "    print(\"✅ No se rechaza H₀: No hay evidencia de autocorrelación.\")\n",
    "elif dw_stat < 1.5:\n",
    "    print(\"❌ Se rechaza H₀: Posible autocorrelación positiva.\")\n",
    "else:\n",
    "    print(\"❌ Se rechaza H₀: Posible autocorrelación negativa.\")"
   ]
  },
  {
   "cell_type": "markdown",
   "id": "d7755a94",
   "metadata": {},
   "source": [
    "### ✅ **Conclusión**\n",
    "\n",
    "Se realizó un análisis residual para el modelo de regresión lineal múltiple que predice la **esperanza de vida al nacer** a partir del **PIB per cápita (`gdp`)** y el **porcentaje de urbanización (`urban`)**. Este análisis buscó validar si los **supuestos teóricos** fundamentales de la regresión lineal se cumplen.\n",
    "\n",
    "#### 📉 **Análisis del gráfico de residuos**\n",
    "\n",
    "El gráfico de residuos versus valores predichos evidencia:\n",
    "\n",
    "* Una **curvatura leve** en la nube de puntos, que sugiere que **la relación entre las variables explicativas y la variable dependiente no es perfectamente lineal**.\n",
    "* Una **variabilidad creciente y decreciente** en los extremos del eje X, lo cual sugiere **heteroscedasticidad leve a moderada**.\n",
    "* Los residuos se distribuyen de forma relativamente centrada, pero no simétrica, con presencia de posibles valores atípicos.\n",
    "\n",
    "#### 🧪 **Resultados de pruebas estadísticas aplicadas**\n",
    "\n",
    "| Supuesto                     | Prueba aplicada     | Valor estadístico / p-valor | Resultado                                 |\n",
    "| ---------------------------- | ------------------- | --------------------------- | ----------------------------------------- |\n",
    "| **Linealidad**               | Gráfico de residuos | —                           | ⚠️ Curvatura leve observada               |\n",
    "| **Normalidad de residuos**   | Shapiro-Wilk        | p = 0.0000                  | ❌ Se rechaza H₀ (no hay normalidad)       |\n",
    "| **Homoscedasticidad**        | Breusch-Pagan       | p = 0.0004                  | ❌ Se rechaza H₀ (hay heteroscedasticidad) |\n",
    "| **Independencia de errores** | Durbin-Watson       | DW = 1.2698                 | ❌ Autocorrelación positiva detectada      |\n",
    "\n",
    "#### ✅ **Conclusión final**\n",
    "\n",
    "Los resultados del análisis residual indican que **el modelo no cumple plenamente con los supuestos teóricos de la regresión lineal**. En particular, se detectan:\n",
    "\n",
    "* **Violaciones de normalidad, homoscedasticidad e independencia de errores**.\n",
    "* Una posible **relación no completamente lineal** entre las variables.\n",
    "\n",
    "Estos hallazgos **no invalidan el modelo**, pero sí sugieren que:\n",
    "\n",
    "* Podría ser necesario aplicar **transformaciones de variables** (logaritmos, raíces) o\n",
    "* Considerar un **modelo no lineal** o **modelo robusto**, si se busca mejorar el ajuste y la validez inferencial."
   ]
  },
  {
   "cell_type": "markdown",
   "id": "03a60bdb",
   "metadata": {},
   "source": [
    "## 🎯 Resolver problema 4\n",
    "\n",
    "Realice una prueba de homocedasticidad sobre los residuos del modelo de regresion. Cual es el p-valor\n",
    "obtenido? Se cumple el supuesto de homocedasticidad de los residuos? Explica la importancia de este supuesto en el contexto de tu modelo."
   ]
  },
  {
   "cell_type": "markdown",
   "id": "7d5d559c",
   "metadata": {},
   "source": [
    "### **Prueba realizada:**\n",
    "\n",
    "Se aplicó la **prueba de Breusch-Pagan** para evaluar el cumplimiento del supuesto de **homocedasticidad** en los residuos del modelo de regresión optimizado, cuya variable dependiente es la **esperanza de vida** y las explicativas son **PIB per cápita (`gdp`)** y **urbanización (`urban`)**.\n",
    "\n",
    "### **Resultados de la prueba:**\n",
    "\n",
    "* **Estadístico Breusch-Pagan:** $\\chi^2 \\approx 13.01$\n",
    "* **Valor p obtenido:** $\\text{p} = 0.0004$\n",
    "\n",
    "### ✅ **Conclusión estadística:**\n",
    "\n",
    "Dado que el **valor p es menor que $\\alpha = 0.05$**, se **rechaza la hipótesis nula** de homocedasticidad.\n",
    "Esto indica que **la varianza de los residuos no es constante**, es decir, se detecta **heteroscedasticidad**.\n",
    "\n",
    "### **Importancia del supuesto en el modelo:**\n",
    "\n",
    "El supuesto de **homocedasticidad** es fundamental en la regresión lineal porque garantiza que:\n",
    "\n",
    "1. **Los errores tienen varianza constante**, lo cual permite confiar en la precisión de los **intervalos de confianza** y los **tests de significancia**.\n",
    "2. Si este supuesto se viola (como ocurre en este caso), los **errores estándar de los coeficientes pueden estar sesgados**, lo que lleva a:\n",
    "\n",
    "   * Interpretaciones incorrectas sobre la significancia de las variables.\n",
    "   * Inferencias poco confiables sobre el efecto de los predictores.\n",
    "\n",
    "### **Recomendación:**\n",
    "\n",
    "En presencia de heteroscedasticidad, se puede considerar:\n",
    "\n",
    "* Aplicar transformaciones a las variables (por ejemplo, `log(gdp)`).\n",
    "* Usar modelos de regresión robusta (como regresión ponderada o modelos con errores estándar robustos).\n",
    "* Evaluar si alguna variable omitida está generando varianza no explicada.\n"
   ]
  },
  {
   "cell_type": "markdown",
   "id": "7bba72b3",
   "metadata": {},
   "source": [
    "## 🎯 Resolver problema 5\n",
    "\n",
    "Utilizando la ecuacion del modelo, predecir la esperanza de vida al nacer para cada valor del archivo\n",
    "adjunto datos examen.csv. Cuales son las predicciones?"
   ]
  },
  {
   "cell_type": "code",
   "execution_count": 46,
   "id": "a06587ef",
   "metadata": {},
   "outputs": [
    {
     "data": {
      "text/plain": [
       "(   Unnamed: 0        gdp           pop   urban\n",
       " 0           3  21357.223  1.403584e+07  61.560\n",
       " 1           4  17404.652  1.489695e+08  63.460\n",
       " 2           7  11353.875  2.056750e+08  45.921\n",
       " 3           9  30809.622  2.170135e+08  53.280\n",
       " 4          10  21786.260  1.721029e+08  51.196,\n",
       " Index(['Unnamed: 0', 'gdp', 'pop', 'urban'], dtype='object'))"
      ]
     },
     "execution_count": 46,
     "metadata": {},
     "output_type": "execute_result"
    }
   ],
   "source": [
    "# Cargar el nuevo archivo para predicción\n",
    "df_examen = pd.read_csv(\"datos_examen.csv\")\n",
    "\n",
    "# Revisar las columnas y primeros datos\n",
    "df_examen.head(), df_examen.columns"
   ]
  },
  {
   "cell_type": "markdown",
   "id": "e95cc91b",
   "metadata": {},
   "source": [
    "El archivo datos_examen.csv contiene las variables necesarias para aplicar el modelo optimizado que predice la esperanza de vida (life) en función de:\n",
    "- `gdp` (PIB per cápita)\n",
    "- `urban` (porcentaje de urbanización)\n",
    "\n",
    "Ahora, se aplicara la ecuación del modelo para obtener las predicciones de esperanza de vida para cada fila del archivo."
   ]
  },
  {
   "cell_type": "code",
   "execution_count": 47,
   "id": "2a6975a1",
   "metadata": {},
   "outputs": [],
   "source": [
    "# Seleccionar solo las variables relevantes y agregar constante\n",
    "X_nuevo = df_examen[['gdp', 'urban']]\n",
    "X_nuevo_const = sm.add_constant(X_nuevo)\n",
    "\n",
    "# Realizar predicciones con el modelo optimizado\n",
    "predicciones_examen = modelo_opt.predict(X_nuevo_const)\n",
    "\n",
    "# Combinar resultados con el dataframe original para mostrar\n",
    "df_resultado = df_examen.copy()\n",
    "df_resultado['life_predicha'] = predicciones_examen"
   ]
  },
  {
   "cell_type": "markdown",
   "id": "0bba546f",
   "metadata": {},
   "source": [
    "### Predicción de esperanza de vida\n",
    "\n",
    "Utilizando el modelo de regresión lineal múltiple optimizado (con `gdp` y `urban` como variables predictoras), se realizó la predicción de la **esperanza de vida al nacer** para cada observación contenida en el archivo `datos_examen.csv`.\n",
    "\n",
    "La tabla a continuación presenta las predicciones generadas por el modelo:\n",
    "\n",
    "- `gdp`: PIB per cápita\n",
    "- `urban`: Porcentaje de urbanización\n",
    "- `life_predicha`: Esperanza de vida predicha por el modelo\n",
    "\n",
    "Estas predicciones fueron calculadas usando la función `modelo.predict()` con los datos de entrada correspondientes.\n"
   ]
  },
  {
   "cell_type": "markdown",
   "id": "4a180132",
   "metadata": {},
   "source": [
    "### Celda de código para mostrar y exportar la tabla"
   ]
  },
  {
   "cell_type": "code",
   "execution_count": 48,
   "id": "a7ab5f9d",
   "metadata": {},
   "outputs": [],
   "source": [
    "# Seleccionar las variables relevantes y agregar constante\n",
    "X_nuevo = df_examen[['gdp', 'urban']]\n",
    "X_nuevo_const = sm.add_constant(X_nuevo)\n",
    "\n",
    "# Realizar las predicciones\n",
    "predicciones_examen = modelo_opt.predict(X_nuevo_const)\n",
    "\n",
    "# Crear la tabla con resultados\n",
    "df_resultado = df_examen.copy()\n",
    "df_resultado['life_predicha'] = predicciones_examen"
   ]
  },
  {
   "cell_type": "code",
   "execution_count": 49,
   "id": "60a22f3c",
   "metadata": {},
   "outputs": [
    {
     "data": {
      "text/html": [
       "<div>\n",
       "<style scoped>\n",
       "    .dataframe tbody tr th:only-of-type {\n",
       "        vertical-align: middle;\n",
       "    }\n",
       "\n",
       "    .dataframe tbody tr th {\n",
       "        vertical-align: top;\n",
       "    }\n",
       "\n",
       "    .dataframe thead th {\n",
       "        text-align: right;\n",
       "    }\n",
       "</style>\n",
       "<table border=\"1\" class=\"dataframe\">\n",
       "  <thead>\n",
       "    <tr style=\"text-align: right;\">\n",
       "      <th></th>\n",
       "      <th>Unnamed: 0</th>\n",
       "      <th>gdp</th>\n",
       "      <th>pop</th>\n",
       "      <th>urban</th>\n",
       "      <th>life_predicha</th>\n",
       "    </tr>\n",
       "  </thead>\n",
       "  <tbody>\n",
       "    <tr>\n",
       "      <th>0</th>\n",
       "      <td>3</td>\n",
       "      <td>21357.223</td>\n",
       "      <td>1.403584e+07</td>\n",
       "      <td>61.560</td>\n",
       "      <td>72.095296</td>\n",
       "    </tr>\n",
       "    <tr>\n",
       "      <th>1</th>\n",
       "      <td>4</td>\n",
       "      <td>17404.652</td>\n",
       "      <td>1.489695e+08</td>\n",
       "      <td>63.460</td>\n",
       "      <td>71.405769</td>\n",
       "    </tr>\n",
       "    <tr>\n",
       "      <th>2</th>\n",
       "      <td>7</td>\n",
       "      <td>11353.875</td>\n",
       "      <td>2.056750e+08</td>\n",
       "      <td>45.921</td>\n",
       "      <td>66.893334</td>\n",
       "    </tr>\n",
       "    <tr>\n",
       "      <th>3</th>\n",
       "      <td>9</td>\n",
       "      <td>30809.622</td>\n",
       "      <td>2.170135e+08</td>\n",
       "      <td>53.280</td>\n",
       "      <td>73.112622</td>\n",
       "    </tr>\n",
       "    <tr>\n",
       "      <th>4</th>\n",
       "      <td>10</td>\n",
       "      <td>21786.260</td>\n",
       "      <td>1.721029e+08</td>\n",
       "      <td>51.196</td>\n",
       "      <td>70.452869</td>\n",
       "    </tr>\n",
       "  </tbody>\n",
       "</table>\n",
       "</div>"
      ],
      "text/plain": [
       "   Unnamed: 0        gdp           pop   urban  life_predicha\n",
       "0           3  21357.223  1.403584e+07  61.560      72.095296\n",
       "1           4  17404.652  1.489695e+08  63.460      71.405769\n",
       "2           7  11353.875  2.056750e+08  45.921      66.893334\n",
       "3           9  30809.622  2.170135e+08  53.280      73.112622\n",
       "4          10  21786.260  1.721029e+08  51.196      70.452869"
      ]
     },
     "execution_count": 49,
     "metadata": {},
     "output_type": "execute_result"
    }
   ],
   "source": [
    "# Mostrar las primeras filas\n",
    "df_resultado.head()"
   ]
  },
  {
   "cell_type": "code",
   "execution_count": 50,
   "id": "ae895fe6",
   "metadata": {},
   "outputs": [],
   "source": [
    "# Exportar a CSV\n",
    "df_resultado.to_csv('predicciones_esperanza_vida.csv', index=False)"
   ]
  },
  {
   "cell_type": "markdown",
   "id": "b5b17e66",
   "metadata": {},
   "source": [
    "### ✅ **Predicción con el modelo optimizado**\n",
    "\n",
    "Utilizando la ecuación del modelo de regresión lineal múltiple ajustado previamente —donde la esperanza de vida al nacer (`life`) se predice en función de las variables **PIB per cápita (`gdp`)** y **porcentaje de urbanización (`urban`)**— se calcularon las predicciones para cada una de las observaciones contenidas en el archivo `datos_examen.csv`.\n",
    "\n",
    "\n",
    "#### 📊 **Predicciones obtenidas:**\n",
    "\n",
    "| Observación | `gdp`    | `urban` | Esperanza de vida predicha (`life_predicha`) |\n",
    "| ----------- | -------- | ------- | -------------------------------------------- |\n",
    "| 1           | 21357.22 | 61.56   | **72.10 años**                               |\n",
    "| 2           | 17404.65 | 63.46   | **71.41 años**                               |\n",
    "| 3           | 11353.87 | 45.92   | **66.89 años**                               |\n",
    "| 4           | 30809.62 | 53.28   | **73.11 años**                               |\n",
    "| 5           | 21786.26 | 51.20   | **70.45 años**                               |\n",
    "\n",
    "\n",
    "#### **Interpretación:**\n",
    "\n",
    "El modelo estima que, en función del nivel de desarrollo económico y urbanización, la esperanza de vida para las observaciones analizadas se encuentra en un rango aproximado entre **66.9 y 73.1 años**. Estas predicciones permiten aproximar el nivel de bienestar poblacional asociado a las condiciones socioeconómicas dadas."
   ]
  }
 ],
 "metadata": {
  "kernelspec": {
   "display_name": "Python 3",
   "language": "python",
   "name": "python3"
  },
  "language_info": {
   "codemirror_mode": {
    "name": "ipython",
    "version": 3
   },
   "file_extension": ".py",
   "mimetype": "text/x-python",
   "name": "python",
   "nbconvert_exporter": "python",
   "pygments_lexer": "ipython3",
   "version": "3.12.2"
  }
 },
 "nbformat": 4,
 "nbformat_minor": 5
}
