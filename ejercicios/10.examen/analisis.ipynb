{
 "cells": [
  {
   "cell_type": "markdown",
   "id": "fc47aca2",
   "metadata": {},
   "source": [
    "# Tendencias mundiales realcionadas con la economia"
   ]
  },
  {
   "cell_type": "markdown",
   "id": "01e27bd9",
   "metadata": {
    "vscode": {
     "languageId": "plaintext"
    }
   },
   "source": [
    "## 📚 Librerias"
   ]
  },
  {
   "cell_type": "code",
   "execution_count": null,
   "id": "cbf76d84",
   "metadata": {},
   "outputs": [],
   "source": [
    "import pandas as pd\n",
    "import pandas as pd\n",
    "import scipy.stats as ss\n",
    "import numpy as np\n",
    "import matplotlib.pyplot as plt\n",
    "import seaborn as sns\n",
    "#Pruebas estadisticas \n",
    "from scipy import stats\n",
    "#Prueba t de student de una cola\n",
    "from scipy.stats import ttest_ind"
   ]
  },
  {
   "cell_type": "markdown",
   "id": "889fe0ed",
   "metadata": {},
   "source": [
    "## 📄📥 Cargar el archivo"
   ]
  },
  {
   "cell_type": "code",
   "execution_count": 5,
   "id": "c38dde4e",
   "metadata": {},
   "outputs": [
    {
     "data": {
      "text/plain": [
       "(                                                           ;country;region;gdp;life;pop;urban\n",
       " 1;Algeria;Africa;7300      399902;72  31666565;34172236;64                           93333435\n",
       " 2;Benin;Africa;1338        800049;54  73333359;8237634;41                                 NaN\n",
       " 3;Botswana;Africa;12307    40039;52   25;1941233;59                                        25\n",
       " 4;Burkina Faso;Africa;1063 400024;53  78333282;15308383;23                           58333397\n",
       " 5;Burundi;Africa;349       2000122;48 86666489;7821783;10                                  25,\n",
       " Index([';country;region;gdp;life;pop;urban'], dtype='object'))"
      ]
     },
     "execution_count": 5,
     "metadata": {},
     "output_type": "execute_result"
    }
   ],
   "source": [
    "# Cargar el archivo\n",
    "file_path = 'nations_gdp_life_pop_urban.csv'\n",
    "df = pd.read_csv(file_path)\n",
    "\n",
    "# Mostrar las primeras filas y nombres de columnas para entender la estructura\n",
    "df.head(), df.columns"
   ]
  },
  {
   "cell_type": "markdown",
   "id": "b8063fdd",
   "metadata": {},
   "source": [
    "### Corregir data "
   ]
  },
  {
   "cell_type": "code",
   "execution_count": 6,
   "id": "425e8fe1",
   "metadata": {},
   "outputs": [
    {
     "data": {
      "text/plain": [
       "(   Unnamed: 0       country  region          gdp         life       pop  \\\n",
       " 0           1       Algeria  Africa  7300,399902  72,31666565  34172236   \n",
       " 1           2         Benin  Africa  1338,800049  54,73333359   8237634   \n",
       " 2           3      Botswana  Africa  12307,40039        52,25   1941233   \n",
       " 3           4  Burkina Faso  Africa  1063,400024  53,78333282  15308383   \n",
       " 4           5       Burundi  Africa  349,2000122  48,86666489   7821783   \n",
       " \n",
       "          urban  \n",
       " 0  64,93333435  \n",
       " 1           41  \n",
       " 2        59,25  \n",
       " 3  23,58333397  \n",
       " 4        10,25  ,\n",
       " Index(['Unnamed: 0', 'country', 'region', 'gdp', 'life', 'pop', 'urban'], dtype='object'))"
      ]
     },
     "execution_count": 6,
     "metadata": {},
     "output_type": "execute_result"
    }
   ],
   "source": [
    "# Leer el archivo correctamente separando por punto y coma\n",
    "df_fixed = pd.read_csv(file_path, sep=';')\n",
    "\n",
    "# Mostrar las primeras filas y los nombres de columnas corregidos\n",
    "df_fixed.head(), df_fixed.columns"
   ]
  },
  {
   "cell_type": "markdown",
   "id": "bf72c3bb",
   "metadata": {},
   "source": [
    "## 🎯 Resolver problema 1 \n",
    "\n",
    "Se sabe que el porcentaje promedio de urbanizacion en Europa ha estado aumentando en las ultimas decadas. Un informe reciente sugiere que el porcentaje de urbanizacion promedio en el continente\n",
    "ha superado el 75%. Sin embargo, un grupo de investigadores desea verificar si el porcentaje de urbanizacion promedio en Europa sigue siendo igual o menor al 75%. Corroborar esta informacion, considerando $\\alpha$ = 5%"
   ]
  },
  {
   "cell_type": "markdown",
   "id": "16d15c0a",
   "metadata": {},
   "source": [
    "### Limpiar la columna urban \n",
    "\n",
    "Voy a limpiar la columna `urban` para convertirla a valores numéricos y luego filtrar los países de Europa para realizar una prueba de hipótesis (one-sample t-test) y verificar si el porcentaje promedio de urbanización es ≤ 75%. "
   ]
  },
  {
   "cell_type": "code",
   "execution_count": null,
   "id": "3fbf9bb9",
   "metadata": {},
   "outputs": [],
   "source": [
    "import numpy as np\n",
    "\n",
    "# Reemplazar comas por puntos y convertir a numérico, errores como NaN\n",
    "df_fixed['urban'] = df_fixed['urban'].astype(str).str.replace(',', '.')\n",
    "df_fixed['urban'] = pd.to_numeric(df_fixed['urban'], errors='coerce')\n",
    "\n",
    "# Filtrar los países de Europa\n",
    "df_europe = df_fixed[df_fixed['region'] == 'Europe']\n",
    "\n",
    "# Eliminar valores nulos en urban\n",
    "urban_europe = df_europe['urban'].dropna()\n",
    "\n",
    "# Prueba t de una muestra: H0: μ ≤ 75 vs H1: μ > 75\n",
    "t_stat, p_value = stats.ttest_1samp(urban_europe, popmean=75)\n",
    "\n",
    "# Como la prueba es unilateral, dividimos el p-value\n",
    "p_value_one_tailed = p_value / 2\n",
    "\n",
    "# Obtener media y tamaño muestral\n",
    "mean_urban = urban_europe.mean()\n",
    "n = len(urban_europe)\n",
    "\n",
    "mean_urban, n, t_stat, p_value_one_tailed\n"
   ]
  },
  {
   "cell_type": "markdown",
   "id": "115e5293",
   "metadata": {},
   "source": []
  }
 ],
 "metadata": {
  "kernelspec": {
   "display_name": "Python 3",
   "language": "python",
   "name": "python3"
  },
  "language_info": {
   "codemirror_mode": {
    "name": "ipython",
    "version": 3
   },
   "file_extension": ".py",
   "mimetype": "text/x-python",
   "name": "python",
   "nbconvert_exporter": "python",
   "pygments_lexer": "ipython3",
   "version": "3.12.2"
  }
 },
 "nbformat": 4,
 "nbformat_minor": 5
}
