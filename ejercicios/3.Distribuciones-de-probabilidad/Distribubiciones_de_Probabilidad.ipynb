{
  "cells": [
    {
      "cell_type": "markdown",
      "metadata": {
        "id": "BDncRPFRvu3B"
      },
      "source": [
        "# Variables aleatorias discretas y continuas"
      ]
    },
    {
      "cell_type": "markdown",
      "metadata": {
        "id": "n6VKOPw0NbEB"
      },
      "source": [
        "Una variable aleatoria es una función cuyo dominio es el espacio muestral y cuyo recorrido es $\\mathbb{R}$, es decir\n",
        "$$\n",
        "X: S\\to\\mathbb{R}\n",
        "$$"
      ]
    },
    {
      "cell_type": "markdown",
      "metadata": {
        "id": "erQPmlO-v3Z-"
      },
      "source": [
        "## Variables aleatorias discretas\n",
        "\n",
        "Una variable aleatoria discreta  es una variable aleatoria cuyos valores posibles constituyen un conjunto finito, o numerable, es decir\n",
        "$$\n",
        "X: S\\to \\mathbb{Z}\n",
        "$$\n",
        "\n",
        "Ejemplos de variables aleatorias discretas:\n",
        "\n",
        "número de rayaduras en una superficie, proporción de partes defectuosas entre 1000 probadas.\n",
        "\n",
        "**Definición**\n",
        "\n",
        "Para una variable aleatoria discreta $X$ con valores posibles $x_1,x_2,x_3,\\cdots,x_n$ se define la función de masa de probabilidad como\n",
        "$$\n",
        "f(x_i)=P(X=x_i)\n",
        "$$\n",
        "\n",
        "Observación:\n",
        "\n",
        "\n",
        "Puesto que $f(x_i)$ es una función de probabilidad se cumple que:\n",
        "\n",
        "1. $f(x_i)\\geq 0,\\quad \\forall x_i$\n",
        "2. $\\displaystyle\\sum_{i=1}^n f(x_i)=1\n",
        "$\n"
      ]
    },
    {
      "cell_type": "markdown",
      "metadata": {
        "id": "Ug55varKwE4e"
      },
      "source": [
        "#### **Función de distribución de probabilidad:**\n",
        "\n",
        "Si $X$ es una variable aleatoria discreta, entonces se llama función de distribución de probabilidad de $X$ a la función $F (x)$, donde:\n",
        "$$\n",
        "F(x)=P(X\\leq x)= \\sum_{y\\leq x} p(y)\n",
        "$$\n",
        "También llamada probabilidad de $x_i$, para todo xi pertenecientes al dominio.\n",
        "\n",
        "Una función de distribución de probabilidad debe satisfacer las siguientes condiciones:\n",
        "\n",
        "\n",
        "1.   $F(x_i)\\geq 0$, es decir, la probabilidad calculada debe ser necesariamente en valor positivo o\n",
        "igual a cero.\n",
        "2.   $\\sum F(x_i)=1$ (sobre un espacio muestral, la suma la suma de todas las probabilidades es 1)\n",
        "\n",
        "**Esperanza y Varianza**\n",
        "\n",
        "Al valor esperado de un experimento, se le llama **Esperanza** y se define como\n",
        "$$\n",
        "E(X)= \\sum_{x=1}^n x_i f(x_i)\n",
        "$$\n",
        "\n",
        "Sea $X$ la variable aleatoria discreta con función de densidad de probabilidad $f(x)$, la varianza de\n",
        "$x$, denotada por $Var(X)$, se define como\n",
        "$$\n",
        "Var(X)= E(X^2)-[E(X)]^2\n",
        "$$"
      ]
    },
    {
      "cell_type": "markdown",
      "metadata": {
        "id": "jHVUCUV8wmFl"
      },
      "source": [
        "Ejemplo:\n",
        "\n",
        "Una empresa de ventas en línea  dispone de 6 líneas telefónicas. Sea $X$  el número de líneas en uso en un tiempo especificado. Suponga que la función de masa de probabilidad de $X$ es la que se da en la tabla\n",
        "\n",
        "|$x$|0|1|2|3|4|5|6|\n",
        "|--|--|--|--|--|--|--|--|\n",
        "|$p(x)$|0.1|0.15|0.2|0.25|0.2|0.06|0.04|\n",
        "\n",
        "\n",
        "Calcular la probabilidad de que sucedan los siguientes eventos:\n",
        "\n",
        "1. $P(X\\leq 3)$ (probabilidad de que a lo mucho, 3 líneas estén en uso)\n",
        "2. $P(X\\geq 3)$ (probabilidad de que al menos, 3 líneas estén en uso)\n"
      ]
    },
    {
      "cell_type": "markdown",
      "metadata": {
        "id": "oLUmEre5wtO1"
      },
      "source": [
        "1. Sol:\n",
        "$X$={número de líneas telefónicas en uso}\n",
        "\n",
        "Debemos hallar\n",
        "$$\n",
        "P(X\\leq 3)=\\sum_{i=0}^3 p(x_i)=P(X=0)+P(X=1)+P(X=2)+P(X=3)\n",
        "$$"
      ]
    },
    {
      "cell_type": "code",
      "execution_count": null,
      "metadata": {
        "id": "zJ3Dyo2qs_UJ"
      },
      "outputs": [],
      "source": [
        "import pandas as pd\n",
        "import numpy as np\n",
        "import matplotlib.pyplot as plt\n",
        "import seaborn as sns"
      ]
    },
    {
      "cell_type": "code",
      "execution_count": null,
      "metadata": {
        "id": "K-V-5Z4_sqGx"
      },
      "outputs": [],
      "source": [
        "tabla=pd.DataFrame({'x':[0,1,2,3,4,5,6],\n",
        " 'p(x)':[0.1,0.15,0.2,0.25,0.2,0.06,0.04]})"
      ]
    },
    {
      "cell_type": "code",
      "execution_count": null,
      "metadata": {
        "id": "YG5BljGitRVi"
      },
      "outputs": [],
      "source": [
        "probabilidad=tabla['p(x)'].iloc[:4].sum()"
      ]
    },
    {
      "cell_type": "code",
      "execution_count": null,
      "metadata": {
        "colab": {
          "base_uri": "https://localhost:8080/"
        },
        "id": "bPxPeBRmtb17",
        "outputId": "1f444511-33bf-4ce1-e3c3-ebbb258bc7a0"
      },
      "outputs": [
        {
          "name": "stdout",
          "output_type": "stream",
          "text": [
            " P(X<=3):0.7\n"
          ]
        }
      ],
      "source": [
        "print(f' P(X<=3):{probabilidad}')"
      ]
    },
    {
      "cell_type": "markdown",
      "metadata": {
        "id": "DDThX67wwwJ1"
      },
      "source": [
        "2. Debemos hallar  $$P(X\\geq 3)=1-P(X<3)=1-P(X\\leq 2)$$\n",
        "\n",
        "(Esto corresponde a la probabilidad de que al menos 3 líneas estén en uso)"
      ]
    },
    {
      "cell_type": "code",
      "execution_count": null,
      "metadata": {
        "id": "RnTr1pyauQkN"
      },
      "outputs": [],
      "source": [
        "ejercicio2=1-tabla['p(x)'].iloc[:3].sum()"
      ]
    },
    {
      "cell_type": "code",
      "execution_count": null,
      "metadata": {
        "colab": {
          "base_uri": "https://localhost:8080/"
        },
        "id": "KBrKmPhquca0",
        "outputId": "07f208b0-dec4-48a7-db5b-dbfa059e15d0"
      },
      "outputs": [
        {
          "name": "stdout",
          "output_type": "stream",
          "text": [
            "La probabilidad de que al menos hayan 3 líneas telefónicas en uso es: 0.55\n"
          ]
        }
      ],
      "source": [
        "print(f'La probabilidad de que al menos hayan 3 líneas telefónicas en uso es: {ejercicio2}')"
      ]
    },
    {
      "cell_type": "markdown",
      "metadata": {
        "id": "JXuvDXW0zNdU"
      },
      "source": [
        "# Distribuciones Discretas:\n",
        "\n",
        "\n",
        "Para modelar el comportamiento de una variable aleatoria discreta se debe estudiar su distribución de probabilidad.\n",
        "\n",
        "## **Distribución Binomial**\n",
        "Dado un evento, que cumple con las siguientes propiedades:\n",
        "\n",
        "\n",
        "1.  Sólo existen dos posibles resultados\n",
        "2.  La probabilidad de exito $(p)$, es constante (al igual que la probabilidad de fracaso $(1-p)$)\n",
        "1.  Los experimentos son independientes\n",
        "\n",
        "Tal experimento, se conoce como **Experimento binomial**.\n",
        "\n",
        "\n",
        "Una variable aleatoria X se distribuye binomial con parámetros $n$ (cantidad de repeticiones\n",
        "del experimento) y $p$ (probabilidad de éxito), es decir:\n",
        "$$\n",
        "X \\sim B(n; p)\n",
        "$$\n",
        "\n",
        "Para un experimento binomial, su probababilidad está dada por\n",
        "$$\n",
        "f(x)=P(X=k)= \\binom{n}{k}p^k(1-p)^{n-k}\n",
        "$$\n",
        "en donde $k$ corresponde a la cantidad de éxitos, $n$ al tamaño de la muestra y $p$ a la probabilidad de éxito.\n",
        "\n",
        "\n",
        "Por otro lado, la función de distribución de probabilidad\n",
        "$$\n",
        "P(X\\leq k)=\\sum_i^k \\binom{n}{i}p^x(1-p)^{n-i}\n",
        "$$\n",
        "\n",
        "Ejemplo= lanzar una moneda 600 veces\n",
        "\n",
        "\n"
      ]
    },
    {
      "cell_type": "markdown",
      "metadata": {
        "id": "lTsiHBlVzSUk"
      },
      "source": [
        "A continuación, graficaremos la función de masa de probabilidad $f(x)$:\n",
        "\n",
        "Observación: Para graficar la función en masa de probabilidad en Python, debemos utilizar la funcion pmf de la libreria scypi.stats"
      ]
    },
    {
      "cell_type": "code",
      "execution_count": null,
      "metadata": {
        "id": "r8d2PE3Ovdkt"
      },
      "outputs": [],
      "source": [
        "import scipy.stats as ss"
      ]
    },
    {
      "cell_type": "code",
      "execution_count": null,
      "metadata": {
        "id": "4iop8UX5voG4"
      },
      "outputs": [],
      "source": [
        "# Parámetros que nos permiten definir la distribución binomial\n",
        "n,p=100,0.5\n",
        "# Considerar un conjunto de puntos en el eje X\n",
        "x_binomial=np.arange(30,80,1)\n",
        "# Función de masa de probabilidad\n",
        "fmp_binomial=ss.binom.pmf(x_binomial,n,p)"
      ]
    },
    {
      "cell_type": "code",
      "execution_count": null,
      "metadata": {
        "colab": {
          "base_uri": "https://localhost:8080/"
        },
        "id": "DsYc8GsxxMeT",
        "outputId": "b857d768-9aee-465d-b3d4-e85c8fe70c24"
      },
      "outputs": [
        {
          "data": {
            "text/plain": [
              "np.float64(0.010843866711637978)"
            ]
          },
          "execution_count": 31,
          "metadata": {},
          "output_type": "execute_result"
        }
      ],
      "source": [
        "# P(X=40)\n",
        "prob_binomial=ss.binom.pmf(40,n,p)\n",
        "prob_binomial"
      ]
    },
    {
      "cell_type": "code",
      "execution_count": null,
      "metadata": {
        "colab": {
          "base_uri": "https://localhost:8080/",
          "height": 468
        },
        "id": "5kHT_jq4v0XR",
        "outputId": "902ae4c2-07da-4927-b253-deeae6d1f493"
      },
      "outputs": [
        {
          "data": {
            "image/png": "[encoded data removed]",
            "text/plain": [
              "<Figure size 600x500 with 1 Axes>"
            ]
          },
          "metadata": {},
          "output_type": "display_data"
        }
      ],
      "source": [
        "# Graficaf\n",
        "fig=plt.figure(figsize=(6,5))\n",
        "plt.vlines(x_binomial,0,fmp_binomial,lw=5,label=f' $n:{n}$ y $p: {0.5}$')\n",
        "plt.axhline(prob_binomial,color='magenta',label=f' $P(X=40)$') # plt.axhline= linea horizontal, plt.axvline= linea vertical\n",
        "plt.legend()\n",
        "plt.title('Distribución binomial: Función de masa de probabilidad')\n",
        "plt.show()"
      ]
    },
    {
      "cell_type": "markdown",
      "metadata": {
        "id": "4DPqTCpZ5bgj"
      },
      "source": [
        "Gráfica de la función de distribución de probabilidad:\n",
        "\n",
        "Para graficar la función de distribución probabilidad  $P(X\\leq x)$ debemos, utilizar la función $ss.binom.cdf(x,n,p)$ de la librería scypi.stats"
      ]
    },
    {
      "cell_type": "code",
      "execution_count": null,
      "metadata": {
        "id": "C_IcPjsmYdit"
      },
      "outputs": [],
      "source": [
        "# Para está gráfica, consideraremos n=100 y p=0.5, además consideraremos x_binomial\n",
        "fdp=ss.binom.cdf(x_binomial, n,p) # Función de distribuci+on de probabilidad\n"
      ]
    },
    {
      "cell_type": "code",
      "execution_count": null,
      "metadata": {
        "id": "wsELeXJ7zxGt"
      },
      "outputs": [],
      "source": [
        "# P(X<=50)\n",
        "prob=ss.binom.cdf(50,n,p)"
      ]
    },
    {
      "cell_type": "code",
      "execution_count": null,
      "metadata": {
        "colab": {
          "base_uri": "https://localhost:8080/",
          "height": 468
        },
        "id": "fmA4jig_zP59",
        "outputId": "f4630a43-7c75-4834-c8bf-b5a2ad8638a9"
      },
      "outputs": [
        {
          "data": {
            "image/png": "[encoded data removed]",
            "text/plain": [
              "<Figure size 600x500 with 1 Axes>"
            ]
          },
          "metadata": {},
          "output_type": "display_data"
        }
      ],
      "source": [
        "fig=plt.figure(figsize=(6,5))\n",
        "plt.vlines(x_binomial,0,fdp,lw=5,color='pink',label=f' $n={n},p={p}$')\n",
        "plt.title('Distribución Binomial: Función de distribución de probabilidad')\n",
        "plt.axhline(prob,label=f'$P(X\\leq 50):{round(prob,3)}$')\n",
        "plt.ylabel('Probabilidad')\n",
        "plt.legend()\n",
        "plt.show()"
      ]
    },
    {
      "cell_type": "markdown",
      "metadata": {
        "id": "iE1hSR0j7SQR"
      },
      "source": [
        "### **Observación**\n",
        "\n",
        "Para una variable aleatoria que se distribuye binomial, se definen la esperanza y la varianza como\n",
        "$$\n",
        "E(X) = n\\cdot p ;\\qquad V(X) = n \\cdot p \\cdot (1-p)\n",
        "$$\n",
        "donde $n$ corresponde al tamaño de la muestra, y $p$ a la probabilidad de éxito de la variable aleatoria"
      ]
    },
    {
      "cell_type": "markdown",
      "metadata": {
        "id": "VuMIZhhXw5fL"
      },
      "source": [
        "**Ejemplo:**"
      ]
    },
    {
      "cell_type": "markdown",
      "metadata": {
        "id": "FOypo3zTyDK8"
      },
      "source": [
        "Un restaurante quiere analizar la probabilidad de que un cliente deje una propina superior a $\\$$3. Se sabe que, con base en datos históricos (según la base de datos tips), aproximadamente el 30% de los clientes dejan una propina mayor a $\\$3$\n",
        "\n",
        "1. Si un día el restaurante atiende a 10 clientes, ¿cuál es la probabilidad de que exactamente 4 de ellos dejen una propina mayor a $3.00?"
      ]
    },
    {
      "cell_type": "markdown",
      "metadata": {
        "id": "FxmW8AJeyICa"
      },
      "source": [
        "**Sol:**\n",
        "Sea\n",
        "$X=$ Clientes que dejan una propina superior a $\\$3$.\n",
        "\n",
        "Se sabe que:\n",
        "- Cada cliente es un intento independiente.\n",
        "- La probabilidad de éxito (dejar una propina mayor a $\\$3$) es\n",
        "$p=0.3$\n",
        "- Se atienden $n=10$ clientes\n",
        "\n",
        "De lo anterior, se tiene que\n",
        "$$\n",
        "X\\sim Binom(n=10,p=0.3)\n",
        "$$\n",
        "\n",
        "\n"
      ]
    },
    {
      "cell_type": "code",
      "execution_count": null,
      "metadata": {
        "id": "2Sz8tj_i3Vgs"
      },
      "outputs": [],
      "source": [
        "# P(X=4)\n",
        "n1,p1=10,0.3\n",
        "probabilidad_binomial1=ss.binom.pmf(4,n1,p1).round(4)"
      ]
    },
    {
      "cell_type": "code",
      "execution_count": null,
      "metadata": {
        "colab": {
          "base_uri": "https://localhost:8080/"
        },
        "id": "WPVce9mc3mOa",
        "outputId": "b42bfdf2-845c-4aa5-f42a-78408c554e58"
      },
      "outputs": [
        {
          "name": "stdout",
          "output_type": "stream",
          "text": [
            "P(X=4):0.2001\n"
          ]
        }
      ],
      "source": [
        "print(f'P(X=4):{probabilidad_binomial1}')"
      ]
    },
    {
      "cell_type": "markdown",
      "metadata": {
        "id": "ral-8Lbczjae"
      },
      "source": [
        "2. ¿ Cuál es la probabilidad de que más de 4 clientes dejen una propina superior a $\\$3$?"
      ]
    },
    {
      "cell_type": "code",
      "execution_count": null,
      "metadata": {
        "colab": {
          "base_uri": "https://localhost:8080/"
        },
        "id": "RAtkZ4re4Wof",
        "outputId": "639a8c69-21f8-4769-a88a-4b9263bd415a"
      },
      "outputs": [
        {
          "data": {
            "text/plain": [
              "np.float64(15.0)"
            ]
          },
          "execution_count": 61,
          "metadata": {},
          "output_type": "execute_result"
        }
      ],
      "source": [
        "#P(X>4)\n",
        "(1-ss.binom.cdf(4,n1,p1)).round(3)*100"
      ]
    },
    {
      "cell_type": "markdown",
      "metadata": {
        "id": "OyKbOAzK1LhA"
      },
      "source": [
        "3. ¿Cuál es la probabibilidad de que menos de 4 clientes dejen una propina superior a $\\$3$?"
      ]
    },
    {
      "cell_type": "code",
      "execution_count": null,
      "metadata": {
        "colab": {
          "base_uri": "https://localhost:8080/"
        },
        "id": "rzvChkma5IPi",
        "outputId": "bd2fc863-3ad8-42d0-bd89-7e0e3f184dac"
      },
      "outputs": [
        {
          "data": {
            "text/plain": [
              "np.float64(0.6496107184000002)"
            ]
          },
          "execution_count": 62,
          "metadata": {},
          "output_type": "execute_result"
        }
      ],
      "source": [
        "ss.binom.cdf(3,n1,p1)"
      ]
    },
    {
      "cell_type": "markdown",
      "metadata": {
        "id": "gv6Ydf5E7uH5"
      },
      "source": [
        "## **Distribución de Poisson**\n",
        "\n",
        "La distribución de Poisson es una distribución de probabilidad discreta que expresa  la probabilidad de que ocurra un determinado evento, durante cierto periodo fijo de tiempo.\n",
        "\n",
        "La distribución de Poisson se especializa en  la probabilidad de que ocurran sucesos raros (o, con probabilidad muy pequeña)\n",
        "\n",
        "Si $X$ es una variable aleatoria de Poisson, con parámetro $λ$, entonces\n",
        "$$\n",
        "X\\sim P(\\lambda)\n",
        "$$\n",
        "Si $k$ representa el número de ocurrencias del suceso o evento y $\\lambda> 0$ el número de veces\n",
        "que se espera ocurra el evento durante un intervalo de tiempo determinado, su función de\n",
        "masa de probabilidad\n",
        "$$\n",
        "f(k)=P(X=k)=\\frac{e^{-\\lambda}\\lambda^k}{k!}\n",
        "$$\n",
        "\n",
        "\n",
        "De la misma forma, la función de distribución de probabilidad es:\n",
        "$$\n",
        "P(X\\leq k)=\\sum_{i=0}^k \\frac{e^{-\\lambda}\\lambda^i}{i!}\n",
        "$$"
      ]
    },
    {
      "cell_type": "code",
      "execution_count": null,
      "metadata": {
        "id": "WeAjp50Tszvw"
      },
      "outputs": [],
      "source": [
        "import pandas as pd\n",
        "import numpy as np\n",
        "import matplotlib.pyplot as plt\n",
        "import seaborn as sns\n",
        "import scipy.stats as ss"
      ]
    },
    {
      "cell_type": "markdown",
      "metadata": {
        "id": "f3ZizemmeduE"
      },
      "source": [
        "**Observación**\n",
        "\n",
        "La media de ocurrencia de eventos es $\\lambda$"
      ]
    },
    {
      "cell_type": "markdown",
      "metadata": {
        "id": "Vi12n5aE70lJ"
      },
      "source": [
        "A continuación, procederemos a graficar la función en masa de probabilidad del comportamiento de una variable aleatoria que se distribuye Poisson.\n",
        "\n",
        "Para, esto, de la librería scypi.stats importaremos la función $ss.poisson.pmf(k,\\lambda)$"
      ]
    },
    {
      "cell_type": "code",
      "execution_count": null,
      "metadata": {
        "id": "NAgwgflJtC7w"
      },
      "outputs": [],
      "source": [
        "lamb=25\n",
        "x_poisson=np.arange(10,50,1) # puntos que vamos a graficar\n",
        "fmp_poisson=ss.poisson.pmf(x_poisson,lamb) # función de masa de probabilidad"
      ]
    },
    {
      "cell_type": "markdown",
      "metadata": {
        "id": "0HJTiSmHua81"
      },
      "source": [
        "$$\n",
        "P(X=15)\n",
        "$$"
      ]
    },
    {
      "cell_type": "code",
      "execution_count": null,
      "metadata": {
        "id": "1uQE0LgruefZ"
      },
      "outputs": [],
      "source": [
        "prob=ss.poisson.pmf(15,lamb)"
      ]
    },
    {
      "cell_type": "code",
      "execution_count": null,
      "metadata": {
        "colab": {
          "base_uri": "https://localhost:8080/",
          "height": 545
        },
        "id": "wyu00kBItjXc",
        "outputId": "043da725-ad0f-4865-f01e-19572e6ffe8a"
      },
      "outputs": [
        {
          "data": {
            "image/png": "[encoded data removed]",
            "text/plain": [
              "<Figure size 800x600 with 1 Axes>"
            ]
          },
          "metadata": {},
          "output_type": "display_data"
        }
      ],
      "source": [
        "fig=plt.figure(figsize=(8,6))\n",
        "plt.vlines(x_poisson,0,fmp_poisson,lw=5,label=f' $\\lambda:$ {lamb}')\n",
        "plt.axhline(prob,linestyle=':',color='red')\n",
        "plt.title('Distribución de Poisson: Función masa de probabilidad')\n",
        "plt.legend()\n",
        "plt.show()"
      ]
    },
    {
      "cell_type": "markdown",
      "metadata": {
        "id": "sAEb-4oH78iJ"
      },
      "source": [
        "###Gráfica de la función de distribución de probabilidad:\n",
        "\n",
        "Para graficar la función de distribución probabilidad  $P(X\\leq x)$ debemos, utilizar la función $ss.poisson.cdf(k,\\lambda)$ de la librería scypi.stats"
      ]
    },
    {
      "cell_type": "code",
      "execution_count": null,
      "metadata": {
        "id": "Yb-qdoVAHq66"
      },
      "outputs": [],
      "source": [
        "#Ejercicio: Realizar la gráfica de la función de distribución de probabilidad"
      ]
    },
    {
      "cell_type": "markdown",
      "metadata": {
        "id": "HZHMiUW-8GMg"
      },
      "source": [
        "### Proposición:\n",
        "Si $X$ tiene una distribución de Poisson con parámetro $\\lambda>0$, entonces $E(X)=Var(X)=\\lambda$\n",
        "\n"
      ]
    },
    {
      "cell_type": "markdown",
      "metadata": {
        "id": "_SV2cEVR5H3W"
      },
      "source": [
        "**Ejercicio**\n",
        "\n",
        "Una aerolínea ha analizado el número de pasajeros mensuales en vuelos comerciales utilizando datos históricos (según la base de datos flights, de la librería seaborn). Se ha determinado que, en promedio, 120 pasajeros viajan en un vuelo determinado cada mes.\n",
        "\n",
        "Si asumimos que el número de pasajeros sigue una distribución de Poisson,\n",
        "\n",
        "1. ¿Cuál es la probabilidad de que en un mes haya exactamente 130 pasajeros en un vuelo?"
      ]
    },
    {
      "cell_type": "markdown",
      "metadata": {
        "id": "qsIJML3H6ADG"
      },
      "source": [
        "**Sol**:\n",
        "\n",
        "Sea $X=$ Cantidad de pasajeros.\n",
        "\n",
        "\n",
        "Se sabe que\n",
        "$$\n",
        "X\\sim Poisson (\\lambda=120)\n",
        "$$\n",
        "ya que $E(x)= 120$ (la media esperada es de 120 pasajeros al mes)"
      ]
    },
    {
      "cell_type": "markdown",
      "metadata": {
        "id": "CewzDsQozd_U"
      },
      "source": [
        "$$\n",
        "P(X=130)\n",
        "$$"
      ]
    },
    {
      "cell_type": "code",
      "execution_count": null,
      "metadata": {
        "id": "EkAwnJfTkZWF"
      },
      "outputs": [],
      "source": [
        "lambd=120 # Valor esperado de pasajeros del avión"
      ]
    },
    {
      "cell_type": "code",
      "execution_count": null,
      "metadata": {
        "id": "YbaY2suhzjh5"
      },
      "outputs": [],
      "source": [
        "prob_1=ss.poisson.pmf(130,lambd)\n",
        "# P(X=a)=pmf"
      ]
    },
    {
      "cell_type": "code",
      "execution_count": null,
      "metadata": {
        "colab": {
          "base_uri": "https://localhost:8080/"
        },
        "id": "zN16-6xg0AIG",
        "outputId": "c7892b8c-505e-4724-d333-8bd0337e0925"
      },
      "outputs": [
        {
          "name": "stdout",
          "output_type": "stream",
          "text": [
            "P(X=130):2.3%\n"
          ]
        }
      ],
      "source": [
        "print(f'P(X=130):{round(prob_1,3)*100}%')"
      ]
    },
    {
      "cell_type": "markdown",
      "metadata": {
        "id": "BQA2ufnu65Nt"
      },
      "source": [
        "2. ¿ Cuál es la probabilidad de que en un mes viajen menos de 110 pasajeros?"
      ]
    },
    {
      "cell_type": "code",
      "execution_count": null,
      "metadata": {
        "colab": {
          "base_uri": "https://localhost:8080/"
        },
        "id": "IDyKI6FZ0v3L",
        "outputId": "aa70a2c0-52cf-4cb0-b68e-504f5dbd5816"
      },
      "outputs": [
        {
          "data": {
            "text/plain": [
              "np.float64(0.16914072965596402)"
            ]
          },
          "execution_count": 43,
          "metadata": {},
          "output_type": "execute_result"
        }
      ],
      "source": [
        "ss.poisson.cdf(109,lambd)\n",
        "# P(X<= a)=cdf"
      ]
    },
    {
      "cell_type": "markdown",
      "metadata": {
        "id": "l6XHxsbM7zSd"
      },
      "source": [
        "3. ¿ Cuál es la probabilidad de que en un mes viajen más de 110 pasajeros?"
      ]
    },
    {
      "cell_type": "code",
      "execution_count": null,
      "metadata": {
        "id": "yUUiqNOK2C6W"
      },
      "outputs": [],
      "source": [
        "#P(X>110)=1-P(X<=110)\n",
        "prob_3=1-ss.poisson.cdf(110,lambd)"
      ]
    },
    {
      "cell_type": "code",
      "execution_count": null,
      "metadata": {
        "colab": {
          "base_uri": "https://localhost:8080/"
        },
        "id": "2kLRoEDK2RFw",
        "outputId": "ff4587aa-3c41-4a2a-ac3a-6399bfea080a"
      },
      "outputs": [
        {
          "name": "stdout",
          "output_type": "stream",
          "text": [
            "La probabilidad de que en un vuelo viajen más de 110 pasajeros al mes es: 81.0%\n"
          ]
        }
      ],
      "source": [
        "print(f'La probabilidad de que en un vuelo viajen más de 110 pasajeros al mes es: {round(prob_3,2)*100}%')"
      ]
    },
    {
      "cell_type": "markdown",
      "metadata": {
        "id": "faFWs7lk7_kG"
      },
      "source": [
        "**Actividad:**\n",
        "\n",
        "Un estudio sobre los pasajeros del Titanic revela que, en promedio, 7 pasajeros por día compraban boletos de primera clase en los días previos al embarque.\n",
        "\n",
        "Si el número de boletos comprados por día sigue una distribución de Poisson, ¿cuál es la probabilidad de que en un día se vendan más de 9 boletos de primera clase?"
      ]
    },
    {
      "cell_type": "code",
      "execution_count": null,
      "metadata": {
        "id": "CE6MrpS_n7VQ"
      },
      "outputs": [],
      "source": [
        "#Tarea"
      ]
    },
    {
      "cell_type": "markdown",
      "metadata": {
        "id": "TZb5YnRfO_74"
      },
      "source": [
        "# **Variables aleatorias continuas**\n",
        "\n",
        "Una variable aleatoria continua se da cuando su rango es un intervalo de la recta real.\n",
        "\n",
        "**Ejemplo**\n",
        "\n",
        "Experimento : Durabilidad de una ampolleta\n",
        "\n",
        "$X:$ Tiempo de duración de la ampolleta\n",
        "\n",
        "$$\n",
        "X: S\\to \\mathbb{R}^+\n",
        "$$"
      ]
    },
    {
      "cell_type": "markdown",
      "metadata": {
        "id": "q8xK9fLB8JxI"
      },
      "source": [
        "\n",
        "# **Distribuciones Continuas**\n",
        "Sea $X$ una variable aleatoria continua. Entonces, una distribución de probabilidad de $X$ es una función $f(x)$ tal que para dos\n",
        "números cualesquiera $a$ y $b$ con $a\\leq b$, cumple\n",
        "\n",
        "$$\n",
        "P(a\\leq X \\leq b)=\\int_a^b f(x)dx\n",
        "$$\n",
        "además\n",
        "\n",
        "\n",
        "1.   $f(x)\\geq 0$\n",
        "2.   $\\int_{-\\infty}^{\\infty} f(x)=1$\n"
      ]
    },
    {
      "cell_type": "markdown",
      "metadata": {
        "id": "fEYKbhsL8ULv"
      },
      "source": [
        "## Función de distribución de probabilidad\n",
        "La función de distribución de probabilidad $F(x)$ de una variable aleatoria continua $X$ se\n",
        "define para todo número $x$ como\n",
        "$$\n",
        "F(x)=P(X \\leq x) =\\int_{-\\infty}^x\n",
        "f(y) dy\n",
        "$$\n",
        "Con cada $x$, $F(x)$ es el área bajo la curva de densidad a la izquierda de $x$.\n",
        "\n",
        "### Observación\n",
        "Sea $X$ una variable aleatoria continua con función de densidad de probabilidad $f(x)$ y\n",
        "función de distribución acumulativa $F(x)$. Entonces con cualquier número a,\n",
        "$$P(X>a)=1-F(a)=1-P(X\\leq a)$$\n",
        "ya que\n",
        "$$\n",
        "F(a)=P(X\\leq a)=\\int_{-\\infty}^a f(x)dx\n",
        "$$\n",
        "\n",
        "y para dos números cualesquiera $a$ y $b$ con $a\\leq b$\n",
        "$$P(a\\leq X\\leq b)=F(b)-F(a)$$"
      ]
    },
    {
      "cell_type": "markdown",
      "metadata": {
        "id": "4BiHL4XO8rix"
      },
      "source": [
        "# Distribuciones continuas: **Distribución normal**\n",
        "\n",
        "Se dice que una variable aleatoria continua $X$ tiene una distribución normal con parámetros  $\\mu$ (media) y $\\sigma>0$ (desviación estandar)\n",
        ", donde $-\\infty<\\mu<\\infty$ y $\\sigma>0$, si la función de densidad de\n",
        "probabilidad de $X$ es\n",
        "$$\n",
        "f(x;\\mu,\\sigma)=\\frac{1}{\\sqrt{2\\pi\\sigma}}e^{-(\\left((x-\\mu)/ 2\\sigma\\right)^2}\n",
        "$$\n",
        "La gráfica de esta función de probabilidad es conocida como campana de Gauss, teniendo\n",
        "como caracteristica que el punto más alto coincide con la media $\\mu$ y teniendo dos puntos de\n",
        "inflexión en $\\mu-\\sigma$ y $\\mu+\\sigma$."
      ]
    },
    {
      "cell_type": "markdown",
      "metadata": {
        "id": "r0_wQ6548uJo"
      },
      "source": [
        "Observación:\n",
        "\n",
        "ss.norm($\\mu,\\sigma$).pdf nos permite calcular la función de densidad de probabilidad"
      ]
    },
    {
      "cell_type": "code",
      "execution_count": null,
      "metadata": {
        "id": "dq2iW8EU5CV2"
      },
      "outputs": [],
      "source": [
        "# Graficar la función de densidad de probabilidad\n",
        "x_norm=np.arange(-5,5,0.0001) # puntos del eje X\n"
      ]
    },
    {
      "cell_type": "code",
      "execution_count": null,
      "metadata": {
        "colab": {
          "base_uri": "https://localhost:8080/",
          "height": 468
        },
        "id": "dauN5_BJ5Pea",
        "outputId": "13aa0cbf-c36a-4866-cbca-9fccff3e39ea"
      },
      "outputs": [
        {
          "data": {
            "image/png": "[encoded data removed]",
            "text/plain": [
              "<Figure size 600x500 with 1 Axes>"
            ]
          },
          "metadata": {},
          "output_type": "display_data"
        }
      ],
      "source": [
        "fig=plt.figure(figsize=(6,5))\n",
        "plt.plot(x_norm,ss.norm(0,1).pdf(x_norm),label=f'$\\sigma:1$ y $\\mu:0$')\n",
        "plt.plot(x_norm,ss.norm(2,1).pdf(x_norm),label=f'$\\sigma:1$ y $\\mu:2$')\n",
        "plt.plot(x_norm,ss.norm(2,3).pdf(x_norm),label=f'$\\sigma:3$ y $\\mu:2$')# desviación estándar es 3\n",
        "plt.title('Distribución normal: Función de densidad de probabilidad')\n",
        "plt.legend()\n",
        "plt.show()"
      ]
    },
    {
      "cell_type": "markdown",
      "metadata": {
        "id": "9XKAyPUM-El4"
      },
      "source": [
        "## **Distribución Normal estándar**\n",
        "La distribución normal con valores de parámetro   $\\mu=0$ y $\\sigma=1$ se llama distribución normal estándar. Una variable aleatoria que tiene una distribución normal estándar se llama variable aleatoria normal estándar y se denotará por $Z$.\n",
        "\n",
        "La función de densidad de probabilidad de $Z$ es\n",
        "$$\n",
        "f(z;0,1)=\\frac{1}{\\sqrt{2\\pi}}e^{-z^2/2}\n",
        "$$\n",
        "\n",
        "La función de distribución de probabilidad de $Z$ es\n",
        "\n",
        "$$\n",
        "P(Z\\leq z)=\\int_{-\\infty}^z f(y; 0, 1) dy\n",
        "$$\n",
        "\n",
        "### Observación:\n",
        "Si $X$ tiene una distribución normal con media $\\mu$  y desviación estándar $\\sigma$, entonces\n",
        "$$\n",
        "Z=\\frac{X-\\mu}{\\sigma}\n",
        "$$\n",
        "tiene una distribución normal estándar. Así\n",
        "$$\n",
        "P(a\\leq X\\leq b)=P\\left(\\frac{a-\\mu}{\\sigma}\\leq Z \\leq \\frac{b-\\mu}{\\sigma}\\right)\n",
        "$$"
      ]
    },
    {
      "cell_type": "markdown",
      "metadata": {
        "id": "vsWnzeJP-zVu"
      },
      "source": [
        "### Ejemplo:\n",
        "\n",
        "Considerar la base de datos 'tips'.\n",
        "\n",
        "Se piensa que el monto total facturado, sigue una distribución normal.\n",
        "\n",
        "1. La probabilidad de que el total de la factura, esté entre $15$ y $30$ dólares\n",
        "2. Comparar el resultado anterior con la proporción del monto total facturado, según la información disponible en la base de datos\n"
      ]
    },
    {
      "cell_type": "markdown",
      "metadata": {
        "id": "TJYLIrDhOBP8"
      },
      "source": [
        "1. La probabilidad de que el total de la factura, esté entre $15$ y $30$ dólares"
      ]
    },
    {
      "cell_type": "markdown",
      "metadata": {
        "id": "0XgBoMkUO-Df"
      },
      "source": [
        "**Sol**:\n",
        "\n",
        "$X:$ Total facturado\n",
        "\n",
        "$$\n",
        "P(15\\leq X\\leq 30)=F(30)-F(15)\n",
        "$$\n",
        "además,\n",
        "\n",
        "$$\n",
        "X\\sim norm(\\mu,\\sigma)\n",
        "$$"
      ]
    },
    {
      "cell_type": "code",
      "execution_count": null,
      "metadata": {
        "id": "QGXr77Hf61jQ"
      },
      "outputs": [],
      "source": [
        "# abrir la base de datos tips\n",
        "tip=sns.load_dataset('tips')"
      ]
    },
    {
      "cell_type": "code",
      "execution_count": null,
      "metadata": {
        "id": "CMyBiyce6886"
      },
      "outputs": [],
      "source": [
        "# Parámetros que nos permiten definir la distribución normal\n",
        "media_2,std_2=tip['total_bill'].mean(),tip['total_bill'].std()"
      ]
    },
    {
      "cell_type": "code",
      "execution_count": null,
      "metadata": {
        "colab": {
          "base_uri": "https://localhost:8080/"
        },
        "id": "6eNC7lHU7N1F",
        "outputId": "220da705-71a1-431a-f22f-8e69a654f357"
      },
      "outputs": [
        {
          "name": "stdout",
          "output_type": "stream",
          "text": [
            "media:19.78594262295082 y std:8.902411954856856\n"
          ]
        }
      ],
      "source": [
        "print(f'media:{media_2} y std:{std_2}')"
      ]
    },
    {
      "cell_type": "code",
      "execution_count": null,
      "metadata": {
        "id": "qG6Ly_t97z94"
      },
      "outputs": [],
      "source": [
        "# P(X<30)-P(X<15)=P(15<X<30)\n",
        "problema1=round(ss.norm(media_2,std_2).cdf(30)-ss.norm(media_2,std_2).cdf(15),3)"
      ]
    },
    {
      "cell_type": "code",
      "execution_count": null,
      "metadata": {
        "colab": {
          "base_uri": "https://localhost:8080/"
        },
        "id": "bDxadFku8YBv",
        "outputId": "bb708835-0010-4256-d4d1-9a11beb905c8"
      },
      "outputs": [
        {
          "name": "stdout",
          "output_type": "stream",
          "text": [
            "P(15<X<30): 57.9%\n"
          ]
        }
      ],
      "source": [
        "print(f'P(15<X<30): {problema1*100}%')"
      ]
    },
    {
      "cell_type": "markdown",
      "metadata": {
        "id": "gY4Yyc3jQqRg"
      },
      "source": [
        "2. Comparar el resultado anterior con la proporción del monto total facturado, según la información disponible en la base de datos\n",
        "\n",
        "(Teorema de la probabilidad Frecuentista )"
      ]
    },
    {
      "cell_type": "code",
      "execution_count": null,
      "metadata": {
        "id": "RatfuJ4k85L4"
      },
      "outputs": [],
      "source": [
        "# P(X)= (casos favorables)/(casos totales)"
      ]
    },
    {
      "cell_type": "code",
      "execution_count": null,
      "metadata": {
        "id": "j2i4rXGH84RJ"
      },
      "outputs": [],
      "source": [
        "casos_favorables=tip[(tip['total_bill']>15) & (tip['total_bill']<30)] # casos favorables"
      ]
    },
    {
      "cell_type": "code",
      "execution_count": null,
      "metadata": {
        "colab": {
          "base_uri": "https://localhost:8080/"
        },
        "id": "lBxBwa469UG1",
        "outputId": "2822cd52-f794-4b8a-d244-e48a47b0d8ec"
      },
      "outputs": [
        {
          "data": {
            "text/plain": [
              "0.5409836065573771"
            ]
          },
          "execution_count": 72,
          "metadata": {},
          "output_type": "execute_result"
        }
      ],
      "source": [
        "len(casos_favorables)/len(tip)\n",
        "#len () nos entrega la cantidad de filas de una base de datos"
      ]
    },
    {
      "cell_type": "markdown",
      "metadata": {
        "id": "6oLk1_fYUd32"
      },
      "source": [
        "**Ejemplo 2:**\n",
        "\n",
        "La base de datos iris contiene información sobre las características de tres especies de flores (setosa, versicolor y virginica), incluyendo la longitud del sépalo (sepal_length).\n",
        "\n",
        "Sabemos que muchas variables biológicas tienden a seguir una distribución normal. Supongamos que la  variable sepal_length se distribuye normal.\n",
        "\n",
        "1. Calcular la probabilidad de que una flor tenga una longitud de sépalo mayor a 7 cm."
      ]
    },
    {
      "cell_type": "markdown",
      "metadata": {
        "id": "nMfYNtHCSXVP"
      },
      "source": [
        "**sol:**\n",
        "\n",
        "$X$: Longitud del sépalo\n",
        "\n",
        "y\n",
        "\n",
        "$$\n",
        "X\\sim norm(\\mu,\\sigma)\n",
        "$$\n",
        "\n",
        "Queremos determinar $P(X>7)=1-P(X<7)$ (necesitamos usar la función de distribución de probabilidad)"
      ]
    },
    {
      "cell_type": "markdown",
      "metadata": {
        "id": "VUPr89UB9BNO"
      },
      "source": [
        "2. Comparar el resultado anterior con la proporción de flores cuyo sépalo es mayor a 7, según la información disponible en la base de datos"
      ]
    },
    {
      "cell_type": "markdown",
      "metadata": {
        "id": "itsTcxGa8xZr"
      },
      "source": [
        "3. Calcular la probabilidad de que una flor tenga una longitud de sépalo menor a 7 cm"
      ]
    },
    {
      "cell_type": "markdown",
      "metadata": {
        "id": "_jO7hLp7Hych"
      },
      "source": [
        "4. En un jardín botánico, se tienen flores de distintos tipos y queremos calcular la probabilidad de que, de un total de 15 flores seleccionadas aleatoriamente, 4 flores sean de la especie Setosa."
      ]
    },
    {
      "cell_type": "markdown",
      "metadata": {
        "id": "-5nzR6uEwHbi"
      },
      "source": [
        "**sol:**\n",
        "\n",
        "Sea $Y$ : { $x$: es setosa}, entonces\n",
        "$$\n",
        "Y\\sim Binom(15,p)\n",
        "$$"
      ]
    },
    {
      "cell_type": "code",
      "execution_count": null,
      "metadata": {
        "id": "lKJ0wV4pYOYc"
      },
      "outputs": [],
      "source": []
    },
    {
      "cell_type": "markdown",
      "metadata": {
        "id": "PS3ETV4xXbtz"
      },
      "source": [
        "**Ejercicio 3:**\n",
        "\n",
        "La base de datos taxis contiene información sobre viajes en taxi en la ciudad de Nueva York, incluyendo la distancia del viaje (distance), la tarifa (fare) y la propina (tip).\n",
        "\n",
        "1. Se piensa que la distancia de los taxis cuyo punto de recogida es Manhattan, se distribuyen normal. Determinar la probabilidad de que la distancia recorrida sea mayor a 6 km."
      ]
    },
    {
      "cell_type": "markdown",
      "metadata": {
        "id": "SUMlZRzGzTcX"
      },
      "source": [
        "$Z:$={distancia que recorren los taxis cuyo punto de recogida es Manhattan}\n",
        "$$\n",
        "Z\\sim Norm(\\mu,\\sigma)\n",
        "$$"
      ]
    },
    {
      "cell_type": "markdown",
      "metadata": {
        "id": "DUJ3i_RkDEpy"
      },
      "source": [
        "2. Determinar la probabilidad de que un taxi cuyo punto de recogida es en Manhattan, recorra una distancia superior a 10 km"
      ]
    }
  ],
  "metadata": {
    "colab": {
      "provenance": []
    },
    "kernelspec": {
      "display_name": "Python 3",
      "name": "python3"
    },
    "language_info": {
      "name": "python"
    }
  },
  "nbformat": 4,
  "nbformat_minor": 0
}
