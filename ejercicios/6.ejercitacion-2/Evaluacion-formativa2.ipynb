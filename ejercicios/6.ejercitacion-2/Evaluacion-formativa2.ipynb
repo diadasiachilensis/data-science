{
 "cells": [
  {
   "cell_type": "markdown",
   "id": "7a3ba8af",
   "metadata": {},
   "source": [
    "# Modelo Binomial"
   ]
  },
  {
   "cell_type": "markdown",
   "id": "bb39ff72",
   "metadata": {},
   "source": [
    "## 📚 Librerias"
   ]
  },
  {
   "cell_type": "code",
   "execution_count": 6,
   "id": "36a3891f",
   "metadata": {},
   "outputs": [],
   "source": [
    "import pandas as pd\n",
    "import scipy.stats as ss\n",
    "import numpy as np\n",
    "import matplotlib.pyplot as plt"
   ]
  },
  {
   "cell_type": "markdown",
   "id": "2178aa47",
   "metadata": {},
   "source": [
    "## 📄📥 Cargar el archivo"
   ]
  },
  {
   "cell_type": "code",
   "execution_count": 3,
   "id": "3dc86d2b",
   "metadata": {},
   "outputs": [
    {
     "data": {
      "text/html": [
       "<div>\n",
       "<style scoped>\n",
       "    .dataframe tbody tr th:only-of-type {\n",
       "        vertical-align: middle;\n",
       "    }\n",
       "\n",
       "    .dataframe tbody tr th {\n",
       "        vertical-align: top;\n",
       "    }\n",
       "\n",
       "    .dataframe thead th {\n",
       "        text-align: right;\n",
       "    }\n",
       "</style>\n",
       "<table border=\"1\" class=\"dataframe\">\n",
       "  <thead>\n",
       "    <tr style=\"text-align: right;\">\n",
       "      <th></th>\n",
       "      <th>Unnamed: 0</th>\n",
       "      <th>Customer Reference ID</th>\n",
       "      <th>Item Purchased</th>\n",
       "      <th>Purchase Amount (USD)</th>\n",
       "      <th>Date Purchase</th>\n",
       "      <th>Review Rating</th>\n",
       "      <th>Payment Method</th>\n",
       "    </tr>\n",
       "  </thead>\n",
       "  <tbody>\n",
       "    <tr>\n",
       "      <th>0</th>\n",
       "      <td>0</td>\n",
       "      <td>4018</td>\n",
       "      <td>Handbag</td>\n",
       "      <td>559.0</td>\n",
       "      <td>05-02-2023</td>\n",
       "      <td>NaN</td>\n",
       "      <td>Credit Card</td>\n",
       "    </tr>\n",
       "    <tr>\n",
       "      <th>1</th>\n",
       "      <td>1</td>\n",
       "      <td>4115</td>\n",
       "      <td>Tunic</td>\n",
       "      <td>733.7</td>\n",
       "      <td>11-07-2023</td>\n",
       "      <td>2.0</td>\n",
       "      <td>Credit Card</td>\n",
       "    </tr>\n",
       "    <tr>\n",
       "      <th>2</th>\n",
       "      <td>2</td>\n",
       "      <td>4019</td>\n",
       "      <td>Tank Top</td>\n",
       "      <td>639.9</td>\n",
       "      <td>23-03-2023</td>\n",
       "      <td>4.1</td>\n",
       "      <td>Cash</td>\n",
       "    </tr>\n",
       "    <tr>\n",
       "      <th>3</th>\n",
       "      <td>3</td>\n",
       "      <td>4097</td>\n",
       "      <td>Leggings</td>\n",
       "      <td>213.1</td>\n",
       "      <td>15-03-2023</td>\n",
       "      <td>3.2</td>\n",
       "      <td>Cash</td>\n",
       "    </tr>\n",
       "    <tr>\n",
       "      <th>4</th>\n",
       "      <td>4</td>\n",
       "      <td>3997</td>\n",
       "      <td>Wallet</td>\n",
       "      <td>731.3</td>\n",
       "      <td>27-11-2022</td>\n",
       "      <td>4.7</td>\n",
       "      <td>Cash</td>\n",
       "    </tr>\n",
       "    <tr>\n",
       "      <th>5</th>\n",
       "      <td>5</td>\n",
       "      <td>4080</td>\n",
       "      <td>Onesie</td>\n",
       "      <td>748.5</td>\n",
       "      <td>11-12-2022</td>\n",
       "      <td>4.5</td>\n",
       "      <td>Credit Card</td>\n",
       "    </tr>\n",
       "  </tbody>\n",
       "</table>\n",
       "</div>"
      ],
      "text/plain": [
       "   Unnamed: 0  Customer Reference ID Item Purchased  Purchase Amount (USD)  \\\n",
       "0           0                   4018        Handbag                  559.0   \n",
       "1           1                   4115          Tunic                  733.7   \n",
       "2           2                   4019       Tank Top                  639.9   \n",
       "3           3                   4097       Leggings                  213.1   \n",
       "4           4                   3997         Wallet                  731.3   \n",
       "5           5                   4080         Onesie                  748.5   \n",
       "\n",
       "  Date Purchase  Review Rating Payment Method  \n",
       "0    05-02-2023            NaN    Credit Card  \n",
       "1    11-07-2023            2.0    Credit Card  \n",
       "2    23-03-2023            4.1           Cash  \n",
       "3    15-03-2023            3.2           Cash  \n",
       "4    27-11-2022            4.7           Cash  \n",
       "5    11-12-2022            4.5    Credit Card  "
      ]
     },
     "execution_count": 3,
     "metadata": {},
     "output_type": "execute_result"
    }
   ],
   "source": [
    "ruta=\"Fashion_Retail_Sales_ensayo_S02.xlsx\"\n",
    "df=pd.read_excel(ruta, engine='openpyxl')\n",
    "df.head(6)"
   ]
  },
  {
   "cell_type": "code",
   "execution_count": 7,
   "id": "6a4ccd53",
   "metadata": {},
   "outputs": [
    {
     "name": "stdout",
     "output_type": "stream",
     "text": [
      "<class 'pandas.core.frame.DataFrame'>\n",
      "RangeIndex: 512 entries, 0 to 511\n",
      "Data columns (total 7 columns):\n",
      " #   Column                 Non-Null Count  Dtype  \n",
      "---  ------                 --------------  -----  \n",
      " 0   Unnamed: 0             512 non-null    int64  \n",
      " 1   Customer Reference ID  512 non-null    int64  \n",
      " 2   Item Purchased         512 non-null    object \n",
      " 3   Purchase Amount (USD)  512 non-null    float64\n",
      " 4   Date Purchase          512 non-null    object \n",
      " 5   Review Rating          462 non-null    float64\n",
      " 6   Payment Method         512 non-null    object \n",
      "dtypes: float64(2), int64(2), object(3)\n",
      "memory usage: 28.1+ KB\n"
     ]
    }
   ],
   "source": [
    "df.info()"
   ]
  },
  {
   "cell_type": "code",
   "execution_count": null,
   "id": "0d62c76b",
   "metadata": {},
   "outputs": [],
   "source": []
  }
 ],
 "metadata": {
  "kernelspec": {
   "display_name": "env",
   "language": "python",
   "name": "python3"
  },
  "language_info": {
   "codemirror_mode": {
    "name": "ipython",
    "version": 3
   },
   "file_extension": ".py",
   "mimetype": "text/x-python",
   "name": "python",
   "nbconvert_exporter": "python",
   "pygments_lexer": "ipython3",
   "version": "3.12.2"
  }
 },
 "nbformat": 4,
 "nbformat_minor": 5
}
