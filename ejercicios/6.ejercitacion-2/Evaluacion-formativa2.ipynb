{
 "cells": [
  {
   "cell_type": "markdown",
   "id": "7a3ba8af",
   "metadata": {},
   "source": [
    "# Modelo Binomial"
   ]
  },
  {
   "cell_type": "markdown",
   "id": "bb39ff72",
   "metadata": {},
   "source": [
    "## 📚 Librerias"
   ]
  },
  {
   "cell_type": "code",
   "execution_count": 3,
   "id": "36a3891f",
   "metadata": {},
   "outputs": [],
   "source": [
    "import pandas as pd\n",
    "import scipy.stats as ss\n",
    "import numpy as np\n",
    "import matplotlib.pyplot as plt"
   ]
  },
  {
   "cell_type": "markdown",
   "id": "2178aa47",
   "metadata": {},
   "source": [
    "## 📄📥 Cargar el archivo"
   ]
  },
  {
   "cell_type": "code",
   "execution_count": 4,
   "id": "3dc86d2b",
   "metadata": {},
   "outputs": [
    {
     "data": {
      "text/html": [
       "<div>\n",
       "<style scoped>\n",
       "    .dataframe tbody tr th:only-of-type {\n",
       "        vertical-align: middle;\n",
       "    }\n",
       "\n",
       "    .dataframe tbody tr th {\n",
       "        vertical-align: top;\n",
       "    }\n",
       "\n",
       "    .dataframe thead th {\n",
       "        text-align: right;\n",
       "    }\n",
       "</style>\n",
       "<table border=\"1\" class=\"dataframe\">\n",
       "  <thead>\n",
       "    <tr style=\"text-align: right;\">\n",
       "      <th></th>\n",
       "      <th>Unnamed: 0</th>\n",
       "      <th>Customer Reference ID</th>\n",
       "      <th>Item Purchased</th>\n",
       "      <th>Purchase Amount (USD)</th>\n",
       "      <th>Date Purchase</th>\n",
       "      <th>Review Rating</th>\n",
       "      <th>Payment Method</th>\n",
       "    </tr>\n",
       "  </thead>\n",
       "  <tbody>\n",
       "    <tr>\n",
       "      <th>0</th>\n",
       "      <td>0</td>\n",
       "      <td>4018</td>\n",
       "      <td>Handbag</td>\n",
       "      <td>559.0</td>\n",
       "      <td>05-02-2023</td>\n",
       "      <td>NaN</td>\n",
       "      <td>Credit Card</td>\n",
       "    </tr>\n",
       "    <tr>\n",
       "      <th>1</th>\n",
       "      <td>1</td>\n",
       "      <td>4115</td>\n",
       "      <td>Tunic</td>\n",
       "      <td>733.7</td>\n",
       "      <td>11-07-2023</td>\n",
       "      <td>2.0</td>\n",
       "      <td>Credit Card</td>\n",
       "    </tr>\n",
       "    <tr>\n",
       "      <th>2</th>\n",
       "      <td>2</td>\n",
       "      <td>4019</td>\n",
       "      <td>Tank Top</td>\n",
       "      <td>639.9</td>\n",
       "      <td>23-03-2023</td>\n",
       "      <td>4.1</td>\n",
       "      <td>Cash</td>\n",
       "    </tr>\n",
       "    <tr>\n",
       "      <th>3</th>\n",
       "      <td>3</td>\n",
       "      <td>4097</td>\n",
       "      <td>Leggings</td>\n",
       "      <td>213.1</td>\n",
       "      <td>15-03-2023</td>\n",
       "      <td>3.2</td>\n",
       "      <td>Cash</td>\n",
       "    </tr>\n",
       "    <tr>\n",
       "      <th>4</th>\n",
       "      <td>4</td>\n",
       "      <td>3997</td>\n",
       "      <td>Wallet</td>\n",
       "      <td>731.3</td>\n",
       "      <td>27-11-2022</td>\n",
       "      <td>4.7</td>\n",
       "      <td>Cash</td>\n",
       "    </tr>\n",
       "    <tr>\n",
       "      <th>5</th>\n",
       "      <td>5</td>\n",
       "      <td>4080</td>\n",
       "      <td>Onesie</td>\n",
       "      <td>748.5</td>\n",
       "      <td>11-12-2022</td>\n",
       "      <td>4.5</td>\n",
       "      <td>Credit Card</td>\n",
       "    </tr>\n",
       "  </tbody>\n",
       "</table>\n",
       "</div>"
      ],
      "text/plain": [
       "   Unnamed: 0  Customer Reference ID Item Purchased  Purchase Amount (USD)  \\\n",
       "0           0                   4018        Handbag                  559.0   \n",
       "1           1                   4115          Tunic                  733.7   \n",
       "2           2                   4019       Tank Top                  639.9   \n",
       "3           3                   4097       Leggings                  213.1   \n",
       "4           4                   3997         Wallet                  731.3   \n",
       "5           5                   4080         Onesie                  748.5   \n",
       "\n",
       "  Date Purchase  Review Rating Payment Method  \n",
       "0    05-02-2023            NaN    Credit Card  \n",
       "1    11-07-2023            2.0    Credit Card  \n",
       "2    23-03-2023            4.1           Cash  \n",
       "3    15-03-2023            3.2           Cash  \n",
       "4    27-11-2022            4.7           Cash  \n",
       "5    11-12-2022            4.5    Credit Card  "
      ]
     },
     "execution_count": 4,
     "metadata": {},
     "output_type": "execute_result"
    }
   ],
   "source": [
    "ruta=\"Fashion_Retail_Sales_ensayo_S02.xlsx\"\n",
    "df=pd.read_excel(ruta, engine='openpyxl')\n",
    "df.head(6)"
   ]
  },
  {
   "cell_type": "code",
   "execution_count": 5,
   "id": "6a4ccd53",
   "metadata": {},
   "outputs": [
    {
     "name": "stdout",
     "output_type": "stream",
     "text": [
      "<class 'pandas.core.frame.DataFrame'>\n",
      "RangeIndex: 512 entries, 0 to 511\n",
      "Data columns (total 7 columns):\n",
      " #   Column                 Non-Null Count  Dtype  \n",
      "---  ------                 --------------  -----  \n",
      " 0   Unnamed: 0             512 non-null    int64  \n",
      " 1   Customer Reference ID  512 non-null    int64  \n",
      " 2   Item Purchased         512 non-null    object \n",
      " 3   Purchase Amount (USD)  512 non-null    float64\n",
      " 4   Date Purchase          512 non-null    object \n",
      " 5   Review Rating          462 non-null    float64\n",
      " 6   Payment Method         512 non-null    object \n",
      "dtypes: float64(2), int64(2), object(3)\n",
      "memory usage: 28.1+ KB\n"
     ]
    }
   ],
   "source": [
    "df.info()"
   ]
  },
  {
   "cell_type": "code",
   "execution_count": 8,
   "id": "0d62c76b",
   "metadata": {},
   "outputs": [
    {
     "data": {
      "text/plain": [
       "Payment Method\n",
       "Credit Card    263\n",
       "Cash           249\n",
       "Name: count, dtype: int64"
      ]
     },
     "execution_count": 8,
     "metadata": {},
     "output_type": "execute_result"
    }
   ],
   "source": [
    "df['Payment Method'].value_counts()"
   ]
  },
  {
   "cell_type": "markdown",
   "id": "c178733f",
   "metadata": {},
   "source": [
    "### 🔍 Eliminar datos Nulos NaN "
   ]
  },
  {
   "cell_type": "code",
   "execution_count": 9,
   "id": "4a0adc36",
   "metadata": {},
   "outputs": [
    {
     "data": {
      "text/plain": [
       "Unnamed: 0                0\n",
       "Customer Reference ID     0\n",
       "Item Purchased            0\n",
       "Purchase Amount (USD)     0\n",
       "Date Purchase             0\n",
       "Review Rating            50\n",
       "Payment Method            0\n",
       "dtype: int64"
      ]
     },
     "execution_count": 9,
     "metadata": {},
     "output_type": "execute_result"
    }
   ],
   "source": [
    "df.isnull().sum()"
   ]
  },
  {
   "cell_type": "markdown",
   "id": "2df3d8fc",
   "metadata": {},
   "source": [
    "# Distribución Binomial"
   ]
  },
  {
   "cell_type": "markdown",
   "id": "f89ef9d1",
   "metadata": {},
   "source": [
    "## 🎯 Resolver problema 1 "
   ]
  },
  {
   "cell_type": "markdown",
   "id": "6b246848",
   "metadata": {},
   "source": [
    "Calcula la probabilidad de exito (p) como la proporción de consumidores que realizaron la compra y\n",
    "pagaron con efectivo (Cash)"
   ]
  },
  {
   "cell_type": "markdown",
   "id": "ea7743a7",
   "metadata": {},
   "source": [
    "### 🟢 Paso 1: Identificar la columna que contiene el método de pago"
   ]
  },
  {
   "cell_type": "markdown",
   "id": "a06260f8",
   "metadata": {},
   "source": [
    "🔍 Pista:\n",
    "\n",
    "- Utiliza ``df.columns`` para visualizar todas las columnas disponibles.\n",
    "\n",
    "- Puedes verificar rápidamente los valores únicos de una columna utilizando `df['columna'].unique()`."
   ]
  },
  {
   "cell_type": "code",
   "execution_count": 14,
   "id": "44868399",
   "metadata": {},
   "outputs": [
    {
     "name": "stdout",
     "output_type": "stream",
     "text": [
      "Index(['Unnamed: 0', 'Customer Reference ID', 'Item Purchased',\n",
      "       'Purchase Amount (USD)', 'Date Purchase', 'Review Rating',\n",
      "       'Payment Method'],\n",
      "      dtype='object')\n",
      "['Credit Card' 'Cash']\n"
     ]
    }
   ],
   "source": [
    "print(df.columns)\n",
    "print(df['Payment Method'].unique())"
   ]
  },
  {
   "cell_type": "markdown",
   "id": "9cd2dc4e",
   "metadata": {},
   "source": [
    "### 🟢 Paso 2: Filtrar por método de pago 'Cash'"
   ]
  },
  {
   "cell_type": "code",
   "execution_count": 15,
   "id": "4985795b",
   "metadata": {},
   "outputs": [],
   "source": [
    "compras_cash = df[df['Payment Method'] == 'Cash']\n",
    "cantidad_cash = compras_cash.shape[0]"
   ]
  },
  {
   "cell_type": "markdown",
   "id": "123274b4",
   "metadata": {},
   "source": [
    "### 🟢 Paso 3: Obtener el total de consumidores"
   ]
  },
  {
   "cell_type": "code",
   "execution_count": 17,
   "id": "ee0da26e",
   "metadata": {},
   "outputs": [
    {
     "data": {
      "text/plain": [
       "512"
      ]
     },
     "execution_count": 17,
     "metadata": {},
     "output_type": "execute_result"
    }
   ],
   "source": [
    "total_consumidores = df.shape[0]\n",
    "total_consumidores"
   ]
  },
  {
   "cell_type": "markdown",
   "id": "715b7cca",
   "metadata": {},
   "source": [
    "### 🟢 Paso 4: Calcular la probabilidad de éxito (p)"
   ]
  },
  {
   "cell_type": "markdown",
   "id": "1e193b03",
   "metadata": {},
   "source": [
    "La probabilidad de éxito ($p$) se calcula como:\n",
    "\n",
    "$\n",
    "p = \\frac{\\text{Consumidores que pagaron en efectivo}}{\\text{Total de consumidores}}\n",
    "$"
   ]
  },
  {
   "cell_type": "code",
   "execution_count": 26,
   "id": "bf2c97fa",
   "metadata": {},
   "outputs": [
    {
     "name": "stdout",
     "output_type": "stream",
     "text": [
      "Probabilidad de éxito (p) es: 0.49\n"
     ]
    }
   ],
   "source": [
    "p = cantidad_cash / total_consumidores\n",
    "print(\"Probabilidad de éxito (p) es:\", round(p,2))"
   ]
  },
  {
   "cell_type": "markdown",
   "id": "9b51d062",
   "metadata": {},
   "source": [
    "Este resultado indica la probabilidad de éxtio para usarlo en la distribcuión binomial"
   ]
  }
 ],
 "metadata": {
  "kernelspec": {
   "display_name": "env",
   "language": "python",
   "name": "python3"
  },
  "language_info": {
   "codemirror_mode": {
    "name": "ipython",
    "version": 3
   },
   "file_extension": ".py",
   "mimetype": "text/x-python",
   "name": "python",
   "nbconvert_exporter": "python",
   "pygments_lexer": "ipython3",
   "version": "3.12.2"
  }
 },
 "nbformat": 4,
 "nbformat_minor": 5
}
